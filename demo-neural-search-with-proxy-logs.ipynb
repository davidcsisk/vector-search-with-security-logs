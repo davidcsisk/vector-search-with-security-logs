{
 "cells": [
  {
   "cell_type": "markdown",
   "metadata": {},
   "source": [
    "# <u>Neural/AI Search applied to Proxy Logs</u>\n",
    "\n",
    "The intention of this Jupyter notebook is to examine how we might apply AI search to security logs.  We'll be using fabricated proxy logs that (in theory) show benign behavior, malicious behavior, and a 950/50 mix of those two. I hope to demonstrate the following three examples:\n",
    "- Semantic matching: Compare incoming logs to a vector DB of known malicious logs, flagging matches for alert\n",
    "- Anomaly detection: Compare incoming logs to a vector DB of known benign logs, flagging possible anomalies for alert\n",
    "- Full-text Clustering: Show clustering done with full text by leveraging vector embeddings\n",
    "\n",
    "We'll be using a simple development-grade vector datastore called ChromaDB, and a locally-running HuggingFace LLM (large language model) that is a common one of calculating generic vector embeddings of text.\n",
    "\n",
    "Note that there are many synonyms for <b>vector search</b>...here's a list:\n",
    "- Vector similarity search\n",
    "- Semantic similarity search\n",
    "- Neural search (because of it's basis in neural network models for the embeddings)\n",
    "- AI search\n",
    "- KNN search (K-Nearest Neighbors...this is the old and/or conceptual name)\n",
    "- ANN search (Approximate Nearest Neighbors) \n",
    "- HNSW (Hierarchical Navigable Small World) search (the most popular approximation algorithm)\n",
    "- Probably a few others I've forgotten\n",
    "\n",
    "All of these synonyms are referring to the same concepts and technology. It's worth noting that vector search technology has been used in large scale recommendation systems, fraud detection systems, and other \"big data\" types of applications for nearly a decade. In fact, handling very large volumes of full-text data is exactly what this technology was invented to handle. It's also worth noting that vector embeddings are not just relevant to text...given a suitable ML model, vector embeddings can be captured for images, audio, video, even binary executables and encrypted data. "
   ]
  },
  {
   "cell_type": "raw",
   "metadata": {
    "vscode": {
     "languageId": "raw"
    }
   },
   "source": [
    "Preparation steps:\n",
    "python -v venv venv\n",
    "venv\\Scripts\\Activate.ps1\n",
    "pip install pandas\n",
    "pip install scikit-learn\n",
    "pip install chromadb\n",
    "pip install sentence-transformers\n",
    "pip install matplotlib\n",
    "\n",
    "Details from https://github.com/chroma-core/chroma"
   ]
  },
  {
   "cell_type": "code",
   "execution_count": 1,
   "metadata": {},
   "outputs": [],
   "source": [
    "import os, sys\n",
    "import pandas as pd \n",
    "import chromadb\n",
    "#from chromadb.config import DEFAULT_TENANT, DEFAULT_DATABASE, Settings"
   ]
  },
  {
   "cell_type": "markdown",
   "metadata": {},
   "source": [
    "# <u>Semantic Matching: Match incoming logs again known malicious logs</u>\n",
    "## Step 1: Hydrate vector DB of malicious logs\n",
    "We can use this vectorstore of known malicious logs as reference data to compare incoming logs against to determine if any of those events are similar enough to raise an alert.  "
   ]
  },
  {
   "cell_type": "code",
   "execution_count": 2,
   "metadata": {},
   "outputs": [
    {
     "data": {
      "text/plain": [
       "Index(['ID', 'IP Address', 'Timestamp', 'Log Entry'], dtype='object')"
      ]
     },
     "execution_count": 2,
     "metadata": {},
     "output_type": "execute_result"
    }
   ],
   "source": [
    "# This CSV file contains fabricated proxy logs that are examples of malicious activity attempts\n",
    "df = pd.read_csv('proxy_logs_malicious.csv')\n",
    "df.columns"
   ]
  },
  {
   "cell_type": "code",
   "execution_count": 3,
   "metadata": {},
   "outputs": [
    {
     "data": {
      "text/html": [
       "<div>\n",
       "<style scoped>\n",
       "    .dataframe tbody tr th:only-of-type {\n",
       "        vertical-align: middle;\n",
       "    }\n",
       "\n",
       "    .dataframe tbody tr th {\n",
       "        vertical-align: top;\n",
       "    }\n",
       "\n",
       "    .dataframe thead th {\n",
       "        text-align: right;\n",
       "    }\n",
       "</style>\n",
       "<table border=\"1\" class=\"dataframe\">\n",
       "  <thead>\n",
       "    <tr style=\"text-align: right;\">\n",
       "      <th></th>\n",
       "      <th>ID</th>\n",
       "      <th>IP Address</th>\n",
       "      <th>Timestamp</th>\n",
       "      <th>Log Entry</th>\n",
       "    </tr>\n",
       "  </thead>\n",
       "  <tbody>\n",
       "    <tr>\n",
       "      <th>337</th>\n",
       "      <td>338</td>\n",
       "      <td>153.75.8.135</td>\n",
       "      <td>01/Aug/2024:22:24:18</td>\n",
       "      <td>GET http://www.example.com/../../etc/passwd HT...</td>\n",
       "    </tr>\n",
       "    <tr>\n",
       "      <th>171</th>\n",
       "      <td>172</td>\n",
       "      <td>247.4.160.60</td>\n",
       "      <td>01/Aug/2024:11:55:29</td>\n",
       "      <td>GET http://www.example.com/search?q=&lt;script&gt;al...</td>\n",
       "    </tr>\n",
       "    <tr>\n",
       "      <th>903</th>\n",
       "      <td>904</td>\n",
       "      <td>175.33.254.129</td>\n",
       "      <td>01/Aug/2024:18:15:29</td>\n",
       "      <td>GET http://www.example.com/index.php?page=../....</td>\n",
       "    </tr>\n",
       "  </tbody>\n",
       "</table>\n",
       "</div>"
      ],
      "text/plain": [
       "      ID      IP Address              Timestamp  \\\n",
       "337  338    153.75.8.135  01/Aug/2024:22:24:18    \n",
       "171  172    247.4.160.60  01/Aug/2024:11:55:29    \n",
       "903  904  175.33.254.129  01/Aug/2024:18:15:29    \n",
       "\n",
       "                                             Log Entry  \n",
       "337  GET http://www.example.com/../../etc/passwd HT...  \n",
       "171  GET http://www.example.com/search?q=<script>al...  \n",
       "903  GET http://www.example.com/index.php?page=../....  "
      ]
     },
     "execution_count": 3,
     "metadata": {},
     "output_type": "execute_result"
    }
   ],
   "source": [
    "df.sample(3) # I've purposefully generated these to look like something that might be extracted from Splunk"
   ]
  },
  {
   "cell_type": "code",
   "execution_count": 4,
   "metadata": {},
   "outputs": [],
   "source": [
    "# setup Chroma in-memory, for easy prototyping. Can add persistence easily!\n",
    "client = chromadb.Client()\n",
    "#client = chromadb.PersistentClient(path='./chromadb_proxy_logs')  # A bug prevents this from working"
   ]
  },
  {
   "cell_type": "code",
   "execution_count": 5,
   "metadata": {},
   "outputs": [],
   "source": [
    "# Create collection. get_collection, get_or_create_collection, delete_collection also available\n",
    "# ChromaDB uses L2 (Euclidean distance) by default...we want Cosine metric.\n",
    "# Cosine similarity -> higher = better\n",
    "collection = client.get_or_create_collection(name='malicious_proxy_logs', metadata={\"hnsw:space\": \"cosine\"})"
   ]
  },
  {
   "cell_type": "code",
   "execution_count": 7,
   "metadata": {},
   "outputs": [],
   "source": [
    "# Create lists of the necessary data from the dataframe\n",
    "ID_list = df['ID'].astype(str).tolist()  # ID list, converted to string\n",
    "LogEntry_list = df['Log Entry'].tolist()   # List of documents (log content)"
   ]
  },
  {
   "cell_type": "code",
   "execution_count": 8,
   "metadata": {},
   "outputs": [],
   "source": [
    "\n",
    "# Add docs to the collection. Can also update and delete.\n",
    "# We are letting ChromaDB automatically calculate the vector embedding, instead of explicitly handling it\n",
    "# By default, ChromaDB uses all-MiniLM-L6-v2 sentence transformer model to calculate vector embeddings\n",
    "# This all-MiniLM-L6-v2 model provides a 384 dimension vector that can be used for embedding and clustering\n",
    "collection.add(\n",
    "    documents=LogEntry_list, # we handle tokenization, embedding, and indexing automatically. You can skip that and add your own embeddings as well\n",
    "    #metadatas=[{\"source\": \"notion\"}, {\"source\": \"google-docs\"}], # metadata filters\n",
    "    ids=ID_list, # unique ID for each doc\n",
    ")"
   ]
  },
  {
   "cell_type": "raw",
   "metadata": {
    "vscode": {
     "languageId": "raw"
    }
   },
   "source": [
    "First use of vector embedding triggers download of model:\n",
    "C:\\Users\\david\\.cache\\chroma\\onnx_models\\all-MiniLM-L6-v2\\onnx.tar.gz: 100%|██████████| 79.3M/79.3M [00:03<00:00, 27.0MiB/s]"
   ]
  },
  {
   "cell_type": "code",
   "execution_count": 9,
   "metadata": {},
   "outputs": [
    {
     "data": {
      "text/plain": [
       "1000"
      ]
     },
     "execution_count": 9,
     "metadata": {},
     "output_type": "execute_result"
    }
   ],
   "source": [
    "collection.count()  # Check our count to make sure it looks right"
   ]
  },
  {
   "cell_type": "code",
   "execution_count": 10,
   "metadata": {},
   "outputs": [
    {
     "data": {
      "text/plain": [
       "{'ids': ['1'],\n",
       " 'embeddings': [array([ 7.62485852e-03,  4.53667305e-02, -4.74873595e-02,  6.38289424e-03,\n",
       "          1.04712076e-01, -9.29494649e-02,  3.30195762e-03, -2.59210616e-02,\n",
       "          5.31232208e-02, -9.98799801e-02, -1.34964027e-02,  2.52751410e-02,\n",
       "          9.09934863e-02, -2.30148784e-03, -3.68964337e-02,  2.72639599e-02,\n",
       "         -3.08614544e-05,  1.75895784e-02,  4.42130752e-02, -4.82321531e-02,\n",
       "          9.13773328e-02,  3.76302861e-02,  4.21186276e-02, -8.69319122e-03,\n",
       "         -7.84153715e-02, -4.20195386e-02, -3.71134132e-02, -1.43288216e-02,\n",
       "          3.94372605e-02,  7.00980704e-03,  4.29793000e-02, -1.34540960e-01,\n",
       "          1.49487145e-02, -1.01147126e-02,  6.74820086e-03, -2.62145475e-02,\n",
       "          2.07935330e-02,  5.18131116e-03,  1.60162561e-02, -8.18299782e-03,\n",
       "         -7.13483337e-03, -1.71514926e-03,  5.44389822e-02,  5.02826646e-02,\n",
       "         -1.11683058e-02, -3.28837633e-02, -8.96301419e-02, -5.58557063e-02,\n",
       "         -8.27203915e-02, -8.97455681e-03, -4.65025567e-02, -1.23919267e-02,\n",
       "         -3.52886170e-02, -3.95895317e-02,  3.33041735e-02, -7.10298494e-02,\n",
       "         -3.67057435e-02, -8.70769694e-02,  2.34380853e-03,  2.36841775e-02,\n",
       "         -1.12014348e-02, -6.87163994e-02,  7.70400167e-02, -2.09313873e-02,\n",
       "         -8.48156884e-02,  2.76983064e-02, -8.85614008e-02, -2.32614763e-02,\n",
       "         -1.04256295e-01, -2.47859373e-03, -5.20832278e-02, -3.24260071e-02,\n",
       "          5.05397934e-03,  1.75352246e-02,  1.80375688e-02,  1.95331797e-02,\n",
       "          4.75947373e-02,  3.62469070e-02, -6.33246452e-02,  1.33256624e-02,\n",
       "         -5.74082136e-02, -9.91997346e-02,  4.60246205e-03,  6.40762448e-02,\n",
       "          8.11278448e-02,  5.79670742e-02,  5.83433174e-03,  3.05799544e-02,\n",
       "          8.43447968e-02,  5.19476458e-02,  1.46433059e-02, -2.48989952e-03,\n",
       "          1.92715991e-02,  4.41098772e-03,  2.70610605e-03,  4.90389504e-02,\n",
       "         -1.59090944e-02, -3.97304408e-02, -4.51410469e-03, -5.53763472e-04,\n",
       "          3.10335178e-02,  8.30415543e-03, -8.71875149e-04, -5.37507460e-02,\n",
       "         -1.00671332e-02,  2.83351541e-02,  1.48250395e-02,  1.48911476e-01,\n",
       "          1.16247654e-01, -1.89561229e-02, -9.52212662e-02, -6.26484677e-02,\n",
       "          5.31984828e-02, -7.04728216e-02, -4.80989590e-02, -6.32107332e-02,\n",
       "          5.57100624e-02,  3.09849642e-02,  5.12055717e-02,  4.96839955e-02,\n",
       "          8.49696845e-02,  1.22316869e-03, -6.85032830e-02, -2.96580810e-02,\n",
       "          8.20599720e-02, -2.08670530e-03,  7.01026544e-02,  3.45579617e-33,\n",
       "          6.12361506e-02,  8.24908242e-02,  6.58524549e-03, -1.06405407e-01,\n",
       "         -9.82746482e-02, -4.08040136e-02,  6.97720200e-02,  1.87168177e-02,\n",
       "         -3.03363055e-02,  3.33653241e-02, -2.72687455e-03,  3.09815276e-02,\n",
       "          4.27491814e-02, -4.93946038e-02, -6.20004870e-02,  4.94374074e-02,\n",
       "          1.37214758e-03,  8.62862624e-04,  3.12517732e-02, -8.38181376e-02,\n",
       "         -4.33065146e-02,  3.27820890e-02,  7.59223923e-02,  2.91271508e-02,\n",
       "          2.52531879e-02, -1.09227467e-02, -1.33485794e-02,  6.30127415e-02,\n",
       "         -7.43057355e-02,  1.25416778e-02, -2.70393789e-02, -3.61029245e-02,\n",
       "         -4.10965532e-02,  5.04255062e-03,  5.89589626e-02,  2.32901964e-02,\n",
       "          1.67318992e-02,  7.99643025e-02,  1.50793595e-02, -3.82461436e-02,\n",
       "         -2.13499703e-02, -7.56946802e-02, -2.33245231e-02,  1.59484632e-02,\n",
       "          1.16097461e-02, -7.14140246e-03, -1.45203188e-01, -5.15394658e-02,\n",
       "          6.51374534e-02, -1.06011480e-02, -6.60931785e-03,  5.31107606e-03,\n",
       "         -1.74971819e-02, -7.27484003e-03,  5.98569065e-02,  6.80428296e-02,\n",
       "         -1.00781627e-01, -1.12424744e-02, -3.58814970e-02, -2.67237276e-02,\n",
       "          5.88160418e-02, -6.39281049e-02,  2.25073472e-02, -6.42500594e-02,\n",
       "         -1.65568460e-02, -7.73250088e-02,  1.87135134e-02,  2.36486811e-02,\n",
       "         -9.06757191e-02,  1.06725708e-01,  5.58822602e-03, -6.60213754e-02,\n",
       "          8.90833139e-02,  4.41606157e-02, -6.31263331e-02, -8.58140662e-02,\n",
       "         -7.97508731e-02,  5.83343673e-03,  1.03500597e-01,  1.55724417e-02,\n",
       "          1.09471798e-01, -5.63406013e-02,  2.04705317e-02,  8.91656242e-03,\n",
       "          2.05514003e-02,  9.77656059e-03, -3.24160680e-02, -3.08934785e-02,\n",
       "         -6.92116271e-04,  3.05491630e-02,  1.92148536e-02, -4.47449535e-02,\n",
       "         -9.30877030e-02, -3.78901996e-02, -5.57207689e-02, -3.81134684e-33,\n",
       "          3.02170068e-02,  1.19699193e-02, -6.05879910e-02,  1.80709306e-02,\n",
       "         -3.08108646e-02,  1.53834391e-02,  8.97278711e-02,  1.58243478e-04,\n",
       "          9.80473682e-03,  6.99548936e-03,  7.39051923e-02,  5.18966317e-02,\n",
       "         -1.73046142e-02, -2.74347458e-02, -2.46458724e-02,  1.14911124e-01,\n",
       "         -2.34880927e-03,  1.96232498e-02, -3.40588577e-02,  2.33953316e-02,\n",
       "         -1.70115791e-02, -2.10447069e-02, -4.15793248e-02,  9.32962261e-03,\n",
       "         -5.27013503e-02,  7.01105641e-03,  1.21512637e-02,  1.26792192e-02,\n",
       "         -5.87894991e-02, -3.97066921e-02, -3.22600380e-02,  7.37679526e-02,\n",
       "         -1.82491504e-02,  4.22917381e-02,  8.84082988e-02,  4.64505376e-03,\n",
       "          2.05083098e-02,  3.54744047e-02,  2.73823235e-02,  5.73359765e-02,\n",
       "          5.16524278e-02,  3.72210518e-02,  2.81855650e-02,  5.00485450e-02,\n",
       "          2.85145976e-02,  5.94486035e-02, -3.64162549e-02,  4.96797301e-02,\n",
       "          3.21383514e-02,  3.77526209e-02,  2.59862673e-02,  2.61699455e-03,\n",
       "          3.62841822e-02, -4.36311066e-02, -2.23384891e-03, -2.13426147e-02,\n",
       "         -4.34352756e-02,  7.54370354e-04, -8.07155818e-02,  6.85001686e-02,\n",
       "         -4.41826135e-02, -5.34215011e-02, -9.20740440e-02,  6.44487515e-02,\n",
       "          6.03701919e-03,  3.60837835e-03,  2.93851737e-03,  3.62336449e-02,\n",
       "         -1.55442841e-02, -2.56212056e-02,  5.08593023e-02, -2.80793421e-02,\n",
       "         -1.35850077e-02, -3.64955068e-02,  1.71437338e-02,  3.99299292e-03,\n",
       "          7.09655806e-02,  3.74671929e-02, -6.61470369e-02,  2.62930728e-02,\n",
       "          1.37804940e-01,  1.18028373e-01,  4.41229939e-02, -6.49884641e-02,\n",
       "         -3.19759138e-02,  3.84634174e-02, -1.15556732e-01,  5.99014871e-02,\n",
       "         -1.30523872e-02, -1.00439407e-01, -2.68706586e-02,  8.85314122e-02,\n",
       "         -2.09876820e-02, -7.22632278e-03,  4.29690816e-02, -4.49397390e-08,\n",
       "         -3.22938785e-02,  3.82947247e-03, -7.00808503e-03, -5.55644231e-03,\n",
       "          1.98430382e-02,  8.98372531e-02, -2.54067741e-02, -1.44575816e-02,\n",
       "         -5.57981543e-02,  3.35067995e-02,  2.77027357e-02, -1.83422584e-02,\n",
       "          2.32476927e-03,  1.88300014e-02, -7.50080124e-02, -5.45961969e-02,\n",
       "         -1.57933701e-02,  6.78255921e-04,  7.79221952e-02, -4.27276604e-02,\n",
       "          8.79249349e-03,  8.75886157e-03,  3.54413316e-02, -2.83128936e-02,\n",
       "          1.33829564e-02, -6.14419356e-02, -1.35760590e-01, -2.64825933e-02,\n",
       "         -3.43883447e-02,  5.09817004e-02, -2.82266326e-02, -2.05755122e-02,\n",
       "         -6.04381599e-02, -4.46301922e-02, -1.31909763e-02,  9.10486802e-02,\n",
       "         -8.27654749e-02, -7.14553744e-02, -1.24556823e-02, -2.53163893e-02,\n",
       "          9.60144922e-02,  5.69090396e-02, -1.60200074e-02,  4.96046478e-03,\n",
       "         -6.00627139e-02,  6.78280368e-02, -1.69990305e-02, -8.60433877e-02,\n",
       "          7.61386007e-02, -6.62511289e-02,  4.86303568e-02, -3.30394581e-02,\n",
       "          4.55058888e-02, -1.12151718e-02, -8.64781737e-02, -3.68943401e-02,\n",
       "         -1.66920535e-02, -6.36085048e-02, -2.34457832e-02,  8.30620304e-02,\n",
       "          7.48541951e-02,  1.79825947e-02,  6.89896047e-02,  4.48524803e-02],\n",
       "        dtype=float32)],\n",
       " 'metadatas': [None],\n",
       " 'documents': ['GET http://www.example.com/search?q=<script>alert(\\'xss\\')</script> HTTP/1.1\" 403 1035845 \"http://www.example.com/search?q=<script>alert(\\'xss\\')</script>\" \"Mozilla/5.0 (Windows NT 10.0; Win64; x64) AppleWebKit/537.36 (KHTML, like Gecko) Chrome/104.0.5112.81 Safari/537.36'],\n",
       " 'uris': None,\n",
       " 'data': None}"
      ]
     },
     "execution_count": 10,
     "metadata": {},
     "output_type": "execute_result"
    }
   ],
   "source": [
    "# Examine a record by ID...tell it to show the vector embedding so we can see what it looks like\n",
    "# The vector embedding is the 384 dimension numeric representation of what that text \"means\"...\n",
    "collection.get('1', include=['embeddings', 'documents', 'metadatas'])\n",
    "#collection.get(['1','2'], include=['embeddings', 'documents', 'metadatas'])"
   ]
  },
  {
   "cell_type": "code",
   "execution_count": 13,
   "metadata": {},
   "outputs": [
    {
     "name": "stdout",
     "output_type": "stream",
     "text": [
      "euclidean distance:  0.8742813467979431\n",
      "cosine similarity:  0.38218384981155396\n"
     ]
    }
   ],
   "source": [
    "# Let's examine simple calcs around vector distance to foster understanding\n",
    "import numpy\n",
    "import math\n",
    "from scipy import spatial\n",
    "\n",
    "# Grab data from two of the records we've put into the vector DB to examine\n",
    "vec1 = collection.get('1', include=['embeddings', 'documents'])['embeddings'][0]\n",
    "vec2 = collection.get('2', include=['embeddings', 'documents'])['embeddings'][0]\n",
    "\n",
    "# Calc the euclidean (or L2) distance between those two vectors\n",
    "# This is the same thing you'd do with geographic distance between 2 cities\n",
    "# Euclidean provides magnitude but not direction...a lower distance is better match\n",
    "euclidean_dist = spatial.distance.euclidean(vec1, vec2)\n",
    "print('euclidean distance: ', euclidean_dist)\n",
    "\n",
    "# Cosine similarity is the difference between angles...it provides direction but not magnitude\n",
    "# Cosine is often a good metric for text comparison...not that a higher value is better match\n",
    "cosine_dist = spatial.distance.cosine(vec1, vec2)\n",
    "print('cosine similarity: ', cosine_dist)\n"
   ]
  },
  {
   "cell_type": "code",
   "execution_count": 14,
   "metadata": {},
   "outputs": [
    {
     "data": {
      "text/plain": [
       "{'ids': [['660', '620', '42']],\n",
       " 'distances': [[0.3781334161758423, 0.3815879225730896, 0.38311684131622314]],\n",
       " 'metadatas': [[None, None, None]],\n",
       " 'embeddings': None,\n",
       " 'documents': [['GET http://www.example.com/../../etc/passwd HTTP/1.1\" 500 322256 \"http://www.example.com/../../etc/passwd\" \"Mozilla/5.0 (Macintosh; Intel Mac OS X 10_15_7) AppleWebKit/605.1.15 (KHTML, like Gecko) Version/14.0.3 Safari/605.1.15',\n",
       "   'GET http://www.example.com/../../etc/passwd HTTP/1.1\" 400 190721 \"http://www.example.com/../../etc/passwd\" \"Mozilla/5.0 (Macintosh; Intel Mac OS X 10_15_7) AppleWebKit/605.1.15 (KHTML, like Gecko) Version/14.0.3 Safari/605.1.15',\n",
       "   'GET http://www.example.com/index.php?page=../../../../../../etc/passwd HTTP/1.1\" 400 665698 \"http://www.example.com/index.php?page=../../../../../../etc/passwd\" \"Mozilla/5.0 (Macintosh; Intel Mac OS X 10_15_7) AppleWebKit/605.1.15 (KHTML, like Gecko) Version/14.0.3 Safari/605.1.15']],\n",
       " 'uris': None,\n",
       " 'data': None}"
      ]
     },
     "execution_count": 14,
     "metadata": {},
     "output_type": "execute_result"
    }
   ],
   "source": [
    "# Execute an ANN query/search for K most similar results.\n",
    "results = collection.query(\n",
    "    query_texts=[\"http://www.example.com/../../etc/passwd\"], # This gets vectorized and used for vector query\n",
    "    n_results=3,\n",
    "    # where_document={\"$contains\":\"Macintosh\"}  # optional keyword filter\n",
    "    # where={\"metadata_field\": \"is_equal_to_this\"}, # optional metadata filter\n",
    ")\n",
    "\n",
    "results"
   ]
  },
  {
   "cell_type": "code",
   "execution_count": 15,
   "metadata": {},
   "outputs": [
    {
     "data": {
      "text/plain": [
       "{'ids': [['730', '573', '153']],\n",
       " 'distances': [[0.6075342893600464, 0.6118622422218323, 0.6151671409606934]],\n",
       " 'metadatas': [[None, None, None]],\n",
       " 'embeddings': None,\n",
       " 'documents': [['GET http://www.example.com/index.php?page=../../../../../../etc/passwd HTTP/1.1\" 403 580156 \"http://www.example.com/index.php?page=../../../../../../etc/passwd\" \"Mozilla/5.0 (Macintosh; Intel Mac OS X 10_15_7) AppleWebKit/605.1.15 (KHTML, like Gecko) Version/14.0.3 Safari/605.1.15',\n",
       "   'GET http://www.example.com/index.php?page=../../../../../../etc/passwd HTTP/1.1\" 403 530538 \"http://www.example.com/index.php?page=../../../../../../etc/passwd\" \"Mozilla/5.0 (Macintosh; Intel Mac OS X 10_15_7) AppleWebKit/605.1.15 (KHTML, like Gecko) Version/14.0.3 Safari/605.1.15',\n",
       "   'GET http://www.example.com/index.php?page=../../../../../../etc/passwd HTTP/1.1\" 403 190296 \"http://www.example.com/index.php?page=../../../../../../etc/passwd\" \"Mozilla/5.0 (Macintosh; Intel Mac OS X 10_15_7) AppleWebKit/605.1.15 (KHTML, like Gecko) Version/14.0.3 Safari/605.1.15']],\n",
       " 'uris': None,\n",
       " 'data': None}"
      ]
     },
     "execution_count": 15,
     "metadata": {},
     "output_type": "execute_result"
    }
   ],
   "source": [
    "# Ask the same question, but this time in plain English!\n",
    "results = collection.query(\n",
    "    query_texts=[\"Can you show me possible attempts to change a password?\"],  # Vectorize and search\n",
    "    n_results=3,\n",
    "    # where_document={\"$contains\":\"script\"}  # optional keyword filter\n",
    "    # where={\"metadata_field\": \"is_equal_to_this\"}, # optional metadata filter\n",
    ")\n",
    "\n",
    "results"
   ]
  },
  {
   "cell_type": "markdown",
   "metadata": {},
   "source": [
    "# Step 2: Semantic matching of malicious attempts\n",
    "We have a vector DB of malicious logs to execute neural searches against.  Now, let's feed it some fresh logs to see what matches we get.  We want to use cosine similarity for this.  We'll have to experiment a bit to set a reasonable threshold for when to return an alert vs not."
   ]
  },
  {
   "cell_type": "code",
   "execution_count": 16,
   "metadata": {},
   "outputs": [],
   "source": [
    "# Some fabricated proxy logs that contain 950 benign log entries and 50 malicious log entries\n",
    "df = pd.read_csv('proxy_logs_mixed.csv')"
   ]
  },
  {
   "cell_type": "code",
   "execution_count": 17,
   "metadata": {},
   "outputs": [
    {
     "data": {
      "text/html": [
       "<div>\n",
       "<style scoped>\n",
       "    .dataframe tbody tr th:only-of-type {\n",
       "        vertical-align: middle;\n",
       "    }\n",
       "\n",
       "    .dataframe tbody tr th {\n",
       "        vertical-align: top;\n",
       "    }\n",
       "\n",
       "    .dataframe thead th {\n",
       "        text-align: right;\n",
       "    }\n",
       "</style>\n",
       "<table border=\"1\" class=\"dataframe\">\n",
       "  <thead>\n",
       "    <tr style=\"text-align: right;\">\n",
       "      <th></th>\n",
       "      <th>ID</th>\n",
       "      <th>IP Address</th>\n",
       "      <th>Timestamp</th>\n",
       "      <th>Log Entry</th>\n",
       "    </tr>\n",
       "  </thead>\n",
       "  <tbody>\n",
       "    <tr>\n",
       "      <th>335</th>\n",
       "      <td>336</td>\n",
       "      <td>28.235.69.170</td>\n",
       "      <td>01/Aug/2024:01:17:23</td>\n",
       "      <td>GET http://www.example.com/style.css HTTP/1.1\"...</td>\n",
       "    </tr>\n",
       "    <tr>\n",
       "      <th>327</th>\n",
       "      <td>328</td>\n",
       "      <td>199.178.163.67</td>\n",
       "      <td>01/Aug/2024:03:47:17</td>\n",
       "      <td>GET http://intranet.company.com/home HTTP/1.1\"...</td>\n",
       "    </tr>\n",
       "    <tr>\n",
       "      <th>97</th>\n",
       "      <td>98</td>\n",
       "      <td>214.59.135.88</td>\n",
       "      <td>01/Aug/2024:00:19:36</td>\n",
       "      <td>GET http://update.software.com/version.xml HTT...</td>\n",
       "    </tr>\n",
       "  </tbody>\n",
       "</table>\n",
       "</div>"
      ],
      "text/plain": [
       "      ID      IP Address              Timestamp  \\\n",
       "335  336   28.235.69.170  01/Aug/2024:01:17:23    \n",
       "327  328  199.178.163.67  01/Aug/2024:03:47:17    \n",
       "97    98   214.59.135.88  01/Aug/2024:00:19:36    \n",
       "\n",
       "                                             Log Entry  \n",
       "335  GET http://www.example.com/style.css HTTP/1.1\"...  \n",
       "327  GET http://intranet.company.com/home HTTP/1.1\"...  \n",
       "97   GET http://update.software.com/version.xml HTT...  "
      ]
     },
     "execution_count": 17,
     "metadata": {},
     "output_type": "execute_result"
    }
   ],
   "source": [
    "df.sample(3)"
   ]
  },
  {
   "cell_type": "code",
   "execution_count": 18,
   "metadata": {},
   "outputs": [
    {
     "data": {
      "text/plain": [
       "0      GET http://www.example.com/ HTTP/1.1\" 200 4516...\n",
       "1      GET http://intranet.company.com/home HTTP/1.1\"...\n",
       "2      GET http://update.software.com/check HTTP/1.1\"...\n",
       "3      GET http://update.software.com/version.xml HTT...\n",
       "4      GET http://www.example.com/ HTTP/1.1\" 200 6339...\n",
       "                             ...                        \n",
       "995    GET http://www.example.com/admin HTTP/1.1\" 400...\n",
       "996    GET http://www.example.com/admin HTTP/1.1\" 403...\n",
       "997    GET http://www.example.com/../../etc/passwd HT...\n",
       "998    GET http://www.example.com/admin HTTP/1.1\" 403...\n",
       "999    GET http://www.example.com/search?q=<script>al...\n",
       "Name: Log Entry, Length: 1000, dtype: object"
      ]
     },
     "execution_count": 18,
     "metadata": {},
     "output_type": "execute_result"
    }
   ],
   "source": [
    "incoming_proxy_logs = df['Log Entry']\n",
    "incoming_proxy_logs"
   ]
  },
  {
   "cell_type": "code",
   "execution_count": 19,
   "metadata": {},
   "outputs": [
    {
     "name": "stdout",
     "output_type": "stream",
     "text": [
      "Possible alert on: GET http://cloudstorage.com/files HTTP/1.1\" 200 365923 \"http://cloudstorage.com/files\" \"Mozilla/5.0 (Windows NT 10.0; Win64; x64) AppleWebKit/537.36 (KHTML, like Gecko) Chrome/104.0.5112.81 Safari/537.36 \n",
      "  -- Match within threshold on {'ids': [['251']], 'distances': [[0.4886305332183838]], 'metadatas': [[None]], 'embeddings': None, 'documents': [['GET http://www.example.com/admin HTTP/1.1\" 500 108615 \"http://www.example.com/admin\" \"Mozilla/5.0 (Macintosh; Intel Mac OS X 10_15_7) AppleWebKit/605.1.15 (KHTML, like Gecko) Version/14.0.3 Safari/605.1.15']], 'uris': None, 'data': None}\n",
      "Possible alert on: GET http://cloudstorage.com/files HTTP/1.1\" 200 142231 \"http://cloudstorage.com/files\" \"Mozilla/5.0 (Windows NT 10.0; Win64; x64) AppleWebKit/537.36 (KHTML, like Gecko) Chrome/104.0.5112.81 Safari/537.36 \n",
      "  -- Match within threshold on {'ids': [['251']], 'distances': [[0.4881707429885864]], 'metadatas': [[None]], 'embeddings': None, 'documents': [['GET http://www.example.com/admin HTTP/1.1\" 500 108615 \"http://www.example.com/admin\" \"Mozilla/5.0 (Macintosh; Intel Mac OS X 10_15_7) AppleWebKit/605.1.15 (KHTML, like Gecko) Version/14.0.3 Safari/605.1.15']], 'uris': None, 'data': None}\n",
      "Possible alert on: GET http://cloudstorage.com/files HTTP/1.1\" 200 267652 \"http://cloudstorage.com/files\" \"Mozilla/5.0 (Windows NT 10.0; Win64; x64) AppleWebKit/537.36 (KHTML, like Gecko) Chrome/104.0.5112.81 Safari/537.36 \n",
      "  -- Match within threshold on {'ids': [['251']], 'distances': [[0.48824113607406616]], 'metadatas': [[None]], 'embeddings': None, 'documents': [['GET http://www.example.com/admin HTTP/1.1\" 500 108615 \"http://www.example.com/admin\" \"Mozilla/5.0 (Macintosh; Intel Mac OS X 10_15_7) AppleWebKit/605.1.15 (KHTML, like Gecko) Version/14.0.3 Safari/605.1.15']], 'uris': None, 'data': None}\n",
      "Possible alert on: GET http://cloudstorage.com/files HTTP/1.1\" 200 31619 \"http://cloudstorage.com/files\" \"Mozilla/5.0 (Windows NT 10.0; Win64; x64) AppleWebKit/537.36 (KHTML, like Gecko) Chrome/104.0.5112.81 Safari/537.36 \n",
      "  -- Match within threshold on {'ids': [['251']], 'distances': [[0.4901878833770752]], 'metadatas': [[None]], 'embeddings': None, 'documents': [['GET http://www.example.com/admin HTTP/1.1\" 500 108615 \"http://www.example.com/admin\" \"Mozilla/5.0 (Macintosh; Intel Mac OS X 10_15_7) AppleWebKit/605.1.15 (KHTML, like Gecko) Version/14.0.3 Safari/605.1.15']], 'uris': None, 'data': None}\n"
     ]
    }
   ],
   "source": [
    "# Find incoming log entries that match known malicious activity at a pre-determined threshold \n",
    "for log_entry in incoming_proxy_logs:\n",
    "    results = collection.query(\n",
    "    query_texts=log_entry,\n",
    "    n_results=1,\n",
    "    # where={\"metadata_field\": \"is_equal_to_this\"}, # optional filter\n",
    "    # where_document={\"$contains\":\"search_string\"}  # optional filter\n",
    "    )\n",
    "    if results['distances'][0][0] >= 0.488:  # Threshold for a match\n",
    "       print(f'Possible alert on: {log_entry} \\n  -- Match within threshold on {results}')"
   ]
  },
  {
   "cell_type": "markdown",
   "metadata": {},
   "source": [
    "# <u>Anomaly Detection by AI search on Benign Logs</u>\n",
    "## Step 1: Build vector DB of Benign Proxy log data"
   ]
  },
  {
   "cell_type": "code",
   "execution_count": 20,
   "metadata": {},
   "outputs": [],
   "source": [
    "# To conserve memory, re-use the previous collection for new data\n",
    "collection = client.get_or_create_collection(name='benign_proxy_logs', metadata={\"hnsw:space\": \"cosine\"})"
   ]
  },
  {
   "cell_type": "code",
   "execution_count": 21,
   "metadata": {},
   "outputs": [
    {
     "data": {
      "text/html": [
       "<div>\n",
       "<style scoped>\n",
       "    .dataframe tbody tr th:only-of-type {\n",
       "        vertical-align: middle;\n",
       "    }\n",
       "\n",
       "    .dataframe tbody tr th {\n",
       "        vertical-align: top;\n",
       "    }\n",
       "\n",
       "    .dataframe thead th {\n",
       "        text-align: right;\n",
       "    }\n",
       "</style>\n",
       "<table border=\"1\" class=\"dataframe\">\n",
       "  <thead>\n",
       "    <tr style=\"text-align: right;\">\n",
       "      <th></th>\n",
       "      <th>ID</th>\n",
       "      <th>IP Address</th>\n",
       "      <th>Timestamp</th>\n",
       "      <th>Log Entry</th>\n",
       "    </tr>\n",
       "  </thead>\n",
       "  <tbody>\n",
       "    <tr>\n",
       "      <th>243</th>\n",
       "      <td>244</td>\n",
       "      <td>92.174.49.91</td>\n",
       "      <td>01/Aug/2024:11:39:01</td>\n",
       "      <td>GET http://cloudstorage.com/login HTTP/1.1\" 20...</td>\n",
       "    </tr>\n",
       "    <tr>\n",
       "      <th>282</th>\n",
       "      <td>283</td>\n",
       "      <td>238.94.100.147</td>\n",
       "      <td>01/Aug/2024:19:08:07</td>\n",
       "      <td>GET http://update.software.com/check HTTP/1.1\"...</td>\n",
       "    </tr>\n",
       "    <tr>\n",
       "      <th>531</th>\n",
       "      <td>532</td>\n",
       "      <td>213.211.93.220</td>\n",
       "      <td>01/Aug/2024:01:19:46</td>\n",
       "      <td>GET http://update.software.com/check HTTP/1.1\"...</td>\n",
       "    </tr>\n",
       "  </tbody>\n",
       "</table>\n",
       "</div>"
      ],
      "text/plain": [
       "      ID      IP Address              Timestamp  \\\n",
       "243  244    92.174.49.91  01/Aug/2024:11:39:01    \n",
       "282  283  238.94.100.147  01/Aug/2024:19:08:07    \n",
       "531  532  213.211.93.220  01/Aug/2024:01:19:46    \n",
       "\n",
       "                                             Log Entry  \n",
       "243  GET http://cloudstorage.com/login HTTP/1.1\" 20...  \n",
       "282  GET http://update.software.com/check HTTP/1.1\"...  \n",
       "531  GET http://update.software.com/check HTTP/1.1\"...  "
      ]
     },
     "execution_count": 21,
     "metadata": {},
     "output_type": "execute_result"
    }
   ],
   "source": [
    "# This CSV file contains fabricated proxy logs that are examples of benign activity\n",
    "df = pd.read_csv('proxy_logs_good.csv')\n",
    "df.sample(3)"
   ]
  },
  {
   "cell_type": "code",
   "execution_count": 22,
   "metadata": {},
   "outputs": [],
   "source": [
    "# Create lists of the necessary data from the dataframe\n",
    "ID_list = df['ID'].astype(str).tolist()  # ID list, converted to string\n",
    "LogEntry_list = df['Log Entry'].tolist()   # List of documents (log content)"
   ]
  },
  {
   "cell_type": "code",
   "execution_count": 23,
   "metadata": {},
   "outputs": [],
   "source": [
    "# Add log records to vector store, allowing ChromaDB to calculate vector embeddings\n",
    "collection.add(\n",
    "    documents=LogEntry_list, # we handle tokenization, embedding, and indexing automatically. \n",
    "    #metadatas=[{\"source\": \"notion\"}, {\"source\": \"google-docs\"}], # metadata filters\n",
    "    ids=ID_list, # unique ID for each doc\n",
    ")"
   ]
  },
  {
   "cell_type": "code",
   "execution_count": 24,
   "metadata": {},
   "outputs": [
    {
     "data": {
      "text/plain": [
       "1000"
      ]
     },
     "execution_count": 24,
     "metadata": {},
     "output_type": "execute_result"
    }
   ],
   "source": [
    "collection.count()  # Check our count to make sure it looks right"
   ]
  },
  {
   "cell_type": "code",
   "execution_count": 25,
   "metadata": {},
   "outputs": [
    {
     "data": {
      "text/plain": [
       "{'ids': ['1', '2', '3'],\n",
       " 'embeddings': None,\n",
       " 'metadatas': [None, None, None],\n",
       " 'documents': ['GET http://www.example.com/ HTTP/1.1\" 200 140321 \"http://www.example.com/\" \"Mozilla/5.0 (Macintosh; Intel Mac OS X 10_15_7) AppleWebKit/605.1.15 (KHTML, like Gecko) Version/14.0.3 Safari/605.1.15',\n",
       "  'GET http://update.software.com/check HTTP/1.1\" 200 943292 \"http://update.software.com/check\" \"Mozilla/5.0 (X11; Ubuntu; Linux x86_64; rv:89.0) Gecko/20100101 Firefox/89.0',\n",
       "  'GET http://www.example.com/ HTTP/1.1\" 200 813021 \"http://www.example.com/\" \"Mozilla/5.0 (Macintosh; Intel Mac OS X 10_15_7) AppleWebKit/605.1.15 (KHTML, like Gecko) Version/14.0.3 Safari/605.1.15'],\n",
       " 'uris': None,\n",
       " 'data': None}"
      ]
     },
     "execution_count": 25,
     "metadata": {},
     "output_type": "execute_result"
    }
   ],
   "source": [
    "# Check a few records...\n",
    "collection.get(['1','2','3'])"
   ]
  },
  {
   "cell_type": "markdown",
   "metadata": {},
   "source": [
    "# Step 1: Vector search for Anomaly Detection\n",
    "With a vector DB of known benign/good proxy log entries, we can do semantic comparison to flag incoming log entries that are too different from what we know to be benign logs. "
   ]
  },
  {
   "cell_type": "code",
   "execution_count": 26,
   "metadata": {},
   "outputs": [
    {
     "data": {
      "text/html": [
       "<div>\n",
       "<style scoped>\n",
       "    .dataframe tbody tr th:only-of-type {\n",
       "        vertical-align: middle;\n",
       "    }\n",
       "\n",
       "    .dataframe tbody tr th {\n",
       "        vertical-align: top;\n",
       "    }\n",
       "\n",
       "    .dataframe thead th {\n",
       "        text-align: right;\n",
       "    }\n",
       "</style>\n",
       "<table border=\"1\" class=\"dataframe\">\n",
       "  <thead>\n",
       "    <tr style=\"text-align: right;\">\n",
       "      <th></th>\n",
       "      <th>ID</th>\n",
       "      <th>IP Address</th>\n",
       "      <th>Timestamp</th>\n",
       "      <th>Log Entry</th>\n",
       "    </tr>\n",
       "  </thead>\n",
       "  <tbody>\n",
       "    <tr>\n",
       "      <th>147</th>\n",
       "      <td>148</td>\n",
       "      <td>246.234.164.243</td>\n",
       "      <td>01/Aug/2024:15:10:15</td>\n",
       "      <td>GET http://cloudstorage.com/login HTTP/1.1\" 20...</td>\n",
       "    </tr>\n",
       "    <tr>\n",
       "      <th>861</th>\n",
       "      <td>862</td>\n",
       "      <td>216.86.32.14</td>\n",
       "      <td>01/Aug/2024:22:58:32</td>\n",
       "      <td>GET http://cloudstorage.com/authenticate HTTP/...</td>\n",
       "    </tr>\n",
       "    <tr>\n",
       "      <th>482</th>\n",
       "      <td>483</td>\n",
       "      <td>232.128.155.80</td>\n",
       "      <td>01/Aug/2024:21:34:27</td>\n",
       "      <td>GET http://update.software.com/check HTTP/1.1\"...</td>\n",
       "    </tr>\n",
       "  </tbody>\n",
       "</table>\n",
       "</div>"
      ],
      "text/plain": [
       "      ID       IP Address              Timestamp  \\\n",
       "147  148  246.234.164.243  01/Aug/2024:15:10:15    \n",
       "861  862     216.86.32.14  01/Aug/2024:22:58:32    \n",
       "482  483   232.128.155.80  01/Aug/2024:21:34:27    \n",
       "\n",
       "                                             Log Entry  \n",
       "147  GET http://cloudstorage.com/login HTTP/1.1\" 20...  \n",
       "861  GET http://cloudstorage.com/authenticate HTTP/...  \n",
       "482  GET http://update.software.com/check HTTP/1.1\"...  "
      ]
     },
     "execution_count": 26,
     "metadata": {},
     "output_type": "execute_result"
    }
   ],
   "source": [
    "# We'll use fabricated proxy logs that contain 950 benign log entries and 50 malicious log entries again\n",
    "df = pd.read_csv('proxy_logs_mixed.csv')\n",
    "df.sample(3)"
   ]
  },
  {
   "cell_type": "code",
   "execution_count": 27,
   "metadata": {},
   "outputs": [
    {
     "data": {
      "text/plain": [
       "0      GET http://www.example.com/ HTTP/1.1\" 200 4516...\n",
       "1      GET http://intranet.company.com/home HTTP/1.1\"...\n",
       "2      GET http://update.software.com/check HTTP/1.1\"...\n",
       "3      GET http://update.software.com/version.xml HTT...\n",
       "4      GET http://www.example.com/ HTTP/1.1\" 200 6339...\n",
       "                             ...                        \n",
       "995    GET http://www.example.com/admin HTTP/1.1\" 400...\n",
       "996    GET http://www.example.com/admin HTTP/1.1\" 403...\n",
       "997    GET http://www.example.com/../../etc/passwd HT...\n",
       "998    GET http://www.example.com/admin HTTP/1.1\" 403...\n",
       "999    GET http://www.example.com/search?q=<script>al...\n",
       "Name: Log Entry, Length: 1000, dtype: object"
      ]
     },
     "execution_count": 27,
     "metadata": {},
     "output_type": "execute_result"
    }
   ],
   "source": [
    "# Grab just the log entry iself\n",
    "incoming_proxy_logs = df['Log Entry']\n",
    "incoming_proxy_logs"
   ]
  },
  {
   "cell_type": "code",
   "execution_count": 28,
   "metadata": {},
   "outputs": [
    {
     "name": "stdout",
     "output_type": "stream",
     "text": [
      "Possible anomaly on: GET http://intranet.company.com/docs/document.pdf HTTP/1.1\" 200 937423 \"http://intranet.company.com/docs/document.pdf\" \"Mozilla/5.0 (Macintosh; Intel Mac OS X 10_15_7) AppleWebKit/605.1.15 (KHTML, like Gecko) Version/14.0.3 Safari/605.1.15 \n",
      "  -- Different within threshold on {'ids': [['250']], 'distances': [[9.751319885253906e-05]], 'metadatas': [[None]], 'embeddings': None, 'documents': [['GET http://intranet.company.com/docs/document.pdf HTTP/1.1\" 200 787396 \"http://intranet.company.com/docs/document.pdf\" \"Mozilla/5.0 (Macintosh; Intel Mac OS X 10_15_7) AppleWebKit/605.1.15 (KHTML, like Gecko) Version/14.0.3 Safari/605.1.15']], 'uris': None, 'data': None}\n",
      "Possible anomaly on: GET http://cloudstorage.com/authenticate HTTP/1.1\" 200 596569 \"http://cloudstorage.com/authenticate\" \"Mozilla/5.0 (Macintosh; Intel Mac OS X 10_15_7) AppleWebKit/605.1.15 (KHTML, like Gecko) Version/14.0.3 Safari/605.1.15 \n",
      "  -- Different within threshold on {'ids': [['597']], 'distances': [[9.262561798095703e-05]], 'metadatas': [[None]], 'embeddings': None, 'documents': [['GET http://cloudstorage.com/authenticate HTTP/1.1\" 200 596957 \"http://cloudstorage.com/authenticate\" \"Mozilla/5.0 (Macintosh; Intel Mac OS X 10_15_7) AppleWebKit/605.1.15 (KHTML, like Gecko) Version/14.0.3 Safari/605.1.15']], 'uris': None, 'data': None}\n",
      "Possible anomaly on: GET http://cloudstorage.com/authenticate HTTP/1.1\" 200 816584 \"http://cloudstorage.com/authenticate\" \"Mozilla/5.0 (Macintosh; Intel Mac OS X 10_15_7) AppleWebKit/605.1.15 (KHTML, like Gecko) Version/14.0.3 Safari/605.1.15 \n",
      "  -- Different within threshold on {'ids': [['46']], 'distances': [[8.881092071533203e-05]], 'metadatas': [[None]], 'embeddings': None, 'documents': [['GET http://cloudstorage.com/authenticate HTTP/1.1\" 200 826573 \"http://cloudstorage.com/authenticate\" \"Mozilla/5.0 (Macintosh; Intel Mac OS X 10_15_7) AppleWebKit/605.1.15 (KHTML, like Gecko) Version/14.0.3 Safari/605.1.15']], 'uris': None, 'data': None}\n"
     ]
    }
   ],
   "source": [
    "# Let's identify anomalies in the incoming logs by using vector search against DB of known benign logs\n",
    "for log_entry in incoming_proxy_logs:\n",
    "    results = collection.query(\n",
    "    query_texts=log_entry,\n",
    "    n_results=1,\n",
    "    # where={\"metadata_field\": \"is_equal_to_this\"}, # optional filter\n",
    "    # where_document={\"$contains\":\"search_string\"}  # optional filter\n",
    "    )\n",
    "    if results['distances'][0][0] <= 0.0001:  # Threshold for a non-match\n",
    "       print(f'Possible anomaly on: {log_entry} \\n  -- Different within threshold on {results}')"
   ]
  },
  {
   "cell_type": "markdown",
   "metadata": {},
   "source": [
    "# <u>Full-text Clustering with Vector Embeddings</u>\n",
    "We will use the mixed proxy log data which 950 benign logs + 50 malicious logs to see if we can segregate the two using clustering. This is a notable exercise...only recently has this technology advanced to the point that we can actually do Clustering with full text such as security logs!\n"
   ]
  },
  {
   "cell_type": "code",
   "execution_count": 4,
   "metadata": {},
   "outputs": [
    {
     "data": {
      "text/html": [
       "<div>\n",
       "<style scoped>\n",
       "    .dataframe tbody tr th:only-of-type {\n",
       "        vertical-align: middle;\n",
       "    }\n",
       "\n",
       "    .dataframe tbody tr th {\n",
       "        vertical-align: top;\n",
       "    }\n",
       "\n",
       "    .dataframe thead th {\n",
       "        text-align: right;\n",
       "    }\n",
       "</style>\n",
       "<table border=\"1\" class=\"dataframe\">\n",
       "  <thead>\n",
       "    <tr style=\"text-align: right;\">\n",
       "      <th></th>\n",
       "      <th>ID</th>\n",
       "      <th>Log Entry</th>\n",
       "    </tr>\n",
       "  </thead>\n",
       "  <tbody>\n",
       "    <tr>\n",
       "      <th>176</th>\n",
       "      <td>177</td>\n",
       "      <td>GET http://intranet.company.com/home HTTP/1.1\"...</td>\n",
       "    </tr>\n",
       "    <tr>\n",
       "      <th>742</th>\n",
       "      <td>743</td>\n",
       "      <td>GET http://intranet.company.com/docs/document....</td>\n",
       "    </tr>\n",
       "    <tr>\n",
       "      <th>601</th>\n",
       "      <td>602</td>\n",
       "      <td>GET http://update.software.com/version.xml HTT...</td>\n",
       "    </tr>\n",
       "  </tbody>\n",
       "</table>\n",
       "</div>"
      ],
      "text/plain": [
       "      ID                                          Log Entry\n",
       "176  177  GET http://intranet.company.com/home HTTP/1.1\"...\n",
       "742  743  GET http://intranet.company.com/docs/document....\n",
       "601  602  GET http://update.software.com/version.xml HTT..."
      ]
     },
     "execution_count": 4,
     "metadata": {},
     "output_type": "execute_result"
    }
   ],
   "source": [
    "import pandas as pd\n",
    "\n",
    "# We'll use the mixed proxy logs to see if we can get them clustered into 950 benign + 50 malicious\n",
    "df = pd.read_csv('proxy_logs_mixed.csv')\n",
    "df = df.drop(['IP Address', 'Timestamp'], axis=1)  # We don't need IP nor timestamp for this task\n",
    "df.sample(3)\n"
   ]
  },
  {
   "cell_type": "code",
   "execution_count": 5,
   "metadata": {},
   "outputs": [
    {
     "name": "stderr",
     "output_type": "stream",
     "text": [
      "c:\\Users\\david\\AppData\\Local\\Programs\\Python\\Python311\\Lib\\site-packages\\tqdm\\auto.py:21: TqdmWarning: IProgress not found. Please update jupyter and ipywidgets. See https://ipywidgets.readthedocs.io/en/stable/user_install.html\n",
      "  from .autonotebook import tqdm as notebook_tqdm\n"
     ]
    },
    {
     "data": {
      "text/html": [
       "<div>\n",
       "<style scoped>\n",
       "    .dataframe tbody tr th:only-of-type {\n",
       "        vertical-align: middle;\n",
       "    }\n",
       "\n",
       "    .dataframe tbody tr th {\n",
       "        vertical-align: top;\n",
       "    }\n",
       "\n",
       "    .dataframe thead th {\n",
       "        text-align: right;\n",
       "    }\n",
       "</style>\n",
       "<table border=\"1\" class=\"dataframe\">\n",
       "  <thead>\n",
       "    <tr style=\"text-align: right;\">\n",
       "      <th></th>\n",
       "      <th>ID</th>\n",
       "      <th>Log Entry</th>\n",
       "      <th>embedding</th>\n",
       "    </tr>\n",
       "  </thead>\n",
       "  <tbody>\n",
       "    <tr>\n",
       "      <th>620</th>\n",
       "      <td>621</td>\n",
       "      <td>GET http://update.software.com/version.xml HTT...</td>\n",
       "      <td>[0.021693675, -0.011865991, 0.00088717695, -0....</td>\n",
       "    </tr>\n",
       "    <tr>\n",
       "      <th>283</th>\n",
       "      <td>284</td>\n",
       "      <td>GET http://intranet.company.com/home HTTP/1.1\"...</td>\n",
       "      <td>[0.013052792, -0.038243268, -0.0082781045, -0....</td>\n",
       "    </tr>\n",
       "    <tr>\n",
       "      <th>531</th>\n",
       "      <td>532</td>\n",
       "      <td>GET http://cloudstorage.com/files HTTP/1.1\" 20...</td>\n",
       "      <td>[-0.01697092, 0.033157263, 0.01556565, -0.0067...</td>\n",
       "    </tr>\n",
       "  </tbody>\n",
       "</table>\n",
       "</div>"
      ],
      "text/plain": [
       "      ID                                          Log Entry  \\\n",
       "620  621  GET http://update.software.com/version.xml HTT...   \n",
       "283  284  GET http://intranet.company.com/home HTTP/1.1\"...   \n",
       "531  532  GET http://cloudstorage.com/files HTTP/1.1\" 20...   \n",
       "\n",
       "                                             embedding  \n",
       "620  [0.021693675, -0.011865991, 0.00088717695, -0....  \n",
       "283  [0.013052792, -0.038243268, -0.0082781045, -0....  \n",
       "531  [-0.01697092, 0.033157263, 0.01556565, -0.0067...  "
      ]
     },
     "execution_count": 5,
     "metadata": {},
     "output_type": "execute_result"
    }
   ],
   "source": [
    "# It's easier to just calc the vector embeddings explicitly, vs adding inserting to ChromaDB to get embeddings\n",
    "# ChromaDB can't do clustering queries (yet), but we will use the same embedding model that ChromaDB is using\n",
    "\n",
    "# Load the embedding model so we can use it to easily populate the dataframe\n",
    "from sentence_transformers import SentenceTransformer\n",
    "model = SentenceTransformer('sentence-transformers/all-MiniLM-L6-v2')\n",
    "# Use like this: embeddings = model.encode(whatever_text)\n",
    "\n",
    "# Use a lambda function to encode the text in each row and apply it to a new column\n",
    "df['embedding'] = df['Log Entry'].apply(lambda text:model.encode(text))\n",
    "df.sample(3)"
   ]
  },
  {
   "cell_type": "code",
   "execution_count": 9,
   "metadata": {},
   "outputs": [
    {
     "data": {
      "text/plain": [
       "Index(['ID', 'Log Entry', 'embedding', 'cluster'], dtype='object')"
      ]
     },
     "execution_count": 9,
     "metadata": {},
     "output_type": "execute_result"
    }
   ],
   "source": [
    "import pandas as pd\n",
    "import numpy as np\n",
    "from sklearn.cluster import KMeans\n",
    "\n",
    "# Assuming you have a DataFrame `df` with columns: 'ID', 'text', and 'embedding'\n",
    "# Here 'embedding' contains the 384-dimensional vectors\n",
    "\n",
    "# Extract the embeddings from the DataFrame\n",
    "embeddings = df['embedding'].tolist()\n",
    "\n",
    "# Convert the list of embeddings into a numpy array\n",
    "# import numpy as np\n",
    "X = np.array(embeddings)\n",
    "\n",
    "# Perform K-means clustering with K=2\n",
    "# We know we have good logs and bad logs, so let's try to cluster them into good and bad\n",
    "kmeans = KMeans(n_clusters=2, n_init=100, max_iter=3000, random_state=0)\n",
    "#kmeans = KMeans(n_clusters=2, n_init=10, max_iter=300, random_state=0)  # These are defaults\n",
    "#kmeans = KMeans(n_clusters=2, n_init=10000, max_iter=10000, random_state=0)\n",
    "df['cluster'] = kmeans.fit_predict(X)\n",
    "\n",
    "# Now `df` will have a new column 'cluster' indicating the cluster each entry belongs to\n",
    "df.columns\n"
   ]
  },
  {
   "cell_type": "code",
   "execution_count": 10,
   "metadata": {},
   "outputs": [
    {
     "data": {
      "text/html": [
       "<div>\n",
       "<style scoped>\n",
       "    .dataframe tbody tr th:only-of-type {\n",
       "        vertical-align: middle;\n",
       "    }\n",
       "\n",
       "    .dataframe tbody tr th {\n",
       "        vertical-align: top;\n",
       "    }\n",
       "\n",
       "    .dataframe thead th {\n",
       "        text-align: right;\n",
       "    }\n",
       "</style>\n",
       "<table border=\"1\" class=\"dataframe\">\n",
       "  <thead>\n",
       "    <tr style=\"text-align: right;\">\n",
       "      <th></th>\n",
       "      <th>ID</th>\n",
       "      <th>Log Entry</th>\n",
       "      <th>embedding</th>\n",
       "      <th>cluster</th>\n",
       "    </tr>\n",
       "  </thead>\n",
       "  <tbody>\n",
       "    <tr>\n",
       "      <th>753</th>\n",
       "      <td>754</td>\n",
       "      <td>GET http://www.example.com/style.css HTTP/1.1\"...</td>\n",
       "      <td>[-0.011466477, 0.06660371, -0.0038104614, 0.00...</td>\n",
       "      <td>1</td>\n",
       "    </tr>\n",
       "    <tr>\n",
       "      <th>995</th>\n",
       "      <td>996</td>\n",
       "      <td>GET http://www.example.com/admin HTTP/1.1\" 400...</td>\n",
       "      <td>[0.041147243, -0.019194018, -0.05868011, -0.01...</td>\n",
       "      <td>1</td>\n",
       "    </tr>\n",
       "    <tr>\n",
       "      <th>868</th>\n",
       "      <td>869</td>\n",
       "      <td>GET http://intranet.company.com/home HTTP/1.1\"...</td>\n",
       "      <td>[0.004326685, -0.0313229, -0.0049486794, -0.07...</td>\n",
       "      <td>1</td>\n",
       "    </tr>\n",
       "  </tbody>\n",
       "</table>\n",
       "</div>"
      ],
      "text/plain": [
       "      ID                                          Log Entry  \\\n",
       "753  754  GET http://www.example.com/style.css HTTP/1.1\"...   \n",
       "995  996  GET http://www.example.com/admin HTTP/1.1\" 400...   \n",
       "868  869  GET http://intranet.company.com/home HTTP/1.1\"...   \n",
       "\n",
       "                                             embedding  cluster  \n",
       "753  [-0.011466477, 0.06660371, -0.0038104614, 0.00...        1  \n",
       "995  [0.041147243, -0.019194018, -0.05868011, -0.01...        1  \n",
       "868  [0.004326685, -0.0313229, -0.0049486794, -0.07...        1  "
      ]
     },
     "execution_count": 10,
     "metadata": {},
     "output_type": "execute_result"
    }
   ],
   "source": [
    "df.sample(3)"
   ]
  },
  {
   "cell_type": "code",
   "execution_count": 11,
   "metadata": {},
   "outputs": [
    {
     "data": {
      "text/plain": [
       "cluster\n",
       "1    711\n",
       "0    289\n",
       "Name: count, dtype: int64"
      ]
     },
     "execution_count": 11,
     "metadata": {},
     "output_type": "execute_result"
    }
   ],
   "source": [
    "# We hope to see cluster group counts in the ballpark of 950 and 50\n",
    "df['cluster'].value_counts()"
   ]
  },
  {
   "cell_type": "code",
   "execution_count": 13,
   "metadata": {},
   "outputs": [],
   "source": [
    "# Let's try dimensionality reduction to 2 dimensions from 384, then try re-clustering\n",
    "import pandas as pd\n",
    "from sklearn.decomposition import PCA\n",
    "from sklearn.cluster import KMeans\n",
    "\n",
    "# Extract the embeddings from the DataFrame\n",
    "embeddings = df['embedding'].tolist()\n",
    "\n",
    "# Convert the list of embeddings into a numpy array\n",
    "import numpy as np\n",
    "X = np.array(embeddings)\n",
    "\n",
    "# Perform PCA for dimensionality reduction\n",
    "n_components = 2  # Number of dimensions to reduce to\n",
    "pca = PCA(n_components=n_components)\n",
    "principal_components = pca.fit_transform(X)\n",
    "\n",
    "# Add the principal components to the DataFrame\n",
    "df_pca = pd.DataFrame(data=principal_components, columns=[f'PC{i+1}' for i in range(n_components)])\n",
    "df = pd.concat([df, df_pca], axis=1)\n",
    "\n",
    "# Perform K-means clustering using the PCA components, and add a cluster2 column from that exercise\n",
    "kmeans2 = KMeans(n_clusters=2, random_state=0)\n",
    "df['cluster2'] = kmeans.fit_predict(df[['PC1', 'PC2']])\n"
   ]
  },
  {
   "cell_type": "code",
   "execution_count": 14,
   "metadata": {},
   "outputs": [
    {
     "data": {
      "text/html": [
       "<div>\n",
       "<style scoped>\n",
       "    .dataframe tbody tr th:only-of-type {\n",
       "        vertical-align: middle;\n",
       "    }\n",
       "\n",
       "    .dataframe tbody tr th {\n",
       "        vertical-align: top;\n",
       "    }\n",
       "\n",
       "    .dataframe thead th {\n",
       "        text-align: right;\n",
       "    }\n",
       "</style>\n",
       "<table border=\"1\" class=\"dataframe\">\n",
       "  <thead>\n",
       "    <tr style=\"text-align: right;\">\n",
       "      <th></th>\n",
       "      <th>ID</th>\n",
       "      <th>Log Entry</th>\n",
       "      <th>embedding</th>\n",
       "      <th>cluster</th>\n",
       "      <th>PC1</th>\n",
       "      <th>PC2</th>\n",
       "      <th>cluster2</th>\n",
       "    </tr>\n",
       "  </thead>\n",
       "  <tbody>\n",
       "    <tr>\n",
       "      <th>156</th>\n",
       "      <td>157</td>\n",
       "      <td>GET http://intranet.company.com/docs/document....</td>\n",
       "      <td>[-0.032283496, -0.017039891, -0.049597275, -0....</td>\n",
       "      <td>1</td>\n",
       "      <td>-0.155748</td>\n",
       "      <td>0.210327</td>\n",
       "      <td>1</td>\n",
       "    </tr>\n",
       "    <tr>\n",
       "      <th>891</th>\n",
       "      <td>892</td>\n",
       "      <td>GET http://www.example.com/script.js HTTP/1.1\"...</td>\n",
       "      <td>[-0.0386984, 0.002645474, 0.012752703, -0.0365...</td>\n",
       "      <td>1</td>\n",
       "      <td>-0.249826</td>\n",
       "      <td>-0.096214</td>\n",
       "      <td>1</td>\n",
       "    </tr>\n",
       "    <tr>\n",
       "      <th>840</th>\n",
       "      <td>841</td>\n",
       "      <td>GET http://www.example.com/ HTTP/1.1\" 200 2259...</td>\n",
       "      <td>[0.010529016, 0.00012331572, 0.012695489, -0.0...</td>\n",
       "      <td>1</td>\n",
       "      <td>-0.294822</td>\n",
       "      <td>-0.162771</td>\n",
       "      <td>1</td>\n",
       "    </tr>\n",
       "  </tbody>\n",
       "</table>\n",
       "</div>"
      ],
      "text/plain": [
       "      ID                                          Log Entry  \\\n",
       "156  157  GET http://intranet.company.com/docs/document....   \n",
       "891  892  GET http://www.example.com/script.js HTTP/1.1\"...   \n",
       "840  841  GET http://www.example.com/ HTTP/1.1\" 200 2259...   \n",
       "\n",
       "                                             embedding  cluster       PC1  \\\n",
       "156  [-0.032283496, -0.017039891, -0.049597275, -0....        1 -0.155748   \n",
       "891  [-0.0386984, 0.002645474, 0.012752703, -0.0365...        1 -0.249826   \n",
       "840  [0.010529016, 0.00012331572, 0.012695489, -0.0...        1 -0.294822   \n",
       "\n",
       "          PC2  cluster2  \n",
       "156  0.210327         1  \n",
       "891 -0.096214         1  \n",
       "840 -0.162771         1  "
      ]
     },
     "execution_count": 14,
     "metadata": {},
     "output_type": "execute_result"
    }
   ],
   "source": [
    "df.sample(3)"
   ]
  },
  {
   "cell_type": "code",
   "execution_count": 15,
   "metadata": {},
   "outputs": [
    {
     "data": {
      "text/plain": [
       "cluster2\n",
       "1    711\n",
       "0    289\n",
       "Name: count, dtype: int64"
      ]
     },
     "execution_count": 15,
     "metadata": {},
     "output_type": "execute_result"
    }
   ],
   "source": [
    "# We hope to see cluster group counts in the ballpark of 950 and 50\n",
    "df['cluster2'].value_counts()"
   ]
  },
  {
   "cell_type": "code",
   "execution_count": 17,
   "metadata": {},
   "outputs": [
    {
     "data": {
      "image/png": "[encoded data removed]",
      "text/plain": [
       "<Figure size 1000x700 with 2 Axes>"
      ]
     },
     "metadata": {},
     "output_type": "display_data"
    }
   ],
   "source": [
    "# Visualize the clusters\n",
    "import matplotlib.pyplot as plt\n",
    "\n",
    "plt.figure(figsize=(10, 7))\n",
    "plt.scatter(df['PC1'], df['PC2'], c=df['cluster2'], cmap='viridis', marker='o')\n",
    "plt.title('KMeans Clustering on PCA-Reduced Data')\n",
    "plt.xlabel('PC1')\n",
    "plt.ylabel('PC2')\n",
    "plt.colorbar(label='Cluster2')\n",
    "plt.show()"
   ]
  },
  {
   "cell_type": "code",
   "execution_count": 19,
   "metadata": {},
   "outputs": [
    {
     "name": "stdout",
     "output_type": "stream",
     "text": [
      "Estimated number of DBSCAN clusters: 8\n",
      "Estimated number of noise points: 0\n"
     ]
    },
    {
     "data": {
      "text/plain": [
       "Index(['ID', 'Log Entry', 'embedding', 'cluster', 'PC1', 'PC2', 'cluster2',\n",
       "       'cluster3'],\n",
       "      dtype='object')"
      ]
     },
     "execution_count": 19,
     "metadata": {},
     "output_type": "execute_result"
    }
   ],
   "source": [
    "import pandas as pd\n",
    "from sklearn.cluster import DBSCAN\n",
    "from sklearn.preprocessing import StandardScaler\n",
    "import numpy as np\n",
    "from sklearn.metrics.pairwise import cosine_distances\n",
    "\n",
    "# Convert the embeddings column to a numpy array\n",
    "embeddings = np.array(df['embedding'].tolist())\n",
    "\n",
    "# Standardize the data (optional but recommended)\n",
    "scaler = StandardScaler()\n",
    "embeddings_scaled = scaler.fit_transform(embeddings)\n",
    "\n",
    "# Calculate the cosine distance matrix\n",
    "cosine_dist_matrix = cosine_distances(embeddings_scaled)\n",
    "\n",
    "# Perform DBSCAN clustering with cosine distance\n",
    "# Parameters to adjust: `eps` (radius of neighborhood), `min_samples` (min points to form a cluster)\n",
    "dbscan = DBSCAN(eps=0.5, min_samples=5, metric='precomputed')\n",
    "df['cluster3'] = dbscan.fit_predict(cosine_dist_matrix)\n",
    "\n",
    "# Analyzing the results\n",
    "n_clusters = len(set(df['cluster3'])) - (1 if -1 in df['cluster3'] else 0)\n",
    "n_noise = list(df['cluster3']).count(-1)\n",
    "\n",
    "print(f'Estimated number of DBSCAN clusters: {n_clusters}')\n",
    "print(f'Estimated number of noise points: {n_noise}')\n",
    "\n",
    "# If you want to see the first few entries and their clusters\n",
    "df.columns\n"
   ]
  },
  {
   "cell_type": "code",
   "execution_count": 20,
   "metadata": {},
   "outputs": [
    {
     "data": {
      "text/html": [
       "<div>\n",
       "<style scoped>\n",
       "    .dataframe tbody tr th:only-of-type {\n",
       "        vertical-align: middle;\n",
       "    }\n",
       "\n",
       "    .dataframe tbody tr th {\n",
       "        vertical-align: top;\n",
       "    }\n",
       "\n",
       "    .dataframe thead th {\n",
       "        text-align: right;\n",
       "    }\n",
       "</style>\n",
       "<table border=\"1\" class=\"dataframe\">\n",
       "  <thead>\n",
       "    <tr style=\"text-align: right;\">\n",
       "      <th></th>\n",
       "      <th>ID</th>\n",
       "      <th>Log Entry</th>\n",
       "      <th>embedding</th>\n",
       "      <th>cluster</th>\n",
       "      <th>PC1</th>\n",
       "      <th>PC2</th>\n",
       "      <th>cluster2</th>\n",
       "      <th>cluster3</th>\n",
       "    </tr>\n",
       "  </thead>\n",
       "  <tbody>\n",
       "    <tr>\n",
       "      <th>946</th>\n",
       "      <td>947</td>\n",
       "      <td>GET http://intranet.company.com/home HTTP/1.1\"...</td>\n",
       "      <td>[0.0051515186, -0.03646939, -0.010961741, -0.0...</td>\n",
       "      <td>1</td>\n",
       "      <td>-0.189878</td>\n",
       "      <td>0.086288</td>\n",
       "      <td>1</td>\n",
       "      <td>1</td>\n",
       "    </tr>\n",
       "    <tr>\n",
       "      <th>144</th>\n",
       "      <td>145</td>\n",
       "      <td>GET http://cloudstorage.com/files HTTP/1.1\" 20...</td>\n",
       "      <td>[-0.018262336, 0.032908075, 0.0148927, -0.0073...</td>\n",
       "      <td>0</td>\n",
       "      <td>0.463956</td>\n",
       "      <td>0.080766</td>\n",
       "      <td>0</td>\n",
       "      <td>5</td>\n",
       "    </tr>\n",
       "    <tr>\n",
       "      <th>352</th>\n",
       "      <td>353</td>\n",
       "      <td>GET http://cloudstorage.com/files HTTP/1.1\" 20...</td>\n",
       "      <td>[0.006708235, 0.043615572, -0.0047095157, -0.0...</td>\n",
       "      <td>0</td>\n",
       "      <td>0.484848</td>\n",
       "      <td>-0.145364</td>\n",
       "      <td>0</td>\n",
       "      <td>5</td>\n",
       "    </tr>\n",
       "  </tbody>\n",
       "</table>\n",
       "</div>"
      ],
      "text/plain": [
       "      ID                                          Log Entry  \\\n",
       "946  947  GET http://intranet.company.com/home HTTP/1.1\"...   \n",
       "144  145  GET http://cloudstorage.com/files HTTP/1.1\" 20...   \n",
       "352  353  GET http://cloudstorage.com/files HTTP/1.1\" 20...   \n",
       "\n",
       "                                             embedding  cluster       PC1  \\\n",
       "946  [0.0051515186, -0.03646939, -0.010961741, -0.0...        1 -0.189878   \n",
       "144  [-0.018262336, 0.032908075, 0.0148927, -0.0073...        0  0.463956   \n",
       "352  [0.006708235, 0.043615572, -0.0047095157, -0.0...        0  0.484848   \n",
       "\n",
       "          PC2  cluster2  cluster3  \n",
       "946  0.086288         1         1  \n",
       "144  0.080766         0         5  \n",
       "352 -0.145364         0         5  "
      ]
     },
     "execution_count": 20,
     "metadata": {},
     "output_type": "execute_result"
    }
   ],
   "source": [
    "df.sample(3)"
   ]
  },
  {
   "cell_type": "code",
   "execution_count": 23,
   "metadata": {},
   "outputs": [
    {
     "data": {
      "text/plain": [
       "cluster3\n",
       "5    289\n",
       "1    182\n",
       "6    142\n",
       "0    138\n",
       "3     95\n",
       "4     86\n",
       "2     53\n",
       "7     15\n",
       "Name: count, dtype: int64"
      ]
     },
     "execution_count": 23,
     "metadata": {},
     "output_type": "execute_result"
    }
   ],
   "source": [
    "# We hope to see cluster group counts in the ballpark of 950 and 50\n",
    "df['cluster3'].value_counts()\n",
    "\n",
    "# It appears that perhaps cluster 2 with 53 points might be our malicious logs, but...\n",
    "# I'm not sure (yet) how we would determine that if we didn't already there were 50 bad logs"
   ]
  },
  {
   "cell_type": "code",
   "execution_count": 22,
   "metadata": {},
   "outputs": [
    {
     "data": {
      "image/png": "[encoded data removed]",
      "text/plain": [
       "<Figure size 1000x700 with 2 Axes>"
      ]
     },
     "metadata": {},
     "output_type": "display_data"
    }
   ],
   "source": [
    "# Plot the results after applying PCA\n",
    "\n",
    "# Reduce the embeddings to 2 dimensions using PCA\n",
    "pca = PCA(n_components=2)\n",
    "reduced_embeddings = pca.fit_transform(embeddings)\n",
    "\n",
    "# Plot\n",
    "plt.figure(figsize=(10, 7))\n",
    "scatter = plt.scatter(reduced_embeddings[:, 0], reduced_embeddings[:, 1], c=df['cluster3'], cmap='viridis', marker='o')\n",
    "plt.title('DBSCAN Clustering with Cosine Distance (PCA Reduced to 2D)')\n",
    "plt.xlabel('PCA Component 1')\n",
    "plt.ylabel('PCA Component 2')\n",
    "plt.colorbar(scatter, label='Cluster3')\n",
    "plt.show()"
   ]
  },
  {
   "cell_type": "code",
   "execution_count": null,
   "metadata": {},
   "outputs": [],
   "source": []
  }
 ],
 "metadata": {
  "kernelspec": {
   "display_name": "Python 3",
   "language": "python",
   "name": "python3"
  },
  "language_info": {
   "codemirror_mode": {
    "name": "ipython",
    "version": 3
   },
   "file_extension": ".py",
   "mimetype": "text/x-python",
   "name": "python",
   "nbconvert_exporter": "python",
   "pygments_lexer": "ipython3",
   "version": "3.11.6"
  }
 },
 "nbformat": 4,
 "nbformat_minor": 2
}
