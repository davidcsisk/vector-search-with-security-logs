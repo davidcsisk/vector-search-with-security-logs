{
 "cells": [
  {
   "cell_type": "markdown",
   "metadata": {},
   "source": [
    "# Neural Search applied to Proxy Logs"
   ]
  },
  {
   "cell_type": "code",
   "execution_count": 16,
   "metadata": {},
   "outputs": [],
   "source": [
    "# python -v venv venv\n",
    "# venv\\Scripts\\Activate.ps1\n",
    "# pip install pandas\n",
    "# pip install chromadb\n",
    "# From https://github.com/chroma-core/chroma"
   ]
  },
  {
   "cell_type": "code",
   "execution_count": 2,
   "metadata": {},
   "outputs": [],
   "source": [
    "import os, sys\n",
    "import pandas as pd \n",
    "import chromadb"
   ]
  },
  {
   "cell_type": "code",
   "execution_count": 39,
   "metadata": {},
   "outputs": [
    {
     "data": {
      "text/plain": [
       "Index(['ID', 'IP Address', 'Timestamp', 'Log Entry'], dtype='object')"
      ]
     },
     "execution_count": 39,
     "metadata": {},
     "output_type": "execute_result"
    }
   ],
   "source": [
    "df = pd.read_csv('proxy_logs_malicious.csv')\n",
    "df.columns"
   ]
  },
  {
   "cell_type": "code",
   "execution_count": 40,
   "metadata": {},
   "outputs": [
    {
     "data": {
      "text/html": [
       "<div>\n",
       "<style scoped>\n",
       "    .dataframe tbody tr th:only-of-type {\n",
       "        vertical-align: middle;\n",
       "    }\n",
       "\n",
       "    .dataframe tbody tr th {\n",
       "        vertical-align: top;\n",
       "    }\n",
       "\n",
       "    .dataframe thead th {\n",
       "        text-align: right;\n",
       "    }\n",
       "</style>\n",
       "<table border=\"1\" class=\"dataframe\">\n",
       "  <thead>\n",
       "    <tr style=\"text-align: right;\">\n",
       "      <th></th>\n",
       "      <th>ID</th>\n",
       "      <th>IP Address</th>\n",
       "      <th>Timestamp</th>\n",
       "      <th>Log Entry</th>\n",
       "    </tr>\n",
       "  </thead>\n",
       "  <tbody>\n",
       "    <tr>\n",
       "      <th>428</th>\n",
       "      <td>429</td>\n",
       "      <td>50.135.210.214</td>\n",
       "      <td>01/Aug/2024:14:15:16</td>\n",
       "      <td>GET http://www.example.com/search?q=&lt;script&gt;al...</td>\n",
       "    </tr>\n",
       "    <tr>\n",
       "      <th>323</th>\n",
       "      <td>324</td>\n",
       "      <td>228.228.202.131</td>\n",
       "      <td>01/Aug/2024:01:23:54</td>\n",
       "      <td>GET http://www.example.com/index.php?page=../....</td>\n",
       "    </tr>\n",
       "    <tr>\n",
       "      <th>539</th>\n",
       "      <td>540</td>\n",
       "      <td>24.215.31.65</td>\n",
       "      <td>01/Aug/2024:04:40:30</td>\n",
       "      <td>GET http://www.example.com/admin HTTP/1.1\" 500...</td>\n",
       "    </tr>\n",
       "  </tbody>\n",
       "</table>\n",
       "</div>"
      ],
      "text/plain": [
       "      ID       IP Address              Timestamp  \\\n",
       "428  429   50.135.210.214  01/Aug/2024:14:15:16    \n",
       "323  324  228.228.202.131  01/Aug/2024:01:23:54    \n",
       "539  540     24.215.31.65  01/Aug/2024:04:40:30    \n",
       "\n",
       "                                             Log Entry  \n",
       "428  GET http://www.example.com/search?q=<script>al...  \n",
       "323  GET http://www.example.com/index.php?page=../....  \n",
       "539  GET http://www.example.com/admin HTTP/1.1\" 500...  "
      ]
     },
     "execution_count": 40,
     "metadata": {},
     "output_type": "execute_result"
    }
   ],
   "source": [
    "df.sample(3)"
   ]
  },
  {
   "cell_type": "code",
   "execution_count": 41,
   "metadata": {},
   "outputs": [],
   "source": [
    "# Add a sourcetype and source to the data, so that it looks a bit more like data that would come\n",
    "# out of Splunk. \n",
    "df.insert(1, \"Sourcetype\", \"fabricated_data\")\n",
    "df.insert(2, \"Source\", \"fake_source\")"
   ]
  },
  {
   "cell_type": "code",
   "execution_count": 54,
   "metadata": {},
   "outputs": [
    {
     "data": {
      "text/html": [
       "<div>\n",
       "<style scoped>\n",
       "    .dataframe tbody tr th:only-of-type {\n",
       "        vertical-align: middle;\n",
       "    }\n",
       "\n",
       "    .dataframe tbody tr th {\n",
       "        vertical-align: top;\n",
       "    }\n",
       "\n",
       "    .dataframe thead th {\n",
       "        text-align: right;\n",
       "    }\n",
       "</style>\n",
       "<table border=\"1\" class=\"dataframe\">\n",
       "  <thead>\n",
       "    <tr style=\"text-align: right;\">\n",
       "      <th></th>\n",
       "      <th>ID</th>\n",
       "      <th>Sourcetype</th>\n",
       "      <th>Source</th>\n",
       "      <th>IP Address</th>\n",
       "      <th>Timestamp</th>\n",
       "      <th>Log Entry</th>\n",
       "    </tr>\n",
       "  </thead>\n",
       "  <tbody>\n",
       "    <tr>\n",
       "      <th>868</th>\n",
       "      <td>869</td>\n",
       "      <td>fabricated_data</td>\n",
       "      <td>fake_source</td>\n",
       "      <td>192.12.149.234</td>\n",
       "      <td>01/Aug/2024:02:01:13</td>\n",
       "      <td>GET http://www.example.com/admin HTTP/1.1\" 404...</td>\n",
       "    </tr>\n",
       "    <tr>\n",
       "      <th>768</th>\n",
       "      <td>769</td>\n",
       "      <td>fabricated_data</td>\n",
       "      <td>fake_source</td>\n",
       "      <td>30.210.242.220</td>\n",
       "      <td>01/Aug/2024:04:22:47</td>\n",
       "      <td>GET http://www.example.com/index.php?page=../....</td>\n",
       "    </tr>\n",
       "    <tr>\n",
       "      <th>778</th>\n",
       "      <td>779</td>\n",
       "      <td>fabricated_data</td>\n",
       "      <td>fake_source</td>\n",
       "      <td>119.156.234.12</td>\n",
       "      <td>01/Aug/2024:06:54:27</td>\n",
       "      <td>GET http://www.example.com/login.php?user=admi...</td>\n",
       "    </tr>\n",
       "  </tbody>\n",
       "</table>\n",
       "</div>"
      ],
      "text/plain": [
       "      ID       Sourcetype       Source      IP Address              Timestamp  \\\n",
       "868  869  fabricated_data  fake_source  192.12.149.234  01/Aug/2024:02:01:13    \n",
       "768  769  fabricated_data  fake_source  30.210.242.220  01/Aug/2024:04:22:47    \n",
       "778  779  fabricated_data  fake_source  119.156.234.12  01/Aug/2024:06:54:27    \n",
       "\n",
       "                                             Log Entry  \n",
       "868  GET http://www.example.com/admin HTTP/1.1\" 404...  \n",
       "768  GET http://www.example.com/index.php?page=../....  \n",
       "778  GET http://www.example.com/login.php?user=admi...  "
      ]
     },
     "execution_count": 54,
     "metadata": {},
     "output_type": "execute_result"
    }
   ],
   "source": [
    "df.sample(3)"
   ]
  },
  {
   "cell_type": "code",
   "execution_count": 6,
   "metadata": {},
   "outputs": [],
   "source": [
    "# setup Chroma in-memory, for easy prototyping. Can add persistence easily!\n",
    "client = chromadb.Client()\n",
    "#client = chromadb.PersistentClient(path='./chromadb_proxy_logs')"
   ]
  },
  {
   "cell_type": "code",
   "execution_count": 7,
   "metadata": {},
   "outputs": [],
   "source": [
    "# Create collection. get_collection, get_or_create_collection, delete_collection also available\n",
    "collection = client.get_or_create_collection(name='malicious_proxy_logs')"
   ]
  },
  {
   "cell_type": "code",
   "execution_count": 86,
   "metadata": {},
   "outputs": [],
   "source": [
    "# Create lists of the necessary data from the dataframe\n",
    "ID_list = df['ID'].astype(str).tolist()  # ID list\n",
    "Sourcetype_list = df['Sourcetype']\n",
    "# list comprehension:  Sourcetype_dict = []  # Metadata list of dicts\n",
    "Source_list = df['Source']\n",
    "# list comprehension:  Source_dict = []   # Metadata list of dicts\n",
    "LogEntry_list = df['Log Entry'].tolist()     # List of documents (log content)"
   ]
  },
  {
   "cell_type": "code",
   "execution_count": 88,
   "metadata": {},
   "outputs": [],
   "source": [
    "# Add docs to the collection. Can also update and delete. Row-based API coming soon!\n",
    "collection.add(\n",
    "    documents=LogEntry_list, # we handle tokenization, embedding, and indexing automatically. You can skip that and add your own embeddings as well\n",
    "    #metadatas=[{\"source\": \"notion\"}, {\"source\": \"google-docs\"}], # filter on these!\n",
    "    ids=ID_list, # unique ID for each doc\n",
    ")"
   ]
  },
  {
   "cell_type": "raw",
   "metadata": {},
   "source": [
    "First use of model triggers download of model:\n",
    "C:\\Users\\david\\.cache\\chroma\\onnx_models\\all-MiniLM-L6-v2\\onnx.tar.gz: 100%|██████████| 79.3M/79.3M [00:03<00:00, 27.0MiB/s]"
   ]
  },
  {
   "cell_type": "code",
   "execution_count": 106,
   "metadata": {},
   "outputs": [
    {
     "data": {
      "text/plain": [
       "{'ids': ['1', '2'],\n",
       " 'embeddings': None,\n",
       " 'metadatas': [None, None],\n",
       " 'documents': ['GET http://www.example.com/search?q=<script>alert(\\'xss\\')</script> HTTP/1.1\" 403 1035845 \"http://www.example.com/search?q=<script>alert(\\'xss\\')</script>\" \"Mozilla/5.0 (Windows NT 10.0; Win64; x64) AppleWebKit/537.36 (KHTML, like Gecko) Chrome/104.0.5112.81 Safari/537.36',\n",
       "  'GET http://www.example.com/login.php?user=admin\\'-- HTTP/1.1\" 403 616857 \"http://www.example.com/login.php?user=admin\\'--\" \"Mozilla/5.0 (Macintosh; Intel Mac OS X 10_15_7) AppleWebKit/605.1.15 (KHTML, like Gecko) Version/14.0.3 Safari/605.1.15'],\n",
       " 'uris': None,\n",
       " 'data': None}"
      ]
     },
     "execution_count": 106,
     "metadata": {},
     "output_type": "execute_result"
    }
   ],
   "source": [
    "# Examine a few records by ID\n",
    "#collection.get('doc1')\n",
    "collection.get(['1','2'])"
   ]
  },
  {
   "cell_type": "code",
   "execution_count": 107,
   "metadata": {},
   "outputs": [
    {
     "data": {
      "text/plain": [
       "{'ids': [['95', '780', '207']],\n",
       " 'distances': [[0.7512704133987427, 0.7586382627487183, 0.7596009373664856]],\n",
       " 'metadatas': [[None, None, None]],\n",
       " 'embeddings': None,\n",
       " 'documents': [['GET http://www.example.com/index.php?page=../../../../../../etc/passwd HTTP/1.1\" 400 1035268 \"http://www.example.com/index.php?page=../../../../../../etc/passwd\" \"Mozilla/5.0 (Windows NT 10.0; Win64; x64) AppleWebKit/537.36 (KHTML, like Gecko) Chrome/104.0.5112.81 Safari/537.36',\n",
       "   'GET http://www.example.com/index.php?page=../../../../../../etc/passwd HTTP/1.1\" 500 334877 \"http://www.example.com/index.php?page=../../../../../../etc/passwd\" \"Mozilla/5.0 (Windows NT 10.0; Win64; x64) AppleWebKit/537.36 (KHTML, like Gecko) Chrome/104.0.5112.81 Safari/537.36',\n",
       "   'GET http://www.example.com/index.php?page=../../../../../../etc/passwd HTTP/1.1\" 400 839738 \"http://www.example.com/index.php?page=../../../../../../etc/passwd\" \"Mozilla/5.0 (Windows NT 10.0; Win64; x64) AppleWebKit/537.36 (KHTML, like Gecko) Chrome/104.0.5112.81 Safari/537.36']],\n",
       " 'uris': None,\n",
       " 'data': None}"
      ]
     },
     "execution_count": 107,
     "metadata": {},
     "output_type": "execute_result"
    }
   ],
   "source": [
    "# ANN Query/search K most similar results. You can also .get by id\n",
    "results = collection.query(\n",
    "    query_texts=[\"http://www.example.com/../../etc/passwd\"],\n",
    "    #query_texts=[\"This is a query document\"],\n",
    "    n_results=3,\n",
    "    # where={\"metadata_field\": \"is_equal_to_this\"}, # optional filter\n",
    "    # where_document={\"$contains\":\"search_string\"}  # optional filter\n",
    ")\n",
    "\n",
    "results"
   ]
  },
  {
   "cell_type": "code",
   "execution_count": null,
   "metadata": {},
   "outputs": [],
   "source": []
  }
 ],
 "metadata": {
  "kernelspec": {
   "display_name": "Python 3",
   "language": "python",
   "name": "python3"
  },
  "language_info": {
   "codemirror_mode": {
    "name": "ipython",
    "version": 3
   },
   "file_extension": ".py",
   "mimetype": "text/x-python",
   "name": "python",
   "nbconvert_exporter": "python",
   "pygments_lexer": "ipython3",
   "version": "3.11.6"
  }
 },
 "nbformat": 4,
 "nbformat_minor": 2
}
