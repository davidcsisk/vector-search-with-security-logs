{
 "cells": [
  {
   "cell_type": "markdown",
   "metadata": {},
   "source": [
    "# <u>Neural/AI Search applied to Proxy Logs</u>\n",
    "\n",
    "The intention of this Jupyter notebook is to examine how we might apply AI search to security logs.  We'll be using fabricated proxy logs that (in theory) show benign behavior, malicious behavior, and a 950/50 mix of those two. You will find demonstrations of the following three examples:\n",
    "- <u>Exploit Matching</u>: Compare unknown or incoming logs to a vector DB of known malicious logs, flagging matches above a threshold for alert.\n",
    "- <u>Anomaly Detection</u>: Compare unknown or incoming logs to a vector DB of known benign logs, flagging possible anomalies below a matching threshold for alert.\n",
    "- <u>Semantic Clustering</u>: Examples of clustering analysis done with full text by leveraging those vector embeddings...essentially clustering on semantic meaning of the text event logs.\n",
    "\n",
    "Any of these approaches could be applied to flagging/alerting processes on incoming event logs, or applied to threat-hunting within existing log data, or anything in between. One of the big benefits is that query, analysis, etc., can be done without needing to parse logs into fields of tabular data. Leveraging vector embeddings helps capture the meaning of the logs, rather than just discrete pieces of data from them.\n",
    "\n",
    "In terms of the tech stack, we'll be using <b><u>two key components</b></u>:\n",
    "- <u>Vector datastore</u>: A simple development-grade vector datastore called ChromaDB\n",
    "- <u>Embedding model</u>: A locally-run HuggingFace sentence transformer model (all-MiniLM-L6-v2) that's a common choice for calculating vector embeddings of general-purpose text.\n",
    "Note that these two technology choices make this demonstration completely self-contained...<b>no data is being transmitted out to any external internet service, nor any data being brought back in from an external source</b>.\n",
    "\n",
    "Note that there are many synonyms for <b><u>vector search</u></b>...here's a list:\n",
    "- Vector similarity search\n",
    "- Semantic similarity search\n",
    "- Neural search (because of it's basis in neural network models for the embeddings)\n",
    "- AI search\n",
    "- Cognitive search\n",
    "- KNN search (K-Nearest Neighbors...this is the traditional conceptual name)\n",
    "- ANN search (Approximate Nearest Neighbors) \n",
    "- HNSW (Hierarchical Navigable Small World) search (the most popular approximation algorithm)\n",
    "- Probably a few others I don't remember at the moment\n",
    "\n",
    "All of these synonyms are referring to the same concepts and technology. It's worth noting that vector search technology has been used in large scale recommendation systems, fraud detection systems, and other \"big data\" types of applications for nearly a decade. In fact, handling very large volumes of full-text data is exactly what this technology was invented to handle. It's also worth noting that vector embeddings are not just relevant to text...given a suitable ML model, vector embeddings can be captured for images, audio, video, even binary executables and encrypted data. \n",
    "\n",
    "<b><u>Where does vector search fit into the big picture?</u></b>  There are essentially three categories of \"search\":\n",
    "- Relational query: Search on value equalities and ranges of data...very deterministic\n",
    "- Full-text/keyword search:  Query on word matches, including compressed word stems...more fuzzy/stochastic\n",
    "- Vector semantic search: Query on meanings of text passages rather than keywords...very stochastic"
   ]
  },
  {
   "cell_type": "code",
   "execution_count": null,
   "metadata": {},
   "outputs": [],
   "source": [
    "### Uncomment and run the line below if this is the first time executing this notebook. Package installs in requirements.txt.\n",
    "#! python -m venv venv\n",
    "#! powershell venv\\Scripts\\Activate.ps1\n",
    "#! pip install -r .\\requirements.txt --force\n"
   ]
  },
  {
   "cell_type": "code",
   "execution_count": 1,
   "metadata": {},
   "outputs": [],
   "source": [
    "import os, sys\n",
    "import pandas as pd \n",
    "import chromadb\n",
    "#from chromadb.config import DEFAULT_TENANT, DEFAULT_DATABASE, Settings"
   ]
  },
  {
   "cell_type": "markdown",
   "metadata": {},
   "source": [
    "# <u>Exploit Matching</u>: AI search with new logs\n",
    "## Step 1: Hydrate vector DB with malicious logs\n",
    "We can use this vectorstore of known malicious logs as reference data to compare incoming logs against to determine if any of those events are similar enough to raise an alert.  "
   ]
  },
  {
   "cell_type": "code",
   "execution_count": 2,
   "metadata": {},
   "outputs": [
    {
     "data": {
      "text/plain": [
       "Index(['ID', 'IP Address', 'Timestamp', 'Log Entry'], dtype='object')"
      ]
     },
     "execution_count": 2,
     "metadata": {},
     "output_type": "execute_result"
    }
   ],
   "source": [
    "# This CSV file contains fabricated proxy logs that are examples of malicious activity attempts\n",
    "df = pd.read_csv('proxy_logs_malicious.csv')\n",
    "df.columns"
   ]
  },
  {
   "cell_type": "code",
   "execution_count": 3,
   "metadata": {},
   "outputs": [
    {
     "data": {
      "text/html": [
       "<div>\n",
       "<style scoped>\n",
       "    .dataframe tbody tr th:only-of-type {\n",
       "        vertical-align: middle;\n",
       "    }\n",
       "\n",
       "    .dataframe tbody tr th {\n",
       "        vertical-align: top;\n",
       "    }\n",
       "\n",
       "    .dataframe thead th {\n",
       "        text-align: right;\n",
       "    }\n",
       "</style>\n",
       "<table border=\"1\" class=\"dataframe\">\n",
       "  <thead>\n",
       "    <tr style=\"text-align: right;\">\n",
       "      <th></th>\n",
       "      <th>ID</th>\n",
       "      <th>IP Address</th>\n",
       "      <th>Timestamp</th>\n",
       "      <th>Log Entry</th>\n",
       "    </tr>\n",
       "  </thead>\n",
       "  <tbody>\n",
       "    <tr>\n",
       "      <th>225</th>\n",
       "      <td>226</td>\n",
       "      <td>178.42.62.152</td>\n",
       "      <td>01/Aug/2024:00:41:32</td>\n",
       "      <td>GET http://www.example.com/search?q=&lt;script&gt;al...</td>\n",
       "    </tr>\n",
       "    <tr>\n",
       "      <th>460</th>\n",
       "      <td>461</td>\n",
       "      <td>167.242.199.33</td>\n",
       "      <td>01/Aug/2024:13:10:00</td>\n",
       "      <td>GET http://www.example.com/index.php?page=../....</td>\n",
       "    </tr>\n",
       "    <tr>\n",
       "      <th>130</th>\n",
       "      <td>131</td>\n",
       "      <td>249.34.238.2</td>\n",
       "      <td>01/Aug/2024:19:56:37</td>\n",
       "      <td>GET http://www.example.com/login.php?user=admi...</td>\n",
       "    </tr>\n",
       "  </tbody>\n",
       "</table>\n",
       "</div>"
      ],
      "text/plain": [
       "      ID      IP Address              Timestamp  \\\n",
       "225  226   178.42.62.152  01/Aug/2024:00:41:32    \n",
       "460  461  167.242.199.33  01/Aug/2024:13:10:00    \n",
       "130  131    249.34.238.2  01/Aug/2024:19:56:37    \n",
       "\n",
       "                                             Log Entry  \n",
       "225  GET http://www.example.com/search?q=<script>al...  \n",
       "460  GET http://www.example.com/index.php?page=../....  \n",
       "130  GET http://www.example.com/login.php?user=admi...  "
      ]
     },
     "execution_count": 3,
     "metadata": {},
     "output_type": "execute_result"
    }
   ],
   "source": [
    "df.sample(3) # I've purposefully generated these to look like something that might be extracted from Splunk"
   ]
  },
  {
   "cell_type": "code",
   "execution_count": 4,
   "metadata": {},
   "outputs": [],
   "source": [
    "# setup Chroma in-memory, for easy prototyping. Can add persistence easily!\n",
    "client = chromadb.Client()\n",
    "#client = chromadb.PersistentClient(path='./chromadb_proxy_logs')  # A bug prevents this from working\n",
    "\n",
    "# Create collection. get_collection, get_or_create_collection, delete_collection also available\n",
    "# ChromaDB uses L2 (Euclidean distance) by default...we want Cosine metric.\n",
    "# Cosine similarity -> higher = better\n",
    "vectordb = client.get_or_create_collection(name='malicious_proxy_logs', metadata={\"hnsw:space\": \"cosine\"})"
   ]
  },
  {
   "cell_type": "code",
   "execution_count": 5,
   "metadata": {},
   "outputs": [],
   "source": [
    "# Add docs to the vectordb collection. Can also update and delete.\n",
    "\n",
    "# Create lists of the necessary data from the dataframe\n",
    "ID_list = df['ID'].astype(str).tolist()  # ID list, converted to string\n",
    "LogEntry_list = df['Log Entry'].tolist()   # List of documents (log content)\n",
    "\n",
    "# We are letting ChromaDB automatically calculate the vector embedding, instead of explicitly handling it\n",
    "# By default, ChromaDB uses all-MiniLM-L6-v2 sentence transformer model to calculate vector embeddings\n",
    "# This all-MiniLM-L6-v2 model provides a 384 dimension vector that can be used for embedding and clustering\n",
    "vectordb.add(\n",
    "    documents=LogEntry_list, # we handle tokenization, embedding, and indexing automatically. You can skip that and add your own embeddings as well\n",
    "    #metadatas=[{\"source\": \"notion\"}, {\"source\": \"google-docs\"}], # metadata filters\n",
    "    ids=ID_list, # unique ID for each doc\n",
    ")"
   ]
  },
  {
   "cell_type": "raw",
   "metadata": {
    "vscode": {
     "languageId": "raw"
    }
   },
   "source": [
    "First use of vector embedding triggers download of model:\n",
    "C:\\Users\\david\\.cache\\chroma\\onnx_models\\all-MiniLM-L6-v2\\onnx.tar.gz: 100%|██████████| 79.3M/79.3M [00:03<00:00, 27.0MiB/s]"
   ]
  },
  {
   "cell_type": "code",
   "execution_count": 6,
   "metadata": {},
   "outputs": [
    {
     "data": {
      "text/plain": [
       "1000"
      ]
     },
     "execution_count": 6,
     "metadata": {},
     "output_type": "execute_result"
    }
   ],
   "source": [
    "vectordb.count()  # Check our count to make sure it looks right"
   ]
  },
  {
   "cell_type": "code",
   "execution_count": 7,
   "metadata": {},
   "outputs": [
    {
     "data": {
      "text/plain": [
       "{'ids': ['1'],\n",
       " 'embeddings': [[0.007624867372214794,\n",
       "   0.045366719365119934,\n",
       "   -0.04748733714222908,\n",
       "   0.0063828821294009686,\n",
       "   0.1047120913863182,\n",
       "   -0.0929495170712471,\n",
       "   0.0033019226975739002,\n",
       "   -0.025921089574694633,\n",
       "   0.05312323942780495,\n",
       "   -0.09988000988960266,\n",
       "   -0.013496407307684422,\n",
       "   0.025275133550167084,\n",
       "   0.09099344909191132,\n",
       "   -0.0023014703765511513,\n",
       "   -0.036896415054798126,\n",
       "   0.02726397104561329,\n",
       "   -3.0865496228216216e-05,\n",
       "   0.01758955605328083,\n",
       "   0.04421308636665344,\n",
       "   -0.04823216423392296,\n",
       "   0.09137730300426483,\n",
       "   0.03763030469417572,\n",
       "   0.04211864247918129,\n",
       "   -0.008693178184330463,\n",
       "   -0.07841534167528152,\n",
       "   -0.042019568383693695,\n",
       "   -0.03711337968707085,\n",
       "   -0.01432881411164999,\n",
       "   0.03943726047873497,\n",
       "   0.0070097967982292175,\n",
       "   0.04297931492328644,\n",
       "   -0.13454097509384155,\n",
       "   0.014948688447475433,\n",
       "   -0.010114735923707485,\n",
       "   0.006748182699084282,\n",
       "   -0.02621455118060112,\n",
       "   0.02079353854060173,\n",
       "   0.00518131535500288,\n",
       "   0.016016285866498947,\n",
       "   -0.008183009922504425,\n",
       "   -0.007134818006306887,\n",
       "   -0.0017151458887383342,\n",
       "   0.054439011961221695,\n",
       "   0.050282690674066544,\n",
       "   -0.011168348602950573,\n",
       "   -0.03288373723626137,\n",
       "   -0.08963014930486679,\n",
       "   -0.05585569515824318,\n",
       "   -0.08272039145231247,\n",
       "   -0.008974555879831314,\n",
       "   -0.046502549201250076,\n",
       "   -0.012391925789415836,\n",
       "   -0.03528861701488495,\n",
       "   -0.039589520543813705,\n",
       "   0.033304184675216675,\n",
       "   -0.07102984189987183,\n",
       "   -0.036705754697322845,\n",
       "   -0.08707693964242935,\n",
       "   0.0023438187781721354,\n",
       "   0.023684198036789894,\n",
       "   -0.011201412416994572,\n",
       "   -0.06871643662452698,\n",
       "   0.07704000174999237,\n",
       "   -0.02093140408396721,\n",
       "   -0.08481571823358536,\n",
       "   0.027698293328285217,\n",
       "   -0.08856140077114105,\n",
       "   -0.02326148934662342,\n",
       "   -0.10425630956888199,\n",
       "   -0.002478596055880189,\n",
       "   -0.05208323895931244,\n",
       "   -0.03242603689432144,\n",
       "   0.005053968634456396,\n",
       "   0.017535226419568062,\n",
       "   0.018037542700767517,\n",
       "   0.01953318528831005,\n",
       "   0.04759470745921135,\n",
       "   0.036246903240680695,\n",
       "   -0.06332463771104813,\n",
       "   0.013325669802725315,\n",
       "   -0.05740821361541748,\n",
       "   -0.09919974952936172,\n",
       "   0.004602471366524696,\n",
       "   0.0640762448310852,\n",
       "   0.08112788200378418,\n",
       "   0.05796710401773453,\n",
       "   0.005834326148033142,\n",
       "   0.030579978600144386,\n",
       "   0.08434481173753738,\n",
       "   0.051947638392448425,\n",
       "   0.014643331058323383,\n",
       "   -0.0024899309501051903,\n",
       "   0.019271597266197205,\n",
       "   0.004410981200635433,\n",
       "   0.002706103725358844,\n",
       "   0.04903894662857056,\n",
       "   -0.01590908318758011,\n",
       "   -0.039730414748191833,\n",
       "   -0.004514091182500124,\n",
       "   -0.0005537422839552164,\n",
       "   0.031033487990498543,\n",
       "   0.008304154500365257,\n",
       "   -0.0008718790486454964,\n",
       "   -0.05375072360038757,\n",
       "   -0.010067128576338291,\n",
       "   0.028335154056549072,\n",
       "   0.01482505351305008,\n",
       "   0.1489114761352539,\n",
       "   0.11624765396118164,\n",
       "   -0.018956143409013748,\n",
       "   -0.09522125124931335,\n",
       "   -0.06264851987361908,\n",
       "   0.05319848656654358,\n",
       "   -0.07047280669212341,\n",
       "   -0.04809899255633354,\n",
       "   -0.06321076303720474,\n",
       "   0.0557100810110569,\n",
       "   0.030984986573457718,\n",
       "   0.05120556801557541,\n",
       "   0.04968402162194252,\n",
       "   0.08496968448162079,\n",
       "   0.001223139464855194,\n",
       "   -0.06850326061248779,\n",
       "   -0.029658067971467972,\n",
       "   0.08205996453762054,\n",
       "   -0.002086692489683628,\n",
       "   0.07010267674922943,\n",
       "   3.45579910778398e-33,\n",
       "   0.0612361915409565,\n",
       "   0.08249080926179886,\n",
       "   0.00658523989841342,\n",
       "   -0.10640541464090347,\n",
       "   -0.09827466309070587,\n",
       "   -0.04080400988459587,\n",
       "   0.06977200508117676,\n",
       "   0.018716802820563316,\n",
       "   -0.030336294323205948,\n",
       "   0.033365294337272644,\n",
       "   -0.0027268887497484684,\n",
       "   0.03098152205348015,\n",
       "   0.04274916276335716,\n",
       "   -0.049394622445106506,\n",
       "   -0.06200050935149193,\n",
       "   0.04943741485476494,\n",
       "   0.0013721233699470758,\n",
       "   0.0008628877112641931,\n",
       "   0.03125179558992386,\n",
       "   -0.08381815254688263,\n",
       "   -0.04330654442310333,\n",
       "   0.032782118767499924,\n",
       "   0.0759223997592926,\n",
       "   0.02912716381251812,\n",
       "   0.025253210216760635,\n",
       "   -0.010922756977379322,\n",
       "   -0.013348574750125408,\n",
       "   0.0630127340555191,\n",
       "   -0.07430572062730789,\n",
       "   0.012541663832962513,\n",
       "   -0.027039360255002975,\n",
       "   -0.03610294684767723,\n",
       "   -0.04109654575586319,\n",
       "   0.005042563192546368,\n",
       "   0.05895895138382912,\n",
       "   0.023290226235985756,\n",
       "   0.01673186756670475,\n",
       "   0.0799642875790596,\n",
       "   0.015079377219080925,\n",
       "   -0.03824615851044655,\n",
       "   -0.021349985152482986,\n",
       "   -0.07569465041160583,\n",
       "   -0.023324524983763695,\n",
       "   0.01594845950603485,\n",
       "   0.011609768494963646,\n",
       "   -0.00714139873161912,\n",
       "   -0.14520318806171417,\n",
       "   -0.05153944715857506,\n",
       "   0.06513747572898865,\n",
       "   -0.010601143352687359,\n",
       "   -0.006609322968870401,\n",
       "   0.005311098415404558,\n",
       "   -0.017497148364782333,\n",
       "   -0.007274880073964596,\n",
       "   0.059856876730918884,\n",
       "   0.06804279237985611,\n",
       "   -0.1007816269993782,\n",
       "   -0.011242463253438473,\n",
       "   -0.03588148579001427,\n",
       "   -0.0267237089574337,\n",
       "   0.058816008269786835,\n",
       "   -0.06392806768417358,\n",
       "   0.022507352754473686,\n",
       "   -0.06425006687641144,\n",
       "   -0.016556840389966965,\n",
       "   -0.0773249939084053,\n",
       "   0.018713518977165222,\n",
       "   0.023648701608181,\n",
       "   -0.09067569673061371,\n",
       "   0.10672571510076523,\n",
       "   0.005588203202933073,\n",
       "   -0.06602135300636292,\n",
       "   0.08908326923847198,\n",
       "   0.044160619378089905,\n",
       "   -0.0631263256072998,\n",
       "   -0.08581407368183136,\n",
       "   -0.07975087314844131,\n",
       "   0.005833422765135765,\n",
       "   0.10350058227777481,\n",
       "   0.01557242963463068,\n",
       "   0.10947181284427643,\n",
       "   -0.05634062737226486,\n",
       "   0.02047054097056389,\n",
       "   0.00891656894236803,\n",
       "   0.020551372319459915,\n",
       "   0.009776557795703411,\n",
       "   -0.03241610527038574,\n",
       "   -0.03089349903166294,\n",
       "   -0.0006921238382346928,\n",
       "   0.03054915927350521,\n",
       "   0.01921486109495163,\n",
       "   -0.044744931161403656,\n",
       "   -0.09308771044015884,\n",
       "   -0.037890173494815826,\n",
       "   -0.0557207353413105,\n",
       "   -3.81134794534132e-33,\n",
       "   0.0302170068025589,\n",
       "   0.01196988020092249,\n",
       "   -0.06058797612786293,\n",
       "   0.01807093806564808,\n",
       "   -0.0308108888566494,\n",
       "   0.015383481979370117,\n",
       "   0.08972790837287903,\n",
       "   0.00015822060231585056,\n",
       "   0.009804723784327507,\n",
       "   0.006995488423854113,\n",
       "   0.07390522211790085,\n",
       "   0.05189666897058487,\n",
       "   -0.017304623499512672,\n",
       "   -0.027434764429926872,\n",
       "   -0.024645885452628136,\n",
       "   0.11491110920906067,\n",
       "   -0.0023488185834139585,\n",
       "   0.019623255357146263,\n",
       "   -0.034058839082717896,\n",
       "   0.023395303636789322,\n",
       "   -0.017011547461152077,\n",
       "   -0.02104467712342739,\n",
       "   -0.04157930985093117,\n",
       "   0.00932961143553257,\n",
       "   -0.05270136892795563,\n",
       "   0.007011075504124165,\n",
       "   0.012151268310844898,\n",
       "   0.012679188512265682,\n",
       "   -0.05878950282931328,\n",
       "   -0.039706725627183914,\n",
       "   -0.03226000443100929,\n",
       "   0.07376796007156372,\n",
       "   -0.018249142915010452,\n",
       "   0.04229174554347992,\n",
       "   0.08840829879045486,\n",
       "   0.004645080305635929,\n",
       "   0.020508302375674248,\n",
       "   0.035474445670843124,\n",
       "   0.027382375672459602,\n",
       "   0.05733596161007881,\n",
       "   0.051652438938617706,\n",
       "   0.037221066653728485,\n",
       "   0.028185546398162842,\n",
       "   0.050048526376485825,\n",
       "   0.028514575213193893,\n",
       "   0.05944857373833656,\n",
       "   -0.03641625493764877,\n",
       "   0.049679748713970184,\n",
       "   0.032138340175151825,\n",
       "   0.037752583622932434,\n",
       "   0.025986261665821075,\n",
       "   0.002617031103000045,\n",
       "   0.0362841859459877,\n",
       "   -0.043631114065647125,\n",
       "   -0.0022338342387229204,\n",
       "   -0.021342609077692032,\n",
       "   -0.043435271829366684,\n",
       "   0.0007543613901361823,\n",
       "   -0.0807155966758728,\n",
       "   0.06850019097328186,\n",
       "   -0.044182635843753815,\n",
       "   -0.0534215085208416,\n",
       "   -0.09207405149936676,\n",
       "   0.06444878876209259,\n",
       "   0.0060370080173015594,\n",
       "   0.0036083864979445934,\n",
       "   0.0029385145753622055,\n",
       "   0.03623364865779877,\n",
       "   -0.015544282272458076,\n",
       "   -0.0256212018430233,\n",
       "   0.05085932835936546,\n",
       "   -0.028079353272914886,\n",
       "   -0.013584993779659271,\n",
       "   -0.03649552911520004,\n",
       "   0.01714371144771576,\n",
       "   0.003992985002696514,\n",
       "   0.07096561789512634,\n",
       "   0.03746720030903816,\n",
       "   -0.06614704430103302,\n",
       "   0.02629307098686695,\n",
       "   0.13780494034290314,\n",
       "   0.11802834272384644,\n",
       "   0.04412299022078514,\n",
       "   -0.06498847156763077,\n",
       "   -0.03197590634226799,\n",
       "   0.03846343979239464,\n",
       "   -0.1155567318201065,\n",
       "   0.059901487082242966,\n",
       "   -0.01305239275097847,\n",
       "   -0.10043937712907791,\n",
       "   -0.026870666071772575,\n",
       "   0.08853144198656082,\n",
       "   -0.020987670868635178,\n",
       "   -0.007226351648569107,\n",
       "   0.04296906664967537,\n",
       "   -4.493974614661056e-08,\n",
       "   -0.032293856143951416,\n",
       "   0.003829476423561573,\n",
       "   -0.007008067332208157,\n",
       "   -0.005556434392929077,\n",
       "   0.01984303630888462,\n",
       "   0.08983726799488068,\n",
       "   -0.025406770408153534,\n",
       "   -0.0144575797021389,\n",
       "   -0.05579813942313194,\n",
       "   0.03350682184100151,\n",
       "   0.027702724561095238,\n",
       "   -0.0183422788977623,\n",
       "   0.002324769040569663,\n",
       "   0.018829990178346634,\n",
       "   -0.07500799745321274,\n",
       "   -0.05459621921181679,\n",
       "   -0.01579335331916809,\n",
       "   0.0006782547570765018,\n",
       "   0.07792218774557114,\n",
       "   -0.04272763431072235,\n",
       "   0.008792500011622906,\n",
       "   0.008758829906582832,\n",
       "   0.0354413241147995,\n",
       "   -0.028312915936112404,\n",
       "   0.013382961973547935,\n",
       "   -0.06144195422530174,\n",
       "   -0.1357606053352356,\n",
       "   -0.026482565328478813,\n",
       "   -0.03438834846019745,\n",
       "   0.05098167806863785,\n",
       "   -0.028226643800735474,\n",
       "   -0.02057550847530365,\n",
       "   -0.060438159853219986,\n",
       "   -0.04463019222021103,\n",
       "   -0.013190974481403828,\n",
       "   0.0910487174987793,\n",
       "   -0.08276548236608505,\n",
       "   -0.07145536690950394,\n",
       "   -0.012455681338906288,\n",
       "   -0.025316385552287102,\n",
       "   0.09601448476314545,\n",
       "   0.05690901726484299,\n",
       "   -0.01602000743150711,\n",
       "   0.004960460122674704,\n",
       "   -0.06006273254752159,\n",
       "   0.06782802194356918,\n",
       "   -0.016999030485749245,\n",
       "   -0.08604336529970169,\n",
       "   0.07613861560821533,\n",
       "   -0.06625112891197205,\n",
       "   0.048630379140377045,\n",
       "   -0.033039458096027374,\n",
       "   0.04550589993596077,\n",
       "   -0.011215202510356903,\n",
       "   -0.08647815138101578,\n",
       "   -0.03689435496926308,\n",
       "   -0.016692057251930237,\n",
       "   -0.06360851973295212,\n",
       "   -0.023445768281817436,\n",
       "   0.08306203782558441,\n",
       "   0.07485422492027283,\n",
       "   0.017982549965381622,\n",
       "   0.068989597260952,\n",
       "   0.04485249146819115]],\n",
       " 'metadatas': [None],\n",
       " 'documents': ['GET http://www.example.com/search?q=<script>alert(\\'xss\\')</script> HTTP/1.1\" 403 1035845 \"http://www.example.com/search?q=<script>alert(\\'xss\\')</script>\" \"Mozilla/5.0 (Windows NT 10.0; Win64; x64) AppleWebKit/537.36 (KHTML, like Gecko) Chrome/104.0.5112.81 Safari/537.36'],\n",
       " 'uris': None,\n",
       " 'data': None,\n",
       " 'included': ['embeddings', 'documents', 'metadatas']}"
      ]
     },
     "execution_count": 7,
     "metadata": {},
     "output_type": "execute_result"
    }
   ],
   "source": [
    "# Examine a record by ID...tell it to show the vector embedding so we can see what it looks like\n",
    "# The vector embedding is the 384 dimension numeric representation of what that text \"means\"...\n",
    "vectordb.get('1', include=['embeddings', 'documents', 'metadatas'])\n",
    "#vectordb.get(['1','2'], include=['embeddings', 'documents', 'metadatas'])"
   ]
  },
  {
   "cell_type": "code",
   "execution_count": 10,
   "metadata": {},
   "outputs": [
    {
     "data": {
      "text/plain": [
       "{'ids': [['660', '42', '103']],\n",
       " 'distances': [[0.37813329696655273,\n",
       "   0.38311660289764404,\n",
       "   0.38322436809539795]],\n",
       " 'metadatas': [[None, None, None]],\n",
       " 'embeddings': None,\n",
       " 'documents': [['GET http://www.example.com/../../etc/passwd HTTP/1.1\" 500 322256 \"http://www.example.com/../../etc/passwd\" \"Mozilla/5.0 (Macintosh; Intel Mac OS X 10_15_7) AppleWebKit/605.1.15 (KHTML, like Gecko) Version/14.0.3 Safari/605.1.15',\n",
       "   'GET http://www.example.com/index.php?page=../../../../../../etc/passwd HTTP/1.1\" 400 665698 \"http://www.example.com/index.php?page=../../../../../../etc/passwd\" \"Mozilla/5.0 (Macintosh; Intel Mac OS X 10_15_7) AppleWebKit/605.1.15 (KHTML, like Gecko) Version/14.0.3 Safari/605.1.15',\n",
       "   'GET http://www.example.com/index.php?page=../../../../../../etc/passwd HTTP/1.1\" 400 2953 \"http://www.example.com/index.php?page=../../../../../../etc/passwd\" \"Mozilla/5.0 (Macintosh; Intel Mac OS X 10_15_7) AppleWebKit/605.1.15 (KHTML, like Gecko) Version/14.0.3 Safari/605.1.15']],\n",
       " 'uris': None,\n",
       " 'data': None,\n",
       " 'included': ['metadatas', 'documents', 'distances']}"
      ]
     },
     "execution_count": 10,
     "metadata": {},
     "output_type": "execute_result"
    }
   ],
   "source": [
    "# Execute an ANN query/search for K most similar results.\n",
    "results = vectordb.query(\n",
    "    query_texts=[\"http://www.example.com/../../etc/passwd\"], # This gets vectorized and used for vector query\n",
    "    n_results=3,\n",
    "    # where_document={\"$contains\":\"Macintosh\"}  # optional keyword filter\n",
    "    # where_document={\"$contains\":\"Windows NT\"}  # optional keyword filter\n",
    "    # where={\"metadata_field\": \"is_equal_to_this\"}, # optional metadata filter\n",
    ")\n",
    "\n",
    "results"
   ]
  },
  {
   "cell_type": "code",
   "execution_count": 11,
   "metadata": {},
   "outputs": [
    {
     "data": {
      "text/plain": [
       "{'ids': [['730', '573', '153']],\n",
       " 'distances': [[0.6075342893600464, 0.611862063407898, 0.6151670813560486]],\n",
       " 'metadatas': [[None, None, None]],\n",
       " 'embeddings': None,\n",
       " 'documents': [['GET http://www.example.com/index.php?page=../../../../../../etc/passwd HTTP/1.1\" 403 580156 \"http://www.example.com/index.php?page=../../../../../../etc/passwd\" \"Mozilla/5.0 (Macintosh; Intel Mac OS X 10_15_7) AppleWebKit/605.1.15 (KHTML, like Gecko) Version/14.0.3 Safari/605.1.15',\n",
       "   'GET http://www.example.com/index.php?page=../../../../../../etc/passwd HTTP/1.1\" 403 530538 \"http://www.example.com/index.php?page=../../../../../../etc/passwd\" \"Mozilla/5.0 (Macintosh; Intel Mac OS X 10_15_7) AppleWebKit/605.1.15 (KHTML, like Gecko) Version/14.0.3 Safari/605.1.15',\n",
       "   'GET http://www.example.com/index.php?page=../../../../../../etc/passwd HTTP/1.1\" 403 190296 \"http://www.example.com/index.php?page=../../../../../../etc/passwd\" \"Mozilla/5.0 (Macintosh; Intel Mac OS X 10_15_7) AppleWebKit/605.1.15 (KHTML, like Gecko) Version/14.0.3 Safari/605.1.15']],\n",
       " 'uris': None,\n",
       " 'data': None,\n",
       " 'included': ['metadatas', 'documents', 'distances']}"
      ]
     },
     "execution_count": 11,
     "metadata": {},
     "output_type": "execute_result"
    }
   ],
   "source": [
    "# Ask the same question, but this time in natural language\n",
    "results = vectordb.query(\n",
    "    query_texts=[\"Can you show me possible attempts to change a password?\"],  # Vectorize and search\n",
    "    n_results=3,\n",
    "    # where_document={\"$contains\":\"script\"}  # optional keyword filter\n",
    "    # where={\"metadata_field\": \"is_equal_to_this\"}, # optional metadata filter\n",
    ")\n",
    "\n",
    "results"
   ]
  },
  {
   "cell_type": "code",
   "execution_count": 12,
   "metadata": {},
   "outputs": [
    {
     "data": {
      "text/plain": [
       "{'ids': [['771', '332', '613']],\n",
       " 'distances': [[0.7482555508613586, 0.7587827444076538, 0.777846097946167]],\n",
       " 'metadatas': [[None, None, None]],\n",
       " 'embeddings': None,\n",
       " 'documents': [['GET http://www.example.com/index.php?page=../../../../../../etc/passwd HTTP/1.1\" 403 802029 \"http://www.example.com/index.php?page=../../../../../../etc/passwd\" \"Mozilla/5.0 (Windows NT 10.0; Win64; x64) AppleWebKit/537.36 (KHTML, like Gecko) Chrome/104.0.5112.81 Safari/537.36',\n",
       "   'GET http://www.example.com/index.php?page=../../../../../../etc/passwd HTTP/1.1\" 403 444400 \"http://www.example.com/index.php?page=../../../../../../etc/passwd\" \"Mozilla/5.0 (Windows NT 10.0; Win64; x64) AppleWebKit/537.36 (KHTML, like Gecko) Chrome/104.0.5112.81 Safari/537.36',\n",
       "   'GET http://www.example.com/index.php?page=../../../../../../etc/passwd HTTP/1.1\" 403 33197 \"http://www.example.com/index.php?page=../../../../../../etc/passwd\" \"Mozilla/5.0 (Windows NT 10.0; Win64; x64) AppleWebKit/537.36 (KHTML, like Gecko) Chrome/104.0.5112.81 Safari/537.36']],\n",
       " 'uris': None,\n",
       " 'data': None,\n",
       " 'included': ['metadatas', 'documents', 'distances']}"
      ]
     },
     "execution_count": 12,
     "metadata": {},
     "output_type": "execute_result"
    }
   ],
   "source": [
    "# Ask a less specific question, again in natural language\n",
    "results = vectordb.query(\n",
    "    query_texts=[\"Please show me possible intrusion attempts\"],  # Vectorize and search\n",
    "    n_results=3,\n",
    "    # where_document={\"$contains\":\"script\"}  # optional keyword filter\n",
    "    # where={\"metadata_field\": \"is_equal_to_this\"}, # optional metadata filter\n",
    ")\n",
    "\n",
    "results"
   ]
  },
  {
   "cell_type": "markdown",
   "metadata": {},
   "source": [
    "We've built a vector datastore of known malicious logs...we can now use this to compare with logs of an unknown risk."
   ]
  },
  {
   "cell_type": "markdown",
   "metadata": {},
   "source": [
    "# Step 2: Semantic matching of malicious attempts\n",
    "Using our vector DB of malicious logs to execute neural searches against, let's feed it some fresh logs to see what matches we get.  We want to use cosine similarity for this.  We'll have to experiment a bit to set a reasonable threshold for when to return an alert vs not."
   ]
  },
  {
   "cell_type": "code",
   "execution_count": 13,
   "metadata": {},
   "outputs": [],
   "source": [
    "# Some fabricated proxy logs that contain 950 benign log entries and 50 malicious log entries\n",
    "df = pd.read_csv('proxy_logs_mixed.csv')"
   ]
  },
  {
   "cell_type": "code",
   "execution_count": 14,
   "metadata": {},
   "outputs": [
    {
     "data": {
      "text/html": [
       "<div>\n",
       "<style scoped>\n",
       "    .dataframe tbody tr th:only-of-type {\n",
       "        vertical-align: middle;\n",
       "    }\n",
       "\n",
       "    .dataframe tbody tr th {\n",
       "        vertical-align: top;\n",
       "    }\n",
       "\n",
       "    .dataframe thead th {\n",
       "        text-align: right;\n",
       "    }\n",
       "</style>\n",
       "<table border=\"1\" class=\"dataframe\">\n",
       "  <thead>\n",
       "    <tr style=\"text-align: right;\">\n",
       "      <th></th>\n",
       "      <th>ID</th>\n",
       "      <th>IP Address</th>\n",
       "      <th>Timestamp</th>\n",
       "      <th>Log Entry</th>\n",
       "    </tr>\n",
       "  </thead>\n",
       "  <tbody>\n",
       "    <tr>\n",
       "      <th>156</th>\n",
       "      <td>157</td>\n",
       "      <td>31.111.33.28</td>\n",
       "      <td>01/Aug/2024:04:09:19</td>\n",
       "      <td>GET http://intranet.company.com/docs/document....</td>\n",
       "    </tr>\n",
       "    <tr>\n",
       "      <th>179</th>\n",
       "      <td>180</td>\n",
       "      <td>122.16.176.60</td>\n",
       "      <td>01/Aug/2024:00:10:34</td>\n",
       "      <td>GET http://intranet.company.com/docs/document....</td>\n",
       "    </tr>\n",
       "    <tr>\n",
       "      <th>737</th>\n",
       "      <td>738</td>\n",
       "      <td>244.23.36.245</td>\n",
       "      <td>01/Aug/2024:04:30:39</td>\n",
       "      <td>GET http://update.software.com/check HTTP/1.1\"...</td>\n",
       "    </tr>\n",
       "  </tbody>\n",
       "</table>\n",
       "</div>"
      ],
      "text/plain": [
       "      ID     IP Address              Timestamp  \\\n",
       "156  157   31.111.33.28  01/Aug/2024:04:09:19    \n",
       "179  180  122.16.176.60  01/Aug/2024:00:10:34    \n",
       "737  738  244.23.36.245  01/Aug/2024:04:30:39    \n",
       "\n",
       "                                             Log Entry  \n",
       "156  GET http://intranet.company.com/docs/document....  \n",
       "179  GET http://intranet.company.com/docs/document....  \n",
       "737  GET http://update.software.com/check HTTP/1.1\"...  "
      ]
     },
     "execution_count": 14,
     "metadata": {},
     "output_type": "execute_result"
    }
   ],
   "source": [
    "df.sample(3)"
   ]
  },
  {
   "cell_type": "code",
   "execution_count": 15,
   "metadata": {},
   "outputs": [
    {
     "name": "stdout",
     "output_type": "stream",
     "text": [
      "Score 0.0003476142883300781: GET http://www.example.com/login.php?user=admin'-- HTTP/1.1\" 500 418666 \"http://www.example.com/login.php?user=admin'--\" \"Mozilla/5.0 (Macintosh; Intel Mac OS X 10_15_7) AppleWebKit/605.1.15 (KHTML, like Gecko) Version/14.0.3 Safari/605.1.15 \n",
      " -match ID ['754'] content: GET http://www.example.com/login.php?user=admin'-- HTTP/1.1\" 500 598628 \"http://www.example.com/login.php?user=admin'--\" \"Mozilla/5.0 (Macintosh; Intel Mac OS X 10_15_7) AppleWebKit/605.1.15 (KHTML, like Gecko) Version/14.0.3 Safari/605.1.15\n",
      "Score 0.0005150437355041504: GET http://www.example.com/../../etc/passwd HTTP/1.1\" 500 809539 \"http://www.example.com/../../etc/passwd\" \"Mozilla/5.0 (Macintosh; Intel Mac OS X 10_15_7) AppleWebKit/605.1.15 (KHTML, like Gecko) Version/14.0.3 Safari/605.1.15 \n",
      " -match ID ['756'] content: GET http://www.example.com/../../etc/passwd HTTP/1.1\" 500 963407 \"http://www.example.com/../../etc/passwd\" \"Mozilla/5.0 (Macintosh; Intel Mac OS X 10_15_7) AppleWebKit/605.1.15 (KHTML, like Gecko) Version/14.0.3 Safari/605.1.15\n",
      "Score 0.00011545419692993164: GET http://www.example.com/search?q=<script>alert('xss')</script> HTTP/1.1\" 400 463333 \"http://www.example.com/search?q=<script>alert('xss')</script>\" \"Mozilla/5.0 (Macintosh; Intel Mac OS X 10_15_7) AppleWebKit/605.1.15 (KHTML, like Gecko) Version/14.0.3 Safari/605.1.15 \n",
      " -match ID ['716'] content: GET http://www.example.com/search?q=<script>alert('xss')</script> HTTP/1.1\" 400 382933 \"http://www.example.com/search?q=<script>alert('xss')</script>\" \"Mozilla/5.0 (Macintosh; Intel Mac OS X 10_15_7) AppleWebKit/605.1.15 (KHTML, like Gecko) Version/14.0.3 Safari/605.1.15\n",
      "Score 0.0004679560661315918: GET http://www.example.com/../../etc/passwd HTTP/1.1\" 500 654215 \"http://www.example.com/../../etc/passwd\" \"Mozilla/5.0 (Macintosh; Intel Mac OS X 10_15_7) AppleWebKit/605.1.15 (KHTML, like Gecko) Version/14.0.3 Safari/605.1.15 \n",
      " -match ID ['602'] content: GET http://www.example.com/../../etc/passwd HTTP/1.1\" 400 853042 \"http://www.example.com/../../etc/passwd\" \"Mozilla/5.0 (Macintosh; Intel Mac OS X 10_15_7) AppleWebKit/605.1.15 (KHTML, like Gecko) Version/14.0.3 Safari/605.1.15\n",
      "Score 0.0003286600112915039: GET http://www.example.com/login.php?user=admin'-- HTTP/1.1\" 400 627458 \"http://www.example.com/login.php?user=admin'--\" \"Mozilla/5.0 (Macintosh; Intel Mac OS X 10_15_7) AppleWebKit/605.1.15 (KHTML, like Gecko) Version/14.0.3 Safari/605.1.15 \n",
      " -match ID ['779'] content: GET http://www.example.com/login.php?user=admin'-- HTTP/1.1\" 400 429544 \"http://www.example.com/login.php?user=admin'--\" \"Mozilla/5.0 (Macintosh; Intel Mac OS X 10_15_7) AppleWebKit/605.1.15 (KHTML, like Gecko) Version/14.0.3 Safari/605.1.15\n",
      "Score 0.0006040334701538086: GET http://www.example.com/login.php?user=admin'-- HTTP/1.1\" 500 220499 \"http://www.example.com/login.php?user=admin'--\" \"Mozilla/5.0 (Windows NT 10.0; Win64; x64) AppleWebKit/537.36 (KHTML, like Gecko) Chrome/104.0.5112.81 Safari/537.36 \n",
      " -match ID ['886'] content: GET http://www.example.com/login.php?user=admin'-- HTTP/1.1\" 500 43249 \"http://www.example.com/login.php?user=admin'--\" \"Mozilla/5.0 (Windows NT 10.0; Win64; x64) AppleWebKit/537.36 (KHTML, like Gecko) Chrome/104.0.5112.81 Safari/537.36\n",
      "Score 0.0009241104125976562: GET http://www.example.com/login.php?user=admin'-- HTTP/1.1\" 400 531326 \"http://www.example.com/login.php?user=admin'--\" \"Mozilla/5.0 (Windows NT 10.0; Win64; x64) AppleWebKit/537.36 (KHTML, like Gecko) Chrome/104.0.5112.81 Safari/537.36 \n",
      " -match ID ['743'] content: GET http://www.example.com/login.php?user=admin'-- HTTP/1.1\" 400 772227 \"http://www.example.com/login.php?user=admin'--\" \"Mozilla/5.0 (Windows NT 10.0; Win64; x64) AppleWebKit/537.36 (KHTML, like Gecko) Chrome/104.0.5112.81 Safari/537.36\n",
      "Score 0.0009056329727172852: GET http://www.example.com/login.php?user=admin'-- HTTP/1.1\" 403 776556 \"http://www.example.com/login.php?user=admin'--\" \"Mozilla/5.0 (Windows NT 10.0; Win64; x64) AppleWebKit/537.36 (KHTML, like Gecko) Chrome/104.0.5112.81 Safari/537.36 \n",
      " -match ID ['200'] content: GET http://www.example.com/login.php?user=admin'-- HTTP/1.1\" 403 270569 \"http://www.example.com/login.php?user=admin'--\" \"Mozilla/5.0 (Windows NT 10.0; Win64; x64) AppleWebKit/537.36 (KHTML, like Gecko) Chrome/104.0.5112.81 Safari/537.36\n",
      "Score 0.000972747802734375: GET http://www.example.com/login.php?user=admin'-- HTTP/1.1\" 403 1025303 \"http://www.example.com/login.php?user=admin'--\" \"Mozilla/5.0 (Macintosh; Intel Mac OS X 10_15_7) AppleWebKit/605.1.15 (KHTML, like Gecko) Version/14.0.3 Safari/605.1.15 \n",
      " -match ID ['64'] content: GET http://www.example.com/login.php?user=admin'-- HTTP/1.1\" 403 839176 \"http://www.example.com/login.php?user=admin'--\" \"Mozilla/5.0 (Macintosh; Intel Mac OS X 10_15_7) AppleWebKit/605.1.15 (KHTML, like Gecko) Version/14.0.3 Safari/605.1.15\n",
      "Score 0.0004068613052368164: GET http://www.example.com/search?q=<script>alert('xss')</script> HTTP/1.1\" 500 362625 \"http://www.example.com/search?q=<script>alert('xss')</script>\" \"Mozilla/5.0 (Windows NT 10.0; Win64; x64) AppleWebKit/537.36 (KHTML, like Gecko) Chrome/104.0.5112.81 Safari/537.36 \n",
      " -match ID ['938'] content: GET http://www.example.com/search?q=<script>alert('xss')</script> HTTP/1.1\" 500 423622 \"http://www.example.com/search?q=<script>alert('xss')</script>\" \"Mozilla/5.0 (Windows NT 10.0; Win64; x64) AppleWebKit/537.36 (KHTML, like Gecko) Chrome/104.0.5112.81 Safari/537.36\n",
      "Score 0.0006024837493896484: GET http://www.example.com/search?q=<script>alert('xss')</script> HTTP/1.1\" 400 811308 \"http://www.example.com/search?q=<script>alert('xss')</script>\" \"Mozilla/5.0 (Windows NT 10.0; Win64; x64) AppleWebKit/537.36 (KHTML, like Gecko) Chrome/104.0.5112.81 Safari/537.36 \n",
      " -match ID ['890'] content: GET http://www.example.com/search?q=<script>alert('xss')</script> HTTP/1.1\" 400 339689 \"http://www.example.com/search?q=<script>alert('xss')</script>\" \"Mozilla/5.0 (Windows NT 10.0; Win64; x64) AppleWebKit/537.36 (KHTML, like Gecko) Chrome/104.0.5112.81 Safari/537.36\n",
      "Score 0.0008264780044555664: GET http://www.example.com/../../etc/passwd HTTP/1.1\" 403 487101 \"http://www.example.com/../../etc/passwd\" \"Mozilla/5.0 (X11; Ubuntu; Linux x86_64; rv:89.0) Gecko/20100101 Firefox/89.0 \n",
      " -match ID ['338'] content: GET http://www.example.com/../../etc/passwd HTTP/1.1\" 403 599596 \"http://www.example.com/../../etc/passwd\" \"Mozilla/5.0 (X11; Ubuntu; Linux x86_64; rv:89.0) Gecko/20100101 Firefox/89.0\n",
      "Score 0.000348508358001709: GET http://www.example.com/../../etc/passwd HTTP/1.1\" 400 851292 \"http://www.example.com/../../etc/passwd\" \"Mozilla/5.0 (Windows NT 10.0; Win64; x64) AppleWebKit/537.36 (KHTML, like Gecko) Chrome/104.0.5112.81 Safari/537.36 \n",
      " -match ID ['827'] content: GET http://www.example.com/../../etc/passwd HTTP/1.1\" 400 739063 \"http://www.example.com/../../etc/passwd\" \"Mozilla/5.0 (Windows NT 10.0; Win64; x64) AppleWebKit/537.36 (KHTML, like Gecko) Chrome/104.0.5112.81 Safari/537.36\n",
      "Score 0.0002987384796142578: GET http://www.example.com/search?q=<script>alert('xss')</script> HTTP/1.1\" 500 560296 \"http://www.example.com/search?q=<script>alert('xss')</script>\" \"Mozilla/5.0 (Macintosh; Intel Mac OS X 10_15_7) AppleWebKit/605.1.15 (KHTML, like Gecko) Version/14.0.3 Safari/605.1.15 \n",
      " -match ID ['514'] content: GET http://www.example.com/search?q=<script>alert('xss')</script> HTTP/1.1\" 500 129286 \"http://www.example.com/search?q=<script>alert('xss')</script>\" \"Mozilla/5.0 (Macintosh; Intel Mac OS X 10_15_7) AppleWebKit/605.1.15 (KHTML, like Gecko) Version/14.0.3 Safari/605.1.15\n",
      "Score 0.0007607936859130859: GET http://www.example.com/search?q=<script>alert('xss')</script> HTTP/1.1\" 403 840699 \"http://www.example.com/search?q=<script>alert('xss')</script>\" \"Mozilla/5.0 (Windows NT 10.0; Win64; x64) AppleWebKit/537.36 (KHTML, like Gecko) Chrome/104.0.5112.81 Safari/537.36 \n",
      " -match ID ['597'] content: GET http://www.example.com/search?q=<script>alert('xss')</script> HTTP/1.1\" 403 896124 \"http://www.example.com/search?q=<script>alert('xss')</script>\" \"Mozilla/5.0 (Windows NT 10.0; Win64; x64) AppleWebKit/537.36 (KHTML, like Gecko) Chrome/104.0.5112.81 Safari/537.36\n",
      "Score 0.0007878541946411133: GET http://www.example.com/login.php?user=admin'-- HTTP/1.1\" 500 327370 \"http://www.example.com/login.php?user=admin'--\" \"Mozilla/5.0 (X11; Ubuntu; Linux x86_64; rv:89.0) Gecko/20100101 Firefox/89.0 \n",
      " -match ID ['811'] content: GET http://www.example.com/login.php?user=admin'-- HTTP/1.1\" 500 108949 \"http://www.example.com/login.php?user=admin'--\" \"Mozilla/5.0 (X11; Ubuntu; Linux x86_64; rv:89.0) Gecko/20100101 Firefox/89.0\n",
      "Score 0.0003895759582519531: GET http://www.example.com/../../etc/passwd HTTP/1.1\" 400 853084 \"http://www.example.com/../../etc/passwd\" \"Mozilla/5.0 (Windows NT 10.0; Win64; x64) AppleWebKit/537.36 (KHTML, like Gecko) Chrome/104.0.5112.81 Safari/537.36 \n",
      " -match ID ['27'] content: GET http://www.example.com/../../etc/passwd HTTP/1.1\" 400 376735 \"http://www.example.com/../../etc/passwd\" \"Mozilla/5.0 (Windows NT 10.0; Win64; x64) AppleWebKit/537.36 (KHTML, like Gecko) Chrome/104.0.5112.81 Safari/537.36\n",
      "Score 0.0009345412254333496: GET http://www.example.com/index.php?page=../../../../../../etc/passwd HTTP/1.1\" 500 480907 \"http://www.example.com/index.php?page=../../../../../../etc/passwd\" \"Mozilla/5.0 (X11; Ubuntu; Linux x86_64; rv:89.0) Gecko/20100101 Firefox/89.0 \n",
      " -match ID ['629'] content: GET http://www.example.com/index.php?page=../../../../../../etc/passwd HTTP/1.1\" 500 913648 \"http://www.example.com/index.php?page=../../../../../../etc/passwd\" \"Mozilla/5.0 (X11; Ubuntu; Linux x86_64; rv:89.0) Gecko/20100101 Firefox/89.0\n",
      "Score 0.0007150173187255859: GET http://www.example.com/../../etc/passwd HTTP/1.1\" 403 894684 \"http://www.example.com/../../etc/passwd\" \"Mozilla/5.0 (X11; Ubuntu; Linux x86_64; rv:89.0) Gecko/20100101 Firefox/89.0 \n",
      " -match ID ['338'] content: GET http://www.example.com/../../etc/passwd HTTP/1.1\" 403 599596 \"http://www.example.com/../../etc/passwd\" \"Mozilla/5.0 (X11; Ubuntu; Linux x86_64; rv:89.0) Gecko/20100101 Firefox/89.0\n",
      "Score 0.0005092024803161621: GET http://www.example.com/../../etc/passwd HTTP/1.1\" 400 997345 \"http://www.example.com/../../etc/passwd\" \"Mozilla/5.0 (Windows NT 10.0; Win64; x64) AppleWebKit/537.36 (KHTML, like Gecko) Chrome/104.0.5112.81 Safari/537.36 \n",
      " -match ID ['27'] content: GET http://www.example.com/../../etc/passwd HTTP/1.1\" 400 376735 \"http://www.example.com/../../etc/passwd\" \"Mozilla/5.0 (Windows NT 10.0; Win64; x64) AppleWebKit/537.36 (KHTML, like Gecko) Chrome/104.0.5112.81 Safari/537.36\n",
      "Score 0.0006670951843261719: GET http://www.example.com/login.php?user=admin'-- HTTP/1.1\" 403 661627 \"http://www.example.com/login.php?user=admin'--\" \"Mozilla/5.0 (X11; Ubuntu; Linux x86_64; rv:89.0) Gecko/20100101 Firefox/89.0 \n",
      " -match ID ['192'] content: GET http://www.example.com/login.php?user=admin'-- HTTP/1.1\" 403 664728 \"http://www.example.com/login.php?user=admin'--\" \"Mozilla/5.0 (X11; Ubuntu; Linux x86_64; rv:89.0) Gecko/20100101 Firefox/89.0\n",
      "Score 0.000392913818359375: GET http://www.example.com/../../etc/passwd HTTP/1.1\" 500 607153 \"http://www.example.com/../../etc/passwd\" \"Mozilla/5.0 (Windows NT 10.0; Win64; x64) AppleWebKit/537.36 (KHTML, like Gecko) Chrome/104.0.5112.81 Safari/537.36 \n",
      " -match ID ['954'] content: GET http://www.example.com/../../etc/passwd HTTP/1.1\" 500 643987 \"http://www.example.com/../../etc/passwd\" \"Mozilla/5.0 (Windows NT 10.0; Win64; x64) AppleWebKit/537.36 (KHTML, like Gecko) Chrome/104.0.5112.81 Safari/537.36\n",
      "Score 0.0006560683250427246: GET http://www.example.com/search?q=<script>alert('xss')</script> HTTP/1.1\" 403 530633 \"http://www.example.com/search?q=<script>alert('xss')</script>\" \"Mozilla/5.0 (Macintosh; Intel Mac OS X 10_15_7) AppleWebKit/605.1.15 (KHTML, like Gecko) Version/14.0.3 Safari/605.1.15 \n",
      " -match ID ['83'] content: GET http://www.example.com/search?q=<script>alert('xss')</script> HTTP/1.1\" 403 43216 \"http://www.example.com/search?q=<script>alert('xss')</script>\" \"Mozilla/5.0 (Macintosh; Intel Mac OS X 10_15_7) AppleWebKit/605.1.15 (KHTML, like Gecko) Version/14.0.3 Safari/605.1.15\n",
      "Score 0.00043332576751708984: GET http://www.example.com/search?q=<script>alert('xss')</script> HTTP/1.1\" 403 692644 \"http://www.example.com/search?q=<script>alert('xss')</script>\" \"Mozilla/5.0 (Macintosh; Intel Mac OS X 10_15_7) AppleWebKit/605.1.15 (KHTML, like Gecko) Version/14.0.3 Safari/605.1.15 \n",
      " -match ID ['83'] content: GET http://www.example.com/search?q=<script>alert('xss')</script> HTTP/1.1\" 403 43216 \"http://www.example.com/search?q=<script>alert('xss')</script>\" \"Mozilla/5.0 (Macintosh; Intel Mac OS X 10_15_7) AppleWebKit/605.1.15 (KHTML, like Gecko) Version/14.0.3 Safari/605.1.15\n"
     ]
    }
   ],
   "source": [
    "# Find incoming log entries that match known malicious activity at a pre-determined threshold \n",
    "incoming_proxy_logs = df['Log Entry']\n",
    "\n",
    "for log_entry in incoming_proxy_logs:\n",
    "    results = vectordb.query(\n",
    "    query_texts=log_entry,\n",
    "    n_results=1,\n",
    "    # where={\"metadata_field\": \"is_equal_to_this\"}, # optional filter\n",
    "    # where_document={\"$contains\":\"Macintosh\"}  # optional filter\n",
    "    )\n",
    "    if results['distances'][0][0] <= 0.001:  # Threshold for a match...this should be the wrong direction!\n",
    "    #if results['distances'][0][0] >= 0.488:  # Threshold for a match\n",
    "    # NOTE:  It appears that ChromaDB is using Euclidean distance even though I specified Cosine similarity\n",
    "    #        Our best matches should be high values, not low values\n",
    "       print(f'Score {results[\"distances\"][0][0]}: {log_entry} \\n -match ID {results[\"ids\"][0]} content: {results[\"documents\"][0][0]}')"
   ]
  },
  {
   "cell_type": "markdown",
   "metadata": {},
   "source": [
    "We demonstrated here that we can do a vector search comparing incoming log records with a vector DB of known malicious log records, get the top reasonable matches, and do so without any drastic data manipulation. (This is after adjusting for ChromaDB's apparent malfunction with using the specified distance calcs, of course.) In fact, we <b><i>did not even parse any of the log content</i></b>, we just used the vector embeddings of that log content. We are doing semantic matching using the vector embeddings of the full text...this is the important item to take note of.  The data in this case are sets of fabricated proxy logs...this exercise needs to be examined with real logs. "
   ]
  },
  {
   "cell_type": "markdown",
   "metadata": {},
   "source": [
    "# <u>Anomaly Detection</u> by AI search on Benign Logs\n",
    "## Step 1: Build vector DB of Benign Proxy log data\n",
    "Now, let's build a vector DB from log data that is good rather than bad."
   ]
  },
  {
   "cell_type": "code",
   "execution_count": 16,
   "metadata": {},
   "outputs": [],
   "source": [
    "# To conserve memory, re-use the previous vectordb collection for new data\n",
    "vectordb = client.get_or_create_collection(name='benign_proxy_logs', metadata={\"hnsw:space\": \"cosine\"})"
   ]
  },
  {
   "cell_type": "code",
   "execution_count": 17,
   "metadata": {},
   "outputs": [
    {
     "data": {
      "text/html": [
       "<div>\n",
       "<style scoped>\n",
       "    .dataframe tbody tr th:only-of-type {\n",
       "        vertical-align: middle;\n",
       "    }\n",
       "\n",
       "    .dataframe tbody tr th {\n",
       "        vertical-align: top;\n",
       "    }\n",
       "\n",
       "    .dataframe thead th {\n",
       "        text-align: right;\n",
       "    }\n",
       "</style>\n",
       "<table border=\"1\" class=\"dataframe\">\n",
       "  <thead>\n",
       "    <tr style=\"text-align: right;\">\n",
       "      <th></th>\n",
       "      <th>ID</th>\n",
       "      <th>IP Address</th>\n",
       "      <th>Timestamp</th>\n",
       "      <th>Log Entry</th>\n",
       "    </tr>\n",
       "  </thead>\n",
       "  <tbody>\n",
       "    <tr>\n",
       "      <th>924</th>\n",
       "      <td>925</td>\n",
       "      <td>108.250.200.209</td>\n",
       "      <td>01/Aug/2024:07:45:36</td>\n",
       "      <td>GET http://intranet.company.com/home HTTP/1.1\"...</td>\n",
       "    </tr>\n",
       "    <tr>\n",
       "      <th>89</th>\n",
       "      <td>90</td>\n",
       "      <td>122.11.169.236</td>\n",
       "      <td>01/Aug/2024:09:50:18</td>\n",
       "      <td>GET http://cloudstorage.com/authenticate HTTP/...</td>\n",
       "    </tr>\n",
       "    <tr>\n",
       "      <th>854</th>\n",
       "      <td>855</td>\n",
       "      <td>150.140.186.247</td>\n",
       "      <td>01/Aug/2024:13:42:23</td>\n",
       "      <td>GET http://www.example.com/style.css HTTP/1.1\"...</td>\n",
       "    </tr>\n",
       "  </tbody>\n",
       "</table>\n",
       "</div>"
      ],
      "text/plain": [
       "      ID       IP Address              Timestamp  \\\n",
       "924  925  108.250.200.209  01/Aug/2024:07:45:36    \n",
       "89    90   122.11.169.236  01/Aug/2024:09:50:18    \n",
       "854  855  150.140.186.247  01/Aug/2024:13:42:23    \n",
       "\n",
       "                                             Log Entry  \n",
       "924  GET http://intranet.company.com/home HTTP/1.1\"...  \n",
       "89   GET http://cloudstorage.com/authenticate HTTP/...  \n",
       "854  GET http://www.example.com/style.css HTTP/1.1\"...  "
      ]
     },
     "execution_count": 17,
     "metadata": {},
     "output_type": "execute_result"
    }
   ],
   "source": [
    "# This CSV file contains fabricated proxy logs that are examples of benign activity\n",
    "df = pd.read_csv('proxy_logs_good.csv')\n",
    "df.sample(3)"
   ]
  },
  {
   "cell_type": "code",
   "execution_count": 18,
   "metadata": {},
   "outputs": [],
   "source": [
    "# Create lists of the necessary data from the dataframe\n",
    "ID_list = df['ID'].astype(str).tolist()  # ID list, converted to string\n",
    "LogEntry_list = df['Log Entry'].tolist()   # List of documents (log content)\n",
    "\n",
    "# Add log records to vector store, allowing ChromaDB to calculate vector embeddings\n",
    "vectordb.add(\n",
    "    documents=LogEntry_list, # we handle tokenization, embedding, and indexing automatically. \n",
    "    #metadatas=[{\"source\": \"notion\"}, {\"source\": \"google-docs\"}], # metadata filters\n",
    "    ids=ID_list, # unique ID for each doc\n",
    ")"
   ]
  },
  {
   "cell_type": "code",
   "execution_count": 19,
   "metadata": {},
   "outputs": [
    {
     "data": {
      "text/plain": [
       "1000"
      ]
     },
     "execution_count": 19,
     "metadata": {},
     "output_type": "execute_result"
    }
   ],
   "source": [
    "vectordb.count()  # Check our count to make sure it looks right"
   ]
  },
  {
   "cell_type": "code",
   "execution_count": 20,
   "metadata": {},
   "outputs": [
    {
     "data": {
      "text/plain": [
       "{'ids': ['1', '2', '3'],\n",
       " 'embeddings': None,\n",
       " 'metadatas': [None, None, None],\n",
       " 'documents': ['GET http://www.example.com/ HTTP/1.1\" 200 140321 \"http://www.example.com/\" \"Mozilla/5.0 (Macintosh; Intel Mac OS X 10_15_7) AppleWebKit/605.1.15 (KHTML, like Gecko) Version/14.0.3 Safari/605.1.15',\n",
       "  'GET http://update.software.com/check HTTP/1.1\" 200 943292 \"http://update.software.com/check\" \"Mozilla/5.0 (X11; Ubuntu; Linux x86_64; rv:89.0) Gecko/20100101 Firefox/89.0',\n",
       "  'GET http://www.example.com/ HTTP/1.1\" 200 813021 \"http://www.example.com/\" \"Mozilla/5.0 (Macintosh; Intel Mac OS X 10_15_7) AppleWebKit/605.1.15 (KHTML, like Gecko) Version/14.0.3 Safari/605.1.15'],\n",
       " 'uris': None,\n",
       " 'data': None,\n",
       " 'included': ['metadatas', 'documents']}"
      ]
     },
     "execution_count": 20,
     "metadata": {},
     "output_type": "execute_result"
    }
   ],
   "source": [
    "# Check a few records...\n",
    "vectordb.get(['1','2','3'])"
   ]
  },
  {
   "cell_type": "markdown",
   "metadata": {},
   "source": [
    "# Step 2: Vector search for Anomalies\n",
    "With a vector DB of known benign/good proxy log entries, we can do semantic comparison to flag incoming log entries that are <b><i>too different</i></b> from what we know to be benign logs. "
   ]
  },
  {
   "cell_type": "code",
   "execution_count": 21,
   "metadata": {},
   "outputs": [
    {
     "data": {
      "text/html": [
       "<div>\n",
       "<style scoped>\n",
       "    .dataframe tbody tr th:only-of-type {\n",
       "        vertical-align: middle;\n",
       "    }\n",
       "\n",
       "    .dataframe tbody tr th {\n",
       "        vertical-align: top;\n",
       "    }\n",
       "\n",
       "    .dataframe thead th {\n",
       "        text-align: right;\n",
       "    }\n",
       "</style>\n",
       "<table border=\"1\" class=\"dataframe\">\n",
       "  <thead>\n",
       "    <tr style=\"text-align: right;\">\n",
       "      <th></th>\n",
       "      <th>ID</th>\n",
       "      <th>IP Address</th>\n",
       "      <th>Timestamp</th>\n",
       "      <th>Log Entry</th>\n",
       "    </tr>\n",
       "  </thead>\n",
       "  <tbody>\n",
       "    <tr>\n",
       "      <th>536</th>\n",
       "      <td>537</td>\n",
       "      <td>219.26.255.183</td>\n",
       "      <td>01/Aug/2024:17:52:55</td>\n",
       "      <td>GET http://update.software.com/check HTTP/1.1\"...</td>\n",
       "    </tr>\n",
       "    <tr>\n",
       "      <th>702</th>\n",
       "      <td>703</td>\n",
       "      <td>214.71.236.144</td>\n",
       "      <td>01/Aug/2024:12:24:29</td>\n",
       "      <td>GET http://cloudstorage.com/login HTTP/1.1\" 20...</td>\n",
       "    </tr>\n",
       "    <tr>\n",
       "      <th>794</th>\n",
       "      <td>795</td>\n",
       "      <td>105.66.161.191</td>\n",
       "      <td>01/Aug/2024:08:44:03</td>\n",
       "      <td>GET http://www.example.com/style.css HTTP/1.1\"...</td>\n",
       "    </tr>\n",
       "  </tbody>\n",
       "</table>\n",
       "</div>"
      ],
      "text/plain": [
       "      ID      IP Address              Timestamp  \\\n",
       "536  537  219.26.255.183  01/Aug/2024:17:52:55    \n",
       "702  703  214.71.236.144  01/Aug/2024:12:24:29    \n",
       "794  795  105.66.161.191  01/Aug/2024:08:44:03    \n",
       "\n",
       "                                             Log Entry  \n",
       "536  GET http://update.software.com/check HTTP/1.1\"...  \n",
       "702  GET http://cloudstorage.com/login HTTP/1.1\" 20...  \n",
       "794  GET http://www.example.com/style.css HTTP/1.1\"...  "
      ]
     },
     "execution_count": 21,
     "metadata": {},
     "output_type": "execute_result"
    }
   ],
   "source": [
    "# We'll use fabricated proxy logs that contain 950 benign log entries and 50 malicious log entries again\n",
    "df = pd.read_csv('proxy_logs_mixed.csv')\n",
    "df.sample(3)"
   ]
  },
  {
   "cell_type": "code",
   "execution_count": 22,
   "metadata": {},
   "outputs": [
    {
     "name": "stdout",
     "output_type": "stream",
     "text": [
      "Anomaly score 0.30837374925613403: GET http://www.example.com/index.php?page=../../../../../../etc/passwd HTTP/1.1\" 403 183373 \"http://www.example.com/index.php?page=../../../../../../etc/passwd\" \"Mozilla/5.0 (Windows NT 10.0; Win64; x64) AppleWebKit/537.36 (KHTML, like Gecko) Chrome/104.0.5112.81 Safari/537.36 \n",
      " -worst match ID ['980'] content: GET http://www.example.com/ HTTP/1.1\" 200 412844 \"http://www.example.com/\" \"Mozilla/5.0 (Windows NT 10.0; Win64; x64) AppleWebKit/537.36 (KHTML, like Gecko) Chrome/104.0.5112.81 Safari/537.36\n",
      "Anomaly score 0.30377197265625: GET http://www.example.com/login.php?user=admin'-- HTTP/1.1\" 404 55432 \"http://www.example.com/login.php?user=admin'--\" \"Mozilla/5.0 (Windows NT 10.0; Win64; x64) AppleWebKit/537.36 (KHTML, like Gecko) Chrome/104.0.5112.81 Safari/537.36 \n",
      " -worst match ID ['984'] content: GET http://www.example.com/ HTTP/1.1\" 200 878311 \"http://www.example.com/\" \"Mozilla/5.0 (Windows NT 10.0; Win64; x64) AppleWebKit/537.36 (KHTML, like Gecko) Chrome/104.0.5112.81 Safari/537.36\n",
      "Anomaly score 0.3100473880767822: GET http://www.example.com/index.php?page=../../../../../../etc/passwd HTTP/1.1\" 403 66239 \"http://www.example.com/index.php?page=../../../../../../etc/passwd\" \"Mozilla/5.0 (Windows NT 10.0; Win64; x64) AppleWebKit/537.36 (KHTML, like Gecko) Chrome/104.0.5112.81 Safari/537.36 \n",
      " -worst match ID ['984'] content: GET http://www.example.com/ HTTP/1.1\" 200 878311 \"http://www.example.com/\" \"Mozilla/5.0 (Windows NT 10.0; Win64; x64) AppleWebKit/537.36 (KHTML, like Gecko) Chrome/104.0.5112.81 Safari/537.36\n",
      "Anomaly score 0.321392297744751: GET http://www.example.com/index.php?page=../../../../../../etc/passwd HTTP/1.1\" 404 395488 \"http://www.example.com/index.php?page=../../../../../../etc/passwd\" \"Mozilla/5.0 (Macintosh; Intel Mac OS X 10_15_7) AppleWebKit/605.1.15 (KHTML, like Gecko) Version/14.0.3 Safari/605.1.15 \n",
      " -worst match ID ['412'] content: GET http://www.example.com/ HTTP/1.1\" 200 870920 \"http://www.example.com/\" \"Mozilla/5.0 (Macintosh; Intel Mac OS X 10_15_7) AppleWebKit/605.1.15 (KHTML, like Gecko) Version/14.0.3 Safari/605.1.15\n",
      "Anomaly score 0.30491507053375244: GET http://www.example.com/index.php?page=../../../../../../etc/passwd HTTP/1.1\" 400 629681 \"http://www.example.com/index.php?page=../../../../../../etc/passwd\" \"Mozilla/5.0 (Macintosh; Intel Mac OS X 10_15_7) AppleWebKit/605.1.15 (KHTML, like Gecko) Version/14.0.3 Safari/605.1.15 \n",
      " -worst match ID ['412'] content: GET http://www.example.com/ HTTP/1.1\" 200 870920 \"http://www.example.com/\" \"Mozilla/5.0 (Macintosh; Intel Mac OS X 10_15_7) AppleWebKit/605.1.15 (KHTML, like Gecko) Version/14.0.3 Safari/605.1.15\n",
      "Anomaly score 0.3097054362297058: GET http://www.example.com/index.php?page=../../../../../../etc/passwd HTTP/1.1\" 500 16434 \"http://www.example.com/index.php?page=../../../../../../etc/passwd\" \"Mozilla/5.0 (Windows NT 10.0; Win64; x64) AppleWebKit/537.36 (KHTML, like Gecko) Chrome/104.0.5112.81 Safari/537.36 \n",
      " -worst match ID ['980'] content: GET http://www.example.com/ HTTP/1.1\" 200 412844 \"http://www.example.com/\" \"Mozilla/5.0 (Windows NT 10.0; Win64; x64) AppleWebKit/537.36 (KHTML, like Gecko) Chrome/104.0.5112.81 Safari/537.36\n"
     ]
    }
   ],
   "source": [
    "# Let's identify anomalies in the incoming logs by using vector search against DB of known benign logs\n",
    "incoming_proxy_logs = df['Log Entry']\n",
    "\n",
    "for log_entry in incoming_proxy_logs:\n",
    "    results = vectordb.query(\n",
    "    query_texts=log_entry,\n",
    "    n_results=1,\n",
    "    # where={\"metadata_field\": \"is_equal_to_this\"}, # optional filter\n",
    "    # where_document={\"$contains\":\"search_string\"}  # optional filter\n",
    "    )\n",
    "    if results['distances'][0][0] >= 0.3:  # Threshold for a non-match...this should be wrong direction!\n",
    "    #if results['distances'][0][0] <= 0.0001:  # Threshold for a non-match\n",
    "        print(f'Anomaly score {results[\"distances\"][0][0]}: {log_entry} \\n -worst match ID {results[\"ids\"][0]} content: {results[\"documents\"][0][0]}')\n",
    "    \n",
    "    # NOTE:  Again ChromaDB appears to be using Euclidean distance calcs instead of the specified Cosine metric\n",
    "    #        I think perhaps I've uncovered a bug in ChromaDB"
   ]
  },
  {
   "cell_type": "markdown",
   "metadata": {},
   "source": [
    "We've gotten some strong non-matches that appear to be possible anomalies (after adjusting for ChromaDB's apparent malfunction around using the specified distance calcs, of course). Just like the previous matching exercise, this was done with no parsing or data manipulations of the log data...only the vector embeddings of the log data were used. In practice, we'd likely do some pre-filtering with metadata and keyword matches to apply the vector search to the smallest subset reasonably possible. For anomaly detection, that could be a pretty large data set however. Regardless, good next steps would be to test this against a sample of real logs and see what we get."
   ]
  },
  {
   "cell_type": "markdown",
   "metadata": {},
   "source": [
    "# <u>Semantic Clustering</u> with Vector Embeddings\n",
    "We will use the mixed proxy log data which 950 benign logs + 50 malicious logs to see if we can segregate the two using clustering. This is a notable exercise...only recently has this technology advanced to the point that we can actually do Clustering with full text such as security logs!\n",
    "We are going to feed the clustering algorithms the mixed data with 950 benign logs and 50 malicious logs, and (at least for Kmeans), tell it we want two cluster groups. What we'd like to see if around 950 members land in one of those groups, and around 50 members land in the other group. Let's see how this looks...\n"
   ]
  },
  {
   "cell_type": "code",
   "execution_count": 23,
   "metadata": {},
   "outputs": [
    {
     "data": {
      "text/html": [
       "<div>\n",
       "<style scoped>\n",
       "    .dataframe tbody tr th:only-of-type {\n",
       "        vertical-align: middle;\n",
       "    }\n",
       "\n",
       "    .dataframe tbody tr th {\n",
       "        vertical-align: top;\n",
       "    }\n",
       "\n",
       "    .dataframe thead th {\n",
       "        text-align: right;\n",
       "    }\n",
       "</style>\n",
       "<table border=\"1\" class=\"dataframe\">\n",
       "  <thead>\n",
       "    <tr style=\"text-align: right;\">\n",
       "      <th></th>\n",
       "      <th>ID</th>\n",
       "      <th>Log Entry</th>\n",
       "    </tr>\n",
       "  </thead>\n",
       "  <tbody>\n",
       "    <tr>\n",
       "      <th>735</th>\n",
       "      <td>736</td>\n",
       "      <td>GET http://intranet.company.com/docs/document....</td>\n",
       "    </tr>\n",
       "    <tr>\n",
       "      <th>897</th>\n",
       "      <td>898</td>\n",
       "      <td>GET http://intranet.company.com/docs/document....</td>\n",
       "    </tr>\n",
       "    <tr>\n",
       "      <th>657</th>\n",
       "      <td>658</td>\n",
       "      <td>GET http://cloudstorage.com/authenticate HTTP/...</td>\n",
       "    </tr>\n",
       "  </tbody>\n",
       "</table>\n",
       "</div>"
      ],
      "text/plain": [
       "      ID                                          Log Entry\n",
       "735  736  GET http://intranet.company.com/docs/document....\n",
       "897  898  GET http://intranet.company.com/docs/document....\n",
       "657  658  GET http://cloudstorage.com/authenticate HTTP/..."
      ]
     },
     "execution_count": 23,
     "metadata": {},
     "output_type": "execute_result"
    }
   ],
   "source": [
    "import pandas as pd\n",
    "\n",
    "# We'll use the mixed proxy logs to see if we can get them clustered into 950 benign + 50 malicious\n",
    "df = pd.read_csv('proxy_logs_mixed.csv')\n",
    "df = df.drop(['IP Address', 'Timestamp'], axis=1)  # We don't need IP nor timestamp for this task\n",
    "df.sample(3)\n"
   ]
  },
  {
   "cell_type": "code",
   "execution_count": 24,
   "metadata": {},
   "outputs": [
    {
     "name": "stderr",
     "output_type": "stream",
     "text": [
      "c:\\Users\\Dave Sisk\\AppData\\Local\\Programs\\Python\\Python311\\Lib\\site-packages\\sentence_transformers\\cross_encoder\\CrossEncoder.py:11: TqdmWarning: IProgress not found. Please update jupyter and ipywidgets. See https://ipywidgets.readthedocs.io/en/stable/user_install.html\n",
      "  from tqdm.autonotebook import tqdm, trange\n",
      "c:\\Users\\Dave Sisk\\AppData\\Local\\Programs\\Python\\Python311\\Lib\\site-packages\\transformers\\tokenization_utils_base.py:1601: FutureWarning: `clean_up_tokenization_spaces` was not set. It will be set to `True` by default. This behavior will be depracted in transformers v4.45, and will be then set to `False` by default. For more details check this issue: https://github.com/huggingface/transformers/issues/31884\n",
      "  warnings.warn(\n"
     ]
    },
    {
     "data": {
      "text/html": [
       "<div>\n",
       "<style scoped>\n",
       "    .dataframe tbody tr th:only-of-type {\n",
       "        vertical-align: middle;\n",
       "    }\n",
       "\n",
       "    .dataframe tbody tr th {\n",
       "        vertical-align: top;\n",
       "    }\n",
       "\n",
       "    .dataframe thead th {\n",
       "        text-align: right;\n",
       "    }\n",
       "</style>\n",
       "<table border=\"1\" class=\"dataframe\">\n",
       "  <thead>\n",
       "    <tr style=\"text-align: right;\">\n",
       "      <th></th>\n",
       "      <th>ID</th>\n",
       "      <th>Log Entry</th>\n",
       "      <th>embedding</th>\n",
       "    </tr>\n",
       "  </thead>\n",
       "  <tbody>\n",
       "    <tr>\n",
       "      <th>423</th>\n",
       "      <td>424</td>\n",
       "      <td>GET http://intranet.company.com/home HTTP/1.1\"...</td>\n",
       "      <td>[0.004326226, -0.029054012, -0.006225531, -0.0...</td>\n",
       "    </tr>\n",
       "    <tr>\n",
       "      <th>890</th>\n",
       "      <td>891</td>\n",
       "      <td>GET http://www.example.com/ HTTP/1.1\" 200 7252...</td>\n",
       "      <td>[0.036681145, 0.013725637, -0.0133120585, -0.0...</td>\n",
       "    </tr>\n",
       "    <tr>\n",
       "      <th>838</th>\n",
       "      <td>839</td>\n",
       "      <td>GET http://www.example.com/script.js HTTP/1.1\"...</td>\n",
       "      <td>[-0.015371768, 0.007188827, -0.011080136, -0.0...</td>\n",
       "    </tr>\n",
       "  </tbody>\n",
       "</table>\n",
       "</div>"
      ],
      "text/plain": [
       "      ID                                          Log Entry  \\\n",
       "423  424  GET http://intranet.company.com/home HTTP/1.1\"...   \n",
       "890  891  GET http://www.example.com/ HTTP/1.1\" 200 7252...   \n",
       "838  839  GET http://www.example.com/script.js HTTP/1.1\"...   \n",
       "\n",
       "                                             embedding  \n",
       "423  [0.004326226, -0.029054012, -0.006225531, -0.0...  \n",
       "890  [0.036681145, 0.013725637, -0.0133120585, -0.0...  \n",
       "838  [-0.015371768, 0.007188827, -0.011080136, -0.0...  "
      ]
     },
     "execution_count": 24,
     "metadata": {},
     "output_type": "execute_result"
    }
   ],
   "source": [
    "# It's easier to just calc the vector embeddings explicitly, vs adding inserting to ChromaDB to get embeddings\n",
    "# ChromaDB can't do clustering queries (yet), but we will use the same embedding model that ChromaDB is using\n",
    "\n",
    "# Load the embedding model so we can use it to easily populate the dataframe\n",
    "from sentence_transformers import SentenceTransformer\n",
    "model = SentenceTransformer('sentence-transformers/all-MiniLM-L6-v2')\n",
    "#model = SentenceTransformer(\"multi-qa-mpnet-base-cos-v1\")  # Different results, longer but not better\n",
    "# Use like this: embeddings = model.encode(whatever_text)\n",
    "\n",
    "# Use a lambda function to encode the text in each row and apply it to a new column\n",
    "df['embedding'] = df['Log Entry'].apply(lambda text:model.encode(text))\n",
    "df.sample(3)"
   ]
  },
  {
   "cell_type": "code",
   "execution_count": 25,
   "metadata": {},
   "outputs": [
    {
     "data": {
      "text/plain": [
       "Index(['ID', 'Log Entry', 'embedding', 'cluster_kmeans'], dtype='object')"
      ]
     },
     "execution_count": 25,
     "metadata": {},
     "output_type": "execute_result"
    }
   ],
   "source": [
    "# Let's try basic K-means with the 384 dimensions and K=2 \n",
    "import pandas as pd\n",
    "import numpy as np\n",
    "from sklearn.cluster import KMeans\n",
    "\n",
    "# Extract the embeddings from the DataFrame\n",
    "embeddings = df['embedding'].tolist()\n",
    "\n",
    "# Convert the list of embeddings into a numpy array\n",
    "# import numpy as np\n",
    "X = np.array(embeddings)\n",
    "\n",
    "# Perform K-means clustering with K=2\n",
    "# We know we have good logs and bad logs, so let's try to cluster them into good and bad\n",
    "kmeans = KMeans(n_clusters=2, n_init=100, max_iter=3000, random_state=0)\n",
    "#kmeans = KMeans(n_clusters=2, n_init=10, max_iter=300, random_state=0)  # These are defaults\n",
    "#kmeans = KMeans(n_clusters=2, n_init=10000, max_iter=10000, random_state=0)\n",
    "df['cluster_kmeans'] = kmeans.fit_predict(X)\n",
    "\n",
    "# Now `df` will have a new column 'cluster' indicating the cluster each entry belongs to\n",
    "df.columns\n"
   ]
  },
  {
   "cell_type": "code",
   "execution_count": 38,
   "metadata": {},
   "outputs": [
    {
     "data": {
      "text/html": [
       "<div>\n",
       "<style scoped>\n",
       "    .dataframe tbody tr th:only-of-type {\n",
       "        vertical-align: middle;\n",
       "    }\n",
       "\n",
       "    .dataframe tbody tr th {\n",
       "        vertical-align: top;\n",
       "    }\n",
       "\n",
       "    .dataframe thead th {\n",
       "        text-align: right;\n",
       "    }\n",
       "</style>\n",
       "<table border=\"1\" class=\"dataframe\">\n",
       "  <thead>\n",
       "    <tr style=\"text-align: right;\">\n",
       "      <th></th>\n",
       "      <th>ID</th>\n",
       "      <th>Log Entry</th>\n",
       "      <th>embedding</th>\n",
       "      <th>cluster_kmeans</th>\n",
       "    </tr>\n",
       "  </thead>\n",
       "  <tbody>\n",
       "    <tr>\n",
       "      <th>361</th>\n",
       "      <td>362</td>\n",
       "      <td>GET http://update.software.com/version.xml HTT...</td>\n",
       "      <td>[-0.018683748, 0.003381714, 0.024644682, -0.05...</td>\n",
       "      <td>1</td>\n",
       "    </tr>\n",
       "    <tr>\n",
       "      <th>325</th>\n",
       "      <td>326</td>\n",
       "      <td>GET http://intranet.company.com/home HTTP/1.1\"...</td>\n",
       "      <td>[0.0018188177, -0.027062202, -0.007880102, -0....</td>\n",
       "      <td>1</td>\n",
       "    </tr>\n",
       "    <tr>\n",
       "      <th>227</th>\n",
       "      <td>228</td>\n",
       "      <td>GET http://update.software.com/version.xml HTT...</td>\n",
       "      <td>[-0.018806728, 0.0044098813, 0.02514431, -0.05...</td>\n",
       "      <td>1</td>\n",
       "    </tr>\n",
       "  </tbody>\n",
       "</table>\n",
       "</div>"
      ],
      "text/plain": [
       "      ID                                          Log Entry  \\\n",
       "361  362  GET http://update.software.com/version.xml HTT...   \n",
       "325  326  GET http://intranet.company.com/home HTTP/1.1\"...   \n",
       "227  228  GET http://update.software.com/version.xml HTT...   \n",
       "\n",
       "                                             embedding  cluster_kmeans  \n",
       "361  [-0.018683748, 0.003381714, 0.024644682, -0.05...               1  \n",
       "325  [0.0018188177, -0.027062202, -0.007880102, -0....               1  \n",
       "227  [-0.018806728, 0.0044098813, 0.02514431, -0.05...               1  "
      ]
     },
     "execution_count": 38,
     "metadata": {},
     "output_type": "execute_result"
    }
   ],
   "source": [
    "df.sample(3)"
   ]
  },
  {
   "cell_type": "code",
   "execution_count": 39,
   "metadata": {},
   "outputs": [
    {
     "data": {
      "text/plain": [
       "cluster_kmeans\n",
       "1    711\n",
       "0    289\n",
       "Name: count, dtype: int64"
      ]
     },
     "execution_count": 39,
     "metadata": {},
     "output_type": "execute_result"
    }
   ],
   "source": [
    "# We hope to see cluster group counts in the ballpark of 950 and 50\n",
    "df['cluster_kmeans'].value_counts()"
   ]
  },
  {
   "cell_type": "code",
   "execution_count": 41,
   "metadata": {},
   "outputs": [],
   "source": [
    "# Let's try dimensionality reduction to 2 dimensions from 384, then try re-clustering with Kmeans K=2\n",
    "import pandas as pd\n",
    "from sklearn.decomposition import PCA\n",
    "from sklearn.cluster import KMeans\n",
    "\n",
    "# Extract the embeddings from the DataFrame\n",
    "embeddings = df['embedding'].tolist()\n",
    "\n",
    "# Convert the list of embeddings into a numpy array\n",
    "import numpy as np\n",
    "X = np.array(embeddings)\n",
    "\n",
    "# Perform PCA for dimensionality reduction\n",
    "n_components = 2  # Number of dimensions to reduce to\n",
    "pca = PCA(n_components=n_components)\n",
    "principal_components = pca.fit_transform(X)\n",
    "\n",
    "# Add the principal components to the DataFrame\n",
    "df_pca = pd.DataFrame(data=principal_components, columns=[f'PC{i+1}' for i in range(n_components)])\n",
    "df = pd.concat([df, df_pca], axis=1)\n",
    "\n",
    "# Perform K-means clustering using the PCA components, and add a cluster2 column from that exercise\n",
    "kmeans2 = KMeans(n_clusters=2, random_state=0)\n",
    "df['cluster_pca_kmeans'] = kmeans.fit_predict(df[['PC1', 'PC2']])\n"
   ]
  },
  {
   "cell_type": "code",
   "execution_count": 42,
   "metadata": {},
   "outputs": [
    {
     "data": {
      "text/html": [
       "<div>\n",
       "<style scoped>\n",
       "    .dataframe tbody tr th:only-of-type {\n",
       "        vertical-align: middle;\n",
       "    }\n",
       "\n",
       "    .dataframe tbody tr th {\n",
       "        vertical-align: top;\n",
       "    }\n",
       "\n",
       "    .dataframe thead th {\n",
       "        text-align: right;\n",
       "    }\n",
       "</style>\n",
       "<table border=\"1\" class=\"dataframe\">\n",
       "  <thead>\n",
       "    <tr style=\"text-align: right;\">\n",
       "      <th></th>\n",
       "      <th>ID</th>\n",
       "      <th>Log Entry</th>\n",
       "      <th>embedding</th>\n",
       "      <th>cluster_kmeans</th>\n",
       "      <th>PC1</th>\n",
       "      <th>PC2</th>\n",
       "      <th>cluster_pca_kmeans</th>\n",
       "    </tr>\n",
       "  </thead>\n",
       "  <tbody>\n",
       "    <tr>\n",
       "      <th>875</th>\n",
       "      <td>876</td>\n",
       "      <td>GET http://update.software.com/check HTTP/1.1\"...</td>\n",
       "      <td>[-0.010359548, -0.020482387, 0.010514199, -0.0...</td>\n",
       "      <td>1</td>\n",
       "      <td>-0.179691</td>\n",
       "      <td>-0.417812</td>\n",
       "      <td>1</td>\n",
       "    </tr>\n",
       "    <tr>\n",
       "      <th>668</th>\n",
       "      <td>669</td>\n",
       "      <td>GET http://cloudstorage.com/files HTTP/1.1\" 20...</td>\n",
       "      <td>[-0.021262571, 0.033814397, 0.016628722, -0.00...</td>\n",
       "      <td>0</td>\n",
       "      <td>0.456767</td>\n",
       "      <td>-0.080285</td>\n",
       "      <td>0</td>\n",
       "    </tr>\n",
       "    <tr>\n",
       "      <th>942</th>\n",
       "      <td>943</td>\n",
       "      <td>GET http://www.example.com/ HTTP/1.1\" 200 3573...</td>\n",
       "      <td>[-0.0028792196, 0.02123065, 0.006317406, -0.04...</td>\n",
       "      <td>1</td>\n",
       "      <td>-0.270346</td>\n",
       "      <td>0.047496</td>\n",
       "      <td>1</td>\n",
       "    </tr>\n",
       "  </tbody>\n",
       "</table>\n",
       "</div>"
      ],
      "text/plain": [
       "      ID                                          Log Entry  \\\n",
       "875  876  GET http://update.software.com/check HTTP/1.1\"...   \n",
       "668  669  GET http://cloudstorage.com/files HTTP/1.1\" 20...   \n",
       "942  943  GET http://www.example.com/ HTTP/1.1\" 200 3573...   \n",
       "\n",
       "                                             embedding  cluster_kmeans  \\\n",
       "875  [-0.010359548, -0.020482387, 0.010514199, -0.0...               1   \n",
       "668  [-0.021262571, 0.033814397, 0.016628722, -0.00...               0   \n",
       "942  [-0.0028792196, 0.02123065, 0.006317406, -0.04...               1   \n",
       "\n",
       "          PC1       PC2  cluster_pca_kmeans  \n",
       "875 -0.179691 -0.417812                   1  \n",
       "668  0.456767 -0.080285                   0  \n",
       "942 -0.270346  0.047496                   1  "
      ]
     },
     "execution_count": 42,
     "metadata": {},
     "output_type": "execute_result"
    }
   ],
   "source": [
    "df.sample(3)"
   ]
  },
  {
   "cell_type": "code",
   "execution_count": 43,
   "metadata": {},
   "outputs": [
    {
     "data": {
      "text/plain": [
       "cluster_pca_kmeans\n",
       "1    711\n",
       "0    289\n",
       "Name: count, dtype: int64"
      ]
     },
     "execution_count": 43,
     "metadata": {},
     "output_type": "execute_result"
    }
   ],
   "source": [
    "# We hope to see cluster group counts in the ballpark of 950 and 50\n",
    "df['cluster_pca_kmeans'].value_counts()"
   ]
  },
  {
   "cell_type": "code",
   "execution_count": 44,
   "metadata": {},
   "outputs": [
    {
     "data": {
      "image/png": "[encoded data removed]",
      "text/plain": [
       "<Figure size 1000x700 with 2 Axes>"
      ]
     },
     "metadata": {},
     "output_type": "display_data"
    }
   ],
   "source": [
    "# No difference in the cluster groups, but now we can visualize the clusters in 2 dimensions...\n",
    "import matplotlib.pyplot as plt\n",
    "\n",
    "plt.figure(figsize=(10, 7))\n",
    "plt.scatter(df['PC1'], df['PC2'], c=df['cluster_pca_kmeans'], cmap='viridis', marker='o')\n",
    "plt.title('KMeans Clustering on PCA-Reduced Data')\n",
    "plt.xlabel('PC1')\n",
    "plt.ylabel('PC2')\n",
    "plt.colorbar(label='Cluster_pca_kmeans')\n",
    "plt.show()"
   ]
  },
  {
   "cell_type": "code",
   "execution_count": 45,
   "metadata": {},
   "outputs": [
    {
     "data": {
      "text/plain": [
       "Index(['ID', 'Log Entry', 'embedding', 'cluster_kmeans', 'PC1', 'PC2',\n",
       "       'cluster_pca_kmeans', 'cluster_kmeans_cosine'],\n",
       "      dtype='object')"
      ]
     },
     "execution_count": 45,
     "metadata": {},
     "output_type": "execute_result"
    }
   ],
   "source": [
    "# Let's re-try Kmeans clustering, but instead of allowing it to use the default euclidean distance metric\n",
    "# we will convert the cosine similary vectors to equivalent euclidean distance vectors\n",
    "from sklearn.cluster import KMeans\n",
    "from sklearn.preprocessing import normalize\n",
    "\n",
    "# Extract the embeddings from the DataFrame\n",
    "embeddings = df['embedding'].tolist()\n",
    "\n",
    "# Normalize the embeddings to make the cosine distance equivalent to Euclidean distance\n",
    "embeddings_normalized = normalize(embeddings)\n",
    "\n",
    "# Apply KMeans clustering\n",
    "kmeans = KMeans(n_clusters=2, random_state=0)  # Adjust the number of clusters as needed\n",
    "df['cluster_kmeans_cosine'] = kmeans.fit_predict(embeddings_normalized)\n",
    "\n",
    "df.columns"
   ]
  },
  {
   "cell_type": "code",
   "execution_count": 46,
   "metadata": {},
   "outputs": [
    {
     "data": {
      "text/plain": [
       "cluster_kmeans_cosine\n",
       "1    711\n",
       "0    289\n",
       "Name: count, dtype: int64"
      ]
     },
     "execution_count": 46,
     "metadata": {},
     "output_type": "execute_result"
    }
   ],
   "source": [
    "# We hope to see cluster group counts in the ballpark of 950 and 50\n",
    "df['cluster_kmeans_cosine'].value_counts()"
   ]
  },
  {
   "cell_type": "code",
   "execution_count": 47,
   "metadata": {},
   "outputs": [
    {
     "name": "stdout",
     "output_type": "stream",
     "text": [
      "Estimated number of clusters: 2\n"
     ]
    }
   ],
   "source": [
    "# Let's try a different clustering algorithm...Agglomerative Clustering (hierarchical instead of linear)\n",
    "from sklearn.cluster import AgglomerativeClustering\n",
    "\n",
    "# Perform Agglomerative Clustering with the cosine similarity matrix\n",
    "agg_clustering = AgglomerativeClustering(\n",
    "    n_clusters=2,  # Adjust the number of clusters as needed\n",
    "    #affinity='precomputed',  # Use the precomputed cosine similarity matrix...older version scikit-learn\n",
    "    metric='cosine',  # Newer version of scikit-learn\n",
    "    linkage='average'  # 'average' linkage is commonly used with cosine distance\n",
    ")\n",
    "\n",
    "#df['cluster_agglomerative'] = agg_clustering.fit_predict(1 - cosine_sim_matrix)  # 1 - cosine_similarity to convert similarity to distance\n",
    "df['cluster_agglomerative'] = agg_clustering.fit_predict(embeddings)  # 1 - cosine_similarity to convert similarity to distance\n",
    "\n",
    "# Analyze the results\n",
    "n_clusters = len(set(df['cluster_agglomerative'])) - (1 if -1 in df['cluster_agglomerative'] else 0)\n",
    "print(f'Estimated number of clusters: {n_clusters}')\n"
   ]
  },
  {
   "cell_type": "code",
   "execution_count": 48,
   "metadata": {},
   "outputs": [
    {
     "data": {
      "text/plain": [
       "cluster_agglomerative\n",
       "0    711\n",
       "1    289\n",
       "Name: count, dtype: int64"
      ]
     },
     "execution_count": 48,
     "metadata": {},
     "output_type": "execute_result"
    }
   ],
   "source": [
    "# We hope to see cluster group counts in the ballpark of 950 and 50...still no dice\n",
    "df['cluster_agglomerative'].value_counts()"
   ]
  },
  {
   "cell_type": "code",
   "execution_count": 49,
   "metadata": {},
   "outputs": [
    {
     "data": {
      "image/png": "[encoded data removed]",
      "text/plain": [
       "<Figure size 1000x700 with 2 Axes>"
      ]
     },
     "metadata": {},
     "output_type": "display_data"
    }
   ],
   "source": [
    "# Let's try using a non-linear stochastic dimensionality reduction (t-SNE), and plot those results\n",
    "import matplotlib.pyplot as plt\n",
    "from sklearn.decomposition import PCA\n",
    "from sklearn.manifold import TSNE\n",
    "\n",
    "# DataFrame is named `df` and the embeddings are in a column named 'embedding'\n",
    "embeddings = np.array(df['embedding'].tolist())\n",
    "\n",
    "\n",
    "# Let's try reducing dimensions to 2 using non-linear t-SNE instead of linear PCA\n",
    "tsne = TSNE(n_components=2, random_state=42)\n",
    "embeddings_tsne_2d = tsne.fit_transform(embeddings)\n",
    "\n",
    "# Plot the t-SNE results\n",
    "plt.figure(figsize=(10, 7))\n",
    "plt.scatter(embeddings_tsne_2d[:, 0], embeddings_tsne_2d[:, 1], c=df['cluster_agglomerative'], cmap='viridis', marker='o')\n",
    "plt.title('Clusters (Agglomerative) visualized using t-SNE')\n",
    "plt.xlabel('t-SNE Component 1')\n",
    "plt.ylabel('t-SNE Component 2')\n",
    "plt.colorbar(label='Cluster Label')\n",
    "plt.show()\n"
   ]
  },
  {
   "cell_type": "code",
   "execution_count": 50,
   "metadata": {},
   "outputs": [
    {
     "name": "stdout",
     "output_type": "stream",
     "text": [
      "Estimated number of DBSCAN clusters: 8\n",
      "Estimated number of noise points: 0\n"
     ]
    },
    {
     "data": {
      "text/plain": [
       "Index(['ID', 'Log Entry', 'embedding', 'cluster_kmeans', 'PC1', 'PC2',\n",
       "       'cluster_pca_kmeans', 'cluster_kmeans_cosine', 'cluster_agglomerative',\n",
       "       'cluster_dbscan'],\n",
       "      dtype='object')"
      ]
     },
     "execution_count": 50,
     "metadata": {},
     "output_type": "execute_result"
    }
   ],
   "source": [
    "# Let's try using DBSCAN clustering (non-linear density-based) instead of Kmeans...we'll use cosine distance\n",
    "import pandas as pd\n",
    "from sklearn.cluster import DBSCAN\n",
    "from sklearn.preprocessing import StandardScaler\n",
    "import numpy as np\n",
    "from sklearn.metrics.pairwise import cosine_distances\n",
    "\n",
    "# Convert the embeddings column to a numpy array\n",
    "embeddings = np.array(df['embedding'].tolist())\n",
    "\n",
    "# Standardize the data (optional but recommended)\n",
    "scaler = StandardScaler()\n",
    "embeddings_scaled = scaler.fit_transform(embeddings)\n",
    "\n",
    "# Calculate the cosine distance matrix\n",
    "cosine_dist_matrix = cosine_distances(embeddings_scaled)\n",
    "\n",
    "# Perform DBSCAN clustering with cosine distance\n",
    "# Parameters to adjust: `eps` (radius of neighborhood), `min_samples` (min points to form a cluster)\n",
    "dbscan = DBSCAN(eps=0.5, min_samples=5, metric='precomputed')\n",
    "df['cluster_dbscan'] = dbscan.fit_predict(cosine_dist_matrix)\n",
    "\n",
    "# Analyzing the results\n",
    "n_clusters = len(set(df['cluster_dbscan'])) - (1 if -1 in df['cluster_dbscan'] else 0)\n",
    "n_noise = list(df['cluster_dbscan']).count(-1)\n",
    "\n",
    "print(f'Estimated number of DBSCAN clusters: {n_clusters}')\n",
    "print(f'Estimated number of noise points: {n_noise}')\n",
    "\n",
    "# If you want to see the first few entries and their clusters\n",
    "df.columns"
   ]
  },
  {
   "cell_type": "code",
   "execution_count": 51,
   "metadata": {},
   "outputs": [
    {
     "data": {
      "text/plain": [
       "cluster_dbscan\n",
       "5    289\n",
       "1    182\n",
       "6    142\n",
       "0    138\n",
       "3     95\n",
       "4     86\n",
       "2     53\n",
       "7     15\n",
       "Name: count, dtype: int64"
      ]
     },
     "execution_count": 51,
     "metadata": {},
     "output_type": "execute_result"
    }
   ],
   "source": [
    "# We hope to see cluster group counts in the ballpark of 950 and 50\n",
    "df['cluster_dbscan'].value_counts()\n",
    "\n",
    "# It appears that perhaps cluster 2 with 53 points might be our malicious logs, but...\n",
    "# I'm not sure (yet) how we would determine that if we didn't already there were 50 bad logs"
   ]
  },
  {
   "cell_type": "code",
   "execution_count": 52,
   "metadata": {},
   "outputs": [
    {
     "data": {
      "image/png": "[encoded data removed]",
      "text/plain": [
       "<Figure size 1000x700 with 2 Axes>"
      ]
     },
     "metadata": {},
     "output_type": "display_data"
    }
   ],
   "source": [
    "# Plot the results after applying PCA\n",
    "\n",
    "# Reduce the embeddings to 2 dimensions using PCA\n",
    "pca = PCA(n_components=2)\n",
    "reduced_embeddings = pca.fit_transform(embeddings)\n",
    "\n",
    "# Plot\n",
    "plt.figure(figsize=(10, 7))\n",
    "scatter = plt.scatter(reduced_embeddings[:, 0], reduced_embeddings[:, 1], c=df['cluster_dbscan'], cmap='viridis', marker='o')\n",
    "plt.title('DBSCAN Clustering with Cosine Distance (PCA Reduced to 2D)')\n",
    "plt.xlabel('PCA Component 1')\n",
    "plt.ylabel('PCA Component 2')\n",
    "plt.colorbar(scatter, label='Cluster_dbscan')\n",
    "plt.show()"
   ]
  },
  {
   "cell_type": "markdown",
   "metadata": {},
   "source": [
    "I think we've found the cluster group with the bad logs...DBSCAN found the group with 53 members, and I suspect it's the light green group.  \n",
    "\n",
    "I think we can call this exercise complete...it's not really productive to dig any deeper with fake data.  However,I think we've seen a good sample of how to do semantic clustering analysis with full-text data. "
   ]
  },
  {
   "cell_type": "markdown",
   "metadata": {},
   "source": [
    "# Where do we go from here?\n",
    "Some areas for further research:\n",
    "- It's worth noting that the semantic matching and non-matching were very good.  However, the clustering was not what we expected.  Perhaps we should try different embedding models to determine which one performs best with proxy logs...the one we used is very generic, one finetuned on event logs or specifically on cybersecurity data content might produce much better clustering results.  One larger and more resource-heavy embedding was examined (see the commented-out calls in the clustering section)...the clustering results were the same or slightly less clear. Again, this is fabricated data, so that might be a big part of the unexpected clustering results.\n",
    "- Dig deeper into the data to determine how we would be able to name the clusters proposed by DBSCAN (with real data, not worthwhile with fake data).\n",
    "- Examine other clustering algorithms that might be more meaningful (with real data, not worthwhile with fake data). We've examined Kmeans w/ and w/o PCA, DBSCAN, and Agglomerative...there might be other algorithms to examine to get clear results with real data. This is a fairly unexplored area currently.\n"
   ]
  }
 ],
 "metadata": {
  "kernelspec": {
   "display_name": "Python 3 (ipykernel)",
   "language": "python",
   "name": "python3"
  },
  "language_info": {
   "codemirror_mode": {
    "name": "ipython",
    "version": 3
   },
   "file_extension": ".py",
   "mimetype": "text/x-python",
   "name": "python",
   "nbconvert_exporter": "python",
   "pygments_lexer": "ipython3",
   "version": "3.11.7"
  }
 },
 "nbformat": 4,
 "nbformat_minor": 4
}
