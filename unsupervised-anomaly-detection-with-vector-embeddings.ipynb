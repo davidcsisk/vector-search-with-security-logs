{
 "cells": [
  {
   "cell_type": "markdown",
   "metadata": {},
   "source": [
    "# Unsupervised Anomaly Detection using <u>Vector Embeddings</u> of Text Security Logs\n",
    "This is a continuation of the prior research. In this notebook, we are leveraging the <u>Isolation Forest</u> algorithm to perform unsupervised training of an anomaly detection model, using text <u>vector embeddings</u> as the input. As we'll see, the results are more accurate than simply clustering the data using it's vector embedding and trying to determine whether it's an anomaly merely from those groupings, but it's still not perfect.  That said, the results are around twice as accurate as the clustering exercise, but not as accurate as vectorizing known benign samples and using vector search to identify least semantic similarity. However, starting from scratch with an unsupervised model could be used to provide the data for the more accurate vector similarity search approach. It's a worthwhile approach to examine."
   ]
  },
  {
   "cell_type": "code",
   "execution_count": 51,
   "metadata": {},
   "outputs": [],
   "source": [
    "### Uncomment and run the line below if this is the first time executing this notebook. Package installs in requirements.txt.\n",
    "#! python -m venv venv\n",
    "#! powershell venv\\Scripts\\Activate.ps1\n",
    "###! pip install -r .\\requirements.txt --force"
   ]
  },
  {
   "cell_type": "code",
   "execution_count": 1,
   "metadata": {},
   "outputs": [],
   "source": [
    "import numpy as np\n",
    "import pandas as pd\n",
    "import matplotlib.pyplot as plt\n",
    "from sklearn.ensemble import IsolationForest\n",
    "from sklearn.decomposition import PCA"
   ]
  },
  {
   "cell_type": "code",
   "execution_count": 2,
   "metadata": {},
   "outputs": [
    {
     "data": {
      "text/html": [
       "<div>\n",
       "<style scoped>\n",
       "    .dataframe tbody tr th:only-of-type {\n",
       "        vertical-align: middle;\n",
       "    }\n",
       "\n",
       "    .dataframe tbody tr th {\n",
       "        vertical-align: top;\n",
       "    }\n",
       "\n",
       "    .dataframe thead th {\n",
       "        text-align: right;\n",
       "    }\n",
       "</style>\n",
       "<table border=\"1\" class=\"dataframe\">\n",
       "  <thead>\n",
       "    <tr style=\"text-align: right;\">\n",
       "      <th></th>\n",
       "      <th>ID</th>\n",
       "      <th>Log Entry</th>\n",
       "      <th>return_code</th>\n",
       "    </tr>\n",
       "  </thead>\n",
       "  <tbody>\n",
       "    <tr>\n",
       "      <th>848</th>\n",
       "      <td>849</td>\n",
       "      <td>GET http://cloudstorage.com/authenticate HTTP/...</td>\n",
       "      <td>200</td>\n",
       "    </tr>\n",
       "    <tr>\n",
       "      <th>409</th>\n",
       "      <td>410</td>\n",
       "      <td>GET http://intranet.company.com/home HTTP/1.1\"...</td>\n",
       "      <td>200</td>\n",
       "    </tr>\n",
       "    <tr>\n",
       "      <th>755</th>\n",
       "      <td>756</td>\n",
       "      <td>GET http://www.example.com/style.css HTTP/1.1\"...</td>\n",
       "      <td>200</td>\n",
       "    </tr>\n",
       "  </tbody>\n",
       "</table>\n",
       "</div>"
      ],
      "text/plain": [
       "      ID                                          Log Entry return_code\n",
       "848  849  GET http://cloudstorage.com/authenticate HTTP/...         200\n",
       "409  410  GET http://intranet.company.com/home HTTP/1.1\"...         200\n",
       "755  756  GET http://www.example.com/style.css HTTP/1.1\"...         200"
      ]
     },
     "execution_count": 2,
     "metadata": {},
     "output_type": "execute_result"
    }
   ],
   "source": [
    "# We'll use the fabricated mixed proxy logs with known 950 benign log entries and 50 malicious log entries \n",
    "# Our goal is to see if we can get them accurately classified into that 950 benign + 50 malicious\n",
    "# Read the log data into a dataframe, and drop the columns we don't need for this exercise, and \n",
    "# extract the return code to use in validating the eventual output\n",
    "df = pd.read_csv('proxy_logs_mixed.csv')\n",
    "df = df.drop(['IP Address', 'Timestamp'], axis=1)  # We don't need IP nor timestamp for this task\n",
    "df['return_code'] = df['Log Entry'].str.split().str[3]\n",
    "\n",
    "df.sample(3)"
   ]
  },
  {
   "cell_type": "code",
   "execution_count": 3,
   "metadata": {},
   "outputs": [
    {
     "data": {
      "text/plain": [
       "return_code\n",
       "200    950\n",
       "403     18\n",
       "500     11\n",
       "404     11\n",
       "400     10\n",
       "Name: count, dtype: int64"
      ]
     },
     "execution_count": 3,
     "metadata": {},
     "output_type": "execute_result"
    }
   ],
   "source": [
    "# Let's confirm that we have 950 benign (rc = 200) and 50 malicious (rc != 200)\n",
    "df['return_code'].value_counts()"
   ]
  },
  {
   "cell_type": "code",
   "execution_count": 4,
   "metadata": {},
   "outputs": [
    {
     "name": "stderr",
     "output_type": "stream",
     "text": [
      "c:\\Users\\Dave Sisk\\AppData\\Local\\Programs\\Python\\Python311\\Lib\\site-packages\\sentence_transformers\\cross_encoder\\CrossEncoder.py:11: TqdmWarning: IProgress not found. Please update jupyter and ipywidgets. See https://ipywidgets.readthedocs.io/en/stable/user_install.html\n",
      "  from tqdm.autonotebook import tqdm, trange\n",
      "c:\\Users\\Dave Sisk\\AppData\\Local\\Programs\\Python\\Python311\\Lib\\site-packages\\transformers\\tokenization_utils_base.py:1601: FutureWarning: `clean_up_tokenization_spaces` was not set. It will be set to `True` by default. This behavior will be depracted in transformers v4.45, and will be then set to `False` by default. For more details check this issue: https://github.com/huggingface/transformers/issues/31884\n",
      "  warnings.warn(\n"
     ]
    },
    {
     "data": {
      "text/html": [
       "<div>\n",
       "<style scoped>\n",
       "    .dataframe tbody tr th:only-of-type {\n",
       "        vertical-align: middle;\n",
       "    }\n",
       "\n",
       "    .dataframe tbody tr th {\n",
       "        vertical-align: top;\n",
       "    }\n",
       "\n",
       "    .dataframe thead th {\n",
       "        text-align: right;\n",
       "    }\n",
       "</style>\n",
       "<table border=\"1\" class=\"dataframe\">\n",
       "  <thead>\n",
       "    <tr style=\"text-align: right;\">\n",
       "      <th></th>\n",
       "      <th>ID</th>\n",
       "      <th>Log Entry</th>\n",
       "      <th>return_code</th>\n",
       "      <th>embedding</th>\n",
       "    </tr>\n",
       "  </thead>\n",
       "  <tbody>\n",
       "    <tr>\n",
       "      <th>806</th>\n",
       "      <td>807</td>\n",
       "      <td>GET http://intranet.company.com/home HTTP/1.1\"...</td>\n",
       "      <td>200</td>\n",
       "      <td>[0.007171466, -0.031017033, -0.009414613, -0.0...</td>\n",
       "    </tr>\n",
       "    <tr>\n",
       "      <th>335</th>\n",
       "      <td>336</td>\n",
       "      <td>GET http://www.example.com/style.css HTTP/1.1\"...</td>\n",
       "      <td>200</td>\n",
       "      <td>[-0.03217384, 0.060404748, 0.011519817, -0.001...</td>\n",
       "    </tr>\n",
       "    <tr>\n",
       "      <th>719</th>\n",
       "      <td>720</td>\n",
       "      <td>GET http://intranet.company.com/home HTTP/1.1\"...</td>\n",
       "      <td>200</td>\n",
       "      <td>[0.0044826684, -0.029738884, -0.0055143572, -0...</td>\n",
       "    </tr>\n",
       "  </tbody>\n",
       "</table>\n",
       "</div>"
      ],
      "text/plain": [
       "      ID                                          Log Entry return_code  \\\n",
       "806  807  GET http://intranet.company.com/home HTTP/1.1\"...         200   \n",
       "335  336  GET http://www.example.com/style.css HTTP/1.1\"...         200   \n",
       "719  720  GET http://intranet.company.com/home HTTP/1.1\"...         200   \n",
       "\n",
       "                                             embedding  \n",
       "806  [0.007171466, -0.031017033, -0.009414613, -0.0...  \n",
       "335  [-0.03217384, 0.060404748, 0.011519817, -0.001...  \n",
       "719  [0.0044826684, -0.029738884, -0.0055143572, -0...  "
      ]
     },
     "execution_count": 4,
     "metadata": {},
     "output_type": "execute_result"
    }
   ],
   "source": [
    "# Load the embedding model so we can use it to easily populate the dataframe\n",
    "from sentence_transformers import SentenceTransformer\n",
    "vector_embedder = SentenceTransformer('sentence-transformers/all-MiniLM-L6-v2') # Base vector embedding model\n",
    "#vector_embedder = SentenceTransformer(\"multi-qa-mpnet-base-cos-v1\")  # Different results, longer but not better\n",
    "# Use like this: embeddings = vector_embedder.encode(whatever_text)\n",
    "\n",
    "### Model fine-tuned for Cybersecurity\n",
    "# Load model directly\n",
    "#from transformers import AutoTokenizer, AutoModelForMaskedLM\n",
    "#tokenizer = AutoTokenizer.from_pretrained(\"jackaduma/SecBERT\")\n",
    "#vector_embedder = AutoModelForMaskedLM.from_pretrained(\"jackaduma/SecBERT\")\n",
    "\n",
    "# Use a lambda function to encode the text in each row and apply it to a new column\n",
    "df['embedding'] = df['Log Entry'].apply(lambda text:vector_embedder.encode(text))\n",
    "df.sample(3)"
   ]
  },
  {
   "cell_type": "code",
   "execution_count": 5,
   "metadata": {},
   "outputs": [
    {
     "data": {
      "text/plain": [
       "{'bootstrap': False,\n",
       " 'contamination': 'auto',\n",
       " 'max_features': 1.0,\n",
       " 'max_samples': 1000,\n",
       " 'n_estimators': 100,\n",
       " 'n_jobs': None,\n",
       " 'random_state': 96,\n",
       " 'verbose': 0,\n",
       " 'warm_start': False}"
      ]
     },
     "execution_count": 5,
     "metadata": {},
     "output_type": "execute_result"
    }
   ],
   "source": [
    "# Define a model object with the Isolation Forest algorithm\n",
    "#model=IsolationForest(n_estimators=100,max_samples='auto',contamination=0.05,random_state=96)\n",
    "#model=IsolationForest(n_estimators=100,max_samples='auto',contamination='auto',random_state=96)\n",
    "model=IsolationForest(n_estimators=100,max_samples=1000,contamination='auto',random_state=96)\n",
    "\n",
    "# Convert the embedding column to a numpy array for input to IsolationForest...it's a little nit-picky here\n",
    "X = np.vstack(df['embedding'].values)\n",
    "\n",
    "# Fit the data to the model\n",
    "model.fit(X)\n",
    "\n",
    "# Display parameter values that were used\n",
    "model.get_params()"
   ]
  },
  {
   "cell_type": "code",
   "execution_count": 6,
   "metadata": {},
   "outputs": [],
   "source": [
    "# Add a column to the DF for scores from the model's decision_function\n",
    "df['raw_score'] = model.decision_function(X)\n",
    "\n",
    "# Add a column to the DF for the anomaly flag from the model's predict function...-1 indicates anomaly\n",
    "df['anomaly_score'] = model.predict(X)\n"
   ]
  },
  {
   "cell_type": "code",
   "execution_count": 7,
   "metadata": {},
   "outputs": [
    {
     "data": {
      "text/html": [
       "<div>\n",
       "<style scoped>\n",
       "    .dataframe tbody tr th:only-of-type {\n",
       "        vertical-align: middle;\n",
       "    }\n",
       "\n",
       "    .dataframe tbody tr th {\n",
       "        vertical-align: top;\n",
       "    }\n",
       "\n",
       "    .dataframe thead th {\n",
       "        text-align: right;\n",
       "    }\n",
       "</style>\n",
       "<table border=\"1\" class=\"dataframe\">\n",
       "  <thead>\n",
       "    <tr style=\"text-align: right;\">\n",
       "      <th></th>\n",
       "      <th>ID</th>\n",
       "      <th>Log Entry</th>\n",
       "      <th>return_code</th>\n",
       "      <th>embedding</th>\n",
       "      <th>raw_score</th>\n",
       "      <th>anomaly_score</th>\n",
       "    </tr>\n",
       "  </thead>\n",
       "  <tbody>\n",
       "    <tr>\n",
       "      <th>521</th>\n",
       "      <td>522</td>\n",
       "      <td>GET http://www.example.com/style.css HTTP/1.1\"...</td>\n",
       "      <td>200</td>\n",
       "      <td>[-0.028242653, 0.051982034, 0.01806041, -0.000...</td>\n",
       "      <td>0.038322</td>\n",
       "      <td>1</td>\n",
       "    </tr>\n",
       "    <tr>\n",
       "      <th>962</th>\n",
       "      <td>963</td>\n",
       "      <td>GET http://www.example.com/index.php?page=../....</td>\n",
       "      <td>400</td>\n",
       "      <td>[-0.023413748, -0.031125512, -0.03088941, -0.0...</td>\n",
       "      <td>-0.077009</td>\n",
       "      <td>-1</td>\n",
       "    </tr>\n",
       "    <tr>\n",
       "      <th>124</th>\n",
       "      <td>125</td>\n",
       "      <td>GET http://www.example.com/ HTTP/1.1\" 200 4696...</td>\n",
       "      <td>200</td>\n",
       "      <td>[0.025887543, 0.009499743, -0.004411923, -0.02...</td>\n",
       "      <td>0.063920</td>\n",
       "      <td>1</td>\n",
       "    </tr>\n",
       "  </tbody>\n",
       "</table>\n",
       "</div>"
      ],
      "text/plain": [
       "      ID                                          Log Entry return_code  \\\n",
       "521  522  GET http://www.example.com/style.css HTTP/1.1\"...         200   \n",
       "962  963  GET http://www.example.com/index.php?page=../....         400   \n",
       "124  125  GET http://www.example.com/ HTTP/1.1\" 200 4696...         200   \n",
       "\n",
       "                                             embedding  raw_score  \\\n",
       "521  [-0.028242653, 0.051982034, 0.01806041, -0.000...   0.038322   \n",
       "962  [-0.023413748, -0.031125512, -0.03088941, -0.0...  -0.077009   \n",
       "124  [0.025887543, 0.009499743, -0.004411923, -0.02...   0.063920   \n",
       "\n",
       "     anomaly_score  \n",
       "521              1  \n",
       "962             -1  \n",
       "124              1  "
      ]
     },
     "execution_count": 7,
     "metadata": {},
     "output_type": "execute_result"
    }
   ],
   "source": [
    "# Display the data with the columns added\n",
    "df.sample(3)"
   ]
  },
  {
   "cell_type": "code",
   "execution_count": 8,
   "metadata": {},
   "outputs": [
    {
     "data": {
      "text/html": [
       "<div>\n",
       "<style scoped>\n",
       "    .dataframe tbody tr th:only-of-type {\n",
       "        vertical-align: middle;\n",
       "    }\n",
       "\n",
       "    .dataframe tbody tr th {\n",
       "        vertical-align: top;\n",
       "    }\n",
       "\n",
       "    .dataframe thead th {\n",
       "        text-align: right;\n",
       "    }\n",
       "</style>\n",
       "<table border=\"1\" class=\"dataframe\">\n",
       "  <thead>\n",
       "    <tr style=\"text-align: right;\">\n",
       "      <th></th>\n",
       "      <th>ID</th>\n",
       "      <th>Log Entry</th>\n",
       "      <th>return_code</th>\n",
       "      <th>embedding</th>\n",
       "      <th>raw_score</th>\n",
       "      <th>anomaly_score</th>\n",
       "    </tr>\n",
       "  </thead>\n",
       "  <tbody>\n",
       "    <tr>\n",
       "      <th>257</th>\n",
       "      <td>258</td>\n",
       "      <td>GET http://intranet.company.com/home HTTP/1.1\"...</td>\n",
       "      <td>200</td>\n",
       "      <td>[0.0341029, -0.03927156, -0.03259958, -0.04541...</td>\n",
       "      <td>-0.001033</td>\n",
       "      <td>-1</td>\n",
       "    </tr>\n",
       "    <tr>\n",
       "      <th>953</th>\n",
       "      <td>954</td>\n",
       "      <td>GET http://www.example.com/search?q=&lt;script&gt;al...</td>\n",
       "      <td>404</td>\n",
       "      <td>[0.025540454, 0.03765754, -0.030997962, 0.0204...</td>\n",
       "      <td>-0.056749</td>\n",
       "      <td>-1</td>\n",
       "    </tr>\n",
       "    <tr>\n",
       "      <th>125</th>\n",
       "      <td>126</td>\n",
       "      <td>GET http://www.example.com/script.js HTTP/1.1\"...</td>\n",
       "      <td>200</td>\n",
       "      <td>[-0.02132573, -0.001950505, -0.005118318, -0.0...</td>\n",
       "      <td>-0.004711</td>\n",
       "      <td>-1</td>\n",
       "    </tr>\n",
       "  </tbody>\n",
       "</table>\n",
       "</div>"
      ],
      "text/plain": [
       "      ID                                          Log Entry return_code  \\\n",
       "257  258  GET http://intranet.company.com/home HTTP/1.1\"...         200   \n",
       "953  954  GET http://www.example.com/search?q=<script>al...         404   \n",
       "125  126  GET http://www.example.com/script.js HTTP/1.1\"...         200   \n",
       "\n",
       "                                             embedding  raw_score  \\\n",
       "257  [0.0341029, -0.03927156, -0.03259958, -0.04541...  -0.001033   \n",
       "953  [0.025540454, 0.03765754, -0.030997962, 0.0204...  -0.056749   \n",
       "125  [-0.02132573, -0.001950505, -0.005118318, -0.0...  -0.004711   \n",
       "\n",
       "     anomaly_score  \n",
       "257             -1  \n",
       "953             -1  \n",
       "125             -1  "
      ]
     },
     "execution_count": 8,
     "metadata": {},
     "output_type": "execute_result"
    }
   ],
   "source": [
    "# Display just the anomalies\n",
    "df[df['anomaly_score']==-1].sample(3)"
   ]
  },
  {
   "cell_type": "code",
   "execution_count": 9,
   "metadata": {},
   "outputs": [
    {
     "data": {
      "text/plain": [
       "anomaly_score\n",
       " 1    928\n",
       "-1     72\n",
       "Name: count, dtype: int64"
      ]
     },
     "execution_count": 9,
     "metadata": {},
     "output_type": "execute_result"
    }
   ],
   "source": [
    "# The outliers have anomaly_score = -1 \n",
    "# This output is much better than the 711/289 split we got from prior clustering exercises.\n",
    "# NOTE:  Setting max_samples very high helps...the output below is very close to the known 950/50\n",
    "\n",
    "# We could perhaps dig into the data to validate, then adjust contamination parameter to get better \n",
    "# on-going accuracy from this unsupervised algorithm. It would be worth trying with real data.\n",
    "df['anomaly_score'].value_counts()"
   ]
  },
  {
   "cell_type": "code",
   "execution_count": 10,
   "metadata": {},
   "outputs": [
    {
     "data": {
      "image/png": "[encoded data removed]",
      "text/plain": [
       "<Figure size 1000x700 with 1 Axes>"
      ]
     },
     "metadata": {},
     "output_type": "display_data"
    }
   ],
   "source": [
    "# If we just do a scatter plot of the anomaly_score results, it's very clear...but doesn't really tell us much.\n",
    "plt.figure(figsize=(10, 7))\n",
    "scatter = plt.scatter(df.raw_score, df.anomaly_score)\n",
    "plt.title('Anomaly Plot')\n",
    "plt.xlabel('Raw Score')\n",
    "plt.ylabel('Anomaly Score')\n",
    "plt.show()"
   ]
  },
  {
   "cell_type": "code",
   "execution_count": 11,
   "metadata": {},
   "outputs": [
    {
     "data": {
      "image/png": "[encoded data removed]",
      "text/plain": [
       "<Figure size 1000x700 with 2 Axes>"
      ]
     },
     "metadata": {},
     "output_type": "display_data"
    }
   ],
   "source": [
    "# Plot the results after applying PCA to the vector embeddings...color indicates the anomaly score.\n",
    "# This is a bit like plotting two things to try to understand how/why they align/not...the dark colors are\n",
    "# the samples that were flagged as anomalies.\n",
    "\n",
    "# Reduce the 384 dimension vector embeddings to 2 dimensions using PCA\n",
    "pca = PCA(n_components=2)\n",
    "embeddings = df['embedding'].tolist()\n",
    "reduced_embeddings = pca.fit_transform(embeddings)\n",
    "\n",
    "# Plot\n",
    "plt.figure(figsize=(10, 7))\n",
    "scatter = plt.scatter(reduced_embeddings[:, 0], reduced_embeddings[:, 1], c=df['anomaly_score'], cmap='viridis', marker='o')\n",
    "plt.title('Isolation Forest after vector embedding PCA reduction to 2 Dimensions')\n",
    "plt.xlabel('PCA Component 1')\n",
    "plt.ylabel('PCA Component 2')\n",
    "plt.colorbar(scatter, label='Anomaly_Score')\n",
    "plt.show()"
   ]
  },
  {
   "cell_type": "code",
   "execution_count": 13,
   "metadata": {},
   "outputs": [
    {
     "name": "stdout",
     "output_type": "stream",
     "text": [
      "GOOD: Count of entries flagged anomaly and return_code not 200: 50\n",
      "FALSE POSITIVE: Count of entries flagged anomaly but return_code is 200: 22\n",
      "FALSE NEGATIVE: Count of entries not flagged anomaly and return_code not 200: 0\n",
      "GOOD: Count of entries not flagged anomaly and return_code is 200: 928\n"
     ]
    }
   ],
   "source": [
    "# Let's examine whether the 70-ish anomalies include all of the 50 known malicious log entries\n",
    "print(\"GOOD: Count of entries flagged anomaly and return_code not 200: \", end='')\n",
    "print(len(df[(df['anomaly_score'] == -1) & (df['return_code'] != '200')][['return_code', 'anomaly_score']]))\n",
    "print(\"FALSE POSITIVE: Count of entries flagged anomaly but return_code is 200: \", end='')\n",
    "print(len(df[(df['anomaly_score'] == -1) & (df['return_code'] == '200')][['return_code', 'anomaly_score']]))\n",
    "print(\"FALSE NEGATIVE: Count of entries not flagged anomaly and return_code not 200: \", end='')\n",
    "print(len(df[(df['anomaly_score'] == 1) & (df['return_code'] != '200')][['return_code', 'anomaly_score']]))\n",
    "print(\"GOOD: Count of entries not flagged anomaly and return_code is 200: \", end='')\n",
    "print(len(df[(df['anomaly_score'] == 1) & (df['return_code'] == '200')][['return_code', 'anomaly_score']]))"
   ]
  },
  {
   "cell_type": "code",
   "execution_count": 14,
   "metadata": {},
   "outputs": [
    {
     "data": {
      "text/html": [
       "<div>\n",
       "<style scoped>\n",
       "    .dataframe tbody tr th:only-of-type {\n",
       "        vertical-align: middle;\n",
       "    }\n",
       "\n",
       "    .dataframe tbody tr th {\n",
       "        vertical-align: top;\n",
       "    }\n",
       "\n",
       "    .dataframe thead th {\n",
       "        text-align: right;\n",
       "    }\n",
       "</style>\n",
       "<table border=\"1\" class=\"dataframe\">\n",
       "  <thead>\n",
       "    <tr style=\"text-align: right;\">\n",
       "      <th></th>\n",
       "      <th>return_code</th>\n",
       "      <th>anomaly_score</th>\n",
       "      <th>Log Entry</th>\n",
       "    </tr>\n",
       "  </thead>\n",
       "  <tbody>\n",
       "    <tr>\n",
       "      <th>24</th>\n",
       "      <td>200</td>\n",
       "      <td>-1</td>\n",
       "      <td>GET http://cloudstorage.com/files HTTP/1.1\" 200 365923 \"http://cloudstorage.com/files\" \"Mozilla/5.0 (Windows NT 10.0; Win64; x64) AppleWebKit/537.36 (KHTML, like Gecko) Chrome/104.0.5112.81 Safari/537.36</td>\n",
       "    </tr>\n",
       "    <tr>\n",
       "      <th>56</th>\n",
       "      <td>200</td>\n",
       "      <td>-1</td>\n",
       "      <td>GET http://cloudstorage.com/authenticate HTTP/1.1\" 200 54006 \"http://cloudstorage.com/authenticate\" \"Mozilla/5.0 (X11; Ubuntu; Linux x86_64; rv:89.0) Gecko/20100101 Firefox/89.0</td>\n",
       "    </tr>\n",
       "    <tr>\n",
       "      <th>75</th>\n",
       "      <td>200</td>\n",
       "      <td>-1</td>\n",
       "      <td>GET http://cloudstorage.com/files HTTP/1.1\" 200 427776 \"http://cloudstorage.com/files\" \"Mozilla/5.0 (X11; Ubuntu; Linux x86_64; rv:89.0) Gecko/20100101 Firefox/89.0</td>\n",
       "    </tr>\n",
       "    <tr>\n",
       "      <th>116</th>\n",
       "      <td>200</td>\n",
       "      <td>-1</td>\n",
       "      <td>GET http://www.example.com/style.css HTTP/1.1\" 200 330502 \"http://www.example.com/style.css\" \"Mozilla/5.0 (X11; Ubuntu; Linux x86_64; rv:89.0) Gecko/20100101 Firefox/89.0</td>\n",
       "    </tr>\n",
       "    <tr>\n",
       "      <th>125</th>\n",
       "      <td>200</td>\n",
       "      <td>-1</td>\n",
       "      <td>GET http://www.example.com/script.js HTTP/1.1\" 200 540058 \"http://www.example.com/script.js\" \"Mozilla/5.0 (X11; Ubuntu; Linux x86_64; rv:89.0) Gecko/20100101 Firefox/89.0</td>\n",
       "    </tr>\n",
       "    <tr>\n",
       "      <th>127</th>\n",
       "      <td>200</td>\n",
       "      <td>-1</td>\n",
       "      <td>GET http://cloudstorage.com/authenticate HTTP/1.1\" 200 978580 \"http://cloudstorage.com/authenticate\" \"Mozilla/5.0 (X11; Ubuntu; Linux x86_64; rv:89.0) Gecko/20100101 Firefox/89.0</td>\n",
       "    </tr>\n",
       "    <tr>\n",
       "      <th>202</th>\n",
       "      <td>200</td>\n",
       "      <td>-1</td>\n",
       "      <td>GET http://www.example.com/style.css HTTP/1.1\" 200 171544 \"http://www.example.com/style.css\" \"Mozilla/5.0 (Macintosh; Intel Mac OS X 10_15_7) AppleWebKit/605.1.15 (KHTML, like Gecko) Version/14.0.3 Safari/605.1.15</td>\n",
       "    </tr>\n",
       "    <tr>\n",
       "      <th>206</th>\n",
       "      <td>200</td>\n",
       "      <td>-1</td>\n",
       "      <td>GET http://update.software.com/version.xml HTTP/1.1\" 200 330881 \"http://update.software.com/version.xml\" \"Mozilla/5.0 (X11; Ubuntu; Linux x86_64; rv:89.0) Gecko/20100101 Firefox/89.0</td>\n",
       "    </tr>\n",
       "    <tr>\n",
       "      <th>230</th>\n",
       "      <td>200</td>\n",
       "      <td>-1</td>\n",
       "      <td>GET http://update.software.com/version.xml HTTP/1.1\" 200 805145 \"http://update.software.com/version.xml\" \"Mozilla/5.0 (X11; Ubuntu; Linux x86_64; rv:89.0) Gecko/20100101 Firefox/89.0</td>\n",
       "    </tr>\n",
       "    <tr>\n",
       "      <th>245</th>\n",
       "      <td>200</td>\n",
       "      <td>-1</td>\n",
       "      <td>GET http://update.software.com/check HTTP/1.1\" 200 8511 \"http://update.software.com/check\" \"Mozilla/5.0 (X11; Ubuntu; Linux x86_64; rv:89.0) Gecko/20100101 Firefox/89.0</td>\n",
       "    </tr>\n",
       "    <tr>\n",
       "      <th>257</th>\n",
       "      <td>200</td>\n",
       "      <td>-1</td>\n",
       "      <td>GET http://intranet.company.com/home HTTP/1.1\" 200 330605 \"http://intranet.company.com/home\" \"Mozilla/5.0 (X11; Ubuntu; Linux x86_64; rv:89.0) Gecko/20100101 Firefox/89.0</td>\n",
       "    </tr>\n",
       "    <tr>\n",
       "      <th>425</th>\n",
       "      <td>200</td>\n",
       "      <td>-1</td>\n",
       "      <td>GET http://cloudstorage.com/authenticate HTTP/1.1\" 200 171082 \"http://cloudstorage.com/authenticate\" \"Mozilla/5.0 (X11; Ubuntu; Linux x86_64; rv:89.0) Gecko/20100101 Firefox/89.0</td>\n",
       "    </tr>\n",
       "    <tr>\n",
       "      <th>426</th>\n",
       "      <td>200</td>\n",
       "      <td>-1</td>\n",
       "      <td>GET http://www.example.com/style.css HTTP/1.1\" 200 184856 \"http://www.example.com/style.css\" \"Mozilla/5.0 (X11; Ubuntu; Linux x86_64; rv:89.0) Gecko/20100101 Firefox/89.0</td>\n",
       "    </tr>\n",
       "    <tr>\n",
       "      <th>495</th>\n",
       "      <td>200</td>\n",
       "      <td>-1</td>\n",
       "      <td>GET http://intranet.company.com/docs/document.pdf HTTP/1.1\" 200 199325 \"http://intranet.company.com/docs/document.pdf\" \"Mozilla/5.0 (X11; Ubuntu; Linux x86_64; rv:89.0) Gecko/20100101 Firefox/89.0</td>\n",
       "    </tr>\n",
       "    <tr>\n",
       "      <th>518</th>\n",
       "      <td>200</td>\n",
       "      <td>-1</td>\n",
       "      <td>GET http://cloudstorage.com/login HTTP/1.1\" 200 195410 \"http://cloudstorage.com/login\" \"Mozilla/5.0 (X11; Ubuntu; Linux x86_64; rv:89.0) Gecko/20100101 Firefox/89.0</td>\n",
       "    </tr>\n",
       "    <tr>\n",
       "      <th>525</th>\n",
       "      <td>200</td>\n",
       "      <td>-1</td>\n",
       "      <td>GET http://www.example.com/style.css HTTP/1.1\" 200 18315 \"http://www.example.com/style.css\" \"Mozilla/5.0 (X11; Ubuntu; Linux x86_64; rv:89.0) Gecko/20100101 Firefox/89.0</td>\n",
       "    </tr>\n",
       "    <tr>\n",
       "      <th>564</th>\n",
       "      <td>200</td>\n",
       "      <td>-1</td>\n",
       "      <td>GET http://update.software.com/check HTTP/1.1\" 200 19503 \"http://update.software.com/check\" \"Mozilla/5.0 (X11; Ubuntu; Linux x86_64; rv:89.0) Gecko/20100101 Firefox/89.0</td>\n",
       "    </tr>\n",
       "    <tr>\n",
       "      <th>701</th>\n",
       "      <td>200</td>\n",
       "      <td>-1</td>\n",
       "      <td>GET http://update.software.com/check HTTP/1.1\" 200 965151 \"http://update.software.com/check\" \"Mozilla/5.0 (X11; Ubuntu; Linux x86_64; rv:89.0) Gecko/20100101 Firefox/89.0</td>\n",
       "    </tr>\n",
       "    <tr>\n",
       "      <th>739</th>\n",
       "      <td>200</td>\n",
       "      <td>-1</td>\n",
       "      <td>GET http://www.example.com/style.css HTTP/1.1\" 200 194664 \"http://www.example.com/style.css\" \"Mozilla/5.0 (Macintosh; Intel Mac OS X 10_15_7) AppleWebKit/605.1.15 (KHTML, like Gecko) Version/14.0.3 Safari/605.1.15</td>\n",
       "    </tr>\n",
       "    <tr>\n",
       "      <th>801</th>\n",
       "      <td>200</td>\n",
       "      <td>-1</td>\n",
       "      <td>GET http://update.software.com/check HTTP/1.1\" 200 5100 \"http://update.software.com/check\" \"Mozilla/5.0 (Windows NT 10.0; Win64; x64) AppleWebKit/537.36 (KHTML, like Gecko) Chrome/104.0.5112.81 Safari/537.36</td>\n",
       "    </tr>\n",
       "    <tr>\n",
       "      <th>809</th>\n",
       "      <td>200</td>\n",
       "      <td>-1</td>\n",
       "      <td>GET http://www.example.com/style.css HTTP/1.1\" 200 441922 \"http://www.example.com/style.css\" \"Mozilla/5.0 (Windows NT 10.0; Win64; x64) AppleWebKit/537.36 (KHTML, like Gecko) Chrome/104.0.5112.81 Safari/537.36</td>\n",
       "    </tr>\n",
       "    <tr>\n",
       "      <th>826</th>\n",
       "      <td>200</td>\n",
       "      <td>-1</td>\n",
       "      <td>GET http://intranet.company.com/docs/document.pdf HTTP/1.1\" 200 18273 \"http://intranet.company.com/docs/document.pdf\" \"Mozilla/5.0 (X11; Ubuntu; Linux x86_64; rv:89.0) Gecko/20100101 Firefox/89.0</td>\n",
       "    </tr>\n",
       "  </tbody>\n",
       "</table>\n",
       "</div>"
      ],
      "text/plain": [
       "    return_code  anomaly_score  \\\n",
       "24          200             -1   \n",
       "56          200             -1   \n",
       "75          200             -1   \n",
       "116         200             -1   \n",
       "125         200             -1   \n",
       "127         200             -1   \n",
       "202         200             -1   \n",
       "206         200             -1   \n",
       "230         200             -1   \n",
       "245         200             -1   \n",
       "257         200             -1   \n",
       "425         200             -1   \n",
       "426         200             -1   \n",
       "495         200             -1   \n",
       "518         200             -1   \n",
       "525         200             -1   \n",
       "564         200             -1   \n",
       "701         200             -1   \n",
       "739         200             -1   \n",
       "801         200             -1   \n",
       "809         200             -1   \n",
       "826         200             -1   \n",
       "\n",
       "                                                                                                                                                                                                                 Log Entry  \n",
       "24             GET http://cloudstorage.com/files HTTP/1.1\" 200 365923 \"http://cloudstorage.com/files\" \"Mozilla/5.0 (Windows NT 10.0; Win64; x64) AppleWebKit/537.36 (KHTML, like Gecko) Chrome/104.0.5112.81 Safari/537.36  \n",
       "56                                       GET http://cloudstorage.com/authenticate HTTP/1.1\" 200 54006 \"http://cloudstorage.com/authenticate\" \"Mozilla/5.0 (X11; Ubuntu; Linux x86_64; rv:89.0) Gecko/20100101 Firefox/89.0  \n",
       "75                                                    GET http://cloudstorage.com/files HTTP/1.1\" 200 427776 \"http://cloudstorage.com/files\" \"Mozilla/5.0 (X11; Ubuntu; Linux x86_64; rv:89.0) Gecko/20100101 Firefox/89.0  \n",
       "116                                             GET http://www.example.com/style.css HTTP/1.1\" 200 330502 \"http://www.example.com/style.css\" \"Mozilla/5.0 (X11; Ubuntu; Linux x86_64; rv:89.0) Gecko/20100101 Firefox/89.0  \n",
       "125                                             GET http://www.example.com/script.js HTTP/1.1\" 200 540058 \"http://www.example.com/script.js\" \"Mozilla/5.0 (X11; Ubuntu; Linux x86_64; rv:89.0) Gecko/20100101 Firefox/89.0  \n",
       "127                                     GET http://cloudstorage.com/authenticate HTTP/1.1\" 200 978580 \"http://cloudstorage.com/authenticate\" \"Mozilla/5.0 (X11; Ubuntu; Linux x86_64; rv:89.0) Gecko/20100101 Firefox/89.0  \n",
       "202  GET http://www.example.com/style.css HTTP/1.1\" 200 171544 \"http://www.example.com/style.css\" \"Mozilla/5.0 (Macintosh; Intel Mac OS X 10_15_7) AppleWebKit/605.1.15 (KHTML, like Gecko) Version/14.0.3 Safari/605.1.15  \n",
       "206                                 GET http://update.software.com/version.xml HTTP/1.1\" 200 330881 \"http://update.software.com/version.xml\" \"Mozilla/5.0 (X11; Ubuntu; Linux x86_64; rv:89.0) Gecko/20100101 Firefox/89.0  \n",
       "230                                 GET http://update.software.com/version.xml HTTP/1.1\" 200 805145 \"http://update.software.com/version.xml\" \"Mozilla/5.0 (X11; Ubuntu; Linux x86_64; rv:89.0) Gecko/20100101 Firefox/89.0  \n",
       "245                                               GET http://update.software.com/check HTTP/1.1\" 200 8511 \"http://update.software.com/check\" \"Mozilla/5.0 (X11; Ubuntu; Linux x86_64; rv:89.0) Gecko/20100101 Firefox/89.0  \n",
       "257                                             GET http://intranet.company.com/home HTTP/1.1\" 200 330605 \"http://intranet.company.com/home\" \"Mozilla/5.0 (X11; Ubuntu; Linux x86_64; rv:89.0) Gecko/20100101 Firefox/89.0  \n",
       "425                                     GET http://cloudstorage.com/authenticate HTTP/1.1\" 200 171082 \"http://cloudstorage.com/authenticate\" \"Mozilla/5.0 (X11; Ubuntu; Linux x86_64; rv:89.0) Gecko/20100101 Firefox/89.0  \n",
       "426                                             GET http://www.example.com/style.css HTTP/1.1\" 200 184856 \"http://www.example.com/style.css\" \"Mozilla/5.0 (X11; Ubuntu; Linux x86_64; rv:89.0) Gecko/20100101 Firefox/89.0  \n",
       "495                   GET http://intranet.company.com/docs/document.pdf HTTP/1.1\" 200 199325 \"http://intranet.company.com/docs/document.pdf\" \"Mozilla/5.0 (X11; Ubuntu; Linux x86_64; rv:89.0) Gecko/20100101 Firefox/89.0  \n",
       "518                                                   GET http://cloudstorage.com/login HTTP/1.1\" 200 195410 \"http://cloudstorage.com/login\" \"Mozilla/5.0 (X11; Ubuntu; Linux x86_64; rv:89.0) Gecko/20100101 Firefox/89.0  \n",
       "525                                              GET http://www.example.com/style.css HTTP/1.1\" 200 18315 \"http://www.example.com/style.css\" \"Mozilla/5.0 (X11; Ubuntu; Linux x86_64; rv:89.0) Gecko/20100101 Firefox/89.0  \n",
       "564                                              GET http://update.software.com/check HTTP/1.1\" 200 19503 \"http://update.software.com/check\" \"Mozilla/5.0 (X11; Ubuntu; Linux x86_64; rv:89.0) Gecko/20100101 Firefox/89.0  \n",
       "701                                             GET http://update.software.com/check HTTP/1.1\" 200 965151 \"http://update.software.com/check\" \"Mozilla/5.0 (X11; Ubuntu; Linux x86_64; rv:89.0) Gecko/20100101 Firefox/89.0  \n",
       "739  GET http://www.example.com/style.css HTTP/1.1\" 200 194664 \"http://www.example.com/style.css\" \"Mozilla/5.0 (Macintosh; Intel Mac OS X 10_15_7) AppleWebKit/605.1.15 (KHTML, like Gecko) Version/14.0.3 Safari/605.1.15  \n",
       "801        GET http://update.software.com/check HTTP/1.1\" 200 5100 \"http://update.software.com/check\" \"Mozilla/5.0 (Windows NT 10.0; Win64; x64) AppleWebKit/537.36 (KHTML, like Gecko) Chrome/104.0.5112.81 Safari/537.36  \n",
       "809      GET http://www.example.com/style.css HTTP/1.1\" 200 441922 \"http://www.example.com/style.css\" \"Mozilla/5.0 (Windows NT 10.0; Win64; x64) AppleWebKit/537.36 (KHTML, like Gecko) Chrome/104.0.5112.81 Safari/537.36  \n",
       "826                    GET http://intranet.company.com/docs/document.pdf HTTP/1.1\" 200 18273 \"http://intranet.company.com/docs/document.pdf\" \"Mozilla/5.0 (X11; Ubuntu; Linux x86_64; rv:89.0) Gecko/20100101 Firefox/89.0  "
      ]
     },
     "execution_count": 14,
     "metadata": {},
     "output_type": "execute_result"
    }
   ],
   "source": [
    "# Good news...there were zero \"false negatives\"...all malicious entries were flagged as anomalies.\n",
    "\n",
    "# Let's examine the \"false positives\"...rows flagged as anomaly but have return_code 200\n",
    "pd.set_option('max_colwidth', None) # show full width of showing cols\n",
    "df[(df['anomaly_score'] == -1) & (df['return_code'] == '200')][['return_code', 'anomaly_score', 'Log Entry']]\n",
    "\n",
    "# These may have been truly anomalies (unusual log entries compared to the bulk of logs), but just were \n",
    "# not actually malicious log entries"
   ]
  },
  {
   "cell_type": "markdown",
   "metadata": {},
   "source": [
    "Our unsupervised Isolation Forest ML model seems to have done very well with this fabricated data. All 50 malicious logs (non-200 return code) were flagged as anomalies, plus 20-ish other non-malicious log entries that may have actually been anomalies even though they were not malicious. This is definitely worth using to examine real log data.  The fact that there were no \"false negatives\" (no malicious logs missed) is a very desireable characteristic. The 20-ish logs flagged as anomalies that were not malicious are essentially \"white noise\". "
   ]
  }
 ],
 "metadata": {
  "kernelspec": {
   "display_name": "Python 3",
   "language": "python",
   "name": "python3"
  },
  "language_info": {
   "codemirror_mode": {
    "name": "ipython",
    "version": 3
   },
   "file_extension": ".py",
   "mimetype": "text/x-python",
   "name": "python",
   "nbconvert_exporter": "python",
   "pygments_lexer": "ipython3",
   "version": "3.11.9"
  }
 },
 "nbformat": 4,
 "nbformat_minor": 2
}
