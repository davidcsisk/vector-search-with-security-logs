{
 "cells": [
  {
   "cell_type": "markdown",
   "metadata": {},
   "source": [
    "# Unsupervised Anomaly Detection on Security Logs using <u>Levenshtein Similarity Score</u>\n",
    "This is a continuation of the prior research. In this notebook, we are leveraging the Isolation Forest algorithm to perform unsupervised training of an anomaly detection model.  HOWEVER...we are trying this using Levenshtein similarity score INSTEAD OF using text vector embeddings as the input. I expect that this approach will be much less accurate...Levenshtein score is a scalar value that is the minimum number of distinct edits to make two text passages the same, versus a 384-dimension vector embedding output by a language-interpreting LLM that is trying to capture the meaning of the text. This is a no-AI approach to this problem, but it's worth investigating.  Will it work?  Will it come close to the known actual 950/50 split of good/bad log entries?  Let us see..."
   ]
  },
  {
   "cell_type": "code",
   "execution_count": 1,
   "metadata": {},
   "outputs": [],
   "source": [
    "### Uncomment and run the line below if this is the first time executing this notebook. Package installs in requirements.txt.\n",
    "#! python -m venv venv\n",
    "#! powershell venv\\Scripts\\Activate.ps1\n",
    "#! pip install pandas\n",
    "#! pip install matplotlib\n",
    "#! pip install sklearn\n",
    "#! pip install levenshtein"
   ]
  },
  {
   "cell_type": "code",
   "execution_count": 1,
   "metadata": {},
   "outputs": [],
   "source": [
    "import numpy as np\n",
    "import pandas as pd\n",
    "import matplotlib.pyplot as plt\n",
    "from sklearn.ensemble import IsolationForest\n",
    "from sklearn.metrics import pairwise_distances\n",
    "import Levenshtein as lev"
   ]
  },
  {
   "cell_type": "code",
   "execution_count": 3,
   "metadata": {},
   "outputs": [
    {
     "data": {
      "text/plain": [
       "2"
      ]
     },
     "execution_count": 3,
     "metadata": {},
     "output_type": "execute_result"
    }
   ],
   "source": [
    "# Levenshtein calculates the minimum number of insertions, deletions, and substitutions required to change \n",
    "# one text sequence into the other with custom costs for insertion, deletion and substitution\n",
    "# This gives us a \"rule-based\" means to score text dis-similarity, versus using an LLM that allows us to \n",
    "# compare and score the meaning of the text\n",
    "# Example...should return a score of 2:\n",
    "lev.distance(\"lewenstein\", \"levenshtein\")"
   ]
  },
  {
   "cell_type": "code",
   "execution_count": 6,
   "metadata": {},
   "outputs": [
    {
     "data": {
      "text/html": [
       "<div>\n",
       "<style scoped>\n",
       "    .dataframe tbody tr th:only-of-type {\n",
       "        vertical-align: middle;\n",
       "    }\n",
       "\n",
       "    .dataframe tbody tr th {\n",
       "        vertical-align: top;\n",
       "    }\n",
       "\n",
       "    .dataframe thead th {\n",
       "        text-align: right;\n",
       "    }\n",
       "</style>\n",
       "<table border=\"1\" class=\"dataframe\">\n",
       "  <thead>\n",
       "    <tr style=\"text-align: right;\">\n",
       "      <th></th>\n",
       "      <th>ID</th>\n",
       "      <th>Log Entry</th>\n",
       "      <th>return_code</th>\n",
       "    </tr>\n",
       "  </thead>\n",
       "  <tbody>\n",
       "    <tr>\n",
       "      <th>736</th>\n",
       "      <td>737</td>\n",
       "      <td>GET http://cloudstorage.com/authenticate HTTP/...</td>\n",
       "      <td>200</td>\n",
       "    </tr>\n",
       "    <tr>\n",
       "      <th>582</th>\n",
       "      <td>583</td>\n",
       "      <td>GET http://cloudstorage.com/login HTTP/1.1\" 20...</td>\n",
       "      <td>200</td>\n",
       "    </tr>\n",
       "    <tr>\n",
       "      <th>546</th>\n",
       "      <td>547</td>\n",
       "      <td>GET http://update.software.com/version.xml HTT...</td>\n",
       "      <td>200</td>\n",
       "    </tr>\n",
       "  </tbody>\n",
       "</table>\n",
       "</div>"
      ],
      "text/plain": [
       "      ID                                          Log Entry return_code\n",
       "736  737  GET http://cloudstorage.com/authenticate HTTP/...         200\n",
       "582  583  GET http://cloudstorage.com/login HTTP/1.1\" 20...         200\n",
       "546  547  GET http://update.software.com/version.xml HTT...         200"
      ]
     },
     "execution_count": 6,
     "metadata": {},
     "output_type": "execute_result"
    }
   ],
   "source": [
    "# We'll use the fabricated mixed proxy logs with known 950 benign log entries and 50 malicious log entries \n",
    "# Our goal is to see if we can get them accurately classified into that 950 benign + 50 malicious\n",
    "# Read the log data into a dataframe, and drop the columns we don't need for this exercise, and \n",
    "# extract the return code to use in validating the eventual output\n",
    "df = pd.read_csv('proxy_logs_mixed.csv')\n",
    "df = df.drop(['IP Address', 'Timestamp'], axis=1)  # We don't need IP nor timestamp for this task\n",
    "df['return_code'] = df['Log Entry'].str.split().str[3]\n",
    "df.sample(3)"
   ]
  },
  {
   "cell_type": "code",
   "execution_count": 7,
   "metadata": {},
   "outputs": [
    {
     "data": {
      "text/plain": [
       "return_code\n",
       "200    950\n",
       "403     18\n",
       "500     11\n",
       "404     11\n",
       "400     10\n",
       "Name: count, dtype: int64"
      ]
     },
     "execution_count": 7,
     "metadata": {},
     "output_type": "execute_result"
    }
   ],
   "source": [
    "# Let's confirm that we have 950 benign (rc = 200) and 50 malicious (rc != 200)\n",
    "df['return_code'].value_counts()"
   ]
  },
  {
   "cell_type": "code",
   "execution_count": 20,
   "metadata": {},
   "outputs": [
    {
     "data": {
      "text/plain": [
       "(1000, 1000)"
      ]
     },
     "execution_count": 20,
     "metadata": {},
     "output_type": "execute_result"
    }
   ],
   "source": [
    "# Compute the pairwise distance matrix.  Since we don't have vector embeddings to work with, we have to \n",
    "# have some way to calculate a similarity score between text passages.  Normally, this work would be done\n",
    "# by the vector datastore on-the-fly during an HNSW vector search...since we don't have that, we have to \n",
    "# pre-calculate this matrix ahead of time.\n",
    "\n",
    "# This creates a matrix of every row x every row and the Levenshtein distance between each row's text, \n",
    "# related back to the original dataframe by the ID. The distance matrix looks something like this: \n",
    "#       ABC   BCD   DEF\n",
    "# ABC    0     2     6\n",
    "# BCD    2     0     4\n",
    "# DEF    6     4     0\n",
    "# For instance, the distance between ABC and BCD in edits is 1 delete and 1 insertion, for a score of 2.\n",
    "# For Levenshtein distance, lower is better.\n",
    "\n",
    "distance_matrix = pairwise_distances(df['Log Entry'].values.reshape(-1, 1), \n",
    "                                     metric=lambda x, y: lev.distance(x[0], y[0]))\n",
    "distance_matrix.shape # Check the shape of the matrix"
   ]
  },
  {
   "cell_type": "code",
   "execution_count": 21,
   "metadata": {},
   "outputs": [
    {
     "data": {
      "text/plain": [
       "{'bootstrap': False,\n",
       " 'contamination': 'auto',\n",
       " 'max_features': 1.0,\n",
       " 'max_samples': 1000,\n",
       " 'n_estimators': 100,\n",
       " 'n_jobs': None,\n",
       " 'random_state': 96,\n",
       " 'verbose': 0,\n",
       " 'warm_start': False}"
      ]
     },
     "execution_count": 21,
     "metadata": {},
     "output_type": "execute_result"
    }
   ],
   "source": [
    "# Define a model object with the Isolation Forest algorithm\n",
    "# Let's favor a large number of samples and let the algorithm figure out the contamination ratio\n",
    "model=IsolationForest(n_estimators=100,max_samples=1000,contamination='auto',random_state=96)\n",
    "\n",
    "# Fit the data to the model\n",
    "model.fit(distance_matrix)\n",
    "\n",
    "# Display parameter values that were used\n",
    "model.get_params()"
   ]
  },
  {
   "cell_type": "code",
   "execution_count": 22,
   "metadata": {},
   "outputs": [],
   "source": [
    "# Add a column to the DF for raw scores from the model's decision_function\n",
    "df['raw_score'] = model.decision_function(distance_matrix)\n",
    "\n",
    "# Add a column to the DF for the anomaly flag from the model's predict function...-1 indicates anomaly\n",
    "df['anomaly_score'] = model.predict(distance_matrix)"
   ]
  },
  {
   "cell_type": "code",
   "execution_count": 23,
   "metadata": {},
   "outputs": [
    {
     "data": {
      "text/html": [
       "<div>\n",
       "<style scoped>\n",
       "    .dataframe tbody tr th:only-of-type {\n",
       "        vertical-align: middle;\n",
       "    }\n",
       "\n",
       "    .dataframe tbody tr th {\n",
       "        vertical-align: top;\n",
       "    }\n",
       "\n",
       "    .dataframe thead th {\n",
       "        text-align: right;\n",
       "    }\n",
       "</style>\n",
       "<table border=\"1\" class=\"dataframe\">\n",
       "  <thead>\n",
       "    <tr style=\"text-align: right;\">\n",
       "      <th></th>\n",
       "      <th>ID</th>\n",
       "      <th>Log Entry</th>\n",
       "      <th>return_code</th>\n",
       "      <th>raw_score</th>\n",
       "      <th>anomaly_score</th>\n",
       "    </tr>\n",
       "  </thead>\n",
       "  <tbody>\n",
       "    <tr>\n",
       "      <th>234</th>\n",
       "      <td>235</td>\n",
       "      <td>GET http://update.software.com/version.xml HTTP/1.1\" 200 966133 \"http://update.software.com/version.xml\" \"Mozilla/5.0 (Macintosh; Intel Mac OS X 10_15_7) AppleWebKit/605.1.15 (KHTML, like Gecko) Version/14.0.3 Safari/605.1.15</td>\n",
       "      <td>200</td>\n",
       "      <td>0.046171</td>\n",
       "      <td>1</td>\n",
       "    </tr>\n",
       "    <tr>\n",
       "      <th>298</th>\n",
       "      <td>299</td>\n",
       "      <td>GET http://cloudstorage.com/files HTTP/1.1\" 200 45752 \"http://cloudstorage.com/files\" \"Mozilla/5.0 (X11; Ubuntu; Linux x86_64; rv:89.0) Gecko/20100101 Firefox/89.0</td>\n",
       "      <td>200</td>\n",
       "      <td>0.038845</td>\n",
       "      <td>1</td>\n",
       "    </tr>\n",
       "    <tr>\n",
       "      <th>362</th>\n",
       "      <td>363</td>\n",
       "      <td>GET http://www.example.com/ HTTP/1.1\" 200 680119 \"http://www.example.com/\" \"Mozilla/5.0 (Macintosh; Intel Mac OS X 10_15_7) AppleWebKit/605.1.15 (KHTML, like Gecko) Version/14.0.3 Safari/605.1.15</td>\n",
       "      <td>200</td>\n",
       "      <td>0.044471</td>\n",
       "      <td>1</td>\n",
       "    </tr>\n",
       "  </tbody>\n",
       "</table>\n",
       "</div>"
      ],
      "text/plain": [
       "      ID  \\\n",
       "234  235   \n",
       "298  299   \n",
       "362  363   \n",
       "\n",
       "                                                                                                                                                                                                                             Log Entry  \\\n",
       "234  GET http://update.software.com/version.xml HTTP/1.1\" 200 966133 \"http://update.software.com/version.xml\" \"Mozilla/5.0 (Macintosh; Intel Mac OS X 10_15_7) AppleWebKit/605.1.15 (KHTML, like Gecko) Version/14.0.3 Safari/605.1.15   \n",
       "298                                                                GET http://cloudstorage.com/files HTTP/1.1\" 200 45752 \"http://cloudstorage.com/files\" \"Mozilla/5.0 (X11; Ubuntu; Linux x86_64; rv:89.0) Gecko/20100101 Firefox/89.0   \n",
       "362                                GET http://www.example.com/ HTTP/1.1\" 200 680119 \"http://www.example.com/\" \"Mozilla/5.0 (Macintosh; Intel Mac OS X 10_15_7) AppleWebKit/605.1.15 (KHTML, like Gecko) Version/14.0.3 Safari/605.1.15   \n",
       "\n",
       "    return_code  raw_score  anomaly_score  \n",
       "234         200   0.046171              1  \n",
       "298         200   0.038845              1  \n",
       "362         200   0.044471              1  "
      ]
     },
     "execution_count": 23,
     "metadata": {},
     "output_type": "execute_result"
    }
   ],
   "source": [
    "# Display the data with the score columns added\n",
    "df.sample(3)"
   ]
  },
  {
   "cell_type": "code",
   "execution_count": 24,
   "metadata": {},
   "outputs": [
    {
     "data": {
      "text/html": [
       "<div>\n",
       "<style scoped>\n",
       "    .dataframe tbody tr th:only-of-type {\n",
       "        vertical-align: middle;\n",
       "    }\n",
       "\n",
       "    .dataframe tbody tr th {\n",
       "        vertical-align: top;\n",
       "    }\n",
       "\n",
       "    .dataframe thead th {\n",
       "        text-align: right;\n",
       "    }\n",
       "</style>\n",
       "<table border=\"1\" class=\"dataframe\">\n",
       "  <thead>\n",
       "    <tr style=\"text-align: right;\">\n",
       "      <th></th>\n",
       "      <th>ID</th>\n",
       "      <th>Log Entry</th>\n",
       "      <th>return_code</th>\n",
       "      <th>raw_score</th>\n",
       "      <th>anomaly_score</th>\n",
       "    </tr>\n",
       "  </thead>\n",
       "  <tbody>\n",
       "    <tr>\n",
       "      <th>981</th>\n",
       "      <td>982</td>\n",
       "      <td>GET http://www.example.com/../../etc/passwd HTTP/1.1\" 400 853084 \"http://www.example.com/../../etc/passwd\" \"Mozilla/5.0 (Windows NT 10.0; Win64; x64) AppleWebKit/537.36 (KHTML, like Gecko) Chrome/104.0.5112.81 Safari/537.36</td>\n",
       "      <td>400</td>\n",
       "      <td>-0.013329</td>\n",
       "      <td>-1</td>\n",
       "    </tr>\n",
       "    <tr>\n",
       "      <th>646</th>\n",
       "      <td>647</td>\n",
       "      <td>GET http://update.software.com/version.xml HTTP/1.1\" 200 721593 \"http://update.software.com/version.xml\" \"Mozilla/5.0 (X11; Ubuntu; Linux x86_64; rv:89.0) Gecko/20100101 Firefox/89.0</td>\n",
       "      <td>200</td>\n",
       "      <td>-0.000461</td>\n",
       "      <td>-1</td>\n",
       "    </tr>\n",
       "    <tr>\n",
       "      <th>973</th>\n",
       "      <td>974</td>\n",
       "      <td>GET http://www.example.com/search?q=&lt;script&gt;alert('xss')&lt;/script&gt; HTTP/1.1\" 400 811308 \"http://www.example.com/search?q=&lt;script&gt;alert('xss')&lt;/script&gt;\" \"Mozilla/5.0 (Windows NT 10.0; Win64; x64) AppleWebKit/537.36 (KHTML, like Gecko) Chrome/104.0.5112.81 Safari/537.36</td>\n",
       "      <td>400</td>\n",
       "      <td>-0.127352</td>\n",
       "      <td>-1</td>\n",
       "    </tr>\n",
       "  </tbody>\n",
       "</table>\n",
       "</div>"
      ],
      "text/plain": [
       "      ID  \\\n",
       "981  982   \n",
       "646  647   \n",
       "973  974   \n",
       "\n",
       "                                                                                                                                                                                                                                                                       Log Entry  \\\n",
       "981                                              GET http://www.example.com/../../etc/passwd HTTP/1.1\" 400 853084 \"http://www.example.com/../../etc/passwd\" \"Mozilla/5.0 (Windows NT 10.0; Win64; x64) AppleWebKit/537.36 (KHTML, like Gecko) Chrome/104.0.5112.81 Safari/537.36   \n",
       "646                                                                                       GET http://update.software.com/version.xml HTTP/1.1\" 200 721593 \"http://update.software.com/version.xml\" \"Mozilla/5.0 (X11; Ubuntu; Linux x86_64; rv:89.0) Gecko/20100101 Firefox/89.0   \n",
       "973  GET http://www.example.com/search?q=<script>alert('xss')</script> HTTP/1.1\" 400 811308 \"http://www.example.com/search?q=<script>alert('xss')</script>\" \"Mozilla/5.0 (Windows NT 10.0; Win64; x64) AppleWebKit/537.36 (KHTML, like Gecko) Chrome/104.0.5112.81 Safari/537.36   \n",
       "\n",
       "    return_code  raw_score  anomaly_score  \n",
       "981         400  -0.013329             -1  \n",
       "646         200  -0.000461             -1  \n",
       "973         400  -0.127352             -1  "
      ]
     },
     "execution_count": 24,
     "metadata": {},
     "output_type": "execute_result"
    }
   ],
   "source": [
    "# Display just the anomalies\n",
    "df[df['anomaly_score']==-1].sample(3)"
   ]
  },
  {
   "cell_type": "code",
   "execution_count": 25,
   "metadata": {},
   "outputs": [
    {
     "data": {
      "text/plain": [
       "anomaly_score\n",
       " 1    930\n",
       "-1     70\n",
       "Name: count, dtype: int64"
      ]
     },
     "execution_count": 25,
     "metadata": {},
     "output_type": "execute_result"
    }
   ],
   "source": [
    "# The outliers have anomaly_score = -1\n",
    "# This is pretty darned good, given that we know the real split is 950/50\n",
    "df['anomaly_score'].value_counts()"
   ]
  },
  {
   "cell_type": "code",
   "execution_count": 26,
   "metadata": {},
   "outputs": [
    {
     "data": {
      "image/png": "[encoded data removed]",
      "text/plain": [
       "<Figure size 1000x700 with 1 Axes>"
      ]
     },
     "metadata": {},
     "output_type": "display_data"
    }
   ],
   "source": [
    "# Scatter plot of the anomaly_score results...it's what we'd expect to see given the counts above\n",
    "plt.figure(figsize=(10, 7))\n",
    "scatter = plt.scatter(df.raw_score, df.anomaly_score)\n",
    "plt.title('Anomaly Scatter Plot')\n",
    "plt.xlabel('Raw Score')\n",
    "plt.ylabel('Anomaly Score')\n",
    "plt.show()"
   ]
  },
  {
   "cell_type": "code",
   "execution_count": 27,
   "metadata": {},
   "outputs": [
    {
     "name": "stdout",
     "output_type": "stream",
     "text": [
      "GOOD:  Count of entries flagged anomaly and return_code not 200: 44\n",
      "FALSE POSITIVE: Count of entries flagged anomaly but return_code is 200: 26\n",
      "FALSE NEGATIVE: Count of entries not flagged anomaly and return_code not 200: 6\n",
      "GOOD: Count of entries not flagged anomaly and return_code is 200: 924\n"
     ]
    }
   ],
   "source": [
    "# Let's examine whether the 70-ish anomalies include all of the 50 known malicious log entries\n",
    "print(\"GOOD:  Count of entries flagged anomaly and return_code not 200: \", end='')\n",
    "print(len(df[(df['anomaly_score'] == -1) & (df['return_code'] != '200')][['return_code', 'anomaly_score']]))\n",
    "print(\"FALSE POSITIVE: Count of entries flagged anomaly but return_code is 200: \", end='')\n",
    "print(len(df[(df['anomaly_score'] == -1) & (df['return_code'] == '200')][['return_code', 'anomaly_score']]))\n",
    "print(\"FALSE NEGATIVE: Count of entries not flagged anomaly and return_code not 200: \", end='')\n",
    "print(len(df[(df['anomaly_score'] == 1) & (df['return_code'] != '200')][['return_code', 'anomaly_score']]))\n",
    "print(\"GOOD: Count of entries not flagged anomaly and return_code is 200: \", end='')\n",
    "print(len(df[(df['anomaly_score'] == 1) & (df['return_code'] == '200')][['return_code', 'anomaly_score']]))\n"
   ]
  },
  {
   "cell_type": "code",
   "execution_count": 28,
   "metadata": {},
   "outputs": [
    {
     "data": {
      "text/html": [
       "<div>\n",
       "<style scoped>\n",
       "    .dataframe tbody tr th:only-of-type {\n",
       "        vertical-align: middle;\n",
       "    }\n",
       "\n",
       "    .dataframe tbody tr th {\n",
       "        vertical-align: top;\n",
       "    }\n",
       "\n",
       "    .dataframe thead th {\n",
       "        text-align: right;\n",
       "    }\n",
       "</style>\n",
       "<table border=\"1\" class=\"dataframe\">\n",
       "  <thead>\n",
       "    <tr style=\"text-align: right;\">\n",
       "      <th></th>\n",
       "      <th>return_code</th>\n",
       "      <th>anomaly_score</th>\n",
       "      <th>Log Entry</th>\n",
       "    </tr>\n",
       "  </thead>\n",
       "  <tbody>\n",
       "    <tr>\n",
       "      <th>959</th>\n",
       "      <td>404</td>\n",
       "      <td>1</td>\n",
       "      <td>GET http://www.example.com/admin HTTP/1.1\" 404 997522 \"http://www.example.com/admin\" \"Mozilla/5.0 (X11; Ubuntu; Linux x86_64; rv:89.0) Gecko/20100101 Firefox/89.0</td>\n",
       "    </tr>\n",
       "    <tr>\n",
       "      <th>960</th>\n",
       "      <td>403</td>\n",
       "      <td>1</td>\n",
       "      <td>GET http://www.example.com/admin HTTP/1.1\" 403 98619 \"http://www.example.com/admin\" \"Mozilla/5.0 (Windows NT 10.0; Win64; x64) AppleWebKit/537.36 (KHTML, like Gecko) Chrome/104.0.5112.81 Safari/537.36</td>\n",
       "    </tr>\n",
       "    <tr>\n",
       "      <th>963</th>\n",
       "      <td>404</td>\n",
       "      <td>1</td>\n",
       "      <td>GET http://www.example.com/admin HTTP/1.1\" 404 603181 \"http://www.example.com/admin\" \"Mozilla/5.0 (Windows NT 10.0; Win64; x64) AppleWebKit/537.36 (KHTML, like Gecko) Chrome/104.0.5112.81 Safari/537.36</td>\n",
       "    </tr>\n",
       "    <tr>\n",
       "      <th>995</th>\n",
       "      <td>400</td>\n",
       "      <td>1</td>\n",
       "      <td>GET http://www.example.com/admin HTTP/1.1\" 400 809282 \"http://www.example.com/admin\" \"Mozilla/5.0 (X11; Ubuntu; Linux x86_64; rv:89.0) Gecko/20100101 Firefox/89.0</td>\n",
       "    </tr>\n",
       "    <tr>\n",
       "      <th>996</th>\n",
       "      <td>403</td>\n",
       "      <td>1</td>\n",
       "      <td>GET http://www.example.com/admin HTTP/1.1\" 403 19118 \"http://www.example.com/admin\" \"Mozilla/5.0 (Windows NT 10.0; Win64; x64) AppleWebKit/537.36 (KHTML, like Gecko) Chrome/104.0.5112.81 Safari/537.36</td>\n",
       "    </tr>\n",
       "    <tr>\n",
       "      <th>998</th>\n",
       "      <td>403</td>\n",
       "      <td>1</td>\n",
       "      <td>GET http://www.example.com/admin HTTP/1.1\" 403 171906 \"http://www.example.com/admin\" \"Mozilla/5.0 (X11; Ubuntu; Linux x86_64; rv:89.0) Gecko/20100101 Firefox/89.0</td>\n",
       "    </tr>\n",
       "  </tbody>\n",
       "</table>\n",
       "</div>"
      ],
      "text/plain": [
       "    return_code  anomaly_score  \\\n",
       "959         404              1   \n",
       "960         403              1   \n",
       "963         404              1   \n",
       "995         400              1   \n",
       "996         403              1   \n",
       "998         403              1   \n",
       "\n",
       "                                                                                                                                                                                                     Log Entry  \n",
       "959                                         GET http://www.example.com/admin HTTP/1.1\" 404 997522 \"http://www.example.com/admin\" \"Mozilla/5.0 (X11; Ubuntu; Linux x86_64; rv:89.0) Gecko/20100101 Firefox/89.0  \n",
       "960   GET http://www.example.com/admin HTTP/1.1\" 403 98619 \"http://www.example.com/admin\" \"Mozilla/5.0 (Windows NT 10.0; Win64; x64) AppleWebKit/537.36 (KHTML, like Gecko) Chrome/104.0.5112.81 Safari/537.36  \n",
       "963  GET http://www.example.com/admin HTTP/1.1\" 404 603181 \"http://www.example.com/admin\" \"Mozilla/5.0 (Windows NT 10.0; Win64; x64) AppleWebKit/537.36 (KHTML, like Gecko) Chrome/104.0.5112.81 Safari/537.36  \n",
       "995                                         GET http://www.example.com/admin HTTP/1.1\" 400 809282 \"http://www.example.com/admin\" \"Mozilla/5.0 (X11; Ubuntu; Linux x86_64; rv:89.0) Gecko/20100101 Firefox/89.0  \n",
       "996   GET http://www.example.com/admin HTTP/1.1\" 403 19118 \"http://www.example.com/admin\" \"Mozilla/5.0 (Windows NT 10.0; Win64; x64) AppleWebKit/537.36 (KHTML, like Gecko) Chrome/104.0.5112.81 Safari/537.36  \n",
       "998                                         GET http://www.example.com/admin HTTP/1.1\" 403 171906 \"http://www.example.com/admin\" \"Mozilla/5.0 (X11; Ubuntu; Linux x86_64; rv:89.0) Gecko/20100101 Firefox/89.0  "
      ]
     },
     "execution_count": 28,
     "metadata": {},
     "output_type": "execute_result"
    }
   ],
   "source": [
    "# Let's examine the \"false negatives\", since those would be the bigger concern...rows flagged as not an \n",
    "# anomaly but have return_code that's not 200\n",
    "pd.set_option('max_colwidth', None) # show full width of showing cols\n",
    "df[(df['anomaly_score'] == 1) & (df['return_code'] != '200')][['return_code', 'anomaly_score', 'Log Entry']]\n",
    "\n",
    "# These may not have been anomalies (not unusual log entries, compared to the bulk of logs), but were \n",
    "# actually malicious log entries that were blocked/failed"
   ]
  },
  {
   "cell_type": "code",
   "execution_count": 29,
   "metadata": {},
   "outputs": [
    {
     "data": {
      "text/html": [
       "<div>\n",
       "<style scoped>\n",
       "    .dataframe tbody tr th:only-of-type {\n",
       "        vertical-align: middle;\n",
       "    }\n",
       "\n",
       "    .dataframe tbody tr th {\n",
       "        vertical-align: top;\n",
       "    }\n",
       "\n",
       "    .dataframe thead th {\n",
       "        text-align: right;\n",
       "    }\n",
       "</style>\n",
       "<table border=\"1\" class=\"dataframe\">\n",
       "  <thead>\n",
       "    <tr style=\"text-align: right;\">\n",
       "      <th></th>\n",
       "      <th>return_code</th>\n",
       "      <th>anomaly_score</th>\n",
       "      <th>Log Entry</th>\n",
       "    </tr>\n",
       "  </thead>\n",
       "  <tbody>\n",
       "    <tr>\n",
       "      <th>92</th>\n",
       "      <td>200</td>\n",
       "      <td>-1</td>\n",
       "      <td>GET http://intranet.company.com/docs/document.pdf HTTP/1.1\" 200 90366 \"http://intranet.company.com/docs/document.pdf\" \"Mozilla/5.0 (X11; Ubuntu; Linux x86_64; rv:89.0) Gecko/20100101 Firefox/89.0</td>\n",
       "    </tr>\n",
       "    <tr>\n",
       "      <th>122</th>\n",
       "      <td>200</td>\n",
       "      <td>-1</td>\n",
       "      <td>GET http://update.software.com/version.xml HTTP/1.1\" 200 923237 \"http://update.software.com/version.xml\" \"Mozilla/5.0 (X11; Ubuntu; Linux x86_64; rv:89.0) Gecko/20100101 Firefox/89.0</td>\n",
       "    </tr>\n",
       "    <tr>\n",
       "      <th>132</th>\n",
       "      <td>200</td>\n",
       "      <td>-1</td>\n",
       "      <td>GET http://intranet.company.com/docs/document.pdf HTTP/1.1\" 200 49135 \"http://intranet.company.com/docs/document.pdf\" \"Mozilla/5.0 (Macintosh; Intel Mac OS X 10_15_7) AppleWebKit/605.1.15 (KHTML, like Gecko) Version/14.0.3 Safari/605.1.15</td>\n",
       "    </tr>\n",
       "    <tr>\n",
       "      <th>174</th>\n",
       "      <td>200</td>\n",
       "      <td>-1</td>\n",
       "      <td>GET http://intranet.company.com/docs/document.pdf HTTP/1.1\" 200 566608 \"http://intranet.company.com/docs/document.pdf\" \"Mozilla/5.0 (X11; Ubuntu; Linux x86_64; rv:89.0) Gecko/20100101 Firefox/89.0</td>\n",
       "    </tr>\n",
       "    <tr>\n",
       "      <th>179</th>\n",
       "      <td>200</td>\n",
       "      <td>-1</td>\n",
       "      <td>GET http://intranet.company.com/docs/document.pdf HTTP/1.1\" 200 1022325 \"http://intranet.company.com/docs/document.pdf\" \"Mozilla/5.0 (X11; Ubuntu; Linux x86_64; rv:89.0) Gecko/20100101 Firefox/89.0</td>\n",
       "    </tr>\n",
       "    <tr>\n",
       "      <th>215</th>\n",
       "      <td>200</td>\n",
       "      <td>-1</td>\n",
       "      <td>GET http://intranet.company.com/docs/document.pdf HTTP/1.1\" 200 102229 \"http://intranet.company.com/docs/document.pdf\" \"Mozilla/5.0 (X11; Ubuntu; Linux x86_64; rv:89.0) Gecko/20100101 Firefox/89.0</td>\n",
       "    </tr>\n",
       "    <tr>\n",
       "      <th>220</th>\n",
       "      <td>200</td>\n",
       "      <td>-1</td>\n",
       "      <td>GET http://intranet.company.com/docs/document.pdf HTTP/1.1\" 200 42671 \"http://intranet.company.com/docs/document.pdf\" \"Mozilla/5.0 (X11; Ubuntu; Linux x86_64; rv:89.0) Gecko/20100101 Firefox/89.0</td>\n",
       "    </tr>\n",
       "    <tr>\n",
       "      <th>240</th>\n",
       "      <td>200</td>\n",
       "      <td>-1</td>\n",
       "      <td>GET http://update.software.com/version.xml HTTP/1.1\" 200 4178 \"http://update.software.com/version.xml\" \"Mozilla/5.0 (X11; Ubuntu; Linux x86_64; rv:89.0) Gecko/20100101 Firefox/89.0</td>\n",
       "    </tr>\n",
       "    <tr>\n",
       "      <th>285</th>\n",
       "      <td>200</td>\n",
       "      <td>-1</td>\n",
       "      <td>GET http://intranet.company.com/docs/document.pdf HTTP/1.1\" 200 862768 \"http://intranet.company.com/docs/document.pdf\" \"Mozilla/5.0 (X11; Ubuntu; Linux x86_64; rv:89.0) Gecko/20100101 Firefox/89.0</td>\n",
       "    </tr>\n",
       "    <tr>\n",
       "      <th>289</th>\n",
       "      <td>200</td>\n",
       "      <td>-1</td>\n",
       "      <td>GET http://intranet.company.com/docs/document.pdf HTTP/1.1\" 200 502542 \"http://intranet.company.com/docs/document.pdf\" \"Mozilla/5.0 (X11; Ubuntu; Linux x86_64; rv:89.0) Gecko/20100101 Firefox/89.0</td>\n",
       "    </tr>\n",
       "    <tr>\n",
       "      <th>400</th>\n",
       "      <td>200</td>\n",
       "      <td>-1</td>\n",
       "      <td>GET http://intranet.company.com/docs/document.pdf HTTP/1.1\" 200 727902 \"http://intranet.company.com/docs/document.pdf\" \"Mozilla/5.0 (X11; Ubuntu; Linux x86_64; rv:89.0) Gecko/20100101 Firefox/89.0</td>\n",
       "    </tr>\n",
       "    <tr>\n",
       "      <th>448</th>\n",
       "      <td>200</td>\n",
       "      <td>-1</td>\n",
       "      <td>GET http://intranet.company.com/docs/document.pdf HTTP/1.1\" 200 397000 \"http://intranet.company.com/docs/document.pdf\" \"Mozilla/5.0 (X11; Ubuntu; Linux x86_64; rv:89.0) Gecko/20100101 Firefox/89.0</td>\n",
       "    </tr>\n",
       "    <tr>\n",
       "      <th>449</th>\n",
       "      <td>200</td>\n",
       "      <td>-1</td>\n",
       "      <td>GET http://intranet.company.com/docs/document.pdf HTTP/1.1\" 200 164553 \"http://intranet.company.com/docs/document.pdf\" \"Mozilla/5.0 (Macintosh; Intel Mac OS X 10_15_7) AppleWebKit/605.1.15 (KHTML, like Gecko) Version/14.0.3 Safari/605.1.15</td>\n",
       "    </tr>\n",
       "    <tr>\n",
       "      <th>486</th>\n",
       "      <td>200</td>\n",
       "      <td>-1</td>\n",
       "      <td>GET http://intranet.company.com/docs/document.pdf HTTP/1.1\" 200 771414 \"http://intranet.company.com/docs/document.pdf\" \"Mozilla/5.0 (X11; Ubuntu; Linux x86_64; rv:89.0) Gecko/20100101 Firefox/89.0</td>\n",
       "    </tr>\n",
       "    <tr>\n",
       "      <th>585</th>\n",
       "      <td>200</td>\n",
       "      <td>-1</td>\n",
       "      <td>GET http://intranet.company.com/docs/document.pdf HTTP/1.1\" 200 1002231 \"http://intranet.company.com/docs/document.pdf\" \"Mozilla/5.0 (Macintosh; Intel Mac OS X 10_15_7) AppleWebKit/605.1.15 (KHTML, like Gecko) Version/14.0.3 Safari/605.1.15</td>\n",
       "    </tr>\n",
       "    <tr>\n",
       "      <th>600</th>\n",
       "      <td>200</td>\n",
       "      <td>-1</td>\n",
       "      <td>GET http://update.software.com/version.xml HTTP/1.1\" 200 688557 \"http://update.software.com/version.xml\" \"Mozilla/5.0 (X11; Ubuntu; Linux x86_64; rv:89.0) Gecko/20100101 Firefox/89.0</td>\n",
       "    </tr>\n",
       "    <tr>\n",
       "      <th>646</th>\n",
       "      <td>200</td>\n",
       "      <td>-1</td>\n",
       "      <td>GET http://update.software.com/version.xml HTTP/1.1\" 200 721593 \"http://update.software.com/version.xml\" \"Mozilla/5.0 (X11; Ubuntu; Linux x86_64; rv:89.0) Gecko/20100101 Firefox/89.0</td>\n",
       "    </tr>\n",
       "    <tr>\n",
       "      <th>710</th>\n",
       "      <td>200</td>\n",
       "      <td>-1</td>\n",
       "      <td>GET http://update.software.com/version.xml HTTP/1.1\" 200 106956 \"http://update.software.com/version.xml\" \"Mozilla/5.0 (X11; Ubuntu; Linux x86_64; rv:89.0) Gecko/20100101 Firefox/89.0</td>\n",
       "    </tr>\n",
       "    <tr>\n",
       "      <th>760</th>\n",
       "      <td>200</td>\n",
       "      <td>-1</td>\n",
       "      <td>GET http://intranet.company.com/docs/document.pdf HTTP/1.1\" 200 834486 \"http://intranet.company.com/docs/document.pdf\" \"Mozilla/5.0 (X11; Ubuntu; Linux x86_64; rv:89.0) Gecko/20100101 Firefox/89.0</td>\n",
       "    </tr>\n",
       "    <tr>\n",
       "      <th>772</th>\n",
       "      <td>200</td>\n",
       "      <td>-1</td>\n",
       "      <td>GET http://intranet.company.com/docs/document.pdf HTTP/1.1\" 200 363062 \"http://intranet.company.com/docs/document.pdf\" \"Mozilla/5.0 (X11; Ubuntu; Linux x86_64; rv:89.0) Gecko/20100101 Firefox/89.0</td>\n",
       "    </tr>\n",
       "    <tr>\n",
       "      <th>778</th>\n",
       "      <td>200</td>\n",
       "      <td>-1</td>\n",
       "      <td>GET http://intranet.company.com/docs/document.pdf HTTP/1.1\" 200 92991 \"http://intranet.company.com/docs/document.pdf\" \"Mozilla/5.0 (X11; Ubuntu; Linux x86_64; rv:89.0) Gecko/20100101 Firefox/89.0</td>\n",
       "    </tr>\n",
       "    <tr>\n",
       "      <th>790</th>\n",
       "      <td>200</td>\n",
       "      <td>-1</td>\n",
       "      <td>GET http://intranet.company.com/docs/document.pdf HTTP/1.1\" 200 287954 \"http://intranet.company.com/docs/document.pdf\" \"Mozilla/5.0 (X11; Ubuntu; Linux x86_64; rv:89.0) Gecko/20100101 Firefox/89.0</td>\n",
       "    </tr>\n",
       "    <tr>\n",
       "      <th>812</th>\n",
       "      <td>200</td>\n",
       "      <td>-1</td>\n",
       "      <td>GET http://intranet.company.com/docs/document.pdf HTTP/1.1\" 200 396919 \"http://intranet.company.com/docs/document.pdf\" \"Mozilla/5.0 (X11; Ubuntu; Linux x86_64; rv:89.0) Gecko/20100101 Firefox/89.0</td>\n",
       "    </tr>\n",
       "    <tr>\n",
       "      <th>826</th>\n",
       "      <td>200</td>\n",
       "      <td>-1</td>\n",
       "      <td>GET http://intranet.company.com/docs/document.pdf HTTP/1.1\" 200 18273 \"http://intranet.company.com/docs/document.pdf\" \"Mozilla/5.0 (X11; Ubuntu; Linux x86_64; rv:89.0) Gecko/20100101 Firefox/89.0</td>\n",
       "    </tr>\n",
       "    <tr>\n",
       "      <th>870</th>\n",
       "      <td>200</td>\n",
       "      <td>-1</td>\n",
       "      <td>GET http://intranet.company.com/docs/document.pdf HTTP/1.1\" 200 1021572 \"http://intranet.company.com/docs/document.pdf\" \"Mozilla/5.0 (Macintosh; Intel Mac OS X 10_15_7) AppleWebKit/605.1.15 (KHTML, like Gecko) Version/14.0.3 Safari/605.1.15</td>\n",
       "    </tr>\n",
       "    <tr>\n",
       "      <th>919</th>\n",
       "      <td>200</td>\n",
       "      <td>-1</td>\n",
       "      <td>GET http://intranet.company.com/docs/document.pdf HTTP/1.1\" 200 46936 \"http://intranet.company.com/docs/document.pdf\" \"Mozilla/5.0 (X11; Ubuntu; Linux x86_64; rv:89.0) Gecko/20100101 Firefox/89.0</td>\n",
       "    </tr>\n",
       "  </tbody>\n",
       "</table>\n",
       "</div>"
      ],
      "text/plain": [
       "    return_code  anomaly_score  \\\n",
       "92          200             -1   \n",
       "122         200             -1   \n",
       "132         200             -1   \n",
       "174         200             -1   \n",
       "179         200             -1   \n",
       "215         200             -1   \n",
       "220         200             -1   \n",
       "240         200             -1   \n",
       "285         200             -1   \n",
       "289         200             -1   \n",
       "400         200             -1   \n",
       "448         200             -1   \n",
       "449         200             -1   \n",
       "486         200             -1   \n",
       "585         200             -1   \n",
       "600         200             -1   \n",
       "646         200             -1   \n",
       "710         200             -1   \n",
       "760         200             -1   \n",
       "772         200             -1   \n",
       "778         200             -1   \n",
       "790         200             -1   \n",
       "812         200             -1   \n",
       "826         200             -1   \n",
       "870         200             -1   \n",
       "919         200             -1   \n",
       "\n",
       "                                                                                                                                                                                                                                            Log Entry  \n",
       "92                                                GET http://intranet.company.com/docs/document.pdf HTTP/1.1\" 200 90366 \"http://intranet.company.com/docs/document.pdf\" \"Mozilla/5.0 (X11; Ubuntu; Linux x86_64; rv:89.0) Gecko/20100101 Firefox/89.0  \n",
       "122                                                            GET http://update.software.com/version.xml HTTP/1.1\" 200 923237 \"http://update.software.com/version.xml\" \"Mozilla/5.0 (X11; Ubuntu; Linux x86_64; rv:89.0) Gecko/20100101 Firefox/89.0  \n",
       "132    GET http://intranet.company.com/docs/document.pdf HTTP/1.1\" 200 49135 \"http://intranet.company.com/docs/document.pdf\" \"Mozilla/5.0 (Macintosh; Intel Mac OS X 10_15_7) AppleWebKit/605.1.15 (KHTML, like Gecko) Version/14.0.3 Safari/605.1.15  \n",
       "174                                              GET http://intranet.company.com/docs/document.pdf HTTP/1.1\" 200 566608 \"http://intranet.company.com/docs/document.pdf\" \"Mozilla/5.0 (X11; Ubuntu; Linux x86_64; rv:89.0) Gecko/20100101 Firefox/89.0  \n",
       "179                                             GET http://intranet.company.com/docs/document.pdf HTTP/1.1\" 200 1022325 \"http://intranet.company.com/docs/document.pdf\" \"Mozilla/5.0 (X11; Ubuntu; Linux x86_64; rv:89.0) Gecko/20100101 Firefox/89.0  \n",
       "215                                              GET http://intranet.company.com/docs/document.pdf HTTP/1.1\" 200 102229 \"http://intranet.company.com/docs/document.pdf\" \"Mozilla/5.0 (X11; Ubuntu; Linux x86_64; rv:89.0) Gecko/20100101 Firefox/89.0  \n",
       "220                                               GET http://intranet.company.com/docs/document.pdf HTTP/1.1\" 200 42671 \"http://intranet.company.com/docs/document.pdf\" \"Mozilla/5.0 (X11; Ubuntu; Linux x86_64; rv:89.0) Gecko/20100101 Firefox/89.0  \n",
       "240                                                              GET http://update.software.com/version.xml HTTP/1.1\" 200 4178 \"http://update.software.com/version.xml\" \"Mozilla/5.0 (X11; Ubuntu; Linux x86_64; rv:89.0) Gecko/20100101 Firefox/89.0  \n",
       "285                                              GET http://intranet.company.com/docs/document.pdf HTTP/1.1\" 200 862768 \"http://intranet.company.com/docs/document.pdf\" \"Mozilla/5.0 (X11; Ubuntu; Linux x86_64; rv:89.0) Gecko/20100101 Firefox/89.0  \n",
       "289                                              GET http://intranet.company.com/docs/document.pdf HTTP/1.1\" 200 502542 \"http://intranet.company.com/docs/document.pdf\" \"Mozilla/5.0 (X11; Ubuntu; Linux x86_64; rv:89.0) Gecko/20100101 Firefox/89.0  \n",
       "400                                              GET http://intranet.company.com/docs/document.pdf HTTP/1.1\" 200 727902 \"http://intranet.company.com/docs/document.pdf\" \"Mozilla/5.0 (X11; Ubuntu; Linux x86_64; rv:89.0) Gecko/20100101 Firefox/89.0  \n",
       "448                                              GET http://intranet.company.com/docs/document.pdf HTTP/1.1\" 200 397000 \"http://intranet.company.com/docs/document.pdf\" \"Mozilla/5.0 (X11; Ubuntu; Linux x86_64; rv:89.0) Gecko/20100101 Firefox/89.0  \n",
       "449   GET http://intranet.company.com/docs/document.pdf HTTP/1.1\" 200 164553 \"http://intranet.company.com/docs/document.pdf\" \"Mozilla/5.0 (Macintosh; Intel Mac OS X 10_15_7) AppleWebKit/605.1.15 (KHTML, like Gecko) Version/14.0.3 Safari/605.1.15  \n",
       "486                                              GET http://intranet.company.com/docs/document.pdf HTTP/1.1\" 200 771414 \"http://intranet.company.com/docs/document.pdf\" \"Mozilla/5.0 (X11; Ubuntu; Linux x86_64; rv:89.0) Gecko/20100101 Firefox/89.0  \n",
       "585  GET http://intranet.company.com/docs/document.pdf HTTP/1.1\" 200 1002231 \"http://intranet.company.com/docs/document.pdf\" \"Mozilla/5.0 (Macintosh; Intel Mac OS X 10_15_7) AppleWebKit/605.1.15 (KHTML, like Gecko) Version/14.0.3 Safari/605.1.15  \n",
       "600                                                            GET http://update.software.com/version.xml HTTP/1.1\" 200 688557 \"http://update.software.com/version.xml\" \"Mozilla/5.0 (X11; Ubuntu; Linux x86_64; rv:89.0) Gecko/20100101 Firefox/89.0  \n",
       "646                                                            GET http://update.software.com/version.xml HTTP/1.1\" 200 721593 \"http://update.software.com/version.xml\" \"Mozilla/5.0 (X11; Ubuntu; Linux x86_64; rv:89.0) Gecko/20100101 Firefox/89.0  \n",
       "710                                                            GET http://update.software.com/version.xml HTTP/1.1\" 200 106956 \"http://update.software.com/version.xml\" \"Mozilla/5.0 (X11; Ubuntu; Linux x86_64; rv:89.0) Gecko/20100101 Firefox/89.0  \n",
       "760                                              GET http://intranet.company.com/docs/document.pdf HTTP/1.1\" 200 834486 \"http://intranet.company.com/docs/document.pdf\" \"Mozilla/5.0 (X11; Ubuntu; Linux x86_64; rv:89.0) Gecko/20100101 Firefox/89.0  \n",
       "772                                              GET http://intranet.company.com/docs/document.pdf HTTP/1.1\" 200 363062 \"http://intranet.company.com/docs/document.pdf\" \"Mozilla/5.0 (X11; Ubuntu; Linux x86_64; rv:89.0) Gecko/20100101 Firefox/89.0  \n",
       "778                                               GET http://intranet.company.com/docs/document.pdf HTTP/1.1\" 200 92991 \"http://intranet.company.com/docs/document.pdf\" \"Mozilla/5.0 (X11; Ubuntu; Linux x86_64; rv:89.0) Gecko/20100101 Firefox/89.0  \n",
       "790                                              GET http://intranet.company.com/docs/document.pdf HTTP/1.1\" 200 287954 \"http://intranet.company.com/docs/document.pdf\" \"Mozilla/5.0 (X11; Ubuntu; Linux x86_64; rv:89.0) Gecko/20100101 Firefox/89.0  \n",
       "812                                              GET http://intranet.company.com/docs/document.pdf HTTP/1.1\" 200 396919 \"http://intranet.company.com/docs/document.pdf\" \"Mozilla/5.0 (X11; Ubuntu; Linux x86_64; rv:89.0) Gecko/20100101 Firefox/89.0  \n",
       "826                                               GET http://intranet.company.com/docs/document.pdf HTTP/1.1\" 200 18273 \"http://intranet.company.com/docs/document.pdf\" \"Mozilla/5.0 (X11; Ubuntu; Linux x86_64; rv:89.0) Gecko/20100101 Firefox/89.0  \n",
       "870  GET http://intranet.company.com/docs/document.pdf HTTP/1.1\" 200 1021572 \"http://intranet.company.com/docs/document.pdf\" \"Mozilla/5.0 (Macintosh; Intel Mac OS X 10_15_7) AppleWebKit/605.1.15 (KHTML, like Gecko) Version/14.0.3 Safari/605.1.15  \n",
       "919                                               GET http://intranet.company.com/docs/document.pdf HTTP/1.1\" 200 46936 \"http://intranet.company.com/docs/document.pdf\" \"Mozilla/5.0 (X11; Ubuntu; Linux x86_64; rv:89.0) Gecko/20100101 Firefox/89.0  "
      ]
     },
     "execution_count": 29,
     "metadata": {},
     "output_type": "execute_result"
    }
   ],
   "source": [
    "# Let's examine the \"false positives\"...rows flagged as anomaly but have return_code 200\n",
    "pd.set_option('max_colwidth', None) # show full width of showing cols\n",
    "df[(df['anomaly_score'] == -1) & (df['return_code'] == '200')][['return_code', 'anomaly_score', 'Log Entry']]\n",
    "\n",
    "# These may have truly anomalies (unusual log entries compared to the bulk of logs), but just were \n",
    "# not actually malicious log entries"
   ]
  },
  {
   "cell_type": "markdown",
   "metadata": {},
   "source": [
    "Our unsupervised ML model, trained using a very simple distance metric that was merely the number of edits to make two text passages the same, did surprisingly well.  It flagged 70 log entries as anomalies, with 930 seen as typical. It missed 6 malicious logs that were not necessarily anomalies (false negatives), while flagging 26 benign logs they may have been anomalies that weren't malicous. (Keeping in mind that we're using fake proxy log data for this exercise...your mileage may vary). We know the real answer from the fabricated test log entry data is 950 benign and 50 malicious.  This may be worth testing on real data and/or larger data sets, as it might be at least useable as a coarse-grained pre-filter. "
   ]
  }
 ],
 "metadata": {
  "kernelspec": {
   "display_name": "Python 3",
   "language": "python",
   "name": "python3"
  },
  "language_info": {
   "codemirror_mode": {
    "name": "ipython",
    "version": 3
   },
   "file_extension": ".py",
   "mimetype": "text/x-python",
   "name": "python",
   "nbconvert_exporter": "python",
   "pygments_lexer": "ipython3",
   "version": "3.11.9"
  }
 },
 "nbformat": 4,
 "nbformat_minor": 2
}
