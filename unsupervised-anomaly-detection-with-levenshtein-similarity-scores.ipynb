{
 "cells": [
  {
   "cell_type": "markdown",
   "metadata": {},
   "source": [
    "# Unsupervised Anomaly Detection on Security Logs using <u>Levenshtein Similarity Score</u>\n",
    "This is a continuation of the prior research. In this notebook, we are leveraging the Isolation Forest algorithm to perform unsupervised training of an anomaly detection model.  HOWEVER...we are trying this using Levenshtein similarity score INSTEAD OF using text vector embeddings as the input. I expect that this approach will be much less accurate...Levenshtein score is a scalar value that is the minimum number of distinct edits to make two text passages the same, versus a 384-dimension vector embedding output by a language-interpreting LLM that is trying to capture the meaning of the text. This is a no-AI approach to this problem, but it's worth investigating.  Will it work?  Will it come close to the known actual 950/50 split of good/bad log entries?  Let us see..."
   ]
  },
  {
   "cell_type": "code",
   "execution_count": 1,
   "metadata": {},
   "outputs": [],
   "source": [
    "### Uncomment and run the line below if this is the first time executing this notebook. Package installs in requirements.txt.\n",
    "#! python -m venv venv\n",
    "#! powershell venv\\Scripts\\Activate.ps1\n",
    "#! pip install pandas\n",
    "#! pip install matplotlib\n",
    "#! pip install sklearn\n",
    "#! pip install levenshtein"
   ]
  },
  {
   "cell_type": "code",
   "execution_count": 2,
   "metadata": {},
   "outputs": [],
   "source": [
    "import numpy as np\n",
    "import pandas as pd\n",
    "import matplotlib.pyplot as plt\n",
    "from sklearn.ensemble import IsolationForest\n",
    "from sklearn.metrics import pairwise_distances\n",
    "#from sklearn.decomposition import PCA\n",
    "import Levenshtein as lev"
   ]
  },
  {
   "cell_type": "code",
   "execution_count": 3,
   "metadata": {},
   "outputs": [
    {
     "data": {
      "text/plain": [
       "2"
      ]
     },
     "execution_count": 3,
     "metadata": {},
     "output_type": "execute_result"
    }
   ],
   "source": [
    "# Calculates the minimum number of insertions, deletions, and substitutions required to change one \n",
    "# sequence into the other according to Levenshtein with custom costs for insertion, deletion and substitution\n",
    "# Example:\n",
    "lev.distance(\"lewenstein\", \"levenshtein\")"
   ]
  },
  {
   "cell_type": "code",
   "execution_count": 4,
   "metadata": {},
   "outputs": [
    {
     "data": {
      "text/html": [
       "<div>\n",
       "<style scoped>\n",
       "    .dataframe tbody tr th:only-of-type {\n",
       "        vertical-align: middle;\n",
       "    }\n",
       "\n",
       "    .dataframe tbody tr th {\n",
       "        vertical-align: top;\n",
       "    }\n",
       "\n",
       "    .dataframe thead th {\n",
       "        text-align: right;\n",
       "    }\n",
       "</style>\n",
       "<table border=\"1\" class=\"dataframe\">\n",
       "  <thead>\n",
       "    <tr style=\"text-align: right;\">\n",
       "      <th></th>\n",
       "      <th>ID</th>\n",
       "      <th>Log Entry</th>\n",
       "    </tr>\n",
       "  </thead>\n",
       "  <tbody>\n",
       "    <tr>\n",
       "      <th>935</th>\n",
       "      <td>936</td>\n",
       "      <td>GET http://www.example.com/ HTTP/1.1\" 200 8038...</td>\n",
       "    </tr>\n",
       "    <tr>\n",
       "      <th>463</th>\n",
       "      <td>464</td>\n",
       "      <td>GET http://intranet.company.com/docs/document....</td>\n",
       "    </tr>\n",
       "    <tr>\n",
       "      <th>608</th>\n",
       "      <td>609</td>\n",
       "      <td>GET http://update.software.com/check HTTP/1.1\"...</td>\n",
       "    </tr>\n",
       "  </tbody>\n",
       "</table>\n",
       "</div>"
      ],
      "text/plain": [
       "      ID                                          Log Entry\n",
       "935  936  GET http://www.example.com/ HTTP/1.1\" 200 8038...\n",
       "463  464  GET http://intranet.company.com/docs/document....\n",
       "608  609  GET http://update.software.com/check HTTP/1.1\"..."
      ]
     },
     "execution_count": 4,
     "metadata": {},
     "output_type": "execute_result"
    }
   ],
   "source": [
    "# We'll use the fabricated mixed proxy logs with known 950 benign log entries and 50 malicious log entries \n",
    "# Our goal is to see if we can get them accurately classified into that 950 benign + 50 malicious\n",
    "df = pd.read_csv('proxy_logs_mixed.csv')\n",
    "df = df.drop(['IP Address', 'Timestamp'], axis=1)  # We don't need IP nor timestamp for this task\n",
    "df.sample(3)"
   ]
  },
  {
   "cell_type": "code",
   "execution_count": 5,
   "metadata": {},
   "outputs": [
    {
     "data": {
      "text/plain": [
       "array([[  0., 120., 122., ...,  38.,  97., 155.],\n",
       "       [120.,   0.,  37., ..., 139.,  42.,  98.],\n",
       "       [122.,  37.,   0., ..., 140.,  42.,  97.],\n",
       "       ...,\n",
       "       [ 38., 139., 140., ...,   0., 114., 153.],\n",
       "       [ 97.,  42.,  42., ..., 114.,   0.,  79.],\n",
       "       [155.,  98.,  97., ..., 153.,  79.,   0.]])"
      ]
     },
     "execution_count": 5,
     "metadata": {},
     "output_type": "execute_result"
    }
   ],
   "source": [
    "# Compute the pairwise distance matrix\n",
    "# This creates a matrix of every row x every row, related back to the original df by the ID/ID\n",
    "distance_matrix = pairwise_distances(df['Log Entry'].values.reshape(-1, 1), \n",
    "                                     metric=lambda x, y: lev.distance(x[0], y[0]))\n",
    "distance_matrix"
   ]
  },
  {
   "cell_type": "code",
   "execution_count": 6,
   "metadata": {},
   "outputs": [
    {
     "data": {
      "text/plain": [
       "{'bootstrap': False,\n",
       " 'contamination': 'auto',\n",
       " 'max_features': 1.0,\n",
       " 'max_samples': 1000,\n",
       " 'n_estimators': 100,\n",
       " 'n_jobs': None,\n",
       " 'random_state': 96,\n",
       " 'verbose': 0,\n",
       " 'warm_start': False}"
      ]
     },
     "execution_count": 6,
     "metadata": {},
     "output_type": "execute_result"
    }
   ],
   "source": [
    "# Define a model object with the Isolation Forest algorithm\n",
    "#model=IsolationForest(n_estimators=100,max_samples='auto',contamination=0.05,random_state=96)\n",
    "#model=IsolationForest(n_estimators=100,max_samples='auto',contamination='auto',random_state=96)\n",
    "model=IsolationForest(n_estimators=100,max_samples=1000,contamination='auto',random_state=96)\n",
    "\n",
    "# Fit the data to the model\n",
    "model.fit(distance_matrix)\n",
    "\n",
    "# Display parameter values that were used\n",
    "model.get_params()"
   ]
  },
  {
   "cell_type": "code",
   "execution_count": 7,
   "metadata": {},
   "outputs": [],
   "source": [
    "# Add a column to the DF for scores from the model's decision_function\n",
    "df['raw_score'] = model.decision_function(distance_matrix)\n",
    "\n",
    "# Add a column to the DF for the anomaly flag from the model's predict function...-1 indicates anomaly\n",
    "df['anomaly_score'] = model.predict(distance_matrix)\n"
   ]
  },
  {
   "cell_type": "code",
   "execution_count": 8,
   "metadata": {},
   "outputs": [
    {
     "data": {
      "text/html": [
       "<div>\n",
       "<style scoped>\n",
       "    .dataframe tbody tr th:only-of-type {\n",
       "        vertical-align: middle;\n",
       "    }\n",
       "\n",
       "    .dataframe tbody tr th {\n",
       "        vertical-align: top;\n",
       "    }\n",
       "\n",
       "    .dataframe thead th {\n",
       "        text-align: right;\n",
       "    }\n",
       "</style>\n",
       "<table border=\"1\" class=\"dataframe\">\n",
       "  <thead>\n",
       "    <tr style=\"text-align: right;\">\n",
       "      <th></th>\n",
       "      <th>ID</th>\n",
       "      <th>Log Entry</th>\n",
       "      <th>raw_score</th>\n",
       "      <th>anomaly_score</th>\n",
       "    </tr>\n",
       "  </thead>\n",
       "  <tbody>\n",
       "    <tr>\n",
       "      <th>181</th>\n",
       "      <td>182</td>\n",
       "      <td>GET http://intranet.company.com/home HTTP/1.1\"...</td>\n",
       "      <td>0.035521</td>\n",
       "      <td>1</td>\n",
       "    </tr>\n",
       "    <tr>\n",
       "      <th>385</th>\n",
       "      <td>386</td>\n",
       "      <td>GET http://update.software.com/check HTTP/1.1\"...</td>\n",
       "      <td>0.064168</td>\n",
       "      <td>1</td>\n",
       "    </tr>\n",
       "    <tr>\n",
       "      <th>343</th>\n",
       "      <td>344</td>\n",
       "      <td>GET http://update.software.com/check HTTP/1.1\"...</td>\n",
       "      <td>0.017233</td>\n",
       "      <td>1</td>\n",
       "    </tr>\n",
       "  </tbody>\n",
       "</table>\n",
       "</div>"
      ],
      "text/plain": [
       "      ID                                          Log Entry  raw_score  \\\n",
       "181  182  GET http://intranet.company.com/home HTTP/1.1\"...   0.035521   \n",
       "385  386  GET http://update.software.com/check HTTP/1.1\"...   0.064168   \n",
       "343  344  GET http://update.software.com/check HTTP/1.1\"...   0.017233   \n",
       "\n",
       "     anomaly_score  \n",
       "181              1  \n",
       "385              1  \n",
       "343              1  "
      ]
     },
     "execution_count": 8,
     "metadata": {},
     "output_type": "execute_result"
    }
   ],
   "source": [
    "# Display the data with the columns added\n",
    "df.sample(3)"
   ]
  },
  {
   "cell_type": "code",
   "execution_count": 9,
   "metadata": {},
   "outputs": [
    {
     "data": {
      "text/html": [
       "<div>\n",
       "<style scoped>\n",
       "    .dataframe tbody tr th:only-of-type {\n",
       "        vertical-align: middle;\n",
       "    }\n",
       "\n",
       "    .dataframe tbody tr th {\n",
       "        vertical-align: top;\n",
       "    }\n",
       "\n",
       "    .dataframe thead th {\n",
       "        text-align: right;\n",
       "    }\n",
       "</style>\n",
       "<table border=\"1\" class=\"dataframe\">\n",
       "  <thead>\n",
       "    <tr style=\"text-align: right;\">\n",
       "      <th></th>\n",
       "      <th>ID</th>\n",
       "      <th>Log Entry</th>\n",
       "      <th>raw_score</th>\n",
       "      <th>anomaly_score</th>\n",
       "    </tr>\n",
       "  </thead>\n",
       "  <tbody>\n",
       "    <tr>\n",
       "      <th>994</th>\n",
       "      <td>995</td>\n",
       "      <td>GET http://www.example.com/search?q=&lt;script&gt;al...</td>\n",
       "      <td>-0.137784</td>\n",
       "      <td>-1</td>\n",
       "    </tr>\n",
       "    <tr>\n",
       "      <th>989</th>\n",
       "      <td>990</td>\n",
       "      <td>GET http://www.example.com/../../etc/passwd HT...</td>\n",
       "      <td>-0.020262</td>\n",
       "      <td>-1</td>\n",
       "    </tr>\n",
       "    <tr>\n",
       "      <th>122</th>\n",
       "      <td>123</td>\n",
       "      <td>GET http://update.software.com/version.xml HTT...</td>\n",
       "      <td>-0.002311</td>\n",
       "      <td>-1</td>\n",
       "    </tr>\n",
       "  </tbody>\n",
       "</table>\n",
       "</div>"
      ],
      "text/plain": [
       "      ID                                          Log Entry  raw_score  \\\n",
       "994  995  GET http://www.example.com/search?q=<script>al...  -0.137784   \n",
       "989  990  GET http://www.example.com/../../etc/passwd HT...  -0.020262   \n",
       "122  123  GET http://update.software.com/version.xml HTT...  -0.002311   \n",
       "\n",
       "     anomaly_score  \n",
       "994             -1  \n",
       "989             -1  \n",
       "122             -1  "
      ]
     },
     "execution_count": 9,
     "metadata": {},
     "output_type": "execute_result"
    }
   ],
   "source": [
    "# Display just the anomalies\n",
    "df[df['anomaly_score']==-1].sample(3)"
   ]
  },
  {
   "cell_type": "code",
   "execution_count": 10,
   "metadata": {},
   "outputs": [
    {
     "data": {
      "text/plain": [
       "anomaly_score\n",
       " 1    930\n",
       "-1     70\n",
       "Name: count, dtype: int64"
      ]
     },
     "execution_count": 10,
     "metadata": {},
     "output_type": "execute_result"
    }
   ],
   "source": [
    "# The outliers have anomaly_score = -1\n",
    "# This is pretty darned good, given that the known actual split is 950/50\n",
    "df['anomaly_score'].value_counts()"
   ]
  },
  {
   "cell_type": "code",
   "execution_count": 11,
   "metadata": {},
   "outputs": [
    {
     "data": {
      "image/png": "[encoded data removed]",
      "text/plain": [
       "<Figure size 1000x700 with 1 Axes>"
      ]
     },
     "metadata": {},
     "output_type": "display_data"
    }
   ],
   "source": [
    "# Scatter plot of the anomaly_score results...it's what we'd expect to see given the counts above\n",
    "plt.figure(figsize=(10, 7))\n",
    "scatter = plt.scatter(df.raw_score, df.anomaly_score)\n",
    "plt.title('Anomaly Plot')\n",
    "plt.xlabel('Raw Score')\n",
    "plt.ylabel('Anomaly Score')\n",
    "plt.show()"
   ]
  },
  {
   "cell_type": "markdown",
   "metadata": {},
   "source": [
    "Our unsupervised ML model, trained using a very simple distance metric that was merely the number of edits to make two text passages the same, did surprisingly well.  It flagged 70 log entries as anomalies, with 930 seen as typical.  We know the real answer from the fabricated test log entry data is 950 benign and 50 malicious.  We would need to test on real data and/or larger data sets, but this might be at least useable as a coarse-grained pre-filter. "
   ]
  }
 ],
 "metadata": {
  "kernelspec": {
   "display_name": "Python 3",
   "language": "python",
   "name": "python3"
  },
  "language_info": {
   "codemirror_mode": {
    "name": "ipython",
    "version": 3
   },
   "file_extension": ".py",
   "mimetype": "text/x-python",
   "name": "python",
   "nbconvert_exporter": "python",
   "pygments_lexer": "ipython3",
   "version": "3.11.9"
  }
 },
 "nbformat": 4,
 "nbformat_minor": 2
}
