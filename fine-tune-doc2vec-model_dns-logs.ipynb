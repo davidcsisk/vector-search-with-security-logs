{
 "cells": [
  {
   "cell_type": "markdown",
   "metadata": {},
   "source": [
    "# Fine-tuning a pre-built Doc2Vec Model With DNS Log Data\n",
    "1/13/2025, Dave Sisk, https://github.com/davidcsisk, https://www.linkedin.com/in/davesisk-doctordatabase/"
   ]
  },
  {
   "cell_type": "code",
   "execution_count": 1,
   "metadata": {},
   "outputs": [],
   "source": [
    "from gensim.models.doc2vec import Doc2Vec, TaggedDocument\n",
    "from nltk.tokenize import word_tokenize\n",
    "import pandas as pd"
   ]
  },
  {
   "cell_type": "code",
   "execution_count": null,
   "metadata": {},
   "outputs": [],
   "source": [
    "\n",
    "# Example DNS logs\n",
    "dns_logs = [\n",
    "    \"2025-01-01 12:34:56 QUERY example.com A 192.0.2.1\",\n",
    "    \"2025-01-01 12:35:10 QUERY subdomain.example.com AAAA 2001:db8::1\"\n",
    "]\n",
    "\n",
    "# https://www.secrepo.com/maccdc2012/dns.log.gz\n",
    "\n",
    "# Helpful notebook: https://github.com/cyberdefendersprogram/MachineLearning/blob/master/Data_analysis/Network%20analysis/dns%20analysis.ipynb\n",
    "\n"
   ]
  },
  {
   "cell_type": "code",
   "execution_count": 869,
   "metadata": {},
   "outputs": [
    {
     "data": {
      "text/plain": [
       "(427935, 6)"
      ]
     },
     "execution_count": 869,
     "metadata": {},
     "output_type": "execute_result"
    }
   ],
   "source": [
    "# From this location: https://www.secrepo.com/maccdc2012/dns.log.gz\n",
    "# Examine other data here as well: https://www.secrepo.com\n",
    "df = pd.read_csv('dns.log.gz', compression='gzip', sep='\\t', header=None)\n",
    "\n",
    "# col19 = 1 seems to be all NB query types\n",
    "df = df.drop(columns=[0, 1, 2, 3, 4, 5, 7, 9, 11, 13, 15, 16, 17, 18, 19, 20, 21])\n",
    "\n",
    "# Rename known columns\n",
    "df = df.rename(columns={6:'protocol', 8:'resolved_address', 10:'class', 12:'query_type', \n",
    "                        14:'response', 22:'rejected'})\n",
    "\n",
    "# Set rejected column values to something more human / model readable...T = 'rejected' or F = 'Accepted'\n",
    "# If we do this here, we'll have to do the same to every DNS record we examine\n",
    "#df['rejected'] = df['rejected'].map({'T': 'rejected', 'F': 'accepted'})\n",
    "\n",
    "df.shape\n"
   ]
  },
  {
   "cell_type": "markdown",
   "metadata": {},
   "source": [
    "DNS record types and descriptions can be found here:\n",
    "https://en.wikipedia.org/wiki/List_of_DNS_record_types"
   ]
  },
  {
   "cell_type": "code",
   "execution_count": 870,
   "metadata": {},
   "outputs": [
    {
     "data": {
      "text/html": [
       "<div>\n",
       "<style scoped>\n",
       "    .dataframe tbody tr th:only-of-type {\n",
       "        vertical-align: middle;\n",
       "    }\n",
       "\n",
       "    .dataframe tbody tr th {\n",
       "        vertical-align: top;\n",
       "    }\n",
       "\n",
       "    .dataframe thead th {\n",
       "        text-align: right;\n",
       "    }\n",
       "</style>\n",
       "<table border=\"1\" class=\"dataframe\">\n",
       "  <thead>\n",
       "    <tr style=\"text-align: right;\">\n",
       "      <th></th>\n",
       "      <th>protocol</th>\n",
       "      <th>resolved_address</th>\n",
       "      <th>class</th>\n",
       "      <th>query_type</th>\n",
       "      <th>response</th>\n",
       "      <th>rejected</th>\n",
       "    </tr>\n",
       "  </thead>\n",
       "  <tbody>\n",
       "    <tr>\n",
       "      <th>413343</th>\n",
       "      <td>udp</td>\n",
       "      <td>norton</td>\n",
       "      <td>C_INTERNET</td>\n",
       "      <td>A</td>\n",
       "      <td>-</td>\n",
       "      <td>F</td>\n",
       "    </tr>\n",
       "    <tr>\n",
       "      <th>418485</th>\n",
       "      <td>udp</td>\n",
       "      <td>GFE.NVIDIA.COM</td>\n",
       "      <td>C_INTERNET</td>\n",
       "      <td>NB</td>\n",
       "      <td>-</td>\n",
       "      <td>F</td>\n",
       "    </tr>\n",
       "    <tr>\n",
       "      <th>108969</th>\n",
       "      <td>udp</td>\n",
       "      <td>teredo.ipv6.microsoft.com</td>\n",
       "      <td>C_INTERNET</td>\n",
       "      <td>A</td>\n",
       "      <td>-</td>\n",
       "      <td>F</td>\n",
       "    </tr>\n",
       "    <tr>\n",
       "      <th>275081</th>\n",
       "      <td>udp</td>\n",
       "      <td>www.php.net</td>\n",
       "      <td>C_INTERNET</td>\n",
       "      <td>A</td>\n",
       "      <td>-</td>\n",
       "      <td>F</td>\n",
       "    </tr>\n",
       "    <tr>\n",
       "      <th>160898</th>\n",
       "      <td>udp</td>\n",
       "      <td>time.apple.com</td>\n",
       "      <td>C_INTERNET</td>\n",
       "      <td>A</td>\n",
       "      <td>-</td>\n",
       "      <td>F</td>\n",
       "    </tr>\n",
       "  </tbody>\n",
       "</table>\n",
       "</div>"
      ],
      "text/plain": [
       "       protocol           resolved_address       class query_type response  \\\n",
       "413343      udp                     norton  C_INTERNET          A        -   \n",
       "418485      udp             GFE.NVIDIA.COM  C_INTERNET         NB        -   \n",
       "108969      udp  teredo.ipv6.microsoft.com  C_INTERNET          A        -   \n",
       "275081      udp                www.php.net  C_INTERNET          A        -   \n",
       "160898      udp             time.apple.com  C_INTERNET          A        -   \n",
       "\n",
       "       rejected  \n",
       "413343        F  \n",
       "418485        F  \n",
       "108969        F  \n",
       "275081        F  \n",
       "160898        F  "
      ]
     },
     "execution_count": 870,
     "metadata": {},
     "output_type": "execute_result"
    }
   ],
   "source": [
    "pd.set_option('display.max_columns', None)\n",
    "df.sample(5)\n",
    "#df[df['rejected'] != 'T'].sample(5)\n",
    "#df[df['class'] != 'C_INTERNET'].sample(5)\n"
   ]
  },
  {
   "cell_type": "code",
   "execution_count": 871,
   "metadata": {},
   "outputs": [
    {
     "name": "stdout",
     "output_type": "stream",
     "text": [
      "Train data:  (400000, 6)  Test data:  (27935, 6)\n"
     ]
    }
   ],
   "source": [
    "# Split the DNS log data into traininig data and test data...427935 -> 400000 training + 27935 test\n",
    "df_train = df.sample(n=400000, random_state=96)  # Get 400K random rows\n",
    "df_test = df.drop(df_train.index) # Get the 27K remaining rows\n",
    "print('Train data: ', df_train.shape, ' Test data: ', df_test.shape)"
   ]
  },
  {
   "cell_type": "code",
   "execution_count": 878,
   "metadata": {},
   "outputs": [],
   "source": [
    "# Preprocess a single row by concatenating all columns and tokenizing\n",
    "def preprocess_dns_row(row):\n",
    "    concatenated = ' '.join(map(str, row))  # Combine all column values as a single string\n",
    "    tokens = concatenated.lower().split()  # Tokenize and convert to lowercase\n",
    "    return tokens\n",
    "\n",
    "# Create TaggedDocument objects\n",
    "tagged_dns_logs = [\n",
    "    TaggedDocument(words=preprocess_dns_row(row), tags=[f\"dns_{i}\"])\n",
    "    for i, row in df_train.iterrows()\n",
    "]\n"
   ]
  },
  {
   "cell_type": "code",
   "execution_count": 880,
   "metadata": {},
   "outputs": [
    {
     "data": {
      "text/plain": [
       "400000"
      ]
     },
     "execution_count": 880,
     "metadata": {},
     "output_type": "execute_result"
    }
   ],
   "source": [
    "len(tagged_dns_logs)"
   ]
  },
  {
   "cell_type": "code",
   "execution_count": 881,
   "metadata": {},
   "outputs": [],
   "source": [
    "\n",
    "# Load the pre-trained model\n",
    "model = Doc2Vec.load(\"doc2vec_wikipedia_dm.model\")\n",
    "\n",
    "# Update vocabulary with DNS logs (optional if vocab is complete)\n",
    "model.build_vocab(tagged_dns_logs, update=True)\n",
    "\n",
    "# Set a lower learning rate for fine-tuning\n",
    "fine_tuning_alpha = 0.001  # Lower learning rate for fine-tuning\n",
    "fine_tuning_min_alpha = 0.0005  # Minimum learning rate\n",
    "\n",
    "# Fine-tune the model on DNS logs\n",
    "model.train(\n",
    "    tagged_dns_logs,\n",
    "    total_examples=len(tagged_dns_logs),\n",
    "    epochs=10,\n",
    "    start_alpha=fine_tuning_alpha,  # Set starting learning rate\n",
    "    end_alpha=fine_tuning_min_alpha  # Set minimum learning rate\n",
    ")\n",
    "\n",
    "# Save the fine-tuned model\n",
    "model.save(\"doc2vec_wikipedia_dm_fine-tuned-on-dns.model\")"
   ]
  },
  {
   "cell_type": "code",
   "execution_count": null,
   "metadata": {},
   "outputs": [],
   "source": []
  },
  {
   "cell_type": "code",
   "execution_count": null,
   "metadata": {},
   "outputs": [],
   "source": []
  }
 ],
 "metadata": {
  "kernelspec": {
   "display_name": "Python 3",
   "language": "python",
   "name": "python3"
  },
  "language_info": {
   "codemirror_mode": {
    "name": "ipython",
    "version": 3
   },
   "file_extension": ".py",
   "mimetype": "text/x-python",
   "name": "python",
   "nbconvert_exporter": "python",
   "pygments_lexer": "ipython3",
   "version": "3.11.9"
  }
 },
 "nbformat": 4,
 "nbformat_minor": 2
}
