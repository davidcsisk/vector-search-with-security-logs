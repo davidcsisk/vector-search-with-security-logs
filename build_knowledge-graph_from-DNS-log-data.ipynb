{
 "cells": [
  {
   "cell_type": "markdown",
   "metadata": {},
   "source": [
    "# Build Knowledge Graph from Tabular DNS Log Data\n",
    "2/22/2025, Dave Sisk, https://github.com/davidcsisk, https://www.linkedin.com/in/davesisk-doctordatabase/"
   ]
  },
  {
   "cell_type": "markdown",
   "metadata": {},
   "source": [
    "To use this notebook, you first need to login to Neo4j community site, create a free AuraDB instance (their cloud-based Neo4j offering) or empty your existing instance.  (I can't find a way to create a new database in a free AuraDB account, but you might be able to create a free 2nd instance, I'm not sure.) It will be paused once it's been idle for some number of days, but you can restart the AuraDB instance and it will still have the data (assuming you've already loaded it).  Start here...there are instructions along the way:\n",
    "https://neo4j.com/docs/aura/classic/auradb/getting-started/create-database/"
   ]
  },
  {
   "cell_type": "code",
   "execution_count": 1,
   "metadata": {},
   "outputs": [],
   "source": [
    "import pandas as pd\n",
    "\n",
    "from dotenv import load_dotenv\n",
    "import os\n",
    "\n",
    "#import neo4j\n",
    "from neo4j import GraphDatabase\n",
    "\n",
    "pd.set_option(\"display.max_columns\", None)"
   ]
  },
  {
   "cell_type": "markdown",
   "metadata": {},
   "source": [
    "- DNS log data from this URL: https://www.secrepo.com/maccdc2012/dns.log.gz\n",
    "- Data description and columns names here: https://www.secrepo.com/Datasets%20Description/Network/dns.html\n",
    "- Examine other data here as well: https://www.secrepo.com\n",
    "- Helpful notebook: https://github.com/cyberdefendersprogram/MachineLearning/blob/master/Data_analysis/"
   ]
  },
  {
   "cell_type": "code",
   "execution_count": 2,
   "metadata": {},
   "outputs": [
    {
     "name": "stderr",
     "output_type": "stream",
     "text": [
      "C:\\Users\\Dave Sisk\\AppData\\Local\\Temp\\ipykernel_68860\\396931170.py:3: UserWarning: Could not infer format, so each element will be parsed individually, falling back to `dateutil`. To ensure parsing is consistent and as-expected, please specify a format.\n",
      "  df = pd.read_csv('dns.log', sep='\\t', header=0, parse_dates=[\"ts\"], low_memory=False)\n"
     ]
    }
   ],
   "source": [
    "# Load the public domain DNS log data from secrepo.com. \n",
    "# Column headers from the description of the data have been manually added to the unzipped dns.log.gz file\n",
    "df = pd.read_csv('dns.log', sep='\\t', header=0, parse_dates=[\"ts\"], low_memory=False)\n",
    "\n",
    "# Remove or replace invalid timestamp values\n",
    "df[\"ts\"] = pd.to_numeric(df[\"ts\"], errors=\"coerce\")  # Coerce invalid entries to NaN\n",
    "\n",
    "# Ensure 'ts' is a datetime column before filling NaNs\n",
    "df[\"ts\"] = pd.to_datetime(df[\"ts\"], unit=\"s\", errors=\"coerce\")\n",
    "\n",
    "# Now safely replace NaNs with the Unix epoch timestamp\n",
    "df.loc[df[\"ts\"].isna(), \"ts\"] = pd.Timestamp(\"1970-01-01 00:00:00\")\n",
    "\n",
    "\n",
    "# Convert Unix timestamp to datetime\n",
    "df[\"ts\"] = pd.to_datetime(df[\"ts\"], unit=\"s\", errors=\"coerce\")\n",
    "\n",
    "# Rename a few columns for clarity\n",
    "df.rename(columns={'id_orig_h': 'src_ip', 'id_orig_p': 'src_port',\n",
    "                   'id_resp_h': 'dest_ip', 'id_resp_p': 'dest_port'}, inplace=True)\n",
    "\n",
    "# Remove any invalid rows\n",
    "df = df.dropna(subset=[\"src_ip\", \"dest_ip\", \"query\"])"
   ]
  },
  {
   "cell_type": "code",
   "execution_count": 3,
   "metadata": {},
   "outputs": [
    {
     "data": {
      "text/html": [
       "<div>\n",
       "<style scoped>\n",
       "    .dataframe tbody tr th:only-of-type {\n",
       "        vertical-align: middle;\n",
       "    }\n",
       "\n",
       "    .dataframe tbody tr th {\n",
       "        vertical-align: top;\n",
       "    }\n",
       "\n",
       "    .dataframe thead th {\n",
       "        text-align: right;\n",
       "    }\n",
       "</style>\n",
       "<table border=\"1\" class=\"dataframe\">\n",
       "  <thead>\n",
       "    <tr style=\"text-align: right;\">\n",
       "      <th></th>\n",
       "      <th>ts</th>\n",
       "      <th>uid</th>\n",
       "      <th>src_ip</th>\n",
       "      <th>src_port</th>\n",
       "      <th>dest_ip</th>\n",
       "      <th>dest_port</th>\n",
       "      <th>proto</th>\n",
       "      <th>port</th>\n",
       "      <th>query</th>\n",
       "      <th>qclass</th>\n",
       "      <th>qclass_name</th>\n",
       "      <th>qtype</th>\n",
       "      <th>qtype_name</th>\n",
       "      <th>rcode</th>\n",
       "      <th>rcode_name</th>\n",
       "      <th>qr</th>\n",
       "      <th>aa</th>\n",
       "      <th>tc</th>\n",
       "      <th>rd</th>\n",
       "      <th>z</th>\n",
       "      <th>answers</th>\n",
       "      <th>ttls</th>\n",
       "      <th>rejected</th>\n",
       "    </tr>\n",
       "  </thead>\n",
       "  <tbody>\n",
       "    <tr>\n",
       "      <th>381300</th>\n",
       "      <td>2012-03-17 17:03:50.809999943</td>\n",
       "      <td>CUyUc8317joHBZnwYh</td>\n",
       "      <td>192.168.202.79</td>\n",
       "      <td>35813</td>\n",
       "      <td>192.168.207.4</td>\n",
       "      <td>53</td>\n",
       "      <td>udp</td>\n",
       "      <td>7822</td>\n",
       "      <td>250.23.168.192.in-addr.arpa</td>\n",
       "      <td>1</td>\n",
       "      <td>C_INTERNET</td>\n",
       "      <td>12</td>\n",
       "      <td>PTR</td>\n",
       "      <td>3</td>\n",
       "      <td>NXDOMAIN</td>\n",
       "      <td>F</td>\n",
       "      <td>F</td>\n",
       "      <td>T</td>\n",
       "      <td>F</td>\n",
       "      <td>0</td>\n",
       "      <td>-</td>\n",
       "      <td>-</td>\n",
       "      <td>F</td>\n",
       "    </tr>\n",
       "    <tr>\n",
       "      <th>54085</th>\n",
       "      <td>2012-03-16 16:10:37.410000086</td>\n",
       "      <td>CDm6oY3qNzSxNDeI83</td>\n",
       "      <td>192.168.229.252</td>\n",
       "      <td>60698</td>\n",
       "      <td>192.168.207.4</td>\n",
       "      <td>53</td>\n",
       "      <td>udp</td>\n",
       "      <td>21691</td>\n",
       "      <td>0.ubuntu.pool.ntp.org</td>\n",
       "      <td>1</td>\n",
       "      <td>C_INTERNET</td>\n",
       "      <td>28</td>\n",
       "      <td>AAAA</td>\n",
       "      <td>-</td>\n",
       "      <td>-</td>\n",
       "      <td>F</td>\n",
       "      <td>F</td>\n",
       "      <td>T</td>\n",
       "      <td>F</td>\n",
       "      <td>0</td>\n",
       "      <td>-</td>\n",
       "      <td>-</td>\n",
       "      <td>F</td>\n",
       "    </tr>\n",
       "    <tr>\n",
       "      <th>122718</th>\n",
       "      <td>2012-03-16 17:20:31.809999943</td>\n",
       "      <td>CcmR1n1mDdH1Xqnzid</td>\n",
       "      <td>192.168.21.25</td>\n",
       "      <td>53935</td>\n",
       "      <td>192.168.207.4</td>\n",
       "      <td>53</td>\n",
       "      <td>udp</td>\n",
       "      <td>42253</td>\n",
       "      <td>253.21.168.192.in-addr.arpa</td>\n",
       "      <td>1</td>\n",
       "      <td>C_INTERNET</td>\n",
       "      <td>12</td>\n",
       "      <td>PTR</td>\n",
       "      <td>-</td>\n",
       "      <td>-</td>\n",
       "      <td>F</td>\n",
       "      <td>F</td>\n",
       "      <td>T</td>\n",
       "      <td>F</td>\n",
       "      <td>0</td>\n",
       "      <td>-</td>\n",
       "      <td>-</td>\n",
       "      <td>F</td>\n",
       "    </tr>\n",
       "  </tbody>\n",
       "</table>\n",
       "</div>"
      ],
      "text/plain": [
       "                                  ts                 uid           src_ip  \\\n",
       "381300 2012-03-17 17:03:50.809999943  CUyUc8317joHBZnwYh   192.168.202.79   \n",
       "54085  2012-03-16 16:10:37.410000086  CDm6oY3qNzSxNDeI83  192.168.229.252   \n",
       "122718 2012-03-16 17:20:31.809999943  CcmR1n1mDdH1Xqnzid    192.168.21.25   \n",
       "\n",
       "        src_port        dest_ip  dest_port proto   port  \\\n",
       "381300     35813  192.168.207.4         53   udp   7822   \n",
       "54085      60698  192.168.207.4         53   udp  21691   \n",
       "122718     53935  192.168.207.4         53   udp  42253   \n",
       "\n",
       "                              query qclass qclass_name qtype qtype_name rcode  \\\n",
       "381300  250.23.168.192.in-addr.arpa      1  C_INTERNET    12        PTR     3   \n",
       "54085         0.ubuntu.pool.ntp.org      1  C_INTERNET    28       AAAA     -   \n",
       "122718  253.21.168.192.in-addr.arpa      1  C_INTERNET    12        PTR     -   \n",
       "\n",
       "       rcode_name qr aa tc rd  z answers ttls rejected  \n",
       "381300   NXDOMAIN  F  F  T  F  0       -    -        F  \n",
       "54085           -  F  F  T  F  0       -    -        F  \n",
       "122718          -  F  F  T  F  0       -    -        F  "
      ]
     },
     "execution_count": 3,
     "metadata": {},
     "output_type": "execute_result"
    }
   ],
   "source": [
    "df.sample(3)"
   ]
  },
  {
   "cell_type": "code",
   "execution_count": 4,
   "metadata": {},
   "outputs": [
    {
     "data": {
      "text/plain": [
       "Index(['ts', 'uid', 'src_ip', 'src_port', 'dest_ip', 'dest_port', 'proto',\n",
       "       'port', 'query', 'qclass', 'qclass_name', 'qtype', 'qtype_name',\n",
       "       'rcode', 'rcode_name', 'qr', 'aa', 'tc', 'rd', 'z', 'answers', 'ttls',\n",
       "       'rejected'],\n",
       "      dtype='object')"
      ]
     },
     "execution_count": 4,
     "metadata": {},
     "output_type": "execute_result"
    }
   ],
   "source": [
    "df.columns"
   ]
  },
  {
   "cell_type": "code",
   "execution_count": 8,
   "metadata": {},
   "outputs": [
    {
     "data": {
      "text/plain": [
       "(10000, 23)"
      ]
     },
     "execution_count": 8,
     "metadata": {},
     "output_type": "execute_result"
    }
   ],
   "source": [
    "df.shape"
   ]
  },
  {
   "cell_type": "code",
   "execution_count": 6,
   "metadata": {},
   "outputs": [],
   "source": [
    "# This is 427K rows of DNS data...maybe need to use a sample for test purposes.\n",
    "df = df.head(10000)  # Get first 10K rows\n",
    "#df = df.sample(10000) # Get a random sample of 10K rows"
   ]
  },
  {
   "cell_type": "code",
   "execution_count": 9,
   "metadata": {},
   "outputs": [],
   "source": [
    "load_dotenv('.env', override=True)\n",
    "NEO4J_URI = os.getenv('NEO4J_URI')\n",
    "NEO4J_USERNAME = os.getenv('NEO4J_USERNAME')\n",
    "NEO4J_PASSWORD = os.getenv('NEO4J_PASSWORD')\n",
    "NEO4J_DATABASE = 'neo4j'"
   ]
  },
  {
   "cell_type": "code",
   "execution_count": 10,
   "metadata": {},
   "outputs": [],
   "source": [
    "from neo4j import GraphDatabase\n",
    "\n",
    "# Connect to Neo4j\n",
    "driver = GraphDatabase.driver(NEO4J_URI, auth=(NEO4J_USERNAME, NEO4J_PASSWORD))\n",
    "\n",
    "def create_dns_graph(tx, batch):\n",
    "    query = \"\"\"\n",
    "    UNWIND $batch AS row\n",
    "    MERGE (src:IP {address: row.src_ip})\n",
    "    MERGE (dest:IP {address: row.dest_ip})\n",
    "    MERGE (domain:Domain {name: row.query})\n",
    "    MERGE (proto:Protocol {name: row.proto})\n",
    "    MERGE (sport:Port {number: row.src_port})\n",
    "    MERGE (dport:Port {number: row.dest_port})\n",
    "\n",
    "    MERGE (src)-[:QUERIED {timestamp: row.ts, uid: row.uid, qtype: row.qtype_name, rcode: row.rcode_name}]->(domain)\n",
    "    MERGE (src)-[:USES_PORT]->(sport)\n",
    "    MERGE (dest)-[:USES_PORT]->(dport)\n",
    "    MERGE (src)-[:USES_PROTOCOL]->(proto)\n",
    "\n",
    "    FOREACH (answer IN row.answers | \n",
    "        MERGE (ans_ip:IP {address: answer})\n",
    "        MERGE (domain)-[:HAS_ANSWER]->(ans_ip)\n",
    "    )\n",
    "    \"\"\"\n",
    "    tx.run(query, batch=batch)  # ✅ Pass batch correctly\n",
    "\n",
    "# Load data in batches\n",
    "BATCH_SIZE = 1000  # Adjust batch size as needed\n",
    "\n",
    "with driver.session(database=NEO4J_DATABASE) as session:\n",
    "    for i in range(0, len(df), BATCH_SIZE):\n",
    "        batch = df.iloc[i : i + BATCH_SIZE].copy()  # Avoid SettingWithCopyWarning\n",
    "\n",
    "        # ✅ Ensure answers column is a list\n",
    "        batch[\"answers\"] = batch[\"answers\"].apply(lambda x: x.split(\",\") if isinstance(x, str) else [])\n",
    "\n",
    "        # ✅ Convert batch to list of dictionaries\n",
    "        batch_dict = batch.to_dict(orient=\"records\")\n",
    "\n",
    "        #session.write_transaction(create_dns_graph, batch_dict)\n",
    "        session.execute_write(create_dns_graph, batch_dict)\n",
    "\n",
    "# Close Neo4j connection\n",
    "driver.close()\n"
   ]
  },
  {
   "cell_type": "code",
   "execution_count": 11,
   "metadata": {},
   "outputs": [
    {
     "name": "stdout",
     "output_type": "stream",
     "text": [
      "Neo4j connection established.\n"
     ]
    }
   ],
   "source": [
    "# Helper function for Neo4J queries\n",
    "from neo4j import GraphDatabase\n",
    "\n",
    "# Connect to Neo4j\n",
    "driver = GraphDatabase.driver(NEO4J_URI, auth=(NEO4J_USERNAME, NEO4J_PASSWORD))\n",
    "TARGET_DB='neo4j'\n",
    "# Function to execute Cypher queries and return results\n",
    "def run_query(query, params={}):\n",
    "    with driver.session(database=TARGET_DB) as session:\n",
    "        result = session.run(query, params)\n",
    "        return [record for record in result]\n",
    "\n",
    "# Test connection\n",
    "print(\"Neo4j connection established.\")\n",
    "\n"
   ]
  },
  {
   "cell_type": "code",
   "execution_count": 12,
   "metadata": {},
   "outputs": [
    {
     "data": {
      "text/plain": [
       "[<Record n=<Node element_id='4:11d34b80-28c6-4858-9b68-a097c7e3dafa:0' labels=frozenset({'IP'}) properties={'address': '192.168.202.100'}>>,\n",
       " <Record n=<Node element_id='4:11d34b80-28c6-4858-9b68-a097c7e3dafa:1' labels=frozenset({'IP'}) properties={'address': '192.168.202.76'}>>,\n",
       " <Record n=<Node element_id='4:11d34b80-28c6-4858-9b68-a097c7e3dafa:2' labels=frozenset({'IP'}) properties={'address': '192.168.202.89'}>>,\n",
       " <Record n=<Node element_id='4:11d34b80-28c6-4858-9b68-a097c7e3dafa:3' labels=frozenset({'IP'}) properties={'address': '192.168.202.85'}>>,\n",
       " <Record n=<Node element_id='4:11d34b80-28c6-4858-9b68-a097c7e3dafa:4' labels=frozenset({'IP'}) properties={'address': '192.168.202.102'}>>,\n",
       " <Record n=<Node element_id='4:11d34b80-28c6-4858-9b68-a097c7e3dafa:5' labels=frozenset({'IP'}) properties={'address': '192.168.202.93'}>>,\n",
       " <Record n=<Node element_id='4:11d34b80-28c6-4858-9b68-a097c7e3dafa:6' labels=frozenset({'IP'}) properties={'address': '192.168.202.97'}>>,\n",
       " <Record n=<Node element_id='4:11d34b80-28c6-4858-9b68-a097c7e3dafa:7' labels=frozenset({'IP'}) properties={'address': 'fe80::ba8d:12ff:fe53:a8d8'}>>,\n",
       " <Record n=<Node element_id='4:11d34b80-28c6-4858-9b68-a097c7e3dafa:8' labels=frozenset({'IP'}) properties={'address': '192.168.202.71'}>>,\n",
       " <Record n=<Node element_id='4:11d34b80-28c6-4858-9b68-a097c7e3dafa:9' labels=frozenset({'IP'}) properties={'address': '192.168.202.77'}>>]"
      ]
     },
     "execution_count": 12,
     "metadata": {},
     "output_type": "execute_result"
    }
   ],
   "source": [
    "# Is there data there?\n",
    "query = \"\"\"\n",
    "MATCH (n) RETURN n LIMIT 10\n",
    "\"\"\"\n",
    "\n",
    "run_query(query)"
   ]
  },
  {
   "cell_type": "code",
   "execution_count": 13,
   "metadata": {},
   "outputs": [
    {
     "data": {
      "text/plain": [
       "[<Record domain='44.206.168.192.in-addr.arpa' query_count=617>,\n",
       " <Record domain='www.apple.com' query_count=576>,\n",
       " <Record domain='WPAD' query_count=534>,\n",
       " <Record domain='ARMMF.ADOBE.COM' query_count=420>,\n",
       " <Record domain='ISATAP' query_count=380>,\n",
       " <Record domain='creativecommons.org' query_count=342>,\n",
       " <Record domain='www.dokuwiki.org' query_count=324>,\n",
       " <Record domain='www.php.net' query_count=308>,\n",
       " <Record domain='*\\\\x00\\\\x00\\\\x00\\\\x00\\\\x00\\\\x00\\\\x00\\\\x00\\\\x00\\\\x00\\\\x00\\\\x00\\\\x00\\\\x00' query_count=270>,\n",
       " <Record domain='HPE8AA67' query_count=249>]"
      ]
     },
     "execution_count": 13,
     "metadata": {},
     "output_type": "execute_result"
    }
   ],
   "source": [
    "# Top 10 Most Queried Domains\n",
    "query = \"\"\"\n",
    "MATCH (d:Domain)<-[q:QUERIED]-()\n",
    "RETURN d.name AS domain, COUNT(q) AS query_count\n",
    "ORDER BY query_count DESC\n",
    "LIMIT 10\n",
    "\"\"\"\n",
    "run_query(query)"
   ]
  },
  {
   "cell_type": "code",
   "execution_count": 14,
   "metadata": {},
   "outputs": [
    {
     "data": {
      "text/plain": [
       "[<Record source_ip='192.168.202.102' queries=965>,\n",
       " <Record source_ip='192.168.202.93' queries=914>,\n",
       " <Record source_ip='192.168.202.97' queries=901>,\n",
       " <Record source_ip='192.168.202.103' queries=840>,\n",
       " <Record source_ip='192.168.203.62' queries=742>,\n",
       " <Record source_ip='192.168.202.76' queries=652>,\n",
       " <Record source_ip='192.168.202.83' queries=641>,\n",
       " <Record source_ip='192.168.202.79' queries=477>,\n",
       " <Record source_ip='192.168.202.89' queries=460>,\n",
       " <Record source_ip='192.168.203.61' queries=374>]"
      ]
     },
     "execution_count": 14,
     "metadata": {},
     "output_type": "execute_result"
    }
   ],
   "source": [
    "# Most Active Source IPs\n",
    "query = \"\"\"\n",
    "MATCH (src:IP)-[q:QUERIED]->(d:Domain)\n",
    "RETURN src.address AS source_ip, COUNT(q) AS queries\n",
    "ORDER BY queries DESC\n",
    "LIMIT 10\n",
    "\"\"\"\n",
    "run_query(query)"
   ]
  },
  {
   "cell_type": "code",
   "execution_count": 15,
   "metadata": {},
   "outputs": [
    {
     "data": {
      "text/plain": [
       "[<Record answer_ip='-' occurrences=579>,\n",
       " <Record answer_ip='110.209.6.25' occurrences=2>,\n",
       " <Record answer_ip='c02gn35udjwr._sftp-ssh._tcp.local' occurrences=2>,\n",
       " <Record answer_ip='enigma.local' occurrences=1>,\n",
       " <Record answer_ip='192.168.208.18' occurrences=1>,\n",
       " <Record answer_ip='c02gn35udjwr.local' occurrences=1>,\n",
       " <Record answer_ip='sds-macbook-pro.local' occurrences=1>,\n",
       " <Record answer_ip='dnsmasq-2.45' occurrences=1>,\n",
       " <Record answer_ip='Microsoft DNS 6.0.6002 (17724655)' occurrences=1>,\n",
       " <Record answer_ip='2001:dbb:c18:202:f2de:f1ff:fe9b:ad6a' occurrences=1>]"
      ]
     },
     "execution_count": 15,
     "metadata": {},
     "output_type": "execute_result"
    }
   ],
   "source": [
    "# Most Common Response IPs\n",
    "query = \"\"\"\n",
    "MATCH (d:Domain)-[:HAS_ANSWER]->(ip:IP)\n",
    "RETURN ip.address AS answer_ip, COUNT(*) AS occurrences\n",
    "ORDER BY occurrences DESC\n",
    "LIMIT 10\n",
    "\"\"\"\n",
    "run_query(query)"
   ]
  },
  {
   "cell_type": "code",
   "execution_count": 16,
   "metadata": {},
   "outputs": [
    {
     "data": {
      "text/plain": [
       "[<Record rejected_domain='44.206.168.192.in-addr.arpa' attempts=617>,\n",
       " <Record rejected_domain='creativecommons.org' attempts=342>,\n",
       " <Record rejected_domain='www.dokuwiki.org' attempts=324>,\n",
       " <Record rejected_domain='www.php.net' attempts=308>,\n",
       " <Record rejected_domain='validator.w3.org' attempts=184>,\n",
       " <Record rejected_domain='dokuwiki.org' attempts=184>,\n",
       " <Record rejected_domain='jigsaw.w3.org' attempts=184>,\n",
       " <Record rejected_domain='www.stopbadware.org' attempts=102>,\n",
       " <Record rejected_domain='safebrowsing.clients.google.com' attempts=80>,\n",
       " <Record rejected_domain='smolt.openfiler.com' attempts=72>]"
      ]
     },
     "execution_count": 16,
     "metadata": {},
     "output_type": "execute_result"
    }
   ],
   "source": [
    "# Queries That Were Rejected\n",
    "query = \"\"\"\n",
    "MATCH (src:IP)-[q:QUERIED {rcode: 'NXDOMAIN'}]->(d:Domain)\n",
    "RETURN d.name AS rejected_domain, COUNT(q) AS attempts\n",
    "ORDER BY attempts DESC\n",
    "LIMIT 10\n",
    "\"\"\"\n",
    "run_query(query)"
   ]
  },
  {
   "cell_type": "code",
   "execution_count": 17,
   "metadata": {},
   "outputs": [
    {
     "name": "stdout",
     "output_type": "stream",
     "text": [
      "[]\n"
     ]
    }
   ],
   "source": [
    "# DNS Requests Using a Specific Protocol\n",
    "query = \"\"\"\n",
    "MATCH (src:IP)-[:USES_PROTOCOL]->(proto:Protocol)\n",
    "WHERE proto.name = 'UDP'\n",
    "RETURN src.address AS source_ip, COUNT(*) AS udp_queries\n",
    "ORDER BY udp_queries DESC\n",
    "LIMIT 10\n",
    "\"\"\"\n",
    "udp_requests = run_query(query)\n",
    "print(udp_requests)\n"
   ]
  },
  {
   "cell_type": "code",
   "execution_count": 19,
   "metadata": {},
   "outputs": [
    {
     "name": "stdout",
     "output_type": "stream",
     "text": [
      "[<Record source_ip='192.168.202.93' answer_ip='-' timestamp=neo4j.time.DateTime(2012, 3, 16, 13, 7, 13, 240000010)>, <Record source_ip='192.168.202.93' answer_ip='-' timestamp=neo4j.time.DateTime(2012, 3, 16, 13, 7, 4, 220000029)>, <Record source_ip='192.168.202.93' answer_ip='-' timestamp=neo4j.time.DateTime(2012, 3, 16, 13, 7, 1, 220000029)>, <Record source_ip='192.168.202.93' answer_ip='-' timestamp=neo4j.time.DateTime(2012, 3, 16, 13, 7, 0, 220000029)>, <Record source_ip='192.168.202.93' answer_ip='-' timestamp=neo4j.time.DateTime(2012, 3, 16, 13, 6, 43, 250000000)>, <Record source_ip='192.168.202.93' answer_ip='-' timestamp=neo4j.time.DateTime(2012, 3, 16, 13, 6, 34, 230000019)>, <Record source_ip='192.168.202.93' answer_ip='-' timestamp=neo4j.time.DateTime(2012, 3, 16, 13, 6, 31, 220000029)>, <Record source_ip='192.168.202.93' answer_ip='-' timestamp=neo4j.time.DateTime(2012, 3, 16, 13, 6, 30, 220000029)>, <Record source_ip='192.168.202.93' answer_ip='-' timestamp=neo4j.time.DateTime(2012, 3, 16, 13, 6, 13, 250000000)>, <Record source_ip='192.168.202.93' answer_ip='-' timestamp=neo4j.time.DateTime(2012, 3, 16, 13, 6, 4, 230000019)>, <Record source_ip='192.168.202.93' answer_ip='-' timestamp=neo4j.time.DateTime(2012, 3, 16, 13, 6, 1, 230000019)>, <Record source_ip='192.168.202.93' answer_ip='-' timestamp=neo4j.time.DateTime(2012, 3, 16, 13, 6, 0, 220000029)>, <Record source_ip='192.168.202.93' answer_ip='-' timestamp=neo4j.time.DateTime(2012, 3, 16, 13, 5, 43, 250000000)>, <Record source_ip='192.168.202.93' answer_ip='-' timestamp=neo4j.time.DateTime(2012, 3, 16, 13, 5, 34, 240000010)>, <Record source_ip='192.168.202.93' answer_ip='-' timestamp=neo4j.time.DateTime(2012, 3, 16, 13, 5, 31, 230000019)>, <Record source_ip='192.168.202.93' answer_ip='-' timestamp=neo4j.time.DateTime(2012, 3, 16, 13, 5, 30, 230000019)>, <Record source_ip='192.168.202.93' answer_ip='-' timestamp=neo4j.time.DateTime(2012, 3, 16, 13, 5, 13, 259999990)>, <Record source_ip='192.168.202.93' answer_ip='-' timestamp=neo4j.time.DateTime(2012, 3, 16, 13, 5, 4, 240000010)>, <Record source_ip='192.168.202.93' answer_ip='-' timestamp=neo4j.time.DateTime(2012, 3, 16, 13, 5, 1, 230000019)>, <Record source_ip='192.168.202.93' answer_ip='-' timestamp=neo4j.time.DateTime(2012, 3, 16, 13, 5, 0, 230000019)>]\n"
     ]
    }
   ],
   "source": [
    "# All Connections for a Specific Domain\n",
    "domain_name = \"time.apple.com\"  # Change this to a domain of interest\n",
    "\n",
    "query = \"\"\"\n",
    "MATCH (src:IP)-[q:QUERIED]->(d:Domain {name: $domain_name})-[:HAS_ANSWER]->(ip:IP)\n",
    "RETURN src.address AS source_ip, ip.address AS answer_ip, q.timestamp AS timestamp\n",
    "ORDER BY timestamp DESC\n",
    "LIMIT 20\n",
    "\"\"\"\n",
    "connections = run_query(query, {\"domain_name\": domain_name})\n",
    "print(connections)\n"
   ]
  }
 ],
 "metadata": {
  "kernelspec": {
   "display_name": "Python 3",
   "language": "python",
   "name": "python3"
  },
  "language_info": {
   "codemirror_mode": {
    "name": "ipython",
    "version": 3
   },
   "file_extension": ".py",
   "mimetype": "text/x-python",
   "name": "python",
   "nbconvert_exporter": "python",
   "pygments_lexer": "ipython3",
   "version": "3.11.9"
  }
 },
 "nbformat": 4,
 "nbformat_minor": 2
}
