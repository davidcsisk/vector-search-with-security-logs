{
 "cells": [
  {
   "cell_type": "markdown",
   "metadata": {},
   "source": [
    "# Malware Detection using PEFile and Vector Search\n",
    "\n",
    "3/24/2025, Dave Sisk, https://github.com/davidcsisk, https://www.linkedin.com/in/davesisk-doctordatabase/\n",
    "\n",
    "This notebook is an exercise in malware detection done leveraging AI tech.  I've taken common files from (in this case) a Windows 11 laptop, used the pefile package to extract relevant data from the binary executable, then generated vector embeddings from that extracted data.  We proceed to do some similarity searches/comparisons, cluster the files based on their vector embeddings, then reduce the dimensionality and scatterplot them for a visual interpretation."
   ]
  },
  {
   "cell_type": "code",
   "execution_count": null,
   "metadata": {},
   "outputs": [],
   "source": [
    "# Install any necessary packages\n",
    "#! pip install pefile\n",
    "#! pip install pandas"
   ]
  },
  {
   "cell_type": "code",
   "execution_count": 1,
   "metadata": {},
   "outputs": [
    {
     "name": "stderr",
     "output_type": "stream",
     "text": [
      "c:\\Users\\Dave Sisk\\AppData\\Local\\Programs\\Python\\Python311\\Lib\\site-packages\\sentence_transformers\\cross_encoder\\CrossEncoder.py:11: TqdmWarning: IProgress not found. Please update jupyter and ipywidgets. See https://ipywidgets.readthedocs.io/en/stable/user_install.html\n",
      "  from tqdm.autonotebook import tqdm, trange\n"
     ]
    }
   ],
   "source": [
    "# Import the relevant libraries\n",
    "import os\n",
    "import pefile\n",
    "import pandas as pd\n",
    "from sentence_transformers import SentenceTransformer\n",
    "from sklearn.metrics.pairwise import cosine_similarity"
   ]
  },
  {
   "cell_type": "code",
   "execution_count": 2,
   "metadata": {},
   "outputs": [
    {
     "name": "stdout",
     "output_type": "stream",
     "text": [
      "Current working directory: c:\\Users\\Dave Sisk\\Repos\\vector-search-with-security-logs\\vector-search-with-security-logs\n"
     ]
    }
   ],
   "source": [
    "# Check our current working directory\n",
    "print(\"Current working directory:\", os.getcwd())"
   ]
  },
  {
   "cell_type": "code",
   "execution_count": 5,
   "metadata": {},
   "outputs": [],
   "source": [
    "# Function to read a text file into a list, ignoring lines that start with #\n",
    "def read_file_to_list(file_path):\n",
    "    try:\n",
    "        with open(file_path, 'r') as file:\n",
    "            # Read lines, strip whitespace, and ignore lines starting with '#'\n",
    "            lines = [line.strip() for line in file if line.strip() and not line.strip().startswith('#')]\n",
    "        return lines\n",
    "    except Exception as e:\n",
    "        print(f\"Error reading file: {e}\")\n",
    "        return []"
   ]
  },
  {
   "cell_type": "markdown",
   "metadata": {},
   "source": [
    "The file with the list of exe's to examine should look like this...a \"#\" can be used to comment-out lines: \n",
    "```\n",
    "C:\\Windows\\System32\\calc.exe\n",
    "C:\\Windows\\System32\\certutil.exe\n",
    "#C:\\Windows\\System32\\charmap.exe\n",
    "C:\\Windows\\System32\\CheckNetIsolation.exe\n",
    "C:\\Windows\\System32\\chglogon.exe\n",
    "...\n",
    "```\n",
    "You can generate a list of files to examine with a command like this:\n",
    "```\n",
    "dir /B *.exe > exe-file-list.txt\n",
    "```"
   ]
  },
  {
   "cell_type": "code",
   "execution_count": 6,
   "metadata": {},
   "outputs": [
    {
     "name": "stdout",
     "output_type": "stream",
     "text": [
      "Found 655 executables in the list.\n"
     ]
    }
   ],
   "source": [
    "# Get the full list from a pre-created text file\n",
    "file_path = \".\\\\exe-file-list.txt\"  # Replace with the path to your text file\n",
    "executables = read_file_to_list(file_path)\n",
    "\n",
    "print(f\"Found {len(executables)} executables in the list.\")"
   ]
  },
  {
   "cell_type": "code",
   "execution_count": 7,
   "metadata": {},
   "outputs": [],
   "source": [
    "# Function to extract PE file features\n",
    "def extract_pe_features(file_path):\n",
    "    try:\n",
    "        pe = pefile.PE(file_path)\n",
    "        features = {\n",
    "            \"File\": os.path.basename(file_path),\n",
    "            \"NumberOfSections\": len(pe.sections),\n",
    "            \"EntryPoint\": pe.OPTIONAL_HEADER.AddressOfEntryPoint,\n",
    "            \"ImageBase\": pe.OPTIONAL_HEADER.ImageBase,\n",
    "            \"Subsystem\": pe.OPTIONAL_HEADER.Subsystem,\n",
    "            \"DllCharacteristics\": pe.OPTIONAL_HEADER.DllCharacteristics,\n",
    "            # Ensure ImportedDLLs is always present, even if empty\n",
    "            \"ImportedDLLs\": [entry.dll.decode('utf-8') for entry in pe.DIRECTORY_ENTRY_IMPORT] if hasattr(pe, 'DIRECTORY_ENTRY_IMPORT') else []\n",
    "        }\n",
    "        return features\n",
    "    except Exception as e:\n",
    "        print(f\"Error processing {file_path}: {e}\")\n",
    "        return None"
   ]
  },
  {
   "cell_type": "code",
   "execution_count": 8,
   "metadata": {},
   "outputs": [
    {
     "data": {
      "text/plain": [
       "(655, 7)"
      ]
     },
     "execution_count": 8,
     "metadata": {},
     "output_type": "execute_result"
    }
   ],
   "source": [
    "# Extract features for all executables\n",
    "data = []\n",
    "for exe in executables:\n",
    "    features = extract_pe_features(exe)\n",
    "    if features:\n",
    "        data.append(features)\n",
    "\n",
    "# Create a pandas DataFrame\n",
    "df = pd.DataFrame(data)\n",
    "\n",
    "# Ensure ImportedDLLs column exists and handle missing values\n",
    "if 'ImportedDLLs' not in df.columns:\n",
    "    df['ImportedDLLs'] = ''\n",
    "else:\n",
    "    df['ImportedDLLs'] = df['ImportedDLLs'].apply(lambda x: ' '.join(x) if isinstance(x, list) else '')\n",
    "\n",
    "df.shape"
   ]
  },
  {
   "cell_type": "code",
   "execution_count": 9,
   "metadata": {
    "vscode": {
     "languageId": "bat"
    }
   },
   "outputs": [
    {
     "data": {
      "text/html": [
       "<div>\n",
       "<style scoped>\n",
       "    .dataframe tbody tr th:only-of-type {\n",
       "        vertical-align: middle;\n",
       "    }\n",
       "\n",
       "    .dataframe tbody tr th {\n",
       "        vertical-align: top;\n",
       "    }\n",
       "\n",
       "    .dataframe thead th {\n",
       "        text-align: right;\n",
       "    }\n",
       "</style>\n",
       "<table border=\"1\" class=\"dataframe\">\n",
       "  <thead>\n",
       "    <tr style=\"text-align: right;\">\n",
       "      <th></th>\n",
       "      <th>File</th>\n",
       "      <th>NumberOfSections</th>\n",
       "      <th>EntryPoint</th>\n",
       "      <th>ImageBase</th>\n",
       "      <th>Subsystem</th>\n",
       "      <th>DllCharacteristics</th>\n",
       "      <th>ImportedDLLs</th>\n",
       "    </tr>\n",
       "  </thead>\n",
       "  <tbody>\n",
       "    <tr>\n",
       "      <th>348</th>\n",
       "      <td>nvspinfo.exe</td>\n",
       "      <td>6</td>\n",
       "      <td>143776</td>\n",
       "      <td>5368709120</td>\n",
       "      <td>3</td>\n",
       "      <td>49504</td>\n",
       "      <td>api-ms-win-crt-runtime-l1-1-0.dll api-ms-win-c...</td>\n",
       "    </tr>\n",
       "    <tr>\n",
       "      <th>177</th>\n",
       "      <td>efsui.exe</td>\n",
       "      <td>6</td>\n",
       "      <td>7280</td>\n",
       "      <td>5368709120</td>\n",
       "      <td>2</td>\n",
       "      <td>49504</td>\n",
       "      <td>ADVAPI32.dll KERNEL32.dll msvcrt.dll EFSADU.dl...</td>\n",
       "    </tr>\n",
       "    <tr>\n",
       "      <th>70</th>\n",
       "      <td>chgusr.exe</td>\n",
       "      <td>6</td>\n",
       "      <td>13808</td>\n",
       "      <td>5368709120</td>\n",
       "      <td>3</td>\n",
       "      <td>49504</td>\n",
       "      <td>KERNEL32.dll USER32.dll ntdll.dll ADVAPI32.dll...</td>\n",
       "    </tr>\n",
       "  </tbody>\n",
       "</table>\n",
       "</div>"
      ],
      "text/plain": [
       "             File  NumberOfSections  EntryPoint   ImageBase  Subsystem  \\\n",
       "348  nvspinfo.exe                 6      143776  5368709120          3   \n",
       "177     efsui.exe                 6        7280  5368709120          2   \n",
       "70     chgusr.exe                 6       13808  5368709120          3   \n",
       "\n",
       "     DllCharacteristics                                       ImportedDLLs  \n",
       "348               49504  api-ms-win-crt-runtime-l1-1-0.dll api-ms-win-c...  \n",
       "177               49504  ADVAPI32.dll KERNEL32.dll msvcrt.dll EFSADU.dl...  \n",
       "70                49504  KERNEL32.dll USER32.dll ntdll.dll ADVAPI32.dll...  "
      ]
     },
     "execution_count": 9,
     "metadata": {},
     "output_type": "execute_result"
    }
   ],
   "source": [
    "# Take a look at the extracted data\n",
    "df.sample(3)"
   ]
  },
  {
   "cell_type": "markdown",
   "metadata": {},
   "source": [
    "Let's concatenate all of the relevant columns into one composite column that we will have the LLM calculate the vector embeddings for."
   ]
  },
  {
   "cell_type": "code",
   "execution_count": 10,
   "metadata": {},
   "outputs": [],
   "source": [
    "# Concatenate specified fields into a comma-delimited value and add as a new column \"document\"\n",
    "def create_document(row):\n",
    "    # Convert each field to a string and handle lists (e.g., ImportedDLLs)\n",
    "    number_of_sections = str(row['NumberOfSections'])\n",
    "    entry_point = str(row['EntryPoint'])\n",
    "    image_base = str(row['ImageBase'])\n",
    "    subsystem = str(row['Subsystem'])\n",
    "    dll_characteristics = str(row['DllCharacteristics'])\n",
    "    imported_dlls = ', '.join(row['ImportedDLLs']) if isinstance(row['ImportedDLLs'], list) else str(row['ImportedDLLs'])\n",
    "    \n",
    "    # Concatenate all fields into a single comma-delimited string\n",
    "    document = f\"{number_of_sections}, {entry_point}, {image_base}, {subsystem}, {dll_characteristics}, {imported_dlls}\"\n",
    "    return document\n",
    "\n",
    "# Apply the function to each row in the DataFrame\n",
    "df['composite'] = df.apply(create_document, axis=1)\n"
   ]
  },
  {
   "cell_type": "code",
   "execution_count": 11,
   "metadata": {},
   "outputs": [
    {
     "data": {
      "text/plain": [
       "313    7, 301040, 5368709120, 2, 49504, ADVAPI32.dll ...\n",
       "398    6, 577104, 5368709120, 2, 49504, api-ms-win-co...\n",
       "292    7, 18624, 5368709120, 2, 49504, api-ms-win-crt...\n",
       "Name: composite, dtype: object"
      ]
     },
     "execution_count": 11,
     "metadata": {},
     "output_type": "execute_result"
    }
   ],
   "source": [
    "df['composite'].sample(3)"
   ]
  },
  {
   "cell_type": "code",
   "execution_count": null,
   "metadata": {},
   "outputs": [
    {
     "name": "stderr",
     "output_type": "stream",
     "text": [
      "c:\\Users\\Dave Sisk\\AppData\\Local\\Programs\\Python\\Python311\\Lib\\site-packages\\transformers\\tokenization_utils_base.py:1601: FutureWarning: `clean_up_tokenization_spaces` was not set. It will be set to `True` by default. This behavior will be depracted in transformers v4.45, and will be then set to `False` by default. For more details check this issue: https://github.com/huggingface/transformers/issues/31884\n",
      "  warnings.warn(\n"
     ]
    }
   ],
   "source": [
    "# Load the Hugging Face sentence-transformer model\n",
    "model = SentenceTransformer('sentence-transformers/all-MiniLM-L6-v2')\n",
    "\n",
    "# Generate embeddings using the model\n",
    "# Let's see what we get if we use only the imported DLL's\n",
    "df['Embedding'] = df['composite'].apply(lambda x: model.encode(x))\n"
   ]
  },
  {
   "cell_type": "markdown",
   "metadata": {},
   "source": [
    "We now have vector embeddings that capture a signature of the files we examined.  We can do similarity searches, clustering, anomaly detection, etc., using those vector embeddings."
   ]
  },
  {
   "cell_type": "code",
   "execution_count": 13,
   "metadata": {},
   "outputs": [
    {
     "name": "stdout",
     "output_type": "stream",
     "text": [
      "                                 File  Similarity\n",
      "84                            cmd.exe    1.000000\n",
      "127                   DeviceEject.exe    0.978991\n",
      "284            MdmDiagnosticsTool.exe    0.976710\n",
      "74                         CIDiag.exe    0.974532\n",
      "5     AppHostRegistrationVerifier.exe    0.974422\n",
      "..                                ...         ...\n",
      "560  UevTemplateBaselineGenerator.exe    0.306560\n",
      "616                       winload.exe    0.264095\n",
      "618                     winresume.exe    0.238614\n",
      "554                        tzsync.exe    0.197826\n",
      "533                     tcblaunch.exe    0.197333\n",
      "\n",
      "[655 rows x 2 columns]\n"
     ]
    }
   ],
   "source": [
    "## Example: Perform a similarity search\n",
    "\n",
    "# Specify the file name to use as the query\n",
    "#query_file = \"calc.exe\"  # Replace with the desired file name\n",
    "query_file = \"cmd.exe\"  # Replace with the desired file name\n",
    "\n",
    "# Ensure the file exists in the DataFrame\n",
    "if query_file in df['File'].values:\n",
    "    query_vector = df.loc[df['File'] == query_file, 'Embedding'].values[0]  # Get the embedding for the specified file\n",
    "else:\n",
    "    raise ValueError(f\"File '{query_file}' not found in the DataFrame.\")\n",
    "\n",
    "\n",
    "similarities = df['Embedding'].apply(lambda x: cosine_similarity([query_vector], [x]).flatten()[0])\n",
    "\n",
    "# Add similarity scores to the DataFrame\n",
    "df['Similarity'] = similarities\n",
    "\n",
    "# Sort the DataFrame by the 'Similarity' column in descending order\n",
    "df = df.sort_values(by='Similarity', ascending=False)\n",
    "\n",
    "# Display the relevant columns in the sorted DataFrame\n",
    "print(df[['File', 'Similarity']])\n"
   ]
  },
  {
   "cell_type": "code",
   "execution_count": 22,
   "metadata": {},
   "outputs": [
    {
     "name": "stdout",
     "output_type": "stream",
     "text": [
      "Total count by cluster group:\n",
      "Cluster\n",
      " 0    611\n",
      "-1     31\n",
      " 1      8\n",
      " 2      5\n",
      "Name: count, dtype: int64\n"
     ]
    }
   ],
   "source": [
    "# Let's cluster the files using DBSCAN on the vector embeddings\n",
    "from sklearn.cluster import DBSCAN\n",
    "import numpy as np\n",
    "\n",
    "# Extract embeddings from the DataFrame\n",
    "embeddings = np.vstack(df['Embedding'].values)  # Convert list of embeddings to a 2D NumPy array\n",
    "\n",
    "# Perform DBSCAN clustering\n",
    "dbscan = DBSCAN(eps=0.1, min_samples=3, metric='cosine')  # Adjust eps and min_samples as needed\n",
    "labels = dbscan.fit_predict(embeddings)\n",
    "\n",
    "# Add cluster labels to the DataFrame\n",
    "df['Cluster'] = labels\n",
    "\n",
    "# Display the total count by cluster group\n",
    "cluster_counts = df['Cluster'].value_counts()\n",
    "print(\"Total count by cluster group:\")\n",
    "print(cluster_counts)\n"
   ]
  },
  {
   "cell_type": "code",
   "execution_count": 23,
   "metadata": {},
   "outputs": [
    {
     "data": {
      "text/html": [
       "<div>\n",
       "<style scoped>\n",
       "    .dataframe tbody tr th:only-of-type {\n",
       "        vertical-align: middle;\n",
       "    }\n",
       "\n",
       "    .dataframe tbody tr th {\n",
       "        vertical-align: top;\n",
       "    }\n",
       "\n",
       "    .dataframe thead th {\n",
       "        text-align: right;\n",
       "    }\n",
       "</style>\n",
       "<table border=\"1\" class=\"dataframe\">\n",
       "  <thead>\n",
       "    <tr style=\"text-align: right;\">\n",
       "      <th></th>\n",
       "      <th>File</th>\n",
       "      <th>Cluster</th>\n",
       "    </tr>\n",
       "  </thead>\n",
       "  <tbody>\n",
       "    <tr>\n",
       "      <th>84</th>\n",
       "      <td>cmd.exe</td>\n",
       "      <td>0</td>\n",
       "    </tr>\n",
       "    <tr>\n",
       "      <th>127</th>\n",
       "      <td>DeviceEject.exe</td>\n",
       "      <td>0</td>\n",
       "    </tr>\n",
       "    <tr>\n",
       "      <th>284</th>\n",
       "      <td>MdmDiagnosticsTool.exe</td>\n",
       "      <td>0</td>\n",
       "    </tr>\n",
       "    <tr>\n",
       "      <th>74</th>\n",
       "      <td>CIDiag.exe</td>\n",
       "      <td>0</td>\n",
       "    </tr>\n",
       "    <tr>\n",
       "      <th>5</th>\n",
       "      <td>AppHostRegistrationVerifier.exe</td>\n",
       "      <td>0</td>\n",
       "    </tr>\n",
       "    <tr>\n",
       "      <th>...</th>\n",
       "      <td>...</td>\n",
       "      <td>...</td>\n",
       "    </tr>\n",
       "    <tr>\n",
       "      <th>560</th>\n",
       "      <td>UevTemplateBaselineGenerator.exe</td>\n",
       "      <td>-1</td>\n",
       "    </tr>\n",
       "    <tr>\n",
       "      <th>616</th>\n",
       "      <td>winload.exe</td>\n",
       "      <td>-1</td>\n",
       "    </tr>\n",
       "    <tr>\n",
       "      <th>618</th>\n",
       "      <td>winresume.exe</td>\n",
       "      <td>-1</td>\n",
       "    </tr>\n",
       "    <tr>\n",
       "      <th>554</th>\n",
       "      <td>tzsync.exe</td>\n",
       "      <td>-1</td>\n",
       "    </tr>\n",
       "    <tr>\n",
       "      <th>533</th>\n",
       "      <td>tcblaunch.exe</td>\n",
       "      <td>-1</td>\n",
       "    </tr>\n",
       "  </tbody>\n",
       "</table>\n",
       "<p>655 rows × 2 columns</p>\n",
       "</div>"
      ],
      "text/plain": [
       "                                 File  Cluster\n",
       "84                            cmd.exe        0\n",
       "127                   DeviceEject.exe        0\n",
       "284            MdmDiagnosticsTool.exe        0\n",
       "74                         CIDiag.exe        0\n",
       "5     AppHostRegistrationVerifier.exe        0\n",
       "..                                ...      ...\n",
       "560  UevTemplateBaselineGenerator.exe       -1\n",
       "616                       winload.exe       -1\n",
       "618                     winresume.exe       -1\n",
       "554                        tzsync.exe       -1\n",
       "533                     tcblaunch.exe       -1\n",
       "\n",
       "[655 rows x 2 columns]"
      ]
     },
     "execution_count": 23,
     "metadata": {},
     "output_type": "execute_result"
    }
   ],
   "source": [
    "# If you want to see which files are in which cluster group\n",
    "df[['File', 'Cluster']]\n"
   ]
  },
  {
   "cell_type": "code",
   "execution_count": 24,
   "metadata": {},
   "outputs": [
    {
     "data": {
      "text/html": [
       "<div>\n",
       "<style scoped>\n",
       "    .dataframe tbody tr th:only-of-type {\n",
       "        vertical-align: middle;\n",
       "    }\n",
       "\n",
       "    .dataframe tbody tr th {\n",
       "        vertical-align: top;\n",
       "    }\n",
       "\n",
       "    .dataframe thead th {\n",
       "        text-align: right;\n",
       "    }\n",
       "</style>\n",
       "<table border=\"1\" class=\"dataframe\">\n",
       "  <thead>\n",
       "    <tr style=\"text-align: right;\">\n",
       "      <th></th>\n",
       "      <th>File</th>\n",
       "      <th>Cluster</th>\n",
       "    </tr>\n",
       "  </thead>\n",
       "  <tbody>\n",
       "    <tr>\n",
       "      <th>27</th>\n",
       "      <td>autofmt.exe</td>\n",
       "      <td>1</td>\n",
       "    </tr>\n",
       "    <tr>\n",
       "      <th>229</th>\n",
       "      <td>iaStorAfsNative.exe</td>\n",
       "      <td>1</td>\n",
       "    </tr>\n",
       "    <tr>\n",
       "      <th>475</th>\n",
       "      <td>setupcl.exe</td>\n",
       "      <td>1</td>\n",
       "    </tr>\n",
       "    <tr>\n",
       "      <th>26</th>\n",
       "      <td>autoconv.exe</td>\n",
       "      <td>1</td>\n",
       "    </tr>\n",
       "    <tr>\n",
       "      <th>377</th>\n",
       "      <td>poqexec.exe</td>\n",
       "      <td>1</td>\n",
       "    </tr>\n",
       "    <tr>\n",
       "      <th>502</th>\n",
       "      <td>srdelayed.exe</td>\n",
       "      <td>1</td>\n",
       "    </tr>\n",
       "    <tr>\n",
       "      <th>25</th>\n",
       "      <td>autochk.exe</td>\n",
       "      <td>1</td>\n",
       "    </tr>\n",
       "    <tr>\n",
       "      <th>490</th>\n",
       "      <td>smss.exe</td>\n",
       "      <td>1</td>\n",
       "    </tr>\n",
       "  </tbody>\n",
       "</table>\n",
       "</div>"
      ],
      "text/plain": [
       "                    File  Cluster\n",
       "27           autofmt.exe        1\n",
       "229  iaStorAfsNative.exe        1\n",
       "475          setupcl.exe        1\n",
       "26          autoconv.exe        1\n",
       "377          poqexec.exe        1\n",
       "502        srdelayed.exe        1\n",
       "25           autochk.exe        1\n",
       "490             smss.exe        1"
      ]
     },
     "execution_count": 24,
     "metadata": {},
     "output_type": "execute_result"
    }
   ],
   "source": [
    "# Files by cluster group (the small clusters are of interest)\n",
    "df[['File', 'Cluster']][(df['Cluster'] == 1)]"
   ]
  },
  {
   "cell_type": "code",
   "execution_count": 25,
   "metadata": {},
   "outputs": [
    {
     "data": {
      "text/html": [
       "<div>\n",
       "<style scoped>\n",
       "    .dataframe tbody tr th:only-of-type {\n",
       "        vertical-align: middle;\n",
       "    }\n",
       "\n",
       "    .dataframe tbody tr th {\n",
       "        vertical-align: top;\n",
       "    }\n",
       "\n",
       "    .dataframe thead th {\n",
       "        text-align: right;\n",
       "    }\n",
       "</style>\n",
       "<table border=\"1\" class=\"dataframe\">\n",
       "  <thead>\n",
       "    <tr style=\"text-align: right;\">\n",
       "      <th></th>\n",
       "      <th>File</th>\n",
       "      <th>Cluster</th>\n",
       "    </tr>\n",
       "  </thead>\n",
       "  <tbody>\n",
       "    <tr>\n",
       "      <th>504</th>\n",
       "      <td>stordiag.exe</td>\n",
       "      <td>2</td>\n",
       "    </tr>\n",
       "    <tr>\n",
       "      <th>280</th>\n",
       "      <td>MCU.exe</td>\n",
       "      <td>2</td>\n",
       "    </tr>\n",
       "    <tr>\n",
       "      <th>558</th>\n",
       "      <td>UevAgentPolicyGenerator.exe</td>\n",
       "      <td>2</td>\n",
       "    </tr>\n",
       "    <tr>\n",
       "      <th>561</th>\n",
       "      <td>UevTemplateConfigItemGenerator.exe</td>\n",
       "      <td>2</td>\n",
       "    </tr>\n",
       "    <tr>\n",
       "      <th>289</th>\n",
       "      <td>Microsoft.Uev.SyncController.exe</td>\n",
       "      <td>2</td>\n",
       "    </tr>\n",
       "  </tbody>\n",
       "</table>\n",
       "</div>"
      ],
      "text/plain": [
       "                                   File  Cluster\n",
       "504                        stordiag.exe        2\n",
       "280                             MCU.exe        2\n",
       "558         UevAgentPolicyGenerator.exe        2\n",
       "561  UevTemplateConfigItemGenerator.exe        2\n",
       "289    Microsoft.Uev.SyncController.exe        2"
      ]
     },
     "execution_count": 25,
     "metadata": {},
     "output_type": "execute_result"
    }
   ],
   "source": [
    "# Files by cluster group (the small clusters are of interest)\n",
    "df[['File', 'Cluster']][(df['Cluster'] == 2)]"
   ]
  },
  {
   "cell_type": "code",
   "execution_count": 26,
   "metadata": {},
   "outputs": [
    {
     "data": {
      "text/html": [
       "<div>\n",
       "<style scoped>\n",
       "    .dataframe tbody tr th:only-of-type {\n",
       "        vertical-align: middle;\n",
       "    }\n",
       "\n",
       "    .dataframe tbody tr th {\n",
       "        vertical-align: top;\n",
       "    }\n",
       "\n",
       "    .dataframe thead th {\n",
       "        text-align: right;\n",
       "    }\n",
       "</style>\n",
       "<table border=\"1\" class=\"dataframe\">\n",
       "  <thead>\n",
       "    <tr style=\"text-align: right;\">\n",
       "      <th></th>\n",
       "      <th>File</th>\n",
       "      <th>Cluster</th>\n",
       "    </tr>\n",
       "  </thead>\n",
       "  <tbody>\n",
       "  </tbody>\n",
       "</table>\n",
       "</div>"
      ],
      "text/plain": [
       "Empty DataFrame\n",
       "Columns: [File, Cluster]\n",
       "Index: []"
      ]
     },
     "execution_count": 26,
     "metadata": {},
     "output_type": "execute_result"
    }
   ],
   "source": [
    "# Files by cluster group (the small clusters are of interest)\n",
    "df[['File', 'Cluster']][(df['Cluster'] == 3)]"
   ]
  },
  {
   "cell_type": "code",
   "execution_count": 28,
   "metadata": {},
   "outputs": [
    {
     "data": {
      "text/html": [
       "<div>\n",
       "<style scoped>\n",
       "    .dataframe tbody tr th:only-of-type {\n",
       "        vertical-align: middle;\n",
       "    }\n",
       "\n",
       "    .dataframe tbody tr th {\n",
       "        vertical-align: top;\n",
       "    }\n",
       "\n",
       "    .dataframe thead th {\n",
       "        text-align: right;\n",
       "    }\n",
       "</style>\n",
       "<table border=\"1\" class=\"dataframe\">\n",
       "  <thead>\n",
       "    <tr style=\"text-align: right;\">\n",
       "      <th></th>\n",
       "      <th>File</th>\n",
       "      <th>Cluster</th>\n",
       "    </tr>\n",
       "  </thead>\n",
       "  <tbody>\n",
       "    <tr>\n",
       "      <th>585</th>\n",
       "      <td>VsGraphicsDesktopEngine.exe</td>\n",
       "      <td>-1</td>\n",
       "    </tr>\n",
       "    <tr>\n",
       "      <th>35</th>\n",
       "      <td>bcmCVRemoteServer.exe</td>\n",
       "      <td>-1</td>\n",
       "    </tr>\n",
       "    <tr>\n",
       "      <th>344</th>\n",
       "      <td>ntoskrnl.exe</td>\n",
       "      <td>-1</td>\n",
       "    </tr>\n",
       "    <tr>\n",
       "      <th>541</th>\n",
       "      <td>TpmTool.exe</td>\n",
       "      <td>-1</td>\n",
       "    </tr>\n",
       "    <tr>\n",
       "      <th>508</th>\n",
       "      <td>SyncAppvPublishingServer.exe</td>\n",
       "      <td>-1</td>\n",
       "    </tr>\n",
       "    <tr>\n",
       "      <th>230</th>\n",
       "      <td>iaStorAfsService.exe</td>\n",
       "      <td>-1</td>\n",
       "    </tr>\n",
       "    <tr>\n",
       "      <th>637</th>\n",
       "      <td>wscadminui.exe</td>\n",
       "      <td>-1</td>\n",
       "    </tr>\n",
       "    <tr>\n",
       "      <th>629</th>\n",
       "      <td>WorkFolders.exe</td>\n",
       "      <td>-1</td>\n",
       "    </tr>\n",
       "    <tr>\n",
       "      <th>276</th>\n",
       "      <td>MbaeParserTask.exe</td>\n",
       "      <td>-1</td>\n",
       "    </tr>\n",
       "    <tr>\n",
       "      <th>240</th>\n",
       "      <td>InfDefaultInstall.exe</td>\n",
       "      <td>-1</td>\n",
       "    </tr>\n",
       "    <tr>\n",
       "      <th>443</th>\n",
       "      <td>RpcPing.exe</td>\n",
       "      <td>-1</td>\n",
       "    </tr>\n",
       "    <tr>\n",
       "      <th>465</th>\n",
       "      <td>securekernel.exe</td>\n",
       "      <td>-1</td>\n",
       "    </tr>\n",
       "    <tr>\n",
       "      <th>634</th>\n",
       "      <td>wpnpinst.exe</td>\n",
       "      <td>-1</td>\n",
       "    </tr>\n",
       "    <tr>\n",
       "      <th>187</th>\n",
       "      <td>extrac32.exe</td>\n",
       "      <td>-1</td>\n",
       "    </tr>\n",
       "    <tr>\n",
       "      <th>347</th>\n",
       "      <td>nvidia-smi.exe</td>\n",
       "      <td>-1</td>\n",
       "    </tr>\n",
       "    <tr>\n",
       "      <th>121</th>\n",
       "      <td>ddodiag.exe</td>\n",
       "      <td>-1</td>\n",
       "    </tr>\n",
       "    <tr>\n",
       "      <th>36</th>\n",
       "      <td>bcmFirmwareUpgradeProgress.exe</td>\n",
       "      <td>-1</td>\n",
       "    </tr>\n",
       "    <tr>\n",
       "      <th>346</th>\n",
       "      <td>nvdebugdump.exe</td>\n",
       "      <td>-1</td>\n",
       "    </tr>\n",
       "    <tr>\n",
       "      <th>90</th>\n",
       "      <td>colorcpl.exe</td>\n",
       "      <td>-1</td>\n",
       "    </tr>\n",
       "    <tr>\n",
       "      <th>590</th>\n",
       "      <td>vulkaninfo.exe</td>\n",
       "      <td>-1</td>\n",
       "    </tr>\n",
       "    <tr>\n",
       "      <th>589</th>\n",
       "      <td>vulkaninfo-1-999-0-0-0.exe</td>\n",
       "      <td>-1</td>\n",
       "    </tr>\n",
       "    <tr>\n",
       "      <th>107</th>\n",
       "      <td>csrss.exe</td>\n",
       "      <td>-1</td>\n",
       "    </tr>\n",
       "    <tr>\n",
       "      <th>559</th>\n",
       "      <td>UevAppMonitor.exe</td>\n",
       "      <td>-1</td>\n",
       "    </tr>\n",
       "    <tr>\n",
       "      <th>455</th>\n",
       "      <td>ScriptRunner.exe</td>\n",
       "      <td>-1</td>\n",
       "    </tr>\n",
       "    <tr>\n",
       "      <th>226</th>\n",
       "      <td>hvax64.exe</td>\n",
       "      <td>-1</td>\n",
       "    </tr>\n",
       "    <tr>\n",
       "      <th>227</th>\n",
       "      <td>hvix64.exe</td>\n",
       "      <td>-1</td>\n",
       "    </tr>\n",
       "    <tr>\n",
       "      <th>560</th>\n",
       "      <td>UevTemplateBaselineGenerator.exe</td>\n",
       "      <td>-1</td>\n",
       "    </tr>\n",
       "    <tr>\n",
       "      <th>616</th>\n",
       "      <td>winload.exe</td>\n",
       "      <td>-1</td>\n",
       "    </tr>\n",
       "    <tr>\n",
       "      <th>618</th>\n",
       "      <td>winresume.exe</td>\n",
       "      <td>-1</td>\n",
       "    </tr>\n",
       "    <tr>\n",
       "      <th>554</th>\n",
       "      <td>tzsync.exe</td>\n",
       "      <td>-1</td>\n",
       "    </tr>\n",
       "    <tr>\n",
       "      <th>533</th>\n",
       "      <td>tcblaunch.exe</td>\n",
       "      <td>-1</td>\n",
       "    </tr>\n",
       "  </tbody>\n",
       "</table>\n",
       "</div>"
      ],
      "text/plain": [
       "                                 File  Cluster\n",
       "585       VsGraphicsDesktopEngine.exe       -1\n",
       "35              bcmCVRemoteServer.exe       -1\n",
       "344                      ntoskrnl.exe       -1\n",
       "541                       TpmTool.exe       -1\n",
       "508      SyncAppvPublishingServer.exe       -1\n",
       "230              iaStorAfsService.exe       -1\n",
       "637                    wscadminui.exe       -1\n",
       "629                   WorkFolders.exe       -1\n",
       "276                MbaeParserTask.exe       -1\n",
       "240             InfDefaultInstall.exe       -1\n",
       "443                       RpcPing.exe       -1\n",
       "465                  securekernel.exe       -1\n",
       "634                      wpnpinst.exe       -1\n",
       "187                      extrac32.exe       -1\n",
       "347                    nvidia-smi.exe       -1\n",
       "121                       ddodiag.exe       -1\n",
       "36     bcmFirmwareUpgradeProgress.exe       -1\n",
       "346                   nvdebugdump.exe       -1\n",
       "90                       colorcpl.exe       -1\n",
       "590                    vulkaninfo.exe       -1\n",
       "589        vulkaninfo-1-999-0-0-0.exe       -1\n",
       "107                         csrss.exe       -1\n",
       "559                 UevAppMonitor.exe       -1\n",
       "455                  ScriptRunner.exe       -1\n",
       "226                        hvax64.exe       -1\n",
       "227                        hvix64.exe       -1\n",
       "560  UevTemplateBaselineGenerator.exe       -1\n",
       "616                       winload.exe       -1\n",
       "618                     winresume.exe       -1\n",
       "554                        tzsync.exe       -1\n",
       "533                     tcblaunch.exe       -1"
      ]
     },
     "execution_count": 28,
     "metadata": {},
     "output_type": "execute_result"
    }
   ],
   "source": [
    "# Files by cluster group (the small clusters are of interest)\n",
    "# In particular, DBSCAN flags outliers that don't fit well into an \n",
    "# existing cluster as -1...let's take a look at those.\n",
    "df[['File', 'Cluster']][(df['Cluster'] == -1)]"
   ]
  },
  {
   "cell_type": "markdown",
   "metadata": {},
   "source": [
    "Let's use PCA to do dimension reduction from the 512 dimensions of the vector embeddings to 2 dimensions so we can plot the cluster groups."
   ]
  },
  {
   "cell_type": "code",
   "execution_count": 29,
   "metadata": {},
   "outputs": [
    {
     "data": {
      "image/png": "[encoded data removed]",
      "text/plain": [
       "<Figure size 1000x800 with 2 Axes>"
      ]
     },
     "metadata": {},
     "output_type": "display_data"
    }
   ],
   "source": [
    "from sklearn.decomposition import PCA\n",
    "import matplotlib.pyplot as plt\n",
    "\n",
    "# Reduce embeddings to 2D using PCA\n",
    "pca = PCA(n_components=2)\n",
    "reduced_embeddings = pca.fit_transform(embeddings)\n",
    "\n",
    "# Add the reduced dimensions to the DataFrame for visualization\n",
    "df['PCA1'] = reduced_embeddings[:, 0]\n",
    "df['PCA2'] = reduced_embeddings[:, 1]\n",
    "\n",
    "# Scatterplot of the clusters\n",
    "plt.figure(figsize=(10, 8))\n",
    "scatter = plt.scatter(\n",
    "    df['PCA1'], \n",
    "    df['PCA2'], \n",
    "    c=df['Cluster'],  # Color by cluster\n",
    "    cmap='viridis',   # Use a colormap for clusters\n",
    "    s=50,             # Marker size\n",
    "    alpha=0.8         # Transparency\n",
    ")\n",
    "plt.colorbar(scatter, label='Cluster')  # Add a colorbar to indicate clusters\n",
    "plt.title('DBSCAN Clustering (PCA Reduced to 2D)')\n",
    "plt.xlabel('PCA Component 1')\n",
    "plt.ylabel('PCA Component 2')\n",
    "plt.grid(True)\n",
    "plt.show()"
   ]
  },
  {
   "cell_type": "markdown",
   "metadata": {},
   "source": [
    "So, how well does this work?  It's difficult to tell for certain without some known malware executables to examine, but that's quite a significant next step.  Based on the file list and my knowledge of what each executable's functional purpose is, this process does appear to work at least reasonably well.  \n",
    "\n",
    "Note that malware detection is a very deep subject, and this notebook is only scratching the surface.  Ways to improve this process include obtaining some malware samples to test with, determining how to get more detailed relevant info out of the pefile utility, examining other utilities similar to pefile that are not platform-independent, etc.  That said, I hope this notebook takes you from having no idea how to go about this to at least some insight into one very generic way to accomplish the detection task. \n",
    "\n",
    "While there are sources of live malware samples (like The Zoo on github.com), do realize that you must adequately contain the analysis to an extremely isolated environment (like a locked-down virtual machine with no network, for instance)...live malware will try to propagate, infecting your analysis workstation and other computing devices on your network. If you attempt analysis with live malware, you must do it in the most isolated environment possible.  If you don't know how to do that, please go learn those skills first...you'll be glad you did! "
   ]
  }
 ],
 "metadata": {
  "kernelspec": {
   "display_name": "Python 3",
   "language": "python",
   "name": "python3"
  },
  "language_info": {
   "codemirror_mode": {
    "name": "ipython",
    "version": 3
   },
   "file_extension": ".py",
   "mimetype": "text/x-python",
   "name": "python",
   "nbconvert_exporter": "python",
   "pygments_lexer": "ipython3",
   "version": "3.11.9"
  }
 },
 "nbformat": 4,
 "nbformat_minor": 2
}
