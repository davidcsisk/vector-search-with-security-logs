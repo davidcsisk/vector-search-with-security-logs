{
 "cells": [
  {
   "cell_type": "code",
   "execution_count": 2,
   "metadata": {},
   "outputs": [
    {
     "name": "stdout",
     "output_type": "stream",
     "text": [
      "Collecting pefile\n",
      "  Downloading pefile-2024.8.26-py3-none-any.whl.metadata (1.4 kB)\n",
      "Downloading pefile-2024.8.26-py3-none-any.whl (74 kB)\n",
      "   ---------------------------------------- 0.0/74.8 kB ? eta -:--:--\n",
      "   ----- ---------------------------------- 10.2/74.8 kB ? eta -:--:--\n",
      "   ---------------------------------------- 74.8/74.8 kB 827.3 kB/s eta 0:00:00\n",
      "Installing collected packages: pefile\n",
      "Successfully installed pefile-2024.8.26\n"
     ]
    },
    {
     "name": "stderr",
     "output_type": "stream",
     "text": [
      "\n",
      "[notice] A new release of pip is available: 24.0 -> 25.0.1\n",
      "[notice] To update, run: python.exe -m pip install --upgrade pip\n"
     ]
    }
   ],
   "source": [
    "! pip install pefile"
   ]
  },
  {
   "cell_type": "code",
   "execution_count": 7,
   "metadata": {},
   "outputs": [
    {
     "name": "stdout",
     "output_type": "stream",
     "text": [
      "Current working directory: c:\\Users\\Dave Sisk\\Repos\\vector-search-with-security-logs\n"
     ]
    }
   ],
   "source": [
    "import os\n",
    "print(\"Current working directory:\", os.getcwd())"
   ]
  },
  {
   "cell_type": "raw",
   "metadata": {
    "vscode": {
     "languageId": "raw"
    }
   },
   "source": [
    "#The file with the list of exe's to examine should look like this:\n",
    "C:\\Windows\\System32\\calc.exe\n",
    "C:\\Windows\\System32\\CastSrv.exe\n",
    "C:\\Windows\\System32\\certreq.exe\n",
    "C:\\Windows\\System32\\certutil.exe\n",
    "C:\\Windows\\System32\\change.exe\n",
    "C:\\Windows\\System32\\charmap.exe\n",
    "C:\\Windows\\System32\\CheckNetIsolation.exe\n",
    "C:\\Windows\\System32\\chglogon.exe\n"
   ]
  },
  {
   "cell_type": "code",
   "execution_count": 10,
   "metadata": {
    "vscode": {
     "languageId": "bat"
    }
   },
   "outputs": [
    {
     "name": "stderr",
     "output_type": "stream",
     "text": [
      "c:\\Users\\Dave Sisk\\AppData\\Local\\Programs\\Python\\Python311\\Lib\\site-packages\\transformers\\tokenization_utils_base.py:1601: FutureWarning: `clean_up_tokenization_spaces` was not set. It will be set to `True` by default. This behavior will be depracted in transformers v4.45, and will be then set to `False` by default. For more details check this issue: https://github.com/huggingface/transformers/issues/31884\n",
      "  warnings.warn(\n"
     ]
    },
    {
     "name": "stdout",
     "output_type": "stream",
     "text": [
      "                                  File  NumberOfSections  EntryPoint  \\\n",
      "0    agentactivationruntimestarter.exe                 5        7056   \n",
      "1                     AgentService.exe                 6      779616   \n",
      "2                   AggregatorHost.exe                 6      208768   \n",
      "3                        aitstatic.exe                 7      177440   \n",
      "4                              alg.exe                 7       56192   \n",
      "..                                 ...               ...         ...   \n",
      "650                           wusa.exe                 6      122608   \n",
      "651                        WWAHost.exe                 7      219088   \n",
      "652                XblGameSaveTask.exe                 6       19840   \n",
      "653                          xcopy.exe                 6       21104   \n",
      "654                        xwizard.exe                 6       20480   \n",
      "\n",
      "      ImageBase  Subsystem  DllCharacteristics  \\\n",
      "0    5368709120          2               49504   \n",
      "1    5368709120          2               49504   \n",
      "2    5368709120          3               49504   \n",
      "3    5368709120          3               49504   \n",
      "4    5368709120          2               49504   \n",
      "..          ...        ...                 ...   \n",
      "650  5368709120          2               49504   \n",
      "651  5368709120          2               53600   \n",
      "652  5368709120          3               49504   \n",
      "653  5368709120          3               49504   \n",
      "654  5368709120          2               49504   \n",
      "\n",
      "                                          ImportedDLLs  \\\n",
      "0    msvcp110_win.dll msvcrt.dll ntdll.dll api-ms-w...   \n",
      "1    ADVAPI32.dll KERNEL32.dll msvcrt.dll ntdll.dll...   \n",
      "2    msvcp_win.dll api-ms-win-crt-string-l1-1-0.dll...   \n",
      "3    KERNEL32.dll msvcrt.dll ntdll.dll ole32.dll OL...   \n",
      "4    msvcrt.dll api-ms-win-core-synch-l1-1-0.dll ap...   \n",
      "..                                                 ...   \n",
      "650  ADVAPI32.dll KERNEL32.dll GDI32.dll USER32.dll...   \n",
      "651  msvcrt.dll api-ms-win-appmodel-runtime-interna...   \n",
      "652  msvcrt.dll api-ms-win-core-libraryloader-l1-2-...   \n",
      "653  msvcrt.dll ulib.dll IfsUtil.dll api-ms-win-cor...   \n",
      "654  msvcrt.dll OLEAUT32.dll api-ms-win-core-librar...   \n",
      "\n",
      "                                             Embedding  Similarity  \n",
      "0    [0.0135881, -0.060014844, -0.07350603, -0.0186...    1.000000  \n",
      "1    [-0.059685096, -0.007679745, -0.048456933, -0....    0.586846  \n",
      "2    [-0.005007502, -0.069549635, -0.039830316, -0....    0.850786  \n",
      "3    [-0.042971324, -0.011644638, -0.05302255, -0.0...    0.658489  \n",
      "4    [0.013979206, -0.10526933, -0.08211949, 0.0028...    0.884893  \n",
      "..                                                 ...         ...  \n",
      "650  [-0.06874471, -0.013514837, -0.037193697, -0.0...    0.682606  \n",
      "651  [0.010368769, -0.063587174, -0.049154, 0.00386...    0.905859  \n",
      "652  [0.016628716, -0.08798024, -0.0766073, -0.0016...    0.896885  \n",
      "653  [-0.012556113, -0.08071792, -0.08714151, -0.00...    0.902005  \n",
      "654  [-0.0069366046, -0.05571447, -0.05839992, -0.0...    0.861073  \n",
      "\n",
      "[655 rows x 9 columns]\n"
     ]
    }
   ],
   "source": [
    "import os\n",
    "import pefile\n",
    "import pandas as pd\n",
    "from sentence_transformers import SentenceTransformer\n",
    "from sklearn.metrics.pairwise import cosine_similarity\n",
    "\n",
    "# Function to read a text file into a list\n",
    "def read_file_to_list(file_path):\n",
    "    try:\n",
    "        with open(file_path, 'r') as file:\n",
    "            lines = file.read().splitlines()  # Read lines and remove newline characters\n",
    "        return lines\n",
    "    except Exception as e:\n",
    "        print(f\"Error reading file: {e}\")\n",
    "        return []\n",
    "\n",
    "# Get the full list from a pre-created text file\n",
    "file_path = \".\\\\vector-search-with-security-logs\\\\exe-file-list.txt\"  # Replace with the path to your text file\n",
    "executables = read_file_to_list(file_path)\n",
    "\n",
    "# Function to extract PE file features\n",
    "def extract_pe_features(file_path):\n",
    "    try:\n",
    "        pe = pefile.PE(file_path)\n",
    "        features = {\n",
    "            \"File\": os.path.basename(file_path),\n",
    "            \"NumberOfSections\": len(pe.sections),\n",
    "            \"EntryPoint\": pe.OPTIONAL_HEADER.AddressOfEntryPoint,\n",
    "            \"ImageBase\": pe.OPTIONAL_HEADER.ImageBase,\n",
    "            \"Subsystem\": pe.OPTIONAL_HEADER.Subsystem,\n",
    "            \"DllCharacteristics\": pe.OPTIONAL_HEADER.DllCharacteristics,\n",
    "            # Ensure ImportedDLLs is always present, even if empty\n",
    "            \"ImportedDLLs\": [entry.dll.decode('utf-8') for entry in pe.DIRECTORY_ENTRY_IMPORT] if hasattr(pe, 'DIRECTORY_ENTRY_IMPORT') else []\n",
    "        }\n",
    "        return features\n",
    "    except Exception as e:\n",
    "        print(f\"Error processing {file_path}: {e}\")\n",
    "        return None\n",
    "\n",
    "# Extract features for all executables\n",
    "data = []\n",
    "for exe in executables:\n",
    "    features = extract_pe_features(exe)\n",
    "    if features:\n",
    "        data.append(features)\n",
    "\n",
    "# Create a pandas DataFrame\n",
    "df = pd.DataFrame(data)\n",
    "\n",
    "# Ensure ImportedDLLs column exists and handle missing values\n",
    "if 'ImportedDLLs' not in df.columns:\n",
    "    df['ImportedDLLs'] = ''\n",
    "else:\n",
    "    df['ImportedDLLs'] = df['ImportedDLLs'].apply(lambda x: ' '.join(x) if isinstance(x, list) else '')\n",
    "\n",
    "# Load the Hugging Face sentence-transformer model\n",
    "model = SentenceTransformer('sentence-transformers/all-MiniLM-L6-v2')\n",
    "\n",
    "# Generate embeddings using the model\n",
    "df['Embedding'] = df['ImportedDLLs'].apply(lambda x: model.encode(x))\n",
    "\n",
    "# Example: Perform a similarity search\n",
    "query_vector = df['Embedding'][0]  # Use the first executable as the query\n",
    "similarities = df['Embedding'].apply(lambda x: cosine_similarity([query_vector], [x]).flatten()[0])\n",
    "\n",
    "# Add similarity scores to the DataFrame\n",
    "df['Similarity'] = similarities\n",
    "\n",
    "# Display the DataFrame\n",
    "print(df)"
   ]
  }
 ],
 "metadata": {
  "kernelspec": {
   "display_name": "Python 3",
   "language": "python",
   "name": "python3"
  },
  "language_info": {
   "codemirror_mode": {
    "name": "ipython",
    "version": 3
   },
   "file_extension": ".py",
   "mimetype": "text/x-python",
   "name": "python",
   "nbconvert_exporter": "python",
   "pygments_lexer": "ipython3",
   "version": "3.11.9"
  }
 },
 "nbformat": 4,
 "nbformat_minor": 2
}
