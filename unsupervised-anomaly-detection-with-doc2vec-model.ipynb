{
 "cells": [
  {
   "cell_type": "markdown",
   "metadata": {},
   "source": [
    "# Unsupervised Anomaly Detection using Vector Embeddings from <U>doc2vec model</U>\n",
    "This is a continuation of the prior research. In this notebook, we are leveraging the <u>Isolation Forest</u> algorithm to perform unsupervised training of an anomaly detection model, using text <u>vector embeddings</u> as the input. in this working example, we will build a doc2vec model using known benign logs and use that to calculate vector embeddings for the logs we wish to analyze for anomalies."
   ]
  },
  {
   "cell_type": "code",
   "execution_count": 11,
   "metadata": {},
   "outputs": [],
   "source": [
    "### Uncomment and run the line below if this is the first time executing this notebook. Package installs in requirements.txt.\n",
    "#! python -m venv venv\n",
    "#! powershell venv\\Scripts\\Activate.ps1\n",
    "#! pip install pandas \n",
    "#! pip install matplotlib\n",
    "#! pip install scikit-learn\n",
    "#! pip install gensim\n",
    "#! pip install nltk\n",
    "#import nltk\n",
    "#nltk.download('punkt_tab')"
   ]
  },
  {
   "cell_type": "code",
   "execution_count": 1,
   "metadata": {},
   "outputs": [],
   "source": [
    "import numpy as np\n",
    "import pandas as pd\n",
    "import matplotlib.pyplot as plt\n",
    "from sklearn.ensemble import IsolationForest\n",
    "from sklearn.decomposition import PCA\n",
    "\n",
    "from gensim.models.doc2vec import TaggedDocument\n",
    "from nltk.tokenize import word_tokenize\n",
    "from gensim.models import Doc2Vec"
   ]
  },
  {
   "cell_type": "code",
   "execution_count": 2,
   "metadata": {},
   "outputs": [],
   "source": [
    "# Build a vector embedding model with doc2vec using the benign sample logs\n",
    "#df = pd.read_csv('proxy_logs_good.csv') # Good logs only did not produce very good results.\n",
    "#df = pd.read_csv('proxy_logs_mixed.csv') # Using the mixed logs produced the best results.\n",
    "df = pd.read_csv('proxy_logs_mixed-2.csv') # Let's try a different set of mixed logs\n",
    "documents = df['Log Entry'].values\n",
    "\n",
    "# Generate the tagged documents\n",
    "tagged_data = [TaggedDocument(words=word_tokenize(doc.lower()), tags=[str(i)]) for i, doc in enumerate(documents)]\n",
    "\n",
    "# vector_size: size of the document vectors\n",
    "# window: context window size (how many words before and after to look)\n",
    "# min_count: minimum word frequency\n",
    "# workers: number of CPU cores to use\n",
    "# dm: 1 for Distributed Memory (DM), 0 for Distributed Bag of Words (DBOW)\n",
    "embedder_model = Doc2Vec(vector_size=32, window=5, min_count=2, workers=4, dm=1)\n",
    "\n",
    "# Build vocabulary\n",
    "embedder_model.build_vocab(tagged_data)\n",
    "\n",
    "# Train the model\n",
    "embedder_model.train(tagged_data, total_examples=embedder_model.corpus_count, epochs=embedder_model.epochs)\n",
    "\n",
    "# Save the model\n",
    "embedder_model.save(\"doc2vec-embedding-model_benign-proxy-logs-v1.model\")\n"
   ]
  },
  {
   "cell_type": "code",
   "execution_count": 3,
   "metadata": {},
   "outputs": [
    {
     "data": {
      "text/plain": [
       "array([-0.05818309, -0.07764828,  0.07359534, -0.01533147,  0.03274501,\n",
       "       -0.03817546, -0.00795446,  0.01301819,  0.03538471,  0.01744433,\n",
       "        0.0351411 , -0.0481239 ,  0.0628894 , -0.01965918, -0.05524698,\n",
       "       -0.02497985, -0.03960138,  0.02730536,  0.01786347, -0.02016577,\n",
       "        0.0337077 ,  0.05670514,  0.09555671,  0.03497012,  0.03710614,\n",
       "        0.05534294, -0.04445627, -0.00617957,  0.03327272, -0.02853018,\n",
       "       -0.01357314,  0.02410056], dtype=float32)"
      ]
     },
     "execution_count": 3,
     "metadata": {},
     "output_type": "execute_result"
    }
   ],
   "source": [
    "# Do a test inference to see if the vector embedding looks like something we'd expect...so far, so good\n",
    "new_doc = word_tokenize('GET http://www.example.com/ HTTP/1.1\"\" 200 140321 \"\"http://www.example.com/\"\" \"\"Mozilla/5.0 (Macintosh; Intel Mac OS X 10_15_7) AppleWebKit/605.1.15 (KHTML, like Gecko) Version/14.0.3 Safari/605.1.15')\n",
    "sample_vector = embedder_model.infer_vector(new_doc)\n",
    "sample_vector\n"
   ]
  },
  {
   "cell_type": "code",
   "execution_count": 4,
   "metadata": {},
   "outputs": [
    {
     "data": {
      "text/html": [
       "<div>\n",
       "<style scoped>\n",
       "    .dataframe tbody tr th:only-of-type {\n",
       "        vertical-align: middle;\n",
       "    }\n",
       "\n",
       "    .dataframe tbody tr th {\n",
       "        vertical-align: top;\n",
       "    }\n",
       "\n",
       "    .dataframe thead th {\n",
       "        text-align: right;\n",
       "    }\n",
       "</style>\n",
       "<table border=\"1\" class=\"dataframe\">\n",
       "  <thead>\n",
       "    <tr style=\"text-align: right;\">\n",
       "      <th></th>\n",
       "      <th>ID</th>\n",
       "      <th>Log Entry</th>\n",
       "      <th>return_code</th>\n",
       "    </tr>\n",
       "  </thead>\n",
       "  <tbody>\n",
       "    <tr>\n",
       "      <th>935</th>\n",
       "      <td>936</td>\n",
       "      <td>GET http://www.example.com/ HTTP/1.1\" 200 8038...</td>\n",
       "      <td>200</td>\n",
       "    </tr>\n",
       "    <tr>\n",
       "      <th>741</th>\n",
       "      <td>742</td>\n",
       "      <td>GET http://cloudstorage.com/files HTTP/1.1\" 20...</td>\n",
       "      <td>200</td>\n",
       "    </tr>\n",
       "    <tr>\n",
       "      <th>121</th>\n",
       "      <td>122</td>\n",
       "      <td>GET http://update.software.com/version.xml HTT...</td>\n",
       "      <td>200</td>\n",
       "    </tr>\n",
       "  </tbody>\n",
       "</table>\n",
       "</div>"
      ],
      "text/plain": [
       "      ID                                          Log Entry return_code\n",
       "935  936  GET http://www.example.com/ HTTP/1.1\" 200 8038...         200\n",
       "741  742  GET http://cloudstorage.com/files HTTP/1.1\" 20...         200\n",
       "121  122  GET http://update.software.com/version.xml HTT...         200"
      ]
     },
     "execution_count": 4,
     "metadata": {},
     "output_type": "execute_result"
    }
   ],
   "source": [
    "# We'll use the fabricated mixed proxy logs with known 950 benign log entries and 50 malicious log entries \n",
    "# Our goal is to see if we can get them accurately classified into that 950 benign + 50 malicious\n",
    "# Read the log data into a dataframe, and drop the columns we don't need for this exercise, and \n",
    "# extract the return code to use in validating the eventual output\n",
    "df = pd.read_csv('proxy_logs_mixed.csv')\n",
    "df = df.drop(['IP Address', 'Timestamp'], axis=1)  # We don't need IP nor timestamp for this task\n",
    "df['return_code'] = df['Log Entry'].str.split().str[3]\n",
    "\n",
    "df.sample(3)"
   ]
  },
  {
   "cell_type": "code",
   "execution_count": 5,
   "metadata": {},
   "outputs": [
    {
     "data": {
      "text/plain": [
       "return_code\n",
       "200    950\n",
       "403     18\n",
       "500     11\n",
       "404     11\n",
       "400     10\n",
       "Name: count, dtype: int64"
      ]
     },
     "execution_count": 5,
     "metadata": {},
     "output_type": "execute_result"
    }
   ],
   "source": [
    "# Let's confirm that we have 950 benign (rc = 200) and 50 malicious (rc != 200)\n",
    "df['return_code'].value_counts()"
   ]
  },
  {
   "cell_type": "code",
   "execution_count": 6,
   "metadata": {},
   "outputs": [
    {
     "data": {
      "text/html": [
       "<div>\n",
       "<style scoped>\n",
       "    .dataframe tbody tr th:only-of-type {\n",
       "        vertical-align: middle;\n",
       "    }\n",
       "\n",
       "    .dataframe tbody tr th {\n",
       "        vertical-align: top;\n",
       "    }\n",
       "\n",
       "    .dataframe thead th {\n",
       "        text-align: right;\n",
       "    }\n",
       "</style>\n",
       "<table border=\"1\" class=\"dataframe\">\n",
       "  <thead>\n",
       "    <tr style=\"text-align: right;\">\n",
       "      <th></th>\n",
       "      <th>ID</th>\n",
       "      <th>Log Entry</th>\n",
       "      <th>return_code</th>\n",
       "      <th>embedding</th>\n",
       "    </tr>\n",
       "  </thead>\n",
       "  <tbody>\n",
       "    <tr>\n",
       "      <th>255</th>\n",
       "      <td>256</td>\n",
       "      <td>GET http://intranet.company.com/home HTTP/1.1\"...</td>\n",
       "      <td>200</td>\n",
       "      <td>[-0.022056786, 0.033782955, 0.046701953, 0.066...</td>\n",
       "    </tr>\n",
       "    <tr>\n",
       "      <th>575</th>\n",
       "      <td>576</td>\n",
       "      <td>GET http://cloudstorage.com/files HTTP/1.1\" 20...</td>\n",
       "      <td>200</td>\n",
       "      <td>[-0.036954965, -0.042527676, 0.054175828, 0.04...</td>\n",
       "    </tr>\n",
       "    <tr>\n",
       "      <th>443</th>\n",
       "      <td>444</td>\n",
       "      <td>GET http://intranet.company.com/home HTTP/1.1\"...</td>\n",
       "      <td>200</td>\n",
       "      <td>[-0.016126666, 0.00095012883, 0.0037978017, -0...</td>\n",
       "    </tr>\n",
       "  </tbody>\n",
       "</table>\n",
       "</div>"
      ],
      "text/plain": [
       "      ID                                          Log Entry return_code  \\\n",
       "255  256  GET http://intranet.company.com/home HTTP/1.1\"...         200   \n",
       "575  576  GET http://cloudstorage.com/files HTTP/1.1\" 20...         200   \n",
       "443  444  GET http://intranet.company.com/home HTTP/1.1\"...         200   \n",
       "\n",
       "                                             embedding  \n",
       "255  [-0.022056786, 0.033782955, 0.046701953, 0.066...  \n",
       "575  [-0.036954965, -0.042527676, 0.054175828, 0.04...  \n",
       "443  [-0.016126666, 0.00095012883, 0.0037978017, -0...  "
      ]
     },
     "execution_count": 6,
     "metadata": {},
     "output_type": "execute_result"
    }
   ],
   "source": [
    "# We'll use the doc2vec model that we trained above to calculate vector embeddings for these logs\n",
    "\n",
    "# Use a lambda function to encode the text in each row and apply it to a new column\n",
    "df['embedding'] = df['Log Entry'].apply(lambda text: embedder_model.infer_vector(word_tokenize(text.lower())))\n",
    "\n",
    "df.sample(3)"
   ]
  },
  {
   "cell_type": "code",
   "execution_count": 7,
   "metadata": {},
   "outputs": [
    {
     "data": {
      "text/plain": [
       "{'bootstrap': False,\n",
       " 'contamination': 'auto',\n",
       " 'max_features': 1.0,\n",
       " 'max_samples': 1000,\n",
       " 'n_estimators': 100,\n",
       " 'n_jobs': None,\n",
       " 'random_state': 96,\n",
       " 'verbose': 0,\n",
       " 'warm_start': False}"
      ]
     },
     "execution_count": 7,
     "metadata": {},
     "output_type": "execute_result"
    }
   ],
   "source": [
    "# Define a model object with the Isolation Forest algorithm\n",
    "model=IsolationForest(n_estimators=100,max_samples=1000,contamination='auto',random_state=96)\n",
    "\n",
    "# Convert the embedding column to a numpy array for input to IsolationForest...it's a little nit-picky here\n",
    "X = np.vstack(df['embedding'].values)\n",
    "\n",
    "# Fit the data to the model\n",
    "model.fit(X)\n",
    "\n",
    "# Display parameter values that were used\n",
    "model.get_params()"
   ]
  },
  {
   "cell_type": "code",
   "execution_count": 8,
   "metadata": {},
   "outputs": [],
   "source": [
    "# Add a column to the DF for scores from the model's decision_function\n",
    "df['raw_score'] = model.decision_function(X)\n",
    "\n",
    "# Add a column to the DF for the anomaly flag from the model's predict function...-1 indicates anomaly\n",
    "df['anomaly_score'] = model.predict(X)\n"
   ]
  },
  {
   "cell_type": "code",
   "execution_count": 9,
   "metadata": {},
   "outputs": [
    {
     "data": {
      "text/html": [
       "<div>\n",
       "<style scoped>\n",
       "    .dataframe tbody tr th:only-of-type {\n",
       "        vertical-align: middle;\n",
       "    }\n",
       "\n",
       "    .dataframe tbody tr th {\n",
       "        vertical-align: top;\n",
       "    }\n",
       "\n",
       "    .dataframe thead th {\n",
       "        text-align: right;\n",
       "    }\n",
       "</style>\n",
       "<table border=\"1\" class=\"dataframe\">\n",
       "  <thead>\n",
       "    <tr style=\"text-align: right;\">\n",
       "      <th></th>\n",
       "      <th>ID</th>\n",
       "      <th>Log Entry</th>\n",
       "      <th>return_code</th>\n",
       "      <th>embedding</th>\n",
       "      <th>raw_score</th>\n",
       "      <th>anomaly_score</th>\n",
       "    </tr>\n",
       "  </thead>\n",
       "  <tbody>\n",
       "    <tr>\n",
       "      <th>988</th>\n",
       "      <td>989</td>\n",
       "      <td>GET http://www.example.com/search?q=&lt;script&gt;al...</td>\n",
       "      <td>403</td>\n",
       "      <td>[-0.025874047, -0.46117768, 0.12770486, -0.040...</td>\n",
       "      <td>-0.200433</td>\n",
       "      <td>-1</td>\n",
       "    </tr>\n",
       "    <tr>\n",
       "      <th>189</th>\n",
       "      <td>190</td>\n",
       "      <td>GET http://intranet.company.com/home HTTP/1.1\"...</td>\n",
       "      <td>200</td>\n",
       "      <td>[-0.023205454, -0.07263232, 0.006739701, 0.002...</td>\n",
       "      <td>0.085177</td>\n",
       "      <td>1</td>\n",
       "    </tr>\n",
       "    <tr>\n",
       "      <th>217</th>\n",
       "      <td>218</td>\n",
       "      <td>GET http://cloudstorage.com/authenticate HTTP/...</td>\n",
       "      <td>200</td>\n",
       "      <td>[-0.00044170176, -0.15049434, 0.014175702, 0.0...</td>\n",
       "      <td>0.118135</td>\n",
       "      <td>1</td>\n",
       "    </tr>\n",
       "  </tbody>\n",
       "</table>\n",
       "</div>"
      ],
      "text/plain": [
       "      ID                                          Log Entry return_code  \\\n",
       "988  989  GET http://www.example.com/search?q=<script>al...         403   \n",
       "189  190  GET http://intranet.company.com/home HTTP/1.1\"...         200   \n",
       "217  218  GET http://cloudstorage.com/authenticate HTTP/...         200   \n",
       "\n",
       "                                             embedding  raw_score  \\\n",
       "988  [-0.025874047, -0.46117768, 0.12770486, -0.040...  -0.200433   \n",
       "189  [-0.023205454, -0.07263232, 0.006739701, 0.002...   0.085177   \n",
       "217  [-0.00044170176, -0.15049434, 0.014175702, 0.0...   0.118135   \n",
       "\n",
       "     anomaly_score  \n",
       "988             -1  \n",
       "189              1  \n",
       "217              1  "
      ]
     },
     "execution_count": 9,
     "metadata": {},
     "output_type": "execute_result"
    }
   ],
   "source": [
    "# Display the data with the columns added\n",
    "df.sample(3)"
   ]
  },
  {
   "cell_type": "code",
   "execution_count": 10,
   "metadata": {},
   "outputs": [
    {
     "data": {
      "text/html": [
       "<div>\n",
       "<style scoped>\n",
       "    .dataframe tbody tr th:only-of-type {\n",
       "        vertical-align: middle;\n",
       "    }\n",
       "\n",
       "    .dataframe tbody tr th {\n",
       "        vertical-align: top;\n",
       "    }\n",
       "\n",
       "    .dataframe thead th {\n",
       "        text-align: right;\n",
       "    }\n",
       "</style>\n",
       "<table border=\"1\" class=\"dataframe\">\n",
       "  <thead>\n",
       "    <tr style=\"text-align: right;\">\n",
       "      <th></th>\n",
       "      <th>ID</th>\n",
       "      <th>Log Entry</th>\n",
       "      <th>return_code</th>\n",
       "      <th>embedding</th>\n",
       "      <th>raw_score</th>\n",
       "      <th>anomaly_score</th>\n",
       "    </tr>\n",
       "  </thead>\n",
       "  <tbody>\n",
       "    <tr>\n",
       "      <th>984</th>\n",
       "      <td>985</td>\n",
       "      <td>GET http://www.example.com/../../etc/passwd HT...</td>\n",
       "      <td>400</td>\n",
       "      <td>[0.017690497, -0.2592868, 0.10032548, 0.025168...</td>\n",
       "      <td>-0.059721</td>\n",
       "      <td>-1</td>\n",
       "    </tr>\n",
       "    <tr>\n",
       "      <th>983</th>\n",
       "      <td>984</td>\n",
       "      <td>GET http://www.example.com/../../etc/passwd HT...</td>\n",
       "      <td>403</td>\n",
       "      <td>[0.10180684, 0.044329796, 0.004214527, -0.0015...</td>\n",
       "      <td>-0.155591</td>\n",
       "      <td>-1</td>\n",
       "    </tr>\n",
       "    <tr>\n",
       "      <th>978</th>\n",
       "      <td>979</td>\n",
       "      <td>GET http://www.example.com/search?q=&lt;script&gt;al...</td>\n",
       "      <td>500</td>\n",
       "      <td>[-0.022201944, -0.44298348, 0.115452506, -0.02...</td>\n",
       "      <td>-0.174733</td>\n",
       "      <td>-1</td>\n",
       "    </tr>\n",
       "  </tbody>\n",
       "</table>\n",
       "</div>"
      ],
      "text/plain": [
       "      ID                                          Log Entry return_code  \\\n",
       "984  985  GET http://www.example.com/../../etc/passwd HT...         400   \n",
       "983  984  GET http://www.example.com/../../etc/passwd HT...         403   \n",
       "978  979  GET http://www.example.com/search?q=<script>al...         500   \n",
       "\n",
       "                                             embedding  raw_score  \\\n",
       "984  [0.017690497, -0.2592868, 0.10032548, 0.025168...  -0.059721   \n",
       "983  [0.10180684, 0.044329796, 0.004214527, -0.0015...  -0.155591   \n",
       "978  [-0.022201944, -0.44298348, 0.115452506, -0.02...  -0.174733   \n",
       "\n",
       "     anomaly_score  \n",
       "984             -1  \n",
       "983             -1  \n",
       "978             -1  "
      ]
     },
     "execution_count": 10,
     "metadata": {},
     "output_type": "execute_result"
    }
   ],
   "source": [
    "# Display just the anomalies\n",
    "df[df['anomaly_score']==-1].sample(3)"
   ]
  },
  {
   "cell_type": "code",
   "execution_count": 11,
   "metadata": {},
   "outputs": [
    {
     "data": {
      "text/plain": [
       "anomaly_score\n",
       " 1    952\n",
       "-1     48\n",
       "Name: count, dtype: int64"
      ]
     },
     "execution_count": 11,
     "metadata": {},
     "output_type": "execute_result"
    }
   ],
   "source": [
    "# The outliers have anomaly_score = -1 \n",
    "# This output is much better than the 711/289 split we got from prior clustering exercises.\n",
    "# NOTE:  Setting max_samples very high helps...the output below is very close to the known 950/50\n",
    "\n",
    "# We could perhaps dig into the data to validate, then adjust contamination parameter to get better \n",
    "# on-going accuracy from this unsupervised algorithm. It would be worth trying with real data.\n",
    "df['anomaly_score'].value_counts()"
   ]
  },
  {
   "cell_type": "code",
   "execution_count": 12,
   "metadata": {},
   "outputs": [
    {
     "data": {
      "image/png": "[encoded data removed]",
      "text/plain": [
       "<Figure size 1000x700 with 1 Axes>"
      ]
     },
     "metadata": {},
     "output_type": "display_data"
    }
   ],
   "source": [
    "# If we just do a scatter plot of the anomaly_score results, it's very clear...but doesn't really tell us much.\n",
    "plt.figure(figsize=(10, 7))\n",
    "scatter = plt.scatter(df.raw_score, df.anomaly_score)\n",
    "plt.title('Anomaly Plot')\n",
    "plt.xlabel('Raw Score')\n",
    "plt.ylabel('Anomaly Score')\n",
    "plt.show()"
   ]
  },
  {
   "cell_type": "code",
   "execution_count": 13,
   "metadata": {},
   "outputs": [
    {
     "data": {
      "image/png": "[encoded data removed]",
      "text/plain": [
       "<Figure size 1000x700 with 2 Axes>"
      ]
     },
     "metadata": {},
     "output_type": "display_data"
    }
   ],
   "source": [
    "# Plot the results after applying PCA to the vector embeddings...color indicates the anomaly score.\n",
    "# This is a bit like plotting two things to try to understand how/why they align/not...the dark colors are\n",
    "# the samples that were flagged as anomalies.\n",
    "\n",
    "# Reduce the 384 dimension vector embeddings to 2 dimensions using PCA\n",
    "pca = PCA(n_components=2)\n",
    "embeddings = df['embedding'].tolist()\n",
    "reduced_embeddings = pca.fit_transform(embeddings)\n",
    "\n",
    "# Plot\n",
    "plt.figure(figsize=(10, 7))\n",
    "scatter = plt.scatter(reduced_embeddings[:, 0], reduced_embeddings[:, 1], c=df['anomaly_score'], cmap='viridis', marker='o')\n",
    "plt.title('Isolation Forest after vector embedding PCA reduction to 2 Dimensions')\n",
    "plt.xlabel('PCA Component 1')\n",
    "plt.ylabel('PCA Component 2')\n",
    "plt.colorbar(scatter, label='Anomaly_Score')\n",
    "plt.show()"
   ]
  },
  {
   "cell_type": "code",
   "execution_count": 14,
   "metadata": {},
   "outputs": [
    {
     "name": "stdout",
     "output_type": "stream",
     "text": [
      "GOOD: Count of entries flagged anomaly and return_code not 200: 37\n",
      "FALSE POSITIVE: Count of entries flagged anomaly but return_code is 200: 11\n",
      "FALSE NEGATIVE: Count of entries not flagged anomaly and return_code not 200: 13\n",
      "GOOD: Count of entries not flagged anomaly and return_code is 200: 939\n"
     ]
    }
   ],
   "source": [
    "# Let's examine whether the flagged anomalies include the 50 known malicious log entries\n",
    "print(\"GOOD: Count of entries flagged anomaly and return_code not 200: \", end='')\n",
    "print(len(df[(df['anomaly_score'] == -1) & (df['return_code'] != '200')][['return_code', 'anomaly_score']]))\n",
    "print(\"FALSE POSITIVE: Count of entries flagged anomaly but return_code is 200: \", end='')\n",
    "print(len(df[(df['anomaly_score'] == -1) & (df['return_code'] == '200')][['return_code', 'anomaly_score']]))\n",
    "print(\"FALSE NEGATIVE: Count of entries not flagged anomaly and return_code not 200: \", end='')\n",
    "print(len(df[(df['anomaly_score'] == 1) & (df['return_code'] != '200')][['return_code', 'anomaly_score']]))\n",
    "print(\"GOOD: Count of entries not flagged anomaly and return_code is 200: \", end='')\n",
    "print(len(df[(df['anomaly_score'] == 1) & (df['return_code'] == '200')][['return_code', 'anomaly_score']]))"
   ]
  },
  {
   "cell_type": "code",
   "execution_count": 15,
   "metadata": {},
   "outputs": [
    {
     "data": {
      "text/html": [
       "<div>\n",
       "<style scoped>\n",
       "    .dataframe tbody tr th:only-of-type {\n",
       "        vertical-align: middle;\n",
       "    }\n",
       "\n",
       "    .dataframe tbody tr th {\n",
       "        vertical-align: top;\n",
       "    }\n",
       "\n",
       "    .dataframe thead th {\n",
       "        text-align: right;\n",
       "    }\n",
       "</style>\n",
       "<table border=\"1\" class=\"dataframe\">\n",
       "  <thead>\n",
       "    <tr style=\"text-align: right;\">\n",
       "      <th></th>\n",
       "      <th>return_code</th>\n",
       "      <th>anomaly_score</th>\n",
       "      <th>Log Entry</th>\n",
       "    </tr>\n",
       "  </thead>\n",
       "  <tbody>\n",
       "    <tr>\n",
       "      <th>951</th>\n",
       "      <td>403</td>\n",
       "      <td>1</td>\n",
       "      <td>GET http://www.example.com/index.php?page=../../../../../../etc/passwd HTTP/1.1\" 403 183373 \"http://www.example.com/index.php?page=../../../../../../etc/passwd\" \"Mozilla/5.0 (Windows NT 10.0; Win64; x64) AppleWebKit/537.36 (KHTML, like Gecko) Chrome/104.0.5112.81 Safari/537.36</td>\n",
       "    </tr>\n",
       "    <tr>\n",
       "      <th>959</th>\n",
       "      <td>404</td>\n",
       "      <td>1</td>\n",
       "      <td>GET http://www.example.com/admin HTTP/1.1\" 404 997522 \"http://www.example.com/admin\" \"Mozilla/5.0 (X11; Ubuntu; Linux x86_64; rv:89.0) Gecko/20100101 Firefox/89.0</td>\n",
       "    </tr>\n",
       "    <tr>\n",
       "      <th>960</th>\n",
       "      <td>403</td>\n",
       "      <td>1</td>\n",
       "      <td>GET http://www.example.com/admin HTTP/1.1\" 403 98619 \"http://www.example.com/admin\" \"Mozilla/5.0 (Windows NT 10.0; Win64; x64) AppleWebKit/537.36 (KHTML, like Gecko) Chrome/104.0.5112.81 Safari/537.36</td>\n",
       "    </tr>\n",
       "    <tr>\n",
       "      <th>961</th>\n",
       "      <td>404</td>\n",
       "      <td>1</td>\n",
       "      <td>GET http://www.example.com/index.php?page=../../../../../../etc/passwd HTTP/1.1\" 404 395488 \"http://www.example.com/index.php?page=../../../../../../etc/passwd\" \"Mozilla/5.0 (Macintosh; Intel Mac OS X 10_15_7) AppleWebKit/605.1.15 (KHTML, like Gecko) Version/14.0.3 Safari/605.1.15</td>\n",
       "    </tr>\n",
       "    <tr>\n",
       "      <th>963</th>\n",
       "      <td>404</td>\n",
       "      <td>1</td>\n",
       "      <td>GET http://www.example.com/admin HTTP/1.1\" 404 603181 \"http://www.example.com/admin\" \"Mozilla/5.0 (Windows NT 10.0; Win64; x64) AppleWebKit/537.36 (KHTML, like Gecko) Chrome/104.0.5112.81 Safari/537.36</td>\n",
       "    </tr>\n",
       "    <tr>\n",
       "      <th>967</th>\n",
       "      <td>404</td>\n",
       "      <td>1</td>\n",
       "      <td>GET http://www.example.com/../../etc/passwd HTTP/1.1\" 404 24240 \"http://www.example.com/../../etc/passwd\" \"Mozilla/5.0 (Windows NT 10.0; Win64; x64) AppleWebKit/537.36 (KHTML, like Gecko) Chrome/104.0.5112.81 Safari/537.36</td>\n",
       "    </tr>\n",
       "    <tr>\n",
       "      <th>976</th>\n",
       "      <td>500</td>\n",
       "      <td>1</td>\n",
       "      <td>GET http://www.example.com/index.php?page=../../../../../../etc/passwd HTTP/1.1\" 500 16434 \"http://www.example.com/index.php?page=../../../../../../etc/passwd\" \"Mozilla/5.0 (Windows NT 10.0; Win64; x64) AppleWebKit/537.36 (KHTML, like Gecko) Chrome/104.0.5112.81 Safari/537.36</td>\n",
       "    </tr>\n",
       "    <tr>\n",
       "      <th>981</th>\n",
       "      <td>400</td>\n",
       "      <td>1</td>\n",
       "      <td>GET http://www.example.com/../../etc/passwd HTTP/1.1\" 400 853084 \"http://www.example.com/../../etc/passwd\" \"Mozilla/5.0 (Windows NT 10.0; Win64; x64) AppleWebKit/537.36 (KHTML, like Gecko) Chrome/104.0.5112.81 Safari/537.36</td>\n",
       "    </tr>\n",
       "    <tr>\n",
       "      <th>989</th>\n",
       "      <td>403</td>\n",
       "      <td>1</td>\n",
       "      <td>GET http://www.example.com/../../etc/passwd HTTP/1.1\" 403 978169 \"http://www.example.com/../../etc/passwd\" \"Mozilla/5.0 (Windows NT 10.0; Win64; x64) AppleWebKit/537.36 (KHTML, like Gecko) Chrome/104.0.5112.81 Safari/537.36</td>\n",
       "    </tr>\n",
       "    <tr>\n",
       "      <th>995</th>\n",
       "      <td>400</td>\n",
       "      <td>1</td>\n",
       "      <td>GET http://www.example.com/admin HTTP/1.1\" 400 809282 \"http://www.example.com/admin\" \"Mozilla/5.0 (X11; Ubuntu; Linux x86_64; rv:89.0) Gecko/20100101 Firefox/89.0</td>\n",
       "    </tr>\n",
       "    <tr>\n",
       "      <th>996</th>\n",
       "      <td>403</td>\n",
       "      <td>1</td>\n",
       "      <td>GET http://www.example.com/admin HTTP/1.1\" 403 19118 \"http://www.example.com/admin\" \"Mozilla/5.0 (Windows NT 10.0; Win64; x64) AppleWebKit/537.36 (KHTML, like Gecko) Chrome/104.0.5112.81 Safari/537.36</td>\n",
       "    </tr>\n",
       "    <tr>\n",
       "      <th>997</th>\n",
       "      <td>403</td>\n",
       "      <td>1</td>\n",
       "      <td>GET http://www.example.com/../../etc/passwd HTTP/1.1\" 403 81106 \"http://www.example.com/../../etc/passwd\" \"Mozilla/5.0 (Windows NT 10.0; Win64; x64) AppleWebKit/537.36 (KHTML, like Gecko) Chrome/104.0.5112.81 Safari/537.36</td>\n",
       "    </tr>\n",
       "    <tr>\n",
       "      <th>998</th>\n",
       "      <td>403</td>\n",
       "      <td>1</td>\n",
       "      <td>GET http://www.example.com/admin HTTP/1.1\" 403 171906 \"http://www.example.com/admin\" \"Mozilla/5.0 (X11; Ubuntu; Linux x86_64; rv:89.0) Gecko/20100101 Firefox/89.0</td>\n",
       "    </tr>\n",
       "  </tbody>\n",
       "</table>\n",
       "</div>"
      ],
      "text/plain": [
       "    return_code  anomaly_score  \\\n",
       "951         403              1   \n",
       "959         404              1   \n",
       "960         403              1   \n",
       "961         404              1   \n",
       "963         404              1   \n",
       "967         404              1   \n",
       "976         500              1   \n",
       "981         400              1   \n",
       "989         403              1   \n",
       "995         400              1   \n",
       "996         403              1   \n",
       "997         403              1   \n",
       "998         403              1   \n",
       "\n",
       "                                                                                                                                                                                                                                                                                     Log Entry  \n",
       "951      GET http://www.example.com/index.php?page=../../../../../../etc/passwd HTTP/1.1\" 403 183373 \"http://www.example.com/index.php?page=../../../../../../etc/passwd\" \"Mozilla/5.0 (Windows NT 10.0; Win64; x64) AppleWebKit/537.36 (KHTML, like Gecko) Chrome/104.0.5112.81 Safari/537.36  \n",
       "959                                                                                                                         GET http://www.example.com/admin HTTP/1.1\" 404 997522 \"http://www.example.com/admin\" \"Mozilla/5.0 (X11; Ubuntu; Linux x86_64; rv:89.0) Gecko/20100101 Firefox/89.0  \n",
       "960                                                                                   GET http://www.example.com/admin HTTP/1.1\" 403 98619 \"http://www.example.com/admin\" \"Mozilla/5.0 (Windows NT 10.0; Win64; x64) AppleWebKit/537.36 (KHTML, like Gecko) Chrome/104.0.5112.81 Safari/537.36  \n",
       "961  GET http://www.example.com/index.php?page=../../../../../../etc/passwd HTTP/1.1\" 404 395488 \"http://www.example.com/index.php?page=../../../../../../etc/passwd\" \"Mozilla/5.0 (Macintosh; Intel Mac OS X 10_15_7) AppleWebKit/605.1.15 (KHTML, like Gecko) Version/14.0.3 Safari/605.1.15  \n",
       "963                                                                                  GET http://www.example.com/admin HTTP/1.1\" 404 603181 \"http://www.example.com/admin\" \"Mozilla/5.0 (Windows NT 10.0; Win64; x64) AppleWebKit/537.36 (KHTML, like Gecko) Chrome/104.0.5112.81 Safari/537.36  \n",
       "967                                                             GET http://www.example.com/../../etc/passwd HTTP/1.1\" 404 24240 \"http://www.example.com/../../etc/passwd\" \"Mozilla/5.0 (Windows NT 10.0; Win64; x64) AppleWebKit/537.36 (KHTML, like Gecko) Chrome/104.0.5112.81 Safari/537.36  \n",
       "976       GET http://www.example.com/index.php?page=../../../../../../etc/passwd HTTP/1.1\" 500 16434 \"http://www.example.com/index.php?page=../../../../../../etc/passwd\" \"Mozilla/5.0 (Windows NT 10.0; Win64; x64) AppleWebKit/537.36 (KHTML, like Gecko) Chrome/104.0.5112.81 Safari/537.36  \n",
       "981                                                            GET http://www.example.com/../../etc/passwd HTTP/1.1\" 400 853084 \"http://www.example.com/../../etc/passwd\" \"Mozilla/5.0 (Windows NT 10.0; Win64; x64) AppleWebKit/537.36 (KHTML, like Gecko) Chrome/104.0.5112.81 Safari/537.36  \n",
       "989                                                            GET http://www.example.com/../../etc/passwd HTTP/1.1\" 403 978169 \"http://www.example.com/../../etc/passwd\" \"Mozilla/5.0 (Windows NT 10.0; Win64; x64) AppleWebKit/537.36 (KHTML, like Gecko) Chrome/104.0.5112.81 Safari/537.36  \n",
       "995                                                                                                                         GET http://www.example.com/admin HTTP/1.1\" 400 809282 \"http://www.example.com/admin\" \"Mozilla/5.0 (X11; Ubuntu; Linux x86_64; rv:89.0) Gecko/20100101 Firefox/89.0  \n",
       "996                                                                                   GET http://www.example.com/admin HTTP/1.1\" 403 19118 \"http://www.example.com/admin\" \"Mozilla/5.0 (Windows NT 10.0; Win64; x64) AppleWebKit/537.36 (KHTML, like Gecko) Chrome/104.0.5112.81 Safari/537.36  \n",
       "997                                                             GET http://www.example.com/../../etc/passwd HTTP/1.1\" 403 81106 \"http://www.example.com/../../etc/passwd\" \"Mozilla/5.0 (Windows NT 10.0; Win64; x64) AppleWebKit/537.36 (KHTML, like Gecko) Chrome/104.0.5112.81 Safari/537.36  \n",
       "998                                                                                                                         GET http://www.example.com/admin HTTP/1.1\" 403 171906 \"http://www.example.com/admin\" \"Mozilla/5.0 (X11; Ubuntu; Linux x86_64; rv:89.0) Gecko/20100101 Firefox/89.0  "
      ]
     },
     "execution_count": 15,
     "metadata": {},
     "output_type": "execute_result"
    }
   ],
   "source": [
    "# This approached returned 43 \"false negatives\"...model is not very accurate.\n",
    "pd.set_option('max_colwidth', None) # show full width of cols\n",
    "df[(df['anomaly_score'] == 1) & (df['return_code'] != '200')][['return_code', 'anomaly_score', 'Log Entry']]\n"
   ]
  },
  {
   "cell_type": "code",
   "execution_count": 16,
   "metadata": {},
   "outputs": [
    {
     "data": {
      "text/html": [
       "<div>\n",
       "<style scoped>\n",
       "    .dataframe tbody tr th:only-of-type {\n",
       "        vertical-align: middle;\n",
       "    }\n",
       "\n",
       "    .dataframe tbody tr th {\n",
       "        vertical-align: top;\n",
       "    }\n",
       "\n",
       "    .dataframe thead th {\n",
       "        text-align: right;\n",
       "    }\n",
       "</style>\n",
       "<table border=\"1\" class=\"dataframe\">\n",
       "  <thead>\n",
       "    <tr style=\"text-align: right;\">\n",
       "      <th></th>\n",
       "      <th>return_code</th>\n",
       "      <th>anomaly_score</th>\n",
       "      <th>Log Entry</th>\n",
       "    </tr>\n",
       "  </thead>\n",
       "  <tbody>\n",
       "    <tr>\n",
       "      <th>183</th>\n",
       "      <td>200</td>\n",
       "      <td>-1</td>\n",
       "      <td>GET http://intranet.company.com/docs/document.pdf HTTP/1.1\" 200 990601 \"http://intranet.company.com/docs/document.pdf\" \"Mozilla/5.0 (X11; Ubuntu; Linux x86_64; rv:89.0) Gecko/20100101 Firefox/89.0</td>\n",
       "    </tr>\n",
       "    <tr>\n",
       "      <th>272</th>\n",
       "      <td>200</td>\n",
       "      <td>-1</td>\n",
       "      <td>GET http://www.example.com/script.js HTTP/1.1\" 200 955496 \"http://www.example.com/script.js\" \"Mozilla/5.0 (Windows NT 10.0; Win64; x64) AppleWebKit/537.36 (KHTML, like Gecko) Chrome/104.0.5112.81 Safari/537.36</td>\n",
       "    </tr>\n",
       "    <tr>\n",
       "      <th>322</th>\n",
       "      <td>200</td>\n",
       "      <td>-1</td>\n",
       "      <td>GET http://cloudstorage.com/files HTTP/1.1\" 200 543207 \"http://cloudstorage.com/files\" \"Mozilla/5.0 (Macintosh; Intel Mac OS X 10_15_7) AppleWebKit/605.1.15 (KHTML, like Gecko) Version/14.0.3 Safari/605.1.15</td>\n",
       "    </tr>\n",
       "    <tr>\n",
       "      <th>379</th>\n",
       "      <td>200</td>\n",
       "      <td>-1</td>\n",
       "      <td>GET http://cloudstorage.com/files HTTP/1.1\" 200 793188 \"http://cloudstorage.com/files\" \"Mozilla/5.0 (Windows NT 10.0; Win64; x64) AppleWebKit/537.36 (KHTML, like Gecko) Chrome/104.0.5112.81 Safari/537.36</td>\n",
       "    </tr>\n",
       "    <tr>\n",
       "      <th>406</th>\n",
       "      <td>200</td>\n",
       "      <td>-1</td>\n",
       "      <td>GET http://www.example.com/script.js HTTP/1.1\" 200 363911 \"http://www.example.com/script.js\" \"Mozilla/5.0 (Macintosh; Intel Mac OS X 10_15_7) AppleWebKit/605.1.15 (KHTML, like Gecko) Version/14.0.3 Safari/605.1.15</td>\n",
       "    </tr>\n",
       "    <tr>\n",
       "      <th>534</th>\n",
       "      <td>200</td>\n",
       "      <td>-1</td>\n",
       "      <td>GET http://www.example.com/style.css HTTP/1.1\" 200 320652 \"http://www.example.com/style.css\" \"Mozilla/5.0 (Windows NT 10.0; Win64; x64) AppleWebKit/537.36 (KHTML, like Gecko) Chrome/104.0.5112.81 Safari/537.36</td>\n",
       "    </tr>\n",
       "    <tr>\n",
       "      <th>567</th>\n",
       "      <td>200</td>\n",
       "      <td>-1</td>\n",
       "      <td>GET http://intranet.company.com/home HTTP/1.1\" 200 977310 \"http://intranet.company.com/home\" \"Mozilla/5.0 (Macintosh; Intel Mac OS X 10_15_7) AppleWebKit/605.1.15 (KHTML, like Gecko) Version/14.0.3 Safari/605.1.15</td>\n",
       "    </tr>\n",
       "    <tr>\n",
       "      <th>586</th>\n",
       "      <td>200</td>\n",
       "      <td>-1</td>\n",
       "      <td>GET http://intranet.company.com/docs/document.pdf HTTP/1.1\" 200 708809 \"http://intranet.company.com/docs/document.pdf\" \"Mozilla/5.0 (Windows NT 10.0; Win64; x64) AppleWebKit/537.36 (KHTML, like Gecko) Chrome/104.0.5112.81 Safari/537.36</td>\n",
       "    </tr>\n",
       "    <tr>\n",
       "      <th>682</th>\n",
       "      <td>200</td>\n",
       "      <td>-1</td>\n",
       "      <td>GET http://update.software.com/check HTTP/1.1\" 200 895401 \"http://update.software.com/check\" \"Mozilla/5.0 (X11; Ubuntu; Linux x86_64; rv:89.0) Gecko/20100101 Firefox/89.0</td>\n",
       "    </tr>\n",
       "    <tr>\n",
       "      <th>862</th>\n",
       "      <td>200</td>\n",
       "      <td>-1</td>\n",
       "      <td>GET http://cloudstorage.com/files HTTP/1.1\" 200 902771 \"http://cloudstorage.com/files\" \"Mozilla/5.0 (Macintosh; Intel Mac OS X 10_15_7) AppleWebKit/605.1.15 (KHTML, like Gecko) Version/14.0.3 Safari/605.1.15</td>\n",
       "    </tr>\n",
       "    <tr>\n",
       "      <th>949</th>\n",
       "      <td>200</td>\n",
       "      <td>-1</td>\n",
       "      <td>GET http://update.software.com/check HTTP/1.1\" 200 316217 \"http://update.software.com/check\" \"Mozilla/5.0 (Windows NT 10.0; Win64; x64) AppleWebKit/537.36 (KHTML, like Gecko) Chrome/104.0.5112.81 Safari/537.36</td>\n",
       "    </tr>\n",
       "  </tbody>\n",
       "</table>\n",
       "</div>"
      ],
      "text/plain": [
       "    return_code  anomaly_score  \\\n",
       "183         200             -1   \n",
       "272         200             -1   \n",
       "322         200             -1   \n",
       "379         200             -1   \n",
       "406         200             -1   \n",
       "534         200             -1   \n",
       "567         200             -1   \n",
       "586         200             -1   \n",
       "682         200             -1   \n",
       "862         200             -1   \n",
       "949         200             -1   \n",
       "\n",
       "                                                                                                                                                                                                                                       Log Entry  \n",
       "183                                         GET http://intranet.company.com/docs/document.pdf HTTP/1.1\" 200 990601 \"http://intranet.company.com/docs/document.pdf\" \"Mozilla/5.0 (X11; Ubuntu; Linux x86_64; rv:89.0) Gecko/20100101 Firefox/89.0  \n",
       "272                            GET http://www.example.com/script.js HTTP/1.1\" 200 955496 \"http://www.example.com/script.js\" \"Mozilla/5.0 (Windows NT 10.0; Win64; x64) AppleWebKit/537.36 (KHTML, like Gecko) Chrome/104.0.5112.81 Safari/537.36  \n",
       "322                              GET http://cloudstorage.com/files HTTP/1.1\" 200 543207 \"http://cloudstorage.com/files\" \"Mozilla/5.0 (Macintosh; Intel Mac OS X 10_15_7) AppleWebKit/605.1.15 (KHTML, like Gecko) Version/14.0.3 Safari/605.1.15  \n",
       "379                                  GET http://cloudstorage.com/files HTTP/1.1\" 200 793188 \"http://cloudstorage.com/files\" \"Mozilla/5.0 (Windows NT 10.0; Win64; x64) AppleWebKit/537.36 (KHTML, like Gecko) Chrome/104.0.5112.81 Safari/537.36  \n",
       "406                        GET http://www.example.com/script.js HTTP/1.1\" 200 363911 \"http://www.example.com/script.js\" \"Mozilla/5.0 (Macintosh; Intel Mac OS X 10_15_7) AppleWebKit/605.1.15 (KHTML, like Gecko) Version/14.0.3 Safari/605.1.15  \n",
       "534                            GET http://www.example.com/style.css HTTP/1.1\" 200 320652 \"http://www.example.com/style.css\" \"Mozilla/5.0 (Windows NT 10.0; Win64; x64) AppleWebKit/537.36 (KHTML, like Gecko) Chrome/104.0.5112.81 Safari/537.36  \n",
       "567                        GET http://intranet.company.com/home HTTP/1.1\" 200 977310 \"http://intranet.company.com/home\" \"Mozilla/5.0 (Macintosh; Intel Mac OS X 10_15_7) AppleWebKit/605.1.15 (KHTML, like Gecko) Version/14.0.3 Safari/605.1.15  \n",
       "586  GET http://intranet.company.com/docs/document.pdf HTTP/1.1\" 200 708809 \"http://intranet.company.com/docs/document.pdf\" \"Mozilla/5.0 (Windows NT 10.0; Win64; x64) AppleWebKit/537.36 (KHTML, like Gecko) Chrome/104.0.5112.81 Safari/537.36  \n",
       "682                                                                   GET http://update.software.com/check HTTP/1.1\" 200 895401 \"http://update.software.com/check\" \"Mozilla/5.0 (X11; Ubuntu; Linux x86_64; rv:89.0) Gecko/20100101 Firefox/89.0  \n",
       "862                              GET http://cloudstorage.com/files HTTP/1.1\" 200 902771 \"http://cloudstorage.com/files\" \"Mozilla/5.0 (Macintosh; Intel Mac OS X 10_15_7) AppleWebKit/605.1.15 (KHTML, like Gecko) Version/14.0.3 Safari/605.1.15  \n",
       "949                            GET http://update.software.com/check HTTP/1.1\" 200 316217 \"http://update.software.com/check\" \"Mozilla/5.0 (Windows NT 10.0; Win64; x64) AppleWebKit/537.36 (KHTML, like Gecko) Chrome/104.0.5112.81 Safari/537.36  "
      ]
     },
     "execution_count": 16,
     "metadata": {},
     "output_type": "execute_result"
    }
   ],
   "source": [
    "# Let's examine the \"false positives\"...rows flagged as anomaly but have return_code 200\n",
    "pd.set_option('max_colwidth', None) # show full width of showing cols\n",
    "df[(df['anomaly_score'] == -1) & (df['return_code'] == '200')][['return_code', 'anomaly_score', 'Log Entry']]\n"
   ]
  },
  {
   "cell_type": "markdown",
   "metadata": {},
   "source": [
    "We know from our previous similar exercise that Isolation Forest did a very good job of finding anomalies in this sample data if we give it accurate vector embeddings as the input.  Unlike using a basic vector embedding LLM, our home-grown doc2vec model did not do particularly well in producing vector embeddings that capture the \"semantic understanding\" of what a malicious vs benign log appears to be. We can examine if adjusting vector dimensions or other parameters has a positive impact on it's accuracy."
   ]
  }
 ],
 "metadata": {
  "kernelspec": {
   "display_name": "Python 3",
   "language": "python",
   "name": "python3"
  },
  "language_info": {
   "codemirror_mode": {
    "name": "ipython",
    "version": 3
   },
   "file_extension": ".py",
   "mimetype": "text/x-python",
   "name": "python",
   "nbconvert_exporter": "python",
   "pygments_lexer": "ipython3",
   "version": "3.11.9"
  }
 },
 "nbformat": 4,
 "nbformat_minor": 2
}
